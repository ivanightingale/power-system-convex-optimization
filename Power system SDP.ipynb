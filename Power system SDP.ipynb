{
 "cells": [
  {
   "cell_type": "code",
   "execution_count": 1,
   "id": "8690c1c7",
   "metadata": {},
   "outputs": [],
   "source": [
    "import pandapower as pp\n",
    "import pandapower.networks as pn\n",
    "from pandapower.plotting import simple_plot\n",
    "\n",
    "import pandas as pd\n",
    "import numpy as np\n",
    "import cvxpy as cp\n",
    "import networkx as nx"
   ]
  },
  {
   "cell_type": "markdown",
   "id": "6dbf9c14",
   "metadata": {},
   "source": [
    "## Data processing"
   ]
  },
  {
   "cell_type": "code",
   "execution_count": 2,
   "id": "8a2820ce",
   "metadata": {},
   "outputs": [],
   "source": [
    "net = pn.case6ww()"
   ]
  },
  {
   "cell_type": "code",
   "execution_count": 3,
   "id": "03dfd352",
   "metadata": {},
   "outputs": [],
   "source": [
    "# currently the sn_mva (base power) is inconsistent with that in the original MATPOWER cases\n",
    "net.sn_mva = 100"
   ]
  },
  {
   "cell_type": "code",
   "execution_count": 4,
   "id": "03d67723",
   "metadata": {},
   "outputs": [],
   "source": [
    "n = len(net.bus)"
   ]
  },
  {
   "cell_type": "markdown",
   "id": "778e9553",
   "metadata": {},
   "source": [
    "#### Generators"
   ]
  },
  {
   "cell_type": "code",
   "execution_count": 5,
   "id": "22c56687",
   "metadata": {},
   "outputs": [],
   "source": [
    "gen_df_list = []\n",
    "gen_name_list = [\"gen\", \"sgen\", \"ext_grid\"]\n",
    "data_col_list = [\"bus\", \"max_p_mw\", \"min_p_mw\", \"max_q_mvar\", \"min_q_mvar\"]\n",
    "\n",
    "for gen_name in gen_name_list:\n",
    "    if not net[gen_name].empty:\n",
    "        # get a table of cost coefficients only for the current type of generators\n",
    "        gen_name_poly_cost = net.poly_cost.loc[net.poly_cost.et == gen_name].set_index(\"element\")\n",
    "        # get a table of cost coefficients and power bounds only for the current type of generators\n",
    "        gen_name_df = net[gen_name][data_col_list].join(gen_name_poly_cost)\n",
    "        gen_df_list.append(gen_name_df)\n",
    "\n",
    "# combine tables for all types of generators\n",
    "gen_df = pd.concat(gen_df_list)\n",
    "n_gen = len(gen_df)"
   ]
  },
  {
   "cell_type": "code",
   "execution_count": 6,
   "id": "064abbd6",
   "metadata": {},
   "outputs": [
    {
     "data": {
      "text/html": [
       "<div>\n",
       "<style scoped>\n",
       "    .dataframe tbody tr th:only-of-type {\n",
       "        vertical-align: middle;\n",
       "    }\n",
       "\n",
       "    .dataframe tbody tr th {\n",
       "        vertical-align: top;\n",
       "    }\n",
       "\n",
       "    .dataframe thead th {\n",
       "        text-align: right;\n",
       "    }\n",
       "</style>\n",
       "<table border=\"1\" class=\"dataframe\">\n",
       "  <thead>\n",
       "    <tr style=\"text-align: right;\">\n",
       "      <th></th>\n",
       "      <th>bus</th>\n",
       "      <th>max_p_mw</th>\n",
       "      <th>min_p_mw</th>\n",
       "      <th>max_q_mvar</th>\n",
       "      <th>min_q_mvar</th>\n",
       "      <th>et</th>\n",
       "      <th>cp0_eur</th>\n",
       "      <th>cp1_eur_per_mw</th>\n",
       "      <th>cp2_eur_per_mw2</th>\n",
       "      <th>cq0_eur</th>\n",
       "      <th>cq1_eur_per_mvar</th>\n",
       "      <th>cq2_eur_per_mvar2</th>\n",
       "    </tr>\n",
       "  </thead>\n",
       "  <tbody>\n",
       "    <tr>\n",
       "      <th>0</th>\n",
       "      <td>1</td>\n",
       "      <td>150.0</td>\n",
       "      <td>37.5</td>\n",
       "      <td>100.0</td>\n",
       "      <td>-100.0</td>\n",
       "      <td>gen</td>\n",
       "      <td>200.0</td>\n",
       "      <td>10.333</td>\n",
       "      <td>0.00889</td>\n",
       "      <td>0.0</td>\n",
       "      <td>0.0</td>\n",
       "      <td>0.0</td>\n",
       "    </tr>\n",
       "    <tr>\n",
       "      <th>1</th>\n",
       "      <td>2</td>\n",
       "      <td>180.0</td>\n",
       "      <td>45.0</td>\n",
       "      <td>100.0</td>\n",
       "      <td>-100.0</td>\n",
       "      <td>gen</td>\n",
       "      <td>240.0</td>\n",
       "      <td>10.833</td>\n",
       "      <td>0.00741</td>\n",
       "      <td>0.0</td>\n",
       "      <td>0.0</td>\n",
       "      <td>0.0</td>\n",
       "    </tr>\n",
       "    <tr>\n",
       "      <th>0</th>\n",
       "      <td>0</td>\n",
       "      <td>200.0</td>\n",
       "      <td>50.0</td>\n",
       "      <td>100.0</td>\n",
       "      <td>-100.0</td>\n",
       "      <td>ext_grid</td>\n",
       "      <td>213.1</td>\n",
       "      <td>11.669</td>\n",
       "      <td>0.00533</td>\n",
       "      <td>0.0</td>\n",
       "      <td>0.0</td>\n",
       "      <td>0.0</td>\n",
       "    </tr>\n",
       "  </tbody>\n",
       "</table>\n",
       "</div>"
      ],
      "text/plain": [
       "   bus  max_p_mw  min_p_mw  max_q_mvar  min_q_mvar        et  cp0_eur  \\\n",
       "0    1     150.0      37.5       100.0      -100.0       gen    200.0   \n",
       "1    2     180.0      45.0       100.0      -100.0       gen    240.0   \n",
       "0    0     200.0      50.0       100.0      -100.0  ext_grid    213.1   \n",
       "\n",
       "   cp1_eur_per_mw  cp2_eur_per_mw2  cq0_eur  cq1_eur_per_mvar  \\\n",
       "0          10.333          0.00889      0.0               0.0   \n",
       "1          10.833          0.00741      0.0               0.0   \n",
       "0          11.669          0.00533      0.0               0.0   \n",
       "\n",
       "   cq2_eur_per_mvar2  \n",
       "0                0.0  \n",
       "1                0.0  \n",
       "0                0.0  "
      ]
     },
     "execution_count": 6,
     "metadata": {},
     "output_type": "execute_result"
    }
   ],
   "source": [
    "gen_df"
   ]
  },
  {
   "cell_type": "markdown",
   "id": "fe55fdc3",
   "metadata": {},
   "source": [
    "#### Bus loads"
   ]
  },
  {
   "cell_type": "code",
   "execution_count": 7,
   "id": "a553c78d",
   "metadata": {},
   "outputs": [],
   "source": [
    "load_df = net.bus.join(net.load[[\"bus\", \"p_mw\", \"q_mvar\"]].set_index(\"bus\")).fillna(0)[[\"p_mw\", \"q_mvar\"]]"
   ]
  },
  {
   "cell_type": "code",
   "execution_count": 8,
   "id": "07e3ce73",
   "metadata": {},
   "outputs": [
    {
     "data": {
      "text/html": [
       "<div>\n",
       "<style scoped>\n",
       "    .dataframe tbody tr th:only-of-type {\n",
       "        vertical-align: middle;\n",
       "    }\n",
       "\n",
       "    .dataframe tbody tr th {\n",
       "        vertical-align: top;\n",
       "    }\n",
       "\n",
       "    .dataframe thead th {\n",
       "        text-align: right;\n",
       "    }\n",
       "</style>\n",
       "<table border=\"1\" class=\"dataframe\">\n",
       "  <thead>\n",
       "    <tr style=\"text-align: right;\">\n",
       "      <th></th>\n",
       "      <th>p_mw</th>\n",
       "      <th>q_mvar</th>\n",
       "    </tr>\n",
       "  </thead>\n",
       "  <tbody>\n",
       "    <tr>\n",
       "      <th>0</th>\n",
       "      <td>0.0</td>\n",
       "      <td>0.0</td>\n",
       "    </tr>\n",
       "    <tr>\n",
       "      <th>1</th>\n",
       "      <td>0.0</td>\n",
       "      <td>0.0</td>\n",
       "    </tr>\n",
       "    <tr>\n",
       "      <th>2</th>\n",
       "      <td>0.0</td>\n",
       "      <td>0.0</td>\n",
       "    </tr>\n",
       "    <tr>\n",
       "      <th>3</th>\n",
       "      <td>70.0</td>\n",
       "      <td>70.0</td>\n",
       "    </tr>\n",
       "    <tr>\n",
       "      <th>4</th>\n",
       "      <td>70.0</td>\n",
       "      <td>70.0</td>\n",
       "    </tr>\n",
       "    <tr>\n",
       "      <th>5</th>\n",
       "      <td>70.0</td>\n",
       "      <td>70.0</td>\n",
       "    </tr>\n",
       "  </tbody>\n",
       "</table>\n",
       "</div>"
      ],
      "text/plain": [
       "   p_mw  q_mvar\n",
       "0   0.0     0.0\n",
       "1   0.0     0.0\n",
       "2   0.0     0.0\n",
       "3  70.0    70.0\n",
       "4  70.0    70.0\n",
       "5  70.0    70.0"
      ]
     },
     "execution_count": 8,
     "metadata": {},
     "output_type": "execute_result"
    }
   ],
   "source": [
    "load_df"
   ]
  },
  {
   "cell_type": "markdown",
   "id": "ed0a038a",
   "metadata": {},
   "source": [
    "#### Admittance matrices"
   ]
  },
  {
   "cell_type": "code",
   "execution_count": 9,
   "id": "e3760657",
   "metadata": {},
   "outputs": [],
   "source": [
    "# obtain a NetworkX Graph from the network, with each edge containing p.u. impedance data\n",
    "graph = pp.topology.create_nxgraph(net, multi=False, calc_branch_impedances=True, branch_impedance_unit=\"pu\")"
   ]
  },
  {
   "cell_type": "code",
   "execution_count": 10,
   "id": "a9744768",
   "metadata": {},
   "outputs": [],
   "source": [
    "G_mat = np.zeros((n,n))\n",
    "B_mat = np.zeros((n,n))\n",
    "for i,j in graph.edges:\n",
    "    edge = graph.edges[(i,j)]\n",
    "    r = edge[\"r_pu\"]\n",
    "    x = edge[\"x_pu\"]\n",
    "    G_mat[i][j] = 1/r\n",
    "    G_mat[j][i] = 1/r\n",
    "    B_mat[i][j] = 1/x\n",
    "    B_mat[j][i] = 1/x"
   ]
  },
  {
   "cell_type": "code",
   "execution_count": 11,
   "id": "1645465d",
   "metadata": {},
   "outputs": [],
   "source": [
    "for _, row in net.shunt.iterrows():\n",
    "    i = row[\"bus\"]\n",
    "    G_mat[i][i] = row[\"p_mw\"]\n",
    "    B_mat[i][i] = -row[\"q_mvar\"] "
   ]
  },
  {
   "cell_type": "markdown",
   "id": "9ba53658",
   "metadata": {},
   "source": [
    "## Variables"
   ]
  },
  {
   "cell_type": "code",
   "execution_count": 12,
   "id": "935226d1",
   "metadata": {},
   "outputs": [],
   "source": [
    "# X = VV*\n",
    "X = cp.Variable((n,n), hermitian=True)\n",
    "# active power generated\n",
    "p_g = cp.Variable((n_gen, 1))\n",
    "# reactive power generated\n",
    "q_g = cp.Variable((n_gen, 1))"
   ]
  },
  {
   "cell_type": "markdown",
   "id": "f50e65a8",
   "metadata": {},
   "source": [
    "## Parameters"
   ]
  },
  {
   "cell_type": "code",
   "execution_count": 13,
   "id": "e739e22e",
   "metadata": {},
   "outputs": [],
   "source": [
    "# loads\n",
    "p_d = cp.Parameter((n,1), nonneg=True, value=load_df[[\"p_mw\"]].to_numpy())\n",
    "q_d = cp.Parameter((n,1), nonneg=True, value=load_df[[\"q_mvar\"]].to_numpy())\n",
    "\n",
    "# admittance matrices\n",
    "G = cp.Parameter((n,n), nonneg=True, value=G_mat)\n",
    "B = cp.Parameter((n,n), nonneg=True, value=B_mat)\n",
    "\n",
    "# squares of voltage bounds\n",
    "V_min_sq = cp.Parameter((n), nonneg=True, value=np.square(net.bus[\"min_vm_pu\"].to_numpy()))\n",
    "V_max_sq = cp.Parameter((n), nonneg=True, value=np.square(net.bus[\"max_vm_pu\"].to_numpy()))\n",
    "\n",
    "# bounds for generated power\n",
    "p_min = cp.Parameter((n_gen,1), value=gen_df[[\"min_p_mw\"]].to_numpy())\n",
    "p_max = cp.Parameter((n_gen,1), value=gen_df[[\"max_p_mw\"]].to_numpy())\n",
    "q_min = cp.Parameter((n_gen,1), value=gen_df[[\"min_q_mvar\"]].to_numpy())\n",
    "q_max = cp.Parameter((n_gen,1), value=gen_df[[\"max_q_mvar\"]].to_numpy())"
   ]
  },
  {
   "cell_type": "markdown",
   "id": "f28cb541",
   "metadata": {},
   "source": [
    "## Constraints"
   ]
  },
  {
   "cell_type": "code",
   "execution_count": 14,
   "id": "c3940ec9",
   "metadata": {},
   "outputs": [],
   "source": [
    "constraints = [X >> 0]"
   ]
  },
  {
   "cell_type": "code",
   "execution_count": 35,
   "id": "78e1ae45",
   "metadata": {},
   "outputs": [
    {
     "data": {
      "text/html": [
       "<div>\n",
       "<style scoped>\n",
       "    .dataframe tbody tr th:only-of-type {\n",
       "        vertical-align: middle;\n",
       "    }\n",
       "\n",
       "    .dataframe tbody tr th {\n",
       "        vertical-align: top;\n",
       "    }\n",
       "\n",
       "    .dataframe thead th {\n",
       "        text-align: right;\n",
       "    }\n",
       "</style>\n",
       "<table border=\"1\" class=\"dataframe\">\n",
       "  <thead>\n",
       "    <tr style=\"text-align: right;\">\n",
       "      <th></th>\n",
       "      <th>bus</th>\n",
       "      <th>max_p_mw</th>\n",
       "      <th>min_p_mw</th>\n",
       "      <th>max_q_mvar</th>\n",
       "      <th>min_q_mvar</th>\n",
       "      <th>et</th>\n",
       "      <th>cp0_eur</th>\n",
       "      <th>cp1_eur_per_mw</th>\n",
       "      <th>cp2_eur_per_mw2</th>\n",
       "      <th>cq0_eur</th>\n",
       "      <th>cq1_eur_per_mvar</th>\n",
       "      <th>cq2_eur_per_mvar2</th>\n",
       "    </tr>\n",
       "  </thead>\n",
       "  <tbody>\n",
       "    <tr>\n",
       "      <th>0</th>\n",
       "      <td>1</td>\n",
       "      <td>150.0</td>\n",
       "      <td>37.5</td>\n",
       "      <td>100.0</td>\n",
       "      <td>-100.0</td>\n",
       "      <td>gen</td>\n",
       "      <td>200.0</td>\n",
       "      <td>10.333</td>\n",
       "      <td>0.00889</td>\n",
       "      <td>0.0</td>\n",
       "      <td>0.0</td>\n",
       "      <td>0.0</td>\n",
       "    </tr>\n",
       "    <tr>\n",
       "      <th>1</th>\n",
       "      <td>2</td>\n",
       "      <td>180.0</td>\n",
       "      <td>45.0</td>\n",
       "      <td>100.0</td>\n",
       "      <td>-100.0</td>\n",
       "      <td>gen</td>\n",
       "      <td>240.0</td>\n",
       "      <td>10.833</td>\n",
       "      <td>0.00741</td>\n",
       "      <td>0.0</td>\n",
       "      <td>0.0</td>\n",
       "      <td>0.0</td>\n",
       "    </tr>\n",
       "    <tr>\n",
       "      <th>0</th>\n",
       "      <td>0</td>\n",
       "      <td>200.0</td>\n",
       "      <td>50.0</td>\n",
       "      <td>100.0</td>\n",
       "      <td>-100.0</td>\n",
       "      <td>ext_grid</td>\n",
       "      <td>213.1</td>\n",
       "      <td>11.669</td>\n",
       "      <td>0.00533</td>\n",
       "      <td>0.0</td>\n",
       "      <td>0.0</td>\n",
       "      <td>0.0</td>\n",
       "    </tr>\n",
       "  </tbody>\n",
       "</table>\n",
       "</div>"
      ],
      "text/plain": [
       "   bus  max_p_mw  min_p_mw  max_q_mvar  min_q_mvar        et  cp0_eur  \\\n",
       "0    1     150.0      37.5       100.0      -100.0       gen    200.0   \n",
       "1    2     180.0      45.0       100.0      -100.0       gen    240.0   \n",
       "0    0     200.0      50.0       100.0      -100.0  ext_grid    213.1   \n",
       "\n",
       "   cp1_eur_per_mw  cp2_eur_per_mw2  cq0_eur  cq1_eur_per_mvar  \\\n",
       "0          10.333          0.00889      0.0               0.0   \n",
       "1          10.833          0.00741      0.0               0.0   \n",
       "0          11.669          0.00533      0.0               0.0   \n",
       "\n",
       "   cq2_eur_per_mvar2  \n",
       "0                0.0  \n",
       "1                0.0  \n",
       "0                0.0  "
      ]
     },
     "execution_count": 35,
     "metadata": {},
     "output_type": "execute_result"
    }
   ],
   "source": [
    "gen_df"
   ]
  },
  {
   "cell_type": "code",
   "execution_count": 33,
   "id": "0ed5edf7",
   "metadata": {},
   "outputs": [
    {
     "data": {
      "text/html": [
       "<div>\n",
       "<style scoped>\n",
       "    .dataframe tbody tr th:only-of-type {\n",
       "        vertical-align: middle;\n",
       "    }\n",
       "\n",
       "    .dataframe tbody tr th {\n",
       "        vertical-align: top;\n",
       "    }\n",
       "\n",
       "    .dataframe thead th {\n",
       "        text-align: right;\n",
       "    }\n",
       "</style>\n",
       "<table border=\"1\" class=\"dataframe\">\n",
       "  <thead>\n",
       "    <tr style=\"text-align: right;\">\n",
       "      <th></th>\n",
       "      <th>p_mw</th>\n",
       "      <th>q_mvar</th>\n",
       "    </tr>\n",
       "  </thead>\n",
       "  <tbody>\n",
       "    <tr>\n",
       "      <th>0</th>\n",
       "      <td>0.0</td>\n",
       "      <td>0.0</td>\n",
       "    </tr>\n",
       "    <tr>\n",
       "      <th>1</th>\n",
       "      <td>0.0</td>\n",
       "      <td>0.0</td>\n",
       "    </tr>\n",
       "    <tr>\n",
       "      <th>2</th>\n",
       "      <td>0.0</td>\n",
       "      <td>0.0</td>\n",
       "    </tr>\n",
       "    <tr>\n",
       "      <th>3</th>\n",
       "      <td>70.0</td>\n",
       "      <td>70.0</td>\n",
       "    </tr>\n",
       "    <tr>\n",
       "      <th>4</th>\n",
       "      <td>70.0</td>\n",
       "      <td>70.0</td>\n",
       "    </tr>\n",
       "    <tr>\n",
       "      <th>5</th>\n",
       "      <td>70.0</td>\n",
       "      <td>70.0</td>\n",
       "    </tr>\n",
       "  </tbody>\n",
       "</table>\n",
       "</div>"
      ],
      "text/plain": [
       "   p_mw  q_mvar\n",
       "0   0.0     0.0\n",
       "1   0.0     0.0\n",
       "2   0.0     0.0\n",
       "3  70.0    70.0\n",
       "4  70.0    70.0\n",
       "5  70.0    70.0"
      ]
     },
     "execution_count": 33,
     "metadata": {},
     "output_type": "execute_result"
    }
   ],
   "source": [
    "load_df"
   ]
  },
  {
   "cell_type": "code",
   "execution_count": 15,
   "id": "507bdb93",
   "metadata": {},
   "outputs": [],
   "source": [
    "for i in range(n):\n",
    "    gen_list = gen_df.loc[gen_df[\"bus\"] == i].index.to_numpy()\n",
    "    constraints += [\n",
    "        cp.sum([p_g[k] for k in gen_list]) - p_d[i] == G[i][i] * X[i][i] +\n",
    "        cp.sum([G[i][j] * cp.real(X[i][j]) + B[i][j] * cp.imag(X[i][j]) for j in graph.neighbors(i)])\n",
    "    ]\n",
    "    constraints += [\n",
    "        cp.sum([q_g[k] for k in gen_list]) - q_d[i] == -B[i][i] * X[i][i] +\n",
    "        cp.sum([-B[i][j] * cp.real(X[i][j]) + G[i][j] * cp.imag(X[i][j]) for j in graph.neighbors(i)])\n",
    "    ]"
   ]
  },
  {
   "cell_type": "code",
   "execution_count": 16,
   "id": "f768a0e0",
   "metadata": {},
   "outputs": [],
   "source": [
    "constraints += [\n",
    "    cp.real(cp.diag(X)) >= V_min_sq,\n",
    "    cp.real(cp.diag(X)) <= V_max_sq\n",
    "]"
   ]
  },
  {
   "cell_type": "code",
   "execution_count": 17,
   "id": "3488102f",
   "metadata": {},
   "outputs": [],
   "source": [
    "constraints += [\n",
    "    p_g >= p_min,\n",
    "    p_g <= p_max,\n",
    "    q_g >= q_min,\n",
    "    q_g <= q_max\n",
    "]"
   ]
  },
  {
   "cell_type": "markdown",
   "id": "57f4b86b",
   "metadata": {},
   "source": [
    "## Solving"
   ]
  },
  {
   "cell_type": "code",
   "execution_count": 18,
   "id": "d1822f38",
   "metadata": {},
   "outputs": [],
   "source": [
    "p_cost = cp.sum(gen_df[\"cp2_eur_per_mw2\"].to_numpy() @ cp.square(p_g) +\n",
    "                gen_df[\"cp1_eur_per_mw\"].to_numpy() @ p_g +\n",
    "                gen_df[[\"cp0_eur\"]].to_numpy())\n",
    "q_cost = cp.sum(gen_df[\"cq2_eur_per_mvar2\"].to_numpy() @ cp.square(q_g) +\n",
    "                gen_df[\"cq2_eur_per_mvar2\"].to_numpy() @ q_g +\n",
    "                gen_df[[\"cp0_eur\"]].to_numpy())"
   ]
  },
  {
   "cell_type": "code",
   "execution_count": 19,
   "id": "519d88f8",
   "metadata": {},
   "outputs": [],
   "source": [
    "prob = cp.Problem(cp.Minimize(p_cost + q_cost), constraints)"
   ]
  },
  {
   "cell_type": "code",
   "execution_count": 20,
   "id": "3feb6067",
   "metadata": {},
   "outputs": [
    {
     "data": {
      "text/plain": [
       "True"
      ]
     },
     "execution_count": 20,
     "metadata": {},
     "output_type": "execute_result"
    }
   ],
   "source": [
    "prob.is_dcp()"
   ]
  },
  {
   "cell_type": "code",
   "execution_count": 21,
   "id": "a57555ea",
   "metadata": {},
   "outputs": [
    {
     "data": {
      "text/plain": [
       "True"
      ]
     },
     "execution_count": 21,
     "metadata": {},
     "output_type": "execute_result"
    }
   ],
   "source": [
    "prob.is_dpp()"
   ]
  },
  {
   "cell_type": "code",
   "execution_count": 22,
   "id": "b7eeaf40",
   "metadata": {},
   "outputs": [
    {
     "name": "stdout",
     "output_type": "stream",
     "text": [
      "The optimal value is inf\n",
      "A solution X is\n",
      "None\n"
     ]
    }
   ],
   "source": [
    "prob.solve()\n",
    "\n",
    "# Print result.\n",
    "print(\"The optimal value is\", prob.value)\n",
    "print(\"A solution X is\")\n",
    "print(X.value)"
   ]
  },
  {
   "cell_type": "code",
   "execution_count": 23,
   "id": "02de3c44",
   "metadata": {},
   "outputs": [
    {
     "data": {
      "text/plain": [
       "'infeasible'"
      ]
     },
     "execution_count": 23,
     "metadata": {},
     "output_type": "execute_result"
    }
   ],
   "source": [
    "prob.status"
   ]
  },
  {
   "cell_type": "code",
   "execution_count": 24,
   "id": "37d9efae",
   "metadata": {},
   "outputs": [
    {
     "name": "stdout",
     "output_type": "stream",
     "text": [
      "None\n"
     ]
    }
   ],
   "source": [
    "print(p_g.value)"
   ]
  },
  {
   "cell_type": "code",
   "execution_count": null,
   "id": "127c09ae",
   "metadata": {},
   "outputs": [],
   "source": []
  }
 ],
 "metadata": {
  "kernelspec": {
   "display_name": "Python 3 (ipykernel)",
   "language": "python",
   "name": "python3"
  },
  "language_info": {
   "codemirror_mode": {
    "name": "ipython",
    "version": 3
   },
   "file_extension": ".py",
   "mimetype": "text/x-python",
   "name": "python",
   "nbconvert_exporter": "python",
   "pygments_lexer": "ipython3",
   "version": "3.9.6"
  }
 },
 "nbformat": 4,
 "nbformat_minor": 5
}
