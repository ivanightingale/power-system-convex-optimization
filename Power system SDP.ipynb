{
 "cells": [
  {
   "cell_type": "code",
   "execution_count": 414,
   "id": "8690c1c7",
   "metadata": {},
   "outputs": [],
   "source": [
    "import pandapower as pp\n",
    "import pandapower.networks as pn\n",
    "from pandapower.plotting import simple_plot\n",
    "\n",
    "import numpy as np\n",
    "from mosek.fusion import *\n",
    "import networkx as nx"
   ]
  },
  {
   "cell_type": "code",
   "execution_count": 415,
   "id": "ce19015c",
   "metadata": {},
   "outputs": [],
   "source": [
    "# def get_per_unit_impedance(net):"
   ]
  },
  {
   "cell_type": "code",
   "execution_count": 416,
   "id": "d5401c87",
   "metadata": {},
   "outputs": [],
   "source": [
    "def J_ij(i,j,n):\n",
    "    # return a single-entry matrix with size n and the (i,j) entry (starting with 0) equal to 1\n",
    "    J = np.zeros([n,n])\n",
    "    J[i,j] = 1\n",
    "    return J"
   ]
  },
  {
   "cell_type": "code",
   "execution_count": 417,
   "id": "8a2820ce",
   "metadata": {},
   "outputs": [],
   "source": [
    "net = pn.case6ww()"
   ]
  },
  {
   "cell_type": "code",
   "execution_count": 418,
   "id": "03dfd352",
   "metadata": {},
   "outputs": [],
   "source": [
    "# currently the sn_mva (base power) is inconsistent with that in the original MATPOWER cases\n",
    "net.sn_mva = 100"
   ]
  },
  {
   "cell_type": "code",
   "execution_count": 419,
   "id": "e3760657",
   "metadata": {},
   "outputs": [],
   "source": [
    "graph = pp.topology.create_nxgraph(net, multi=False, calc_branch_impedances=True, branch_impedance_unit=\"ohm\")"
   ]
  },
  {
   "cell_type": "code",
   "execution_count": 420,
   "id": "03d67723",
   "metadata": {},
   "outputs": [],
   "source": [
    "n = len(net.bus)\n",
    "n_gen = len(net.gen) + len(net.sgen) + len(net.ext_grid)"
   ]
  },
  {
   "cell_type": "code",
   "execution_count": 421,
   "id": "935226d1",
   "metadata": {},
   "outputs": [],
   "source": [
    "M = Model(\"SDP\")\n",
    "# X = VV*\n",
    "X = M.variable(\"X\", Domain.inPSDCone(2*n))\n",
    "# active power generated\n",
    "p_g = M.variable(\"p_g\", [n, 1])\n",
    "# reactive power generated\n",
    "q_g = M.variable(\"q_g\", [n, 1])"
   ]
  },
  {
   "cell_type": "code",
   "execution_count": 422,
   "id": "c009fdb8",
   "metadata": {},
   "outputs": [],
   "source": [
    "# active power constraint will be p_g = p_g_rhs\n",
    "p_g_rhs_list = [None] * n\n",
    "\n",
    "# reactive power constraint will be q_g = q_g_rhs\n",
    "q_g_rhs_list = [None] * n"
   ]
  },
  {
   "cell_type": "code",
   "execution_count": 423,
   "id": "c3940ec9",
   "metadata": {},
   "outputs": [],
   "source": [
    "# fill p_g_rhs_list and q_g_rhs_list; also add the voltage bounds to the problem\n",
    "\n",
    "for i in range(n):\n",
    "    bus_row = net.bus.loc[i]\n",
    "    # \"shunt voltage multiplier\": X_ii + X_i`i`\n",
    "    shunt_v_mul = Expr.sum(Expr.mulElm(J_ij(i, i, 2*n) + J_ij(i+n, i+n, 2*n), X))\n",
    "    # voltage bounds\n",
    "    M.constraint(shunt_v_mul, Domain.inRange(bus_row[\"min_vm_pu\"]**2, bus_row[\"max_vm_pu\"]**2))\n",
    "\n",
    "    active_power_list = []  # list of terms in the summation in the active power constraint\n",
    "    reactive_power_list = []  # list of terms in the summation in the reactive power constraint\n",
    "    for j in graph.neighbors(i):\n",
    "        line = graph[i][j]\n",
    "        G_ij = line[\"r_ohm\"]\n",
    "        B_ij = line[\"x_ohm\"]\n",
    "        # \"normal voltage multiplier\": X_ij + X_i`j`\n",
    "        normal_v_mul = Expr.sum(Expr.mulElm(X, J_ij(i, j, 2*n) + J_ij(i+n, j+n, 2*n)))\n",
    "        # \"mixed voltage multiplier\": X_ij` - X_ji`\n",
    "        mixed_v_mul = Expr.sum(Expr.mulElm(X, J_ij(i, j+n, 2*n) - J_ij(j, i+n, 2*n)))\n",
    "\n",
    "        active_power_list.append(Expr.sub(Expr.mul(G_ij, normal_v_mul), Expr.mul(B_ij, mixed_v_mul)))\n",
    "        reactive_power_list.append(Expr.sub(Expr.neg(Expr.mul(B_ij, normal_v_mul)), \\\n",
    "                                            Expr.mul(G_ij, mixed_v_mul)))\n",
    "\n",
    "    active_power_sum = Expr.add(active_power_list)  # sum of rhs terms in the active power constraint\n",
    "    reactive_power_sum = Expr.add(reactive_power_list)  # sum of rhs terms in the reactive power constraint\n",
    "\n",
    "    # add the shunt term if shunt conductance or susceptance is not 0\n",
    "    shunt_row = net.shunt.loc[net.shunt[\"bus\"] == i]\n",
    "    if not shunt_row.empty:\n",
    "        # TODO: figure out the units\n",
    "        shunt_g = shunt_row.iloc[0][\"p_mw\"]  # shunt conductance\n",
    "        # TODO: shunt susceptance in data seems to be opposite of that in MATPOWER cases\n",
    "        shunt_b = shun_row.iloc[0][\"q_mvar\"]  # shunt susceptance\n",
    "        active_power_sum = Expr.add(Expr.mul(shunt_g, shunt_v_mul), active_power_sum)\n",
    "        reactive_power_sum = Expr.add(Expr.mul(shunt_b, shunt_v_mul), reactive_power_sum)\n",
    "\n",
    "    # add real or reactive load if either is not 0\n",
    "    load_row = net.load.loc[net.load[\"bus\"] == i]\n",
    "    if not load_row.empty:\n",
    "        p_d = load_row.iloc[0][\"p_mw\"]  # real load\n",
    "        q_d = load_row.iloc[0][\"q_mvar\"] # reactive load\n",
    "        active_power_sum = Expr.add(p_d, active_power_sum)\n",
    "        reactive_power_sum = Expr.add(q_d, reactive_power_sum)\n",
    "    \n",
    "    p_g_rhs_list[i] = active_power_sum\n",
    "    q_g_rhs_list[i] = reactive_power_sum"
   ]
  },
  {
   "cell_type": "code",
   "execution_count": 424,
   "id": "e828a60b",
   "metadata": {},
   "outputs": [
    {
     "data": {
      "text/plain": [
       "mosek.fusion.LinearConstraint"
      ]
     },
     "execution_count": 424,
     "metadata": {},
     "output_type": "execute_result"
    }
   ],
   "source": [
    "p_g_rhs = Expr.vstack(p_g_rhs_list)\n",
    "q_g_rhs = Expr.vstack(q_g_rhs_list)\n",
    "\n",
    "# active power constraint\n",
    "M.constraint(Expr.sub(p_g, p_g_rhs), Domain.equalsTo(0))\n",
    "\n",
    "# reactive power constraint\n",
    "M.constraint(Expr.sub(q_g, q_g_rhs), Domain.equalsTo(0))"
   ]
  },
  {
   "cell_type": "code",
   "execution_count": 425,
   "id": "cde0294b",
   "metadata": {},
   "outputs": [
    {
     "data": {
      "text/plain": [
       "mosek.fusion.RangedConstraint"
      ]
     },
     "execution_count": 425,
     "metadata": {},
     "output_type": "execute_result"
    }
   ],
   "source": [
    "# power bounds\n",
    "# FIXME: can simply remove generation variables for non-generator buses (improve performance)?\n",
    "\n",
    "p_min = np.zeros((n,1))  # vector of active power lower bounds\n",
    "p_max = np.zeros((n,1))  # vector of active power upper bounds\n",
    "q_min = np.zeros((n,1))  # vector of reactive power lower bounds\n",
    "q_max = np.zeros((n,1))  # vector of reactive power upper bounds\n",
    "\n",
    "for i in range(n):\n",
    "    # fill the power bounds for generators\n",
    "    gen_row = None\n",
    "    if i in net.gen[\"bus\"].array:\n",
    "        gen_row = net.gen.loc[net.gen[\"bus\"] == i].iloc[0]\n",
    "    elif i in net.sgen[\"bus\"].array:\n",
    "        gen_row = net.sgen.loc[net.sgen[\"bus\"] == i].iloc[0]\n",
    "    elif i in net.ext_grid[\"bus\"].array:\n",
    "        gen_row = net.ext_grid.loc[net.ext_grid[\"bus\"] == i].iloc[0]\n",
    "    if gen_row is not None:\n",
    "        p_min[i] = gen_row[\"min_p_mw\"]\n",
    "        p_max[i] = gen_row[\"max_p_mw\"]\n",
    "        q_min[i] = gen_row[\"min_q_mvar\"]\n",
    "        q_max[i] = gen_row[\"max_q_mvar\"]\n",
    "\n",
    "        \n",
    "M.constraint(p_g, Domain.inRange(p_min, p_max))\n",
    "M.constraint(q_g, Domain.inRange(q_min, q_max))"
   ]
  },
  {
   "cell_type": "code",
   "execution_count": 426,
   "id": "b589cb73",
   "metadata": {},
   "outputs": [],
   "source": [
    "# objective function\n",
    "# TODO\n",
    "M.objective(ObjectiveSense.Minimize, Expr.sum(p_g))"
   ]
  },
  {
   "cell_type": "code",
   "execution_count": 427,
   "id": "ec3ee1e3",
   "metadata": {},
   "outputs": [],
   "source": [
    "M.solve()"
   ]
  },
  {
   "cell_type": "code",
   "execution_count": null,
   "id": "d408a988",
   "metadata": {},
   "outputs": [],
   "source": []
  }
 ],
 "metadata": {
  "kernelspec": {
   "display_name": "Python 3 (ipykernel)",
   "language": "python",
   "name": "python3"
  },
  "language_info": {
   "codemirror_mode": {
    "name": "ipython",
    "version": 3
   },
   "file_extension": ".py",
   "mimetype": "text/x-python",
   "name": "python",
   "nbconvert_exporter": "python",
   "pygments_lexer": "ipython3",
   "version": "3.9.6"
  }
 },
 "nbformat": 4,
 "nbformat_minor": 5
}
