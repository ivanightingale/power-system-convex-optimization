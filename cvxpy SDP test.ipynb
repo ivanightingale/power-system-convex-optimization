{
 "cells": [
  {
   "cell_type": "code",
   "execution_count": 1,
   "id": "ebe99993",
   "metadata": {},
   "outputs": [],
   "source": [
    "import cvxpy as cp\n",
    "import numpy as np"
   ]
  },
  {
   "cell_type": "code",
   "execution_count": 2,
   "id": "9097b2fb",
   "metadata": {},
   "outputs": [],
   "source": [
    "# n = 3\n",
    "# p = 3\n",
    "# np.random.seed(1)\n",
    "# C = np.random.randn(n, n)\n",
    "# A = []\n",
    "# b = []\n",
    "# for i in range(p):\n",
    "#     A.append(cp.Parameter((n,n), value=np.random.randn(n, n)))\n",
    "# #     A.append(np.random.randn(n, n))\n",
    "#     b.append(np.random.randn())\n",
    "\n",
    "# # Define and solve the CVXPY problem.\n",
    "# # Create a symmetric matrix variable.\n",
    "# X = cp.Variable((n,n), PSD=True)\n",
    "# # The operator >> denotes matrix inequality.\n",
    "# # constraints = [X >> 0]\n",
    "# constraints = []\n",
    "# constraints += [\n",
    "#     cp.trace(A[i] @ X) == b[i] for i in range(p)\n",
    "# ]\n",
    "# prob = cp.Problem(cp.Minimize(cp.trace(C @ X)),\n",
    "#                   constraints)\n",
    "# prob.solve()\n",
    "\n",
    "# # Print result.\n",
    "# print(\"The optimal value is\", prob.value)\n",
    "# print(\"A solution X is\")\n",
    "# print(X.value)"
   ]
  },
  {
   "cell_type": "code",
   "execution_count": 60,
   "id": "7cba2ce1",
   "metadata": {},
   "outputs": [
    {
     "name": "stdout",
     "output_type": "stream",
     "text": [
      "The optimal value is 0.5604319926677936\n",
      "A solution X is\n",
      "[[ 0.39856119+0.j          0.12604979-0.3493205j  -0.51481854-0.27523834j]\n",
      " [ 0.12604979+0.3493205j   0.34602808+0.j          0.07841612-0.53826215j]\n",
      " [-0.51481854+0.27523834j  0.07841612+0.53826215j  0.85506133+0.j        ]]\n"
     ]
    }
   ],
   "source": [
    "n = 3\n",
    "C = np.random.randn(n, n)\n",
    "c = cp.Parameter((n,1), value=np.array([1,1,1]).reshape((-1,1)), nonneg=True)\n",
    "\n",
    "A = cp.Parameter((n,n), value=np.random.randn(n, n))\n",
    "B = cp.Parameter((n,n), value=np.random.randn(n, n))\n",
    "b = cp.Parameter((n,1), value=np.random.randn(n,1))\n",
    "\n",
    "# Define and solve the CVXPY problem.\n",
    "# Create a symmetric matrix variable.\n",
    "X = cp.Variable((n,n), hermitian=True)\n",
    "# The operator >> denotes matrix inequality.\n",
    "constraints = [X >> 0]\n",
    "constraints += [\n",
    "    A[i][0] * cp.real(X[i][0]) + B[i][0] * cp.imag(X[i][0]) == b[i] for i in range(n)\n",
    "]\n",
    "constraints += [cp.real(X) <= np.ones((n,n))]\n",
    "# prob = cp.Problem(cp.Minimize(cp.trace(C @ cp.real(X))), constraints)\n",
    "prob = cp.Problem(cp.Minimize(cp.sum(\n",
    "    [c[i]*cp.square(cp.real(X[i][1])) + c[i]*cp.real(X[i][2]) for i in range(n)]\n",
    ")), constraints)\n",
    "# prob.is_dcp()\n",
    "\n",
    "prob.solve()\n",
    "\n",
    "# Print result.\n",
    "print(\"The optimal value is\", prob.value)\n",
    "print(\"A solution X is\")\n",
    "print(X.value)"
   ]
  },
  {
   "cell_type": "code",
   "execution_count": 4,
   "id": "2a27fb2e",
   "metadata": {},
   "outputs": [
    {
     "data": {
      "text/plain": [
       "Minimize(Expression(AFFINE, UNKNOWN, ()))"
      ]
     },
     "execution_count": 4,
     "metadata": {},
     "output_type": "execute_result"
    }
   ],
   "source": [
    "prob.objective"
   ]
  },
  {
   "cell_type": "code",
   "execution_count": 5,
   "id": "7cf5cda2",
   "metadata": {},
   "outputs": [
    {
     "data": {
      "text/plain": [
       "[PSD(Expression(AFFINE, UNKNOWN, (3, 3))),\n",
       " Equality(Expression(AFFINE, UNKNOWN, ()), Expression(CONSTANT, UNKNOWN, (1,))),\n",
       " Equality(Expression(AFFINE, UNKNOWN, ()), Expression(CONSTANT, UNKNOWN, (1,))),\n",
       " Equality(Expression(AFFINE, UNKNOWN, ()), Expression(CONSTANT, UNKNOWN, (1,))),\n",
       " Inequality(Expression(AFFINE, UNKNOWN, (3, 3)))]"
      ]
     },
     "execution_count": 5,
     "metadata": {},
     "output_type": "execute_result"
    }
   ],
   "source": [
    "prob.constraints"
   ]
  },
  {
   "cell_type": "code",
   "execution_count": 6,
   "id": "7cbe175f",
   "metadata": {},
   "outputs": [
    {
     "data": {
      "text/plain": [
       "[Parameter((3, 3)), Parameter((3, 3)), Parameter((3, 1))]"
      ]
     },
     "execution_count": 6,
     "metadata": {},
     "output_type": "execute_result"
    }
   ],
   "source": [
    "prob.parameters()"
   ]
  },
  {
   "cell_type": "code",
   "execution_count": null,
   "id": "3e3549a1",
   "metadata": {},
   "outputs": [],
   "source": []
  }
 ],
 "metadata": {
  "kernelspec": {
   "display_name": "Python 3 (ipykernel)",
   "language": "python",
   "name": "python3"
  },
  "language_info": {
   "codemirror_mode": {
    "name": "ipython",
    "version": 3
   },
   "file_extension": ".py",
   "mimetype": "text/x-python",
   "name": "python",
   "nbconvert_exporter": "python",
   "pygments_lexer": "ipython3",
   "version": "3.9.6"
  }
 },
 "nbformat": 4,
 "nbformat_minor": 5
}
