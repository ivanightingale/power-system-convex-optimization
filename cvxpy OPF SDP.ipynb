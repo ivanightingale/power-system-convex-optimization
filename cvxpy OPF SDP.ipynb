{
 "cells": [
  {
   "cell_type": "code",
   "execution_count": 6,
   "id": "8690c1c7",
   "metadata": {},
   "outputs": [],
   "source": [
    "import pandapower as pp\n",
    "import pandapower.networks as pn\n",
    "from pandapower.plotting import simple_plot\n",
    "\n",
    "import pandas as pd\n",
    "import numpy as np\n",
    "import cvxpy as cp\n",
    "import networkx as nx\n",
    "import custom_networks\n",
    "from solution_files_manager import SolutionFilesManager"
   ]
  },
  {
   "cell_type": "code",
   "execution_count": 7,
   "id": "cab83d56",
   "metadata": {},
   "outputs": [],
   "source": [
    "import os\n",
    "folder = os.path.abspath(os.getcwd())"
   ]
  },
  {
   "cell_type": "markdown",
   "id": "6dbf9c14",
   "metadata": {},
   "source": [
    "## Data processing"
   ]
  },
  {
   "cell_type": "code",
   "execution_count": 8,
   "id": "9ff399a2",
   "metadata": {},
   "outputs": [],
   "source": [
    "case = \"ccase3_radial\"\n",
    "case_type = 0\n",
    "net = custom_networks.ccase3_radial(case_type)"
   ]
  },
  {
   "cell_type": "code",
   "execution_count": 9,
   "id": "25c41117",
   "metadata": {},
   "outputs": [],
   "source": [
    "# net = pn.case9()\n",
    "\n",
    "# # currently the sn_mva (base power) is inconsistent with that in the original MATPOWER cases\n",
    "# net.sn_mva = 100"
   ]
  },
  {
   "cell_type": "code",
   "execution_count": 10,
   "id": "8a2820ce",
   "metadata": {},
   "outputs": [],
   "source": [
    "# net = pn.case6ww()\n",
    "\n",
    "# # currently the sn_mva (base power) is inconsistent with that in the original MATPOWER cases\n",
    "# net.sn_mva = 100"
   ]
  },
  {
   "cell_type": "code",
   "execution_count": 11,
   "id": "1ecb9741",
   "metadata": {
    "scrolled": true
   },
   "outputs": [
    {
     "name": "stderr",
     "output_type": "stream",
     "text": [
      "No or insufficient geodata available --> Creating artificial coordinates. This may take some time\n"
     ]
    },
    {
     "data": {
      "image/png": "[encoded data removed]",
      "text/plain": [
       "<Figure size 720x576 with 1 Axes>"
      ]
     },
     "metadata": {},
     "output_type": "display_data"
    },
    {
     "data": {
      "text/plain": [
       "<AxesSubplot:>"
      ]
     },
     "execution_count": 11,
     "metadata": {},
     "output_type": "execute_result"
    }
   ],
   "source": [
    "simple_plot(net, plot_loads=True, plot_sgens=True)"
   ]
  },
  {
   "cell_type": "code",
   "execution_count": 12,
   "id": "03d67723",
   "metadata": {},
   "outputs": [],
   "source": [
    "n = len(net.bus)"
   ]
  },
  {
   "cell_type": "markdown",
   "id": "778e9553",
   "metadata": {},
   "source": [
    "#### Generators"
   ]
  },
  {
   "cell_type": "code",
   "execution_count": 13,
   "id": "22c56687",
   "metadata": {},
   "outputs": [],
   "source": [
    "gen_df_list = []\n",
    "gen_name_list = [\"gen\", \"sgen\", \"ext_grid\"]\n",
    "data_col_list = [\"bus\", \"max_p_mw\", \"min_p_mw\", \"max_q_mvar\", \"min_q_mvar\"]\n",
    "\n",
    "for gen_name in gen_name_list:\n",
    "    if not net[gen_name].empty:\n",
    "        # get a table of cost coefficients only for the current type of generators\n",
    "        gen_name_poly_cost = net.poly_cost.loc[net.poly_cost.et == gen_name].set_index(\"element\")\n",
    "        # get a table of cost coefficients and power bounds only for the current type of generators\n",
    "        gen_name_df = net[gen_name][data_col_list].join(gen_name_poly_cost)\n",
    "        gen_df_list.append(gen_name_df)\n",
    "\n",
    "# combine tables for all types of generators\n",
    "gen_df = pd.concat(gen_df_list).reset_index()\n",
    "n_gen = len(gen_df)"
   ]
  },
  {
   "cell_type": "code",
   "execution_count": 14,
   "id": "108b7cbe",
   "metadata": {},
   "outputs": [
    {
     "data": {
      "text/html": [
       "<div>\n",
       "<style scoped>\n",
       "    .dataframe tbody tr th:only-of-type {\n",
       "        vertical-align: middle;\n",
       "    }\n",
       "\n",
       "    .dataframe tbody tr th {\n",
       "        vertical-align: top;\n",
       "    }\n",
       "\n",
       "    .dataframe thead th {\n",
       "        text-align: right;\n",
       "    }\n",
       "</style>\n",
       "<table border=\"1\" class=\"dataframe\">\n",
       "  <thead>\n",
       "    <tr style=\"text-align: right;\">\n",
       "      <th></th>\n",
       "      <th>index</th>\n",
       "      <th>bus</th>\n",
       "      <th>max_p_mw</th>\n",
       "      <th>min_p_mw</th>\n",
       "      <th>max_q_mvar</th>\n",
       "      <th>min_q_mvar</th>\n",
       "      <th>et</th>\n",
       "      <th>cp0_eur</th>\n",
       "      <th>cp1_eur_per_mw</th>\n",
       "      <th>cp2_eur_per_mw2</th>\n",
       "      <th>cq0_eur</th>\n",
       "      <th>cq1_eur_per_mvar</th>\n",
       "      <th>cq2_eur_per_mvar2</th>\n",
       "    </tr>\n",
       "  </thead>\n",
       "  <tbody>\n",
       "    <tr>\n",
       "      <th>0</th>\n",
       "      <td>0</td>\n",
       "      <td>0</td>\n",
       "      <td>1.0</td>\n",
       "      <td>0.0</td>\n",
       "      <td>1.0</td>\n",
       "      <td>-1.0</td>\n",
       "      <td>ext_grid</td>\n",
       "      <td>0.0</td>\n",
       "      <td>1.0</td>\n",
       "      <td>0.0</td>\n",
       "      <td>0.0</td>\n",
       "      <td>0.0</td>\n",
       "      <td>0.0</td>\n",
       "    </tr>\n",
       "  </tbody>\n",
       "</table>\n",
       "</div>"
      ],
      "text/plain": [
       "   index  bus  max_p_mw  min_p_mw  max_q_mvar  min_q_mvar        et  cp0_eur  \\\n",
       "0      0    0       1.0       0.0         1.0        -1.0  ext_grid      0.0   \n",
       "\n",
       "   cp1_eur_per_mw  cp2_eur_per_mw2  cq0_eur  cq1_eur_per_mvar  \\\n",
       "0             1.0              0.0      0.0               0.0   \n",
       "\n",
       "   cq2_eur_per_mvar2  \n",
       "0                0.0  "
      ]
     },
     "execution_count": 14,
     "metadata": {},
     "output_type": "execute_result"
    }
   ],
   "source": [
    "gen_df"
   ]
  },
  {
   "cell_type": "markdown",
   "id": "fe55fdc3",
   "metadata": {},
   "source": [
    "#### Bus loads"
   ]
  },
  {
   "cell_type": "code",
   "execution_count": 15,
   "id": "a553c78d",
   "metadata": {},
   "outputs": [],
   "source": [
    "load_df = net.bus.join(net.load[[\"bus\", \"p_mw\", \"q_mvar\"]].set_index(\"bus\")).fillna(0)[[\"p_mw\", \"q_mvar\"]]"
   ]
  },
  {
   "cell_type": "code",
   "execution_count": 16,
   "id": "07e3ce73",
   "metadata": {},
   "outputs": [
    {
     "data": {
      "text/html": [
       "<div>\n",
       "<style scoped>\n",
       "    .dataframe tbody tr th:only-of-type {\n",
       "        vertical-align: middle;\n",
       "    }\n",
       "\n",
       "    .dataframe tbody tr th {\n",
       "        vertical-align: top;\n",
       "    }\n",
       "\n",
       "    .dataframe thead th {\n",
       "        text-align: right;\n",
       "    }\n",
       "</style>\n",
       "<table border=\"1\" class=\"dataframe\">\n",
       "  <thead>\n",
       "    <tr style=\"text-align: right;\">\n",
       "      <th></th>\n",
       "      <th>p_mw</th>\n",
       "      <th>q_mvar</th>\n",
       "    </tr>\n",
       "  </thead>\n",
       "  <tbody>\n",
       "    <tr>\n",
       "      <th>0</th>\n",
       "      <td>0.00</td>\n",
       "      <td>0.0</td>\n",
       "    </tr>\n",
       "    <tr>\n",
       "      <th>1</th>\n",
       "      <td>0.01</td>\n",
       "      <td>0.0</td>\n",
       "    </tr>\n",
       "    <tr>\n",
       "      <th>2</th>\n",
       "      <td>0.01</td>\n",
       "      <td>0.0</td>\n",
       "    </tr>\n",
       "  </tbody>\n",
       "</table>\n",
       "</div>"
      ],
      "text/plain": [
       "   p_mw  q_mvar\n",
       "0  0.00     0.0\n",
       "1  0.01     0.0\n",
       "2  0.01     0.0"
      ]
     },
     "execution_count": 16,
     "metadata": {},
     "output_type": "execute_result"
    }
   ],
   "source": [
    "load_df"
   ]
  },
  {
   "cell_type": "markdown",
   "id": "ed0a038a",
   "metadata": {},
   "source": [
    "#### Admittance matrices"
   ]
  },
  {
   "cell_type": "code",
   "execution_count": 17,
   "id": "e3760657",
   "metadata": {},
   "outputs": [],
   "source": [
    "# obtain a NetworkX Graph from the network, with each edge containing p.u. impedance data\n",
    "graph = pp.topology.create_nxgraph(net, multi=False, calc_branch_impedances=True, branch_impedance_unit=\"pu\")\n",
    "\n",
    "# np.array((net.line['r_ohm_per_km'] * net.line['length_km'] * net.sn_mva * 1e6 / net.line['parallel'])) / ((net.bus.loc[net.line.from_bus.values, \"vn_kv\"].values * 1e3) ** 2)"
   ]
  },
  {
   "cell_type": "code",
   "execution_count": 18,
   "id": "a9744768",
   "metadata": {},
   "outputs": [],
   "source": [
    "G_val = np.zeros((n,n))\n",
    "B_val = np.zeros((n,n))\n",
    "for i,j in graph.edges:\n",
    "    edge = graph.edges[(i,j)]\n",
    "    r = edge[\"r_pu\"]\n",
    "    x = edge[\"x_pu\"]\n",
    "    z = r + x*1j\n",
    "    y = np.reciprocal(z)\n",
    "    G_val[i][j] = G_val[j][i] = -np.real(y)\n",
    "    B_val[i][j] = B_val[j][i] = -np.imag(y)"
   ]
  },
  {
   "cell_type": "code",
   "execution_count": 19,
   "id": "3c7ef2b1",
   "metadata": {},
   "outputs": [],
   "source": [
    "G_row_sums = np.sum(G_val, axis=1)\n",
    "B_row_sums = np.sum(B_val, axis=1)\n",
    "for i in range(n):\n",
    "    shunt_row = net.shunt.loc[net.shunt[\"bus\"] == i]\n",
    "    g = 0  # shunt conductance\n",
    "    b = 0  # shunt susceptance\n",
    "    # if both are 0, there will be no data in the shunt dataframe\n",
    "    if not shunt_row.empty:\n",
    "        # TODO: figure out how to compute from data\n",
    "        g = shunt_row[\"p_mw\"].to_numpy()[0]\n",
    "        b = -shunt_row[\"q_mvar\"].to_numpy()[0]  # FIXME: shunt susceptance is negative as in original data?\n",
    "    G_val[i][i] = g - G_row_sums[i]\n",
    "    B_val[i][i] = b - B_row_sums[i]"
   ]
  },
  {
   "cell_type": "code",
   "execution_count": 20,
   "id": "ee5605f1",
   "metadata": {},
   "outputs": [],
   "source": [
    "# obtain a NetworkX Graph from the network, with each edge containing p.u. impedance data\n",
    "graph = pp.topology.create_nxgraph(net, multi=False, calc_branch_impedances=True, branch_impedance_unit=\"pu\")\n",
    "\n",
    "# np.array((net.line['r_ohm_per_km'] * net.line['length_km'] * net.sn_mva * 1e6 / net.line['parallel'])) / ((net.bus.loc[net.line.from_bus.values, \"vn_kv\"].values * 1e3) ** 2)"
   ]
  },
  {
   "cell_type": "code",
   "execution_count": 21,
   "id": "6f9d7f1a",
   "metadata": {},
   "outputs": [
    {
     "data": {
      "text/plain": [
       "EdgeDataView([(0, 1, {'key': ('line', 0), 'weight': 1.0, 'path': 1, 'r_pu': 1.0, 'x_pu': 1.0, 'z_pu': 1.4142135623730951}), (0, 2, {'key': ('line', 1), 'weight': 1.0, 'path': 1, 'r_pu': 1.0, 'x_pu': 1.0, 'z_pu': 1.4142135623730951})])"
      ]
     },
     "execution_count": 21,
     "metadata": {},
     "output_type": "execute_result"
    }
   ],
   "source": [
    "graph.edges(data=True)"
   ]
  },
  {
   "cell_type": "markdown",
   "id": "9ba53658",
   "metadata": {},
   "source": [
    "## Variables"
   ]
  },
  {
   "cell_type": "code",
   "execution_count": 22,
   "id": "935226d1",
   "metadata": {},
   "outputs": [],
   "source": [
    "# X = VV*\n",
    "X = cp.Variable((n,n), hermitian=True)\n",
    "# active power generated\n",
    "p_g = cp.Variable((n_gen, 1))\n",
    "# reactive power generated\n",
    "q_g = cp.Variable((n_gen, 1))"
   ]
  },
  {
   "cell_type": "markdown",
   "id": "f50e65a8",
   "metadata": {},
   "source": [
    "## Parameters"
   ]
  },
  {
   "cell_type": "code",
   "execution_count": 23,
   "id": "5dc4a606",
   "metadata": {},
   "outputs": [],
   "source": [
    "p_d_val = load_df[[\"p_mw\"]].to_numpy() / net.sn_mva\n",
    "q_d_val = load_df[[\"q_mvar\"]].to_numpy() / net.sn_mva"
   ]
  },
  {
   "cell_type": "code",
   "execution_count": 24,
   "id": "e739e22e",
   "metadata": {},
   "outputs": [],
   "source": [
    "# loads\n",
    "p_d = cp.Parameter((n,1), nonneg=True, value=p_d_val)\n",
    "q_d = cp.Parameter((n,1), nonneg=True, value=q_d_val)\n",
    "\n",
    "# admittance matrices\n",
    "G = cp.Parameter((n,n), symmetric=True, value=G_val)\n",
    "B = cp.Parameter((n,n), symmetric=True, value=B_val)\n",
    "\n",
    "# squares of voltage bounds\n",
    "V_min_sq = cp.Parameter((n), nonneg=True, value=np.square(net.bus[\"min_vm_pu\"].to_numpy()))\n",
    "V_max_sq = cp.Parameter((n), nonneg=True, value=np.square(net.bus[\"max_vm_pu\"].to_numpy()))\n",
    "\n",
    "# bounds for generated power\n",
    "p_min = cp.Parameter((n_gen,1), value=gen_df[[\"min_p_mw\"]].to_numpy() / net.sn_mva)\n",
    "p_max = cp.Parameter((n_gen,1), value=gen_df[[\"max_p_mw\"]].to_numpy() / net.sn_mva)\n",
    "q_min = cp.Parameter((n_gen,1), value=gen_df[[\"min_q_mvar\"]].to_numpy() / net.sn_mva)\n",
    "q_max = cp.Parameter((n_gen,1), value=gen_df[[\"max_q_mvar\"]].to_numpy() / net.sn_mva)"
   ]
  },
  {
   "cell_type": "code",
   "execution_count": 25,
   "id": "06f1d7ce",
   "metadata": {},
   "outputs": [],
   "source": [
    "# vectors of cost coefficients: c_[p or q]_[power]\n",
    "\n",
    "c_p_2 = cp.Parameter((n_gen), value=gen_df[\"cp2_eur_per_mw2\"].to_numpy(), nonneg=True)\n",
    "c_p_1 = cp.Parameter((n_gen), value=gen_df[\"cp1_eur_per_mw\"].to_numpy(), nonneg=True)\n",
    "c_p_0 = cp.Parameter((n_gen), value=gen_df[\"cp0_eur\"].to_numpy(), nonneg=True)\n",
    "\n",
    "c_q_2 = cp.Parameter((n_gen), value=gen_df[\"cq2_eur_per_mvar2\"].to_numpy(), nonneg=True)\n",
    "c_q_1 = cp.Parameter((n_gen), value=gen_df[\"cq1_eur_per_mvar\"].to_numpy(), nonneg=True)\n",
    "c_q_0 = cp.Parameter((n_gen), value=gen_df[\"cp0_eur\"].to_numpy(), nonneg=True)"
   ]
  },
  {
   "cell_type": "markdown",
   "id": "f28cb541",
   "metadata": {},
   "source": [
    "## Constraints"
   ]
  },
  {
   "cell_type": "code",
   "execution_count": 26,
   "id": "c3940ec9",
   "metadata": {},
   "outputs": [],
   "source": [
    "constraints = [X >> 0]"
   ]
  },
  {
   "cell_type": "code",
   "execution_count": 27,
   "id": "507bdb93",
   "metadata": {},
   "outputs": [],
   "source": [
    "for i in range(n):\n",
    "    gen_list = gen_df.loc[gen_df[\"bus\"] == i].index.to_numpy()\n",
    "    constraints += [\n",
    "        cp.sum([p_g[k] for k in gen_list]) - p_d[i] == G[i][i] * X[i][i] +\n",
    "        cp.sum([G[i][j] * cp.real(X[i][j]) + B[i][j] * cp.imag(X[i][j]) for j in graph.neighbors(i)])\n",
    "    ]\n",
    "    constraints += [\n",
    "        cp.sum([q_g[k] for k in gen_list]) - q_d[i] == -B[i][i] * X[i][i] +\n",
    "        cp.sum([-B[i][j] * cp.real(X[i][j]) + G[i][j] * cp.imag(X[i][j]) for j in graph.neighbors(i)])\n",
    "    ]"
   ]
  },
  {
   "cell_type": "code",
   "execution_count": 28,
   "id": "f768a0e0",
   "metadata": {},
   "outputs": [],
   "source": [
    "constraints += [\n",
    "    cp.real(cp.diag(X)) >= V_min_sq,\n",
    "    cp.real(cp.diag(X)) <= V_max_sq\n",
    "]"
   ]
  },
  {
   "cell_type": "code",
   "execution_count": 29,
   "id": "5d295ada",
   "metadata": {},
   "outputs": [],
   "source": [
    "constraints += [ X[0][0] == 1 ]"
   ]
  },
  {
   "cell_type": "code",
   "execution_count": 30,
   "id": "3488102f",
   "metadata": {},
   "outputs": [],
   "source": [
    "constraints += [\n",
    "    p_g >= p_min,\n",
    "    p_g <= p_max,\n",
    "    q_g >= q_min,\n",
    "    q_g <= q_max\n",
    "]"
   ]
  },
  {
   "cell_type": "markdown",
   "id": "57f4b86b",
   "metadata": {},
   "source": [
    "## Solving"
   ]
  },
  {
   "cell_type": "code",
   "execution_count": 31,
   "id": "7f31061c",
   "metadata": {},
   "outputs": [],
   "source": [
    "p_cost = cp.sum(c_p_2 @ cp.square(p_g) + c_p_1 @ p_g + c_p_0)\n",
    "q_cost = cp.sum(c_q_2 @ cp.square(q_g) + c_q_1 @ q_g + c_q_0)"
   ]
  },
  {
   "cell_type": "code",
   "execution_count": 32,
   "id": "519d88f8",
   "metadata": {},
   "outputs": [],
   "source": [
    "prob = cp.Problem(cp.Minimize(p_cost + q_cost), constraints)"
   ]
  },
  {
   "cell_type": "code",
   "execution_count": 33,
   "id": "3feb6067",
   "metadata": {},
   "outputs": [
    {
     "data": {
      "text/plain": [
       "True"
      ]
     },
     "execution_count": 33,
     "metadata": {},
     "output_type": "execute_result"
    }
   ],
   "source": [
    "prob.is_dcp()"
   ]
  },
  {
   "cell_type": "code",
   "execution_count": 34,
   "id": "a57555ea",
   "metadata": {},
   "outputs": [
    {
     "data": {
      "text/plain": [
       "True"
      ]
     },
     "execution_count": 34,
     "metadata": {},
     "output_type": "execute_result"
    }
   ],
   "source": [
    "prob.is_dpp()"
   ]
  },
  {
   "cell_type": "code",
   "execution_count": 35,
   "id": "b7eeaf40",
   "metadata": {},
   "outputs": [
    {
     "name": "stdout",
     "output_type": "stream",
     "text": [
      "The optimal value is 0.020204123008640353\n"
     ]
    }
   ],
   "source": [
    "prob.solve()\n",
    "\n",
    "# Print result.\n",
    "print(\"The optimal value is\", prob.value)\n",
    "# print(\"A solution X is\")\n",
    "# print(X.value)"
   ]
  },
  {
   "cell_type": "code",
   "execution_count": 36,
   "id": "96fba46f",
   "metadata": {},
   "outputs": [
    {
     "data": {
      "text/plain": [
       "array([6.00553941e-10, 7.21339100e-10, 2.95959175e+00])"
      ]
     },
     "execution_count": 36,
     "metadata": {},
     "output_type": "execute_result"
    }
   ],
   "source": [
    "np.abs(np.linalg.eigvalsh(X.value))"
   ]
  },
  {
   "cell_type": "code",
   "execution_count": 37,
   "id": "c2e15305",
   "metadata": {},
   "outputs": [
    {
     "name": "stdout",
     "output_type": "stream",
     "text": [
      "[[0.02020412]]\n",
      "[[0.00020412]]\n"
     ]
    }
   ],
   "source": [
    "print(p_g.value)\n",
    "print(q_g.value)"
   ]
  },
  {
   "cell_type": "code",
   "execution_count": 38,
   "id": "02de3c44",
   "metadata": {},
   "outputs": [
    {
     "data": {
      "text/plain": [
       "'optimal'"
      ]
     },
     "execution_count": 38,
     "metadata": {},
     "output_type": "execute_result"
    }
   ],
   "source": [
    "prob.status"
   ]
  },
  {
   "cell_type": "code",
   "execution_count": null,
   "id": "6fc32b39",
   "metadata": {},
   "outputs": [],
   "source": [
    "# sfm = SolutionFilesManager(folder, case, case_type, \"sdp\")\n",
    "# sfm.save_solution(prob.value, X, p_g, q_g)"
   ]
  },
  {
   "cell_type": "markdown",
   "id": "d3ffcd6b",
   "metadata": {},
   "source": [
    "### Verify constraints with original solution"
   ]
  },
  {
   "cell_type": "code",
   "execution_count": 60,
   "id": "bfd59245",
   "metadata": {},
   "outputs": [],
   "source": [
    "sfm = SolutionFilesManager(folder, case, case_type, \"orig\")\n",
    "_, V_orig, p_orig, q_orig = sfm.load_solution()"
   ]
  },
  {
   "cell_type": "code",
   "execution_count": 61,
   "id": "5a144259",
   "metadata": {},
   "outputs": [],
   "source": [
    "X_orig = V_orig @ V_orig.conjugate().reshape(1,-1)"
   ]
  },
  {
   "cell_type": "code",
   "execution_count": 62,
   "id": "465ab7b2",
   "metadata": {},
   "outputs": [
    {
     "name": "stdout",
     "output_type": "stream",
     "text": [
      "active 0\n",
      "[0.02020412]\n",
      "(0.02020412413215711+0j)\n",
      "reactive 0\n",
      "[0.00020412]\n",
      "(0.00020412414104953314+0j)\n",
      "active 1\n",
      "[-0.01]\n",
      "(-0.009999999991285868+0j)\n",
      "reactive 1\n",
      "[0.]\n",
      "(4.267919351264027e-12+0j)\n",
      "active 2\n",
      "[-0.01]\n",
      "(-0.009999999991285868+0j)\n",
      "reactive 2\n",
      "[0.]\n",
      "(4.267919351264027e-12+0j)\n"
     ]
    }
   ],
   "source": [
    "for i in range(n):\n",
    "    gen_list = gen_df.loc[gen_df[\"bus\"] == i].index.to_numpy()\n",
    "    print(\"active %d\"  %(i))\n",
    "    print(np.sum([p_orig[k] for k in gen_list]) - p_d_val[i])\n",
    "    print(G_val[i][i] * X_orig[i][i] + np.sum([G_val[i][j] * np.real(X_orig[i][j]) + B_val[i][j] * np.imag(X_orig[i][j]) for j in graph.neighbors(i)]))\n",
    "    print(\"reactive %d\"  %(i))\n",
    "    print(np.sum([q_orig[k] for k in gen_list]) - q_d_val[i])\n",
    "    print(-B_val[i][i] * X_orig[i][i] + np.sum([-B_val[i][j] * np.real(X_orig[i][j]) + G_val[i][j] * np.imag(X_orig[i][j]) for j in graph.neighbors(i)]))"
   ]
  },
  {
   "cell_type": "markdown",
   "id": "4d4d2d3a",
   "metadata": {},
   "source": []
  },
  {
   "cell_type": "code",
   "execution_count": null,
   "id": "4b2aeba2",
   "metadata": {},
   "outputs": [],
   "source": []
  }
 ],
 "metadata": {
  "kernelspec": {
   "display_name": "Python 3 (ipykernel)",
   "language": "python",
   "name": "python3"
  },
  "language_info": {
   "codemirror_mode": {
    "name": "ipython",
    "version": 3
   },
   "file_extension": ".py",
   "mimetype": "text/x-python",
   "name": "python",
   "nbconvert_exporter": "python",
   "pygments_lexer": "ipython3",
   "version": "3.9.6"
  }
 },
 "nbformat": 4,
 "nbformat_minor": 5
}
