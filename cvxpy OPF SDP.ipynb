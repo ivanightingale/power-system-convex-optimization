{
 "cells": [
  {
   "cell_type": "code",
   "execution_count": 494,
   "id": "8690c1c7",
   "metadata": {},
   "outputs": [],
   "source": [
    "import pandapower as pp\n",
    "import pandapower.networks as pn\n",
    "from pandapower.plotting import simple_plot\n",
    "\n",
    "import pandas as pd\n",
    "import numpy as np\n",
    "import cvxpy as cp\n",
    "import networkx as nx"
   ]
  },
  {
   "cell_type": "markdown",
   "id": "6dbf9c14",
   "metadata": {},
   "source": [
    "## Data processing"
   ]
  },
  {
   "cell_type": "code",
   "execution_count": 495,
   "id": "25c41117",
   "metadata": {},
   "outputs": [],
   "source": [
    "# net = pn.case9()\n",
    "\n",
    "# # currently the sn_mva (base power) is inconsistent with that in the original MATPOWER cases\n",
    "# net.sn_mva = 100"
   ]
  },
  {
   "cell_type": "code",
   "execution_count": 496,
   "id": "8a2820ce",
   "metadata": {},
   "outputs": [],
   "source": [
    "net = pn.case6ww()\n",
    "\n",
    "# currently the sn_mva (base power) is inconsistent with that in the original MATPOWER cases\n",
    "net.sn_mva = 100"
   ]
  },
  {
   "cell_type": "code",
   "execution_count": 497,
   "id": "07f73ac9",
   "metadata": {},
   "outputs": [],
   "source": [
    "# # 2-bus simple case\n",
    "\n",
    "# net = pp.create_empty_network(sn_mva=1)\n",
    "\n",
    "# # buses\n",
    "# pp.create_bus(net, vn_kv=1, max_vm_pu=1.1, min_vm_pu=0.9, index=0)\n",
    "# pp.create_bus(net, vn_kv=1, max_vm_pu=1.1, min_vm_pu=0.9, index=1)\n",
    "\n",
    "# #lines\n",
    "# pp.create_line_from_parameters(net, 0, 1, length_km=1, r_ohm_per_km=1, x_ohm_per_km=1, c_nf_per_km=0, max_i_ka=0, index=0)\n",
    "\n",
    "# # generators\n",
    "# pp.create_ext_grid(net, 0, max_p_mw=1, min_p_mw=0, max_q_mvar=1, min_q_mvar=-1, index=0)\n",
    "# pp.create_poly_cost(net, 0, \"ext_grid\", cp1_eur_per_mw=1, cp0_eur=0, cq1_eur_per_mvar=0, cq0_eur=0, cp2_eur_per_mw2=0, cq2_eur_per_mvar2=0, index=None)\n",
    "\n",
    "# # loads\n",
    "# pp.create_load(net, 1, p_mw=0.01, q_mvar=0, index=0)"
   ]
  },
  {
   "cell_type": "code",
   "execution_count": 498,
   "id": "9f3eb702",
   "metadata": {},
   "outputs": [
    {
     "data": {
      "text/plain": [
       "1"
      ]
     },
     "execution_count": 498,
     "metadata": {},
     "output_type": "execute_result"
    }
   ],
   "source": [
    "# 3-bus no cycle simple case\n",
    "\n",
    "net = pp.create_empty_network(sn_mva=1)\n",
    "\n",
    "# buses\n",
    "pp.create_bus(net, vn_kv=1, max_vm_pu=1.1, min_vm_pu=0.9, index=0)\n",
    "pp.create_bus(net, vn_kv=1, max_vm_pu=1.1, min_vm_pu=0.9, index=1)\n",
    "pp.create_bus(net, vn_kv=1, max_vm_pu=1.1, min_vm_pu=0.9, index=2)\n",
    "\n",
    "#lines\n",
    "pp.create_line_from_parameters(net, 0, 1, length_km=1, r_ohm_per_km=5, x_ohm_per_km=2, c_nf_per_km=0, max_i_ka=0, index=0)\n",
    "pp.create_line_from_parameters(net, 2, 0, length_km=1, r_ohm_per_km=1, x_ohm_per_km=1, c_nf_per_km=0, max_i_ka=0, index=1)\n",
    "\n",
    "# generators\n",
    "pp.create_ext_grid(net, 0, max_p_mw=1, min_p_mw=0, max_q_mvar=1, min_q_mvar=-1, index=0)\n",
    "pp.create_poly_cost(net, 0, \"ext_grid\", cp1_eur_per_mw=1, cp0_eur=0, cq1_eur_per_mvar=0, cq0_eur=0, cp2_eur_per_mw2=0, cq2_eur_per_mvar2=0, index=None)\n",
    "\n",
    "# loads\n",
    "pp.create_load(net, 1, p_mw=0.01, q_mvar=0, index=0)\n",
    "pp.create_load(net, 2, p_mw=0.01, q_mvar=0, index=1)"
   ]
  },
  {
   "cell_type": "code",
   "execution_count": 499,
   "id": "c670974d",
   "metadata": {},
   "outputs": [],
   "source": [
    "# # 3-bus simple case\n",
    "\n",
    "# net = pp.create_empty_network(sn_mva=1)\n",
    "\n",
    "# # buses\n",
    "# pp.create_bus(net, vn_kv=1, max_vm_pu=1.1, min_vm_pu=0.9, index=0)\n",
    "# pp.create_bus(net, vn_kv=1, max_vm_pu=1.1, min_vm_pu=0.9, index=1)\n",
    "# pp.create_bus(net, vn_kv=1, max_vm_pu=1.1, min_vm_pu=0.9, index=2)\n",
    "\n",
    "# #lines\n",
    "# pp.create_line_from_parameters(net, 0, 1, length_km=1, r_ohm_per_km=1, x_ohm_per_km=1, c_nf_per_km=0, max_i_ka=0, index=0)\n",
    "# pp.create_line_from_parameters(net, 1, 2, length_km=1, r_ohm_per_km=1, x_ohm_per_km=1, c_nf_per_km=0, max_i_ka=0, index=1)\n",
    "# pp.create_line_from_parameters(net, 2, 0, length_km=1, r_ohm_per_km=1, x_ohm_per_km=1, c_nf_per_km=0, max_i_ka=0, index=2)\n",
    "\n",
    "# # generators\n",
    "# pp.create_ext_grid(net, 0, max_p_mw=1, min_p_mw=0, max_q_mvar=1, min_q_mvar=-1, index=0)\n",
    "# pp.create_poly_cost(net, 0, \"ext_grid\", cp1_eur_per_mw=1, cp0_eur=0, cq1_eur_per_mvar=0, cq0_eur=0, cp2_eur_per_mw2=0, cq2_eur_per_mvar2=0, index=None)\n",
    "\n",
    "# # loads\n",
    "# pp.create_load(net, 1, p_mw=0.01, q_mvar=0, index=0)\n",
    "# pp.create_load(net, 2, p_mw=0.01, q_mvar=0, index=1)"
   ]
  },
  {
   "cell_type": "code",
   "execution_count": 500,
   "id": "1ecb9741",
   "metadata": {
    "scrolled": true
   },
   "outputs": [
    {
     "name": "stderr",
     "output_type": "stream",
     "text": [
      "No or insufficient geodata available --> Creating artificial coordinates. This may take some time\n"
     ]
    },
    {
     "data": {
      "image/png": "[encoded data removed]",
      "text/plain": [
       "<Figure size 720x576 with 1 Axes>"
      ]
     },
     "metadata": {},
     "output_type": "display_data"
    },
    {
     "data": {
      "text/plain": [
       "<AxesSubplot:>"
      ]
     },
     "execution_count": 500,
     "metadata": {},
     "output_type": "execute_result"
    }
   ],
   "source": [
    "simple_plot(net, plot_loads=True, plot_sgens=True)"
   ]
  },
  {
   "cell_type": "code",
   "execution_count": 501,
   "id": "03d67723",
   "metadata": {},
   "outputs": [],
   "source": [
    "n = len(net.bus)"
   ]
  },
  {
   "cell_type": "markdown",
   "id": "778e9553",
   "metadata": {},
   "source": [
    "#### Generators"
   ]
  },
  {
   "cell_type": "code",
   "execution_count": 502,
   "id": "22c56687",
   "metadata": {},
   "outputs": [],
   "source": [
    "gen_df_list = []\n",
    "gen_name_list = [\"gen\", \"sgen\", \"ext_grid\"]\n",
    "data_col_list = [\"bus\", \"max_p_mw\", \"min_p_mw\", \"max_q_mvar\", \"min_q_mvar\"]\n",
    "\n",
    "for gen_name in gen_name_list:\n",
    "    if not net[gen_name].empty:\n",
    "        # get a table of cost coefficients only for the current type of generators\n",
    "        gen_name_poly_cost = net.poly_cost.loc[net.poly_cost.et == gen_name].set_index(\"element\")\n",
    "        # get a table of cost coefficients and power bounds only for the current type of generators\n",
    "        gen_name_df = net[gen_name][data_col_list].join(gen_name_poly_cost)\n",
    "        gen_df_list.append(gen_name_df)\n",
    "\n",
    "# combine tables for all types of generators\n",
    "gen_df = pd.concat(gen_df_list).reset_index()\n",
    "n_gen = len(gen_df)"
   ]
  },
  {
   "cell_type": "code",
   "execution_count": 503,
   "id": "108b7cbe",
   "metadata": {},
   "outputs": [
    {
     "data": {
      "text/html": [
       "<div>\n",
       "<style scoped>\n",
       "    .dataframe tbody tr th:only-of-type {\n",
       "        vertical-align: middle;\n",
       "    }\n",
       "\n",
       "    .dataframe tbody tr th {\n",
       "        vertical-align: top;\n",
       "    }\n",
       "\n",
       "    .dataframe thead th {\n",
       "        text-align: right;\n",
       "    }\n",
       "</style>\n",
       "<table border=\"1\" class=\"dataframe\">\n",
       "  <thead>\n",
       "    <tr style=\"text-align: right;\">\n",
       "      <th></th>\n",
       "      <th>index</th>\n",
       "      <th>bus</th>\n",
       "      <th>max_p_mw</th>\n",
       "      <th>min_p_mw</th>\n",
       "      <th>max_q_mvar</th>\n",
       "      <th>min_q_mvar</th>\n",
       "      <th>et</th>\n",
       "      <th>cp0_eur</th>\n",
       "      <th>cp1_eur_per_mw</th>\n",
       "      <th>cp2_eur_per_mw2</th>\n",
       "      <th>cq0_eur</th>\n",
       "      <th>cq1_eur_per_mvar</th>\n",
       "      <th>cq2_eur_per_mvar2</th>\n",
       "    </tr>\n",
       "  </thead>\n",
       "  <tbody>\n",
       "    <tr>\n",
       "      <th>0</th>\n",
       "      <td>0</td>\n",
       "      <td>0</td>\n",
       "      <td>1.0</td>\n",
       "      <td>0.0</td>\n",
       "      <td>1.0</td>\n",
       "      <td>-1.0</td>\n",
       "      <td>ext_grid</td>\n",
       "      <td>0.0</td>\n",
       "      <td>1.0</td>\n",
       "      <td>0.0</td>\n",
       "      <td>0.0</td>\n",
       "      <td>0.0</td>\n",
       "      <td>0.0</td>\n",
       "    </tr>\n",
       "  </tbody>\n",
       "</table>\n",
       "</div>"
      ],
      "text/plain": [
       "   index  bus  max_p_mw  min_p_mw  max_q_mvar  min_q_mvar        et  cp0_eur  \\\n",
       "0      0    0       1.0       0.0         1.0        -1.0  ext_grid      0.0   \n",
       "\n",
       "   cp1_eur_per_mw  cp2_eur_per_mw2  cq0_eur  cq1_eur_per_mvar  \\\n",
       "0             1.0              0.0      0.0               0.0   \n",
       "\n",
       "   cq2_eur_per_mvar2  \n",
       "0                0.0  "
      ]
     },
     "execution_count": 503,
     "metadata": {},
     "output_type": "execute_result"
    }
   ],
   "source": [
    "gen_df"
   ]
  },
  {
   "cell_type": "markdown",
   "id": "fe55fdc3",
   "metadata": {},
   "source": [
    "#### Bus loads"
   ]
  },
  {
   "cell_type": "code",
   "execution_count": 504,
   "id": "a553c78d",
   "metadata": {},
   "outputs": [],
   "source": [
    "load_df = net.bus.join(net.load[[\"bus\", \"p_mw\", \"q_mvar\"]].set_index(\"bus\")).fillna(0)[[\"p_mw\", \"q_mvar\"]]"
   ]
  },
  {
   "cell_type": "code",
   "execution_count": 505,
   "id": "07e3ce73",
   "metadata": {},
   "outputs": [
    {
     "data": {
      "text/html": [
       "<div>\n",
       "<style scoped>\n",
       "    .dataframe tbody tr th:only-of-type {\n",
       "        vertical-align: middle;\n",
       "    }\n",
       "\n",
       "    .dataframe tbody tr th {\n",
       "        vertical-align: top;\n",
       "    }\n",
       "\n",
       "    .dataframe thead th {\n",
       "        text-align: right;\n",
       "    }\n",
       "</style>\n",
       "<table border=\"1\" class=\"dataframe\">\n",
       "  <thead>\n",
       "    <tr style=\"text-align: right;\">\n",
       "      <th></th>\n",
       "      <th>p_mw</th>\n",
       "      <th>q_mvar</th>\n",
       "    </tr>\n",
       "  </thead>\n",
       "  <tbody>\n",
       "    <tr>\n",
       "      <th>0</th>\n",
       "      <td>0.00</td>\n",
       "      <td>0.0</td>\n",
       "    </tr>\n",
       "    <tr>\n",
       "      <th>1</th>\n",
       "      <td>0.01</td>\n",
       "      <td>0.0</td>\n",
       "    </tr>\n",
       "    <tr>\n",
       "      <th>2</th>\n",
       "      <td>0.01</td>\n",
       "      <td>0.0</td>\n",
       "    </tr>\n",
       "  </tbody>\n",
       "</table>\n",
       "</div>"
      ],
      "text/plain": [
       "   p_mw  q_mvar\n",
       "0  0.00     0.0\n",
       "1  0.01     0.0\n",
       "2  0.01     0.0"
      ]
     },
     "execution_count": 505,
     "metadata": {},
     "output_type": "execute_result"
    }
   ],
   "source": [
    "load_df"
   ]
  },
  {
   "cell_type": "markdown",
   "id": "ed0a038a",
   "metadata": {},
   "source": [
    "#### Admittance matrices"
   ]
  },
  {
   "cell_type": "code",
   "execution_count": 506,
   "id": "e3760657",
   "metadata": {},
   "outputs": [],
   "source": [
    "# obtain a NetworkX Graph from the network, with each edge containing p.u. impedance data\n",
    "graph = pp.topology.create_nxgraph(net, multi=False, calc_branch_impedances=True, branch_impedance_unit=\"pu\")\n",
    "\n",
    "# np.array((net.line['r_ohm_per_km'] * net.line['length_km'] * net.sn_mva * 1e6 / net.line['parallel'])) / ((net.bus.loc[net.line.from_bus.values, \"vn_kv\"].values * 1e3) ** 2)"
   ]
  },
  {
   "cell_type": "code",
   "execution_count": 507,
   "id": "a9744768",
   "metadata": {},
   "outputs": [],
   "source": [
    "G_val = np.zeros((n,n))\n",
    "B_val = np.zeros((n,n))\n",
    "for i,j in graph.edges:\n",
    "    edge = graph.edges[(i,j)]\n",
    "    r = edge[\"r_pu\"]\n",
    "    x = edge[\"x_pu\"]\n",
    "    z = r + x*1j\n",
    "    y = np.reciprocal(z)\n",
    "    G_val[i][j] = G_val[j][i] = -np.real(y)\n",
    "    B_val[i][j] = B_val[j][i] = -np.imag(y)"
   ]
  },
  {
   "cell_type": "code",
   "execution_count": 508,
   "id": "3c7ef2b1",
   "metadata": {},
   "outputs": [],
   "source": [
    "G_row_sums = np.sum(G_val, axis=1)\n",
    "B_row_sums = np.sum(B_val, axis=1)\n",
    "for i in range(n):\n",
    "    shunt_row = net.shunt.loc[net.shunt[\"bus\"] == i]\n",
    "    g = 0  # shunt conductance\n",
    "    b = 0  # shunt susceptance\n",
    "    # if both are 0, there will be no data in the shunt dataframe\n",
    "    if not shunt_row.empty:\n",
    "        # TODO: figure out how to compute from data\n",
    "        g = shunt_row[\"p_mw\"].to_numpy()[0]\n",
    "        b = -shunt_row[\"q_mvar\"].to_numpy()[0]  # FIXME: shunt susceptance is negative as in original data?\n",
    "    G_val[i][i] = g - G_row_sums[i]\n",
    "    B_val[i][i] = b - B_row_sums[i]"
   ]
  },
  {
   "cell_type": "code",
   "execution_count": 509,
   "id": "01d15db5",
   "metadata": {},
   "outputs": [
    {
     "data": {
      "text/html": [
       "<div>\n",
       "<style scoped>\n",
       "    .dataframe tbody tr th:only-of-type {\n",
       "        vertical-align: middle;\n",
       "    }\n",
       "\n",
       "    .dataframe tbody tr th {\n",
       "        vertical-align: top;\n",
       "    }\n",
       "\n",
       "    .dataframe thead th {\n",
       "        text-align: right;\n",
       "    }\n",
       "</style>\n",
       "<table border=\"1\" class=\"dataframe\">\n",
       "  <thead>\n",
       "    <tr style=\"text-align: right;\">\n",
       "      <th></th>\n",
       "      <th>name</th>\n",
       "      <th>std_type</th>\n",
       "      <th>from_bus</th>\n",
       "      <th>to_bus</th>\n",
       "      <th>length_km</th>\n",
       "      <th>r_ohm_per_km</th>\n",
       "      <th>x_ohm_per_km</th>\n",
       "      <th>c_nf_per_km</th>\n",
       "      <th>g_us_per_km</th>\n",
       "      <th>max_i_ka</th>\n",
       "      <th>df</th>\n",
       "      <th>parallel</th>\n",
       "      <th>type</th>\n",
       "      <th>in_service</th>\n",
       "    </tr>\n",
       "  </thead>\n",
       "  <tbody>\n",
       "    <tr>\n",
       "      <th>0</th>\n",
       "      <td>None</td>\n",
       "      <td>None</td>\n",
       "      <td>0</td>\n",
       "      <td>1</td>\n",
       "      <td>1.0</td>\n",
       "      <td>5.0</td>\n",
       "      <td>2.0</td>\n",
       "      <td>0.0</td>\n",
       "      <td>0.0</td>\n",
       "      <td>0.0</td>\n",
       "      <td>1.0</td>\n",
       "      <td>1</td>\n",
       "      <td>None</td>\n",
       "      <td>True</td>\n",
       "    </tr>\n",
       "    <tr>\n",
       "      <th>1</th>\n",
       "      <td>None</td>\n",
       "      <td>None</td>\n",
       "      <td>2</td>\n",
       "      <td>0</td>\n",
       "      <td>1.0</td>\n",
       "      <td>1.0</td>\n",
       "      <td>1.0</td>\n",
       "      <td>0.0</td>\n",
       "      <td>0.0</td>\n",
       "      <td>0.0</td>\n",
       "      <td>1.0</td>\n",
       "      <td>1</td>\n",
       "      <td>None</td>\n",
       "      <td>True</td>\n",
       "    </tr>\n",
       "  </tbody>\n",
       "</table>\n",
       "</div>"
      ],
      "text/plain": [
       "   name std_type  from_bus  to_bus  length_km  r_ohm_per_km  x_ohm_per_km  \\\n",
       "0  None     None         0       1        1.0           5.0           2.0   \n",
       "1  None     None         2       0        1.0           1.0           1.0   \n",
       "\n",
       "   c_nf_per_km  g_us_per_km  max_i_ka   df  parallel  type  in_service  \n",
       "0          0.0          0.0       0.0  1.0         1  None        True  \n",
       "1          0.0          0.0       0.0  1.0         1  None        True  "
      ]
     },
     "execution_count": 509,
     "metadata": {},
     "output_type": "execute_result"
    }
   ],
   "source": [
    "net.line"
   ]
  },
  {
   "cell_type": "code",
   "execution_count": 510,
   "id": "ee5605f1",
   "metadata": {},
   "outputs": [],
   "source": [
    "# obtain a NetworkX Graph from the network, with each edge containing p.u. impedance data\n",
    "graph = pp.topology.create_nxgraph(net, multi=False, calc_branch_impedances=True, branch_impedance_unit=\"pu\")\n",
    "\n",
    "# np.array((net.line['r_ohm_per_km'] * net.line['length_km'] * net.sn_mva * 1e6 / net.line['parallel'])) / ((net.bus.loc[net.line.from_bus.values, \"vn_kv\"].values * 1e3) ** 2)"
   ]
  },
  {
   "cell_type": "code",
   "execution_count": 511,
   "id": "6f9d7f1a",
   "metadata": {},
   "outputs": [
    {
     "data": {
      "text/plain": [
       "EdgeDataView([(0, 1, {'key': ('line', 0), 'weight': 1.0, 'path': 1, 'r_pu': 5.0, 'x_pu': 2.0, 'z_pu': 5.385164807134504}), (0, 2, {'key': ('line', 1), 'weight': 1.0, 'path': 1, 'r_pu': 1.0, 'x_pu': 1.0, 'z_pu': 1.4142135623730951})])"
      ]
     },
     "execution_count": 511,
     "metadata": {},
     "output_type": "execute_result"
    }
   ],
   "source": [
    "graph.edges(data=True)"
   ]
  },
  {
   "cell_type": "code",
   "execution_count": 512,
   "id": "64863c18",
   "metadata": {},
   "outputs": [
    {
     "data": {
      "text/plain": [
       "array([[ 0.67241379, -0.17241379, -0.5       ],\n",
       "       [-0.17241379,  0.17241379,  0.        ],\n",
       "       [-0.5       ,  0.        ,  0.5       ]])"
      ]
     },
     "execution_count": 512,
     "metadata": {},
     "output_type": "execute_result"
    }
   ],
   "source": [
    "G_val"
   ]
  },
  {
   "cell_type": "code",
   "execution_count": 513,
   "id": "f2690fbe",
   "metadata": {},
   "outputs": [
    {
     "data": {
      "text/plain": [
       "array([[-0.56896552,  0.06896552,  0.5       ],\n",
       "       [ 0.06896552, -0.06896552,  0.        ],\n",
       "       [ 0.5       ,  0.        , -0.5       ]])"
      ]
     },
     "execution_count": 513,
     "metadata": {},
     "output_type": "execute_result"
    }
   ],
   "source": [
    "B_val"
   ]
  },
  {
   "cell_type": "markdown",
   "id": "9ba53658",
   "metadata": {},
   "source": [
    "## Variables"
   ]
  },
  {
   "cell_type": "code",
   "execution_count": 514,
   "id": "935226d1",
   "metadata": {},
   "outputs": [],
   "source": [
    "# X = VV*\n",
    "X = cp.Variable((n,n), hermitian=True)\n",
    "# active power generated\n",
    "p_g = cp.Variable((n_gen, 1))\n",
    "# reactive power generated\n",
    "q_g = cp.Variable((n_gen, 1))"
   ]
  },
  {
   "cell_type": "markdown",
   "id": "f50e65a8",
   "metadata": {},
   "source": [
    "## Parameters"
   ]
  },
  {
   "cell_type": "code",
   "execution_count": 515,
   "id": "5dc4a606",
   "metadata": {},
   "outputs": [],
   "source": [
    "p_d_val = load_df[[\"p_mw\"]].to_numpy() / net.sn_mva\n",
    "q_d_val = load_df[[\"q_mvar\"]].to_numpy() / net.sn_mva"
   ]
  },
  {
   "cell_type": "code",
   "execution_count": 516,
   "id": "e739e22e",
   "metadata": {},
   "outputs": [],
   "source": [
    "# loads\n",
    "p_d = cp.Parameter((n,1), nonneg=True, value=p_d_val)\n",
    "q_d = cp.Parameter((n,1), nonneg=True, value=q_d_val)\n",
    "\n",
    "# admittance matrices\n",
    "G = cp.Parameter((n,n), symmetric=True, value=G_val)\n",
    "B = cp.Parameter((n,n), symmetric=True, value=B_val)\n",
    "\n",
    "# squares of voltage bounds\n",
    "V_min_sq = cp.Parameter((n), nonneg=True, value=np.square(net.bus[\"min_vm_pu\"].to_numpy()))\n",
    "V_max_sq = cp.Parameter((n), nonneg=True, value=np.square(net.bus[\"max_vm_pu\"].to_numpy()))\n",
    "\n",
    "# bounds for generated power\n",
    "p_min = cp.Parameter((n_gen,1), value=gen_df[[\"min_p_mw\"]].to_numpy() / net.sn_mva)\n",
    "p_max = cp.Parameter((n_gen,1), value=gen_df[[\"max_p_mw\"]].to_numpy() / net.sn_mva)\n",
    "q_min = cp.Parameter((n_gen,1), value=gen_df[[\"min_q_mvar\"]].to_numpy() / net.sn_mva)\n",
    "q_max = cp.Parameter((n_gen,1), value=gen_df[[\"max_q_mvar\"]].to_numpy() / net.sn_mva)"
   ]
  },
  {
   "cell_type": "code",
   "execution_count": 517,
   "id": "06f1d7ce",
   "metadata": {},
   "outputs": [],
   "source": [
    "# vectors of cost coefficients: c_[p or q]_[power]\n",
    "\n",
    "c_p_2 = cp.Parameter((n_gen), value=gen_df[\"cp2_eur_per_mw2\"].to_numpy(), nonneg=True)\n",
    "c_p_1 = cp.Parameter((n_gen), value=gen_df[\"cp1_eur_per_mw\"].to_numpy(), nonneg=True)\n",
    "c_p_0 = cp.Parameter((n_gen), value=gen_df[\"cp0_eur\"].to_numpy(), nonneg=True)\n",
    "\n",
    "c_q_2 = cp.Parameter((n_gen), value=gen_df[\"cq2_eur_per_mvar2\"].to_numpy(), nonneg=True)\n",
    "c_q_1 = cp.Parameter((n_gen), value=gen_df[\"cq1_eur_per_mvar\"].to_numpy(), nonneg=True)\n",
    "c_q_0 = cp.Parameter((n_gen), value=gen_df[\"cp0_eur\"].to_numpy(), nonneg=True)"
   ]
  },
  {
   "cell_type": "markdown",
   "id": "f28cb541",
   "metadata": {},
   "source": [
    "## Constraints"
   ]
  },
  {
   "cell_type": "code",
   "execution_count": 518,
   "id": "c3940ec9",
   "metadata": {},
   "outputs": [],
   "source": [
    "constraints = [X >> 0]"
   ]
  },
  {
   "cell_type": "code",
   "execution_count": 519,
   "id": "507bdb93",
   "metadata": {},
   "outputs": [],
   "source": [
    "for i in range(n):\n",
    "    gen_list = gen_df.loc[gen_df[\"bus\"] == i].index.to_numpy()\n",
    "    constraints += [\n",
    "        cp.sum([p_g[k] for k in gen_list]) - p_d[i] == G[i][i] * X[i][i] +\n",
    "        cp.sum([G[i][j] * cp.real(X[i][j]) + B[i][j] * cp.imag(X[i][j]) for j in graph.neighbors(i)])\n",
    "    ]\n",
    "    constraints += [\n",
    "        cp.sum([q_g[k] for k in gen_list]) - q_d[i] == -B[i][i] * X[i][i] +\n",
    "        cp.sum([-B[i][j] * cp.real(X[i][j]) + G[i][j] * cp.imag(X[i][j]) for j in graph.neighbors(i)])\n",
    "    ]"
   ]
  },
  {
   "cell_type": "code",
   "execution_count": 520,
   "id": "f768a0e0",
   "metadata": {},
   "outputs": [],
   "source": [
    "constraints += [\n",
    "    cp.real(cp.diag(X)) >= V_min_sq,\n",
    "    cp.real(cp.diag(X)) <= V_max_sq\n",
    "]"
   ]
  },
  {
   "cell_type": "code",
   "execution_count": 521,
   "id": "5d295ada",
   "metadata": {},
   "outputs": [],
   "source": [
    "constraints += [ X[0][0] == 1 ]"
   ]
  },
  {
   "cell_type": "code",
   "execution_count": 522,
   "id": "3488102f",
   "metadata": {},
   "outputs": [],
   "source": [
    "constraints += [\n",
    "    p_g >= p_min,\n",
    "    p_g <= p_max,\n",
    "    q_g >= q_min,\n",
    "    q_g <= q_max\n",
    "]"
   ]
  },
  {
   "cell_type": "markdown",
   "id": "57f4b86b",
   "metadata": {},
   "source": [
    "## Solving"
   ]
  },
  {
   "cell_type": "code",
   "execution_count": 523,
   "id": "7f31061c",
   "metadata": {},
   "outputs": [],
   "source": [
    "p_cost = cp.sum(c_p_2 @ cp.square(p_g) + c_p_1 @ p_g + c_p_0)\n",
    "q_cost = cp.sum(c_q_2 @ cp.square(q_g) + c_q_1 @ q_g + c_q_0)"
   ]
  },
  {
   "cell_type": "code",
   "execution_count": 524,
   "id": "519d88f8",
   "metadata": {},
   "outputs": [],
   "source": [
    "prob = cp.Problem(cp.Minimize(p_cost + q_cost), constraints)"
   ]
  },
  {
   "cell_type": "code",
   "execution_count": 525,
   "id": "3feb6067",
   "metadata": {},
   "outputs": [
    {
     "data": {
      "text/plain": [
       "True"
      ]
     },
     "execution_count": 525,
     "metadata": {},
     "output_type": "execute_result"
    }
   ],
   "source": [
    "prob.is_dcp()"
   ]
  },
  {
   "cell_type": "code",
   "execution_count": 526,
   "id": "a57555ea",
   "metadata": {},
   "outputs": [
    {
     "data": {
      "text/plain": [
       "True"
      ]
     },
     "execution_count": 526,
     "metadata": {},
     "output_type": "execute_result"
    }
   ],
   "source": [
    "prob.is_dpp()"
   ]
  },
  {
   "cell_type": "code",
   "execution_count": 527,
   "id": "b7eeaf40",
   "metadata": {},
   "outputs": [
    {
     "name": "stdout",
     "output_type": "stream",
     "text": [
      "The optimal value is 0.020659620917742524\n"
     ]
    }
   ],
   "source": [
    "prob.solve()\n",
    "\n",
    "# Print result.\n",
    "print(\"The optimal value is\", prob.value)\n",
    "# print(\"A solution X is\")\n",
    "# print(X.value)"
   ]
  },
  {
   "cell_type": "code",
   "execution_count": 528,
   "id": "4d8796c4",
   "metadata": {},
   "outputs": [
    {
     "data": {
      "text/plain": [
       "array([[1.        +0.j        , 0.94676616+0.02j      ,\n",
       "        0.98979588+0.01j      ],\n",
       "       [0.94676616-0.02j      , 0.89676616+0.j        ,\n",
       "        0.93730524-0.01032826j],\n",
       "       [0.98979588-0.01j      , 0.93730524+0.01032826j,\n",
       "        0.97979588+0.j        ]])"
      ]
     },
     "execution_count": 528,
     "metadata": {},
     "output_type": "execute_result"
    }
   ],
   "source": [
    "X.value"
   ]
  },
  {
   "cell_type": "code",
   "execution_count": 529,
   "id": "867257da",
   "metadata": {},
   "outputs": [
    {
     "name": "stdout",
     "output_type": "stream",
     "text": [
      "3\n",
      "2\n"
     ]
    }
   ],
   "source": [
    "print(np.linalg.matrix_rank(np.real(X.value)))\n",
    "print(np.linalg.matrix_rank(np.imag(X.value)))"
   ]
  },
  {
   "cell_type": "code",
   "execution_count": 530,
   "id": "96fba46f",
   "metadata": {},
   "outputs": [
    {
     "data": {
      "text/plain": [
       "array([5.62340027e-11, 7.79406392e-11, 2.87656203e+00])"
      ]
     },
     "execution_count": 530,
     "metadata": {},
     "output_type": "execute_result"
    }
   ],
   "source": [
    "np.abs(np.linalg.eigvalsh(X.value))"
   ]
  },
  {
   "cell_type": "code",
   "execution_count": 531,
   "id": "c2e15305",
   "metadata": {},
   "outputs": [
    {
     "name": "stdout",
     "output_type": "stream",
     "text": [
      "[[0.02065962]]\n",
      "[[0.00032509]]\n"
     ]
    }
   ],
   "source": [
    "print(p_g.value)\n",
    "print(q_g.value)"
   ]
  },
  {
   "cell_type": "code",
   "execution_count": 532,
   "id": "02de3c44",
   "metadata": {},
   "outputs": [
    {
     "data": {
      "text/plain": [
       "'optimal'"
      ]
     },
     "execution_count": 532,
     "metadata": {},
     "output_type": "execute_result"
    }
   ],
   "source": [
    "prob.status"
   ]
  },
  {
   "cell_type": "markdown",
   "id": "d3ffcd6b",
   "metadata": {},
   "source": [
    "### Verify case9"
   ]
  },
  {
   "cell_type": "code",
   "execution_count": 533,
   "id": "c6d00ab7",
   "metadata": {},
   "outputs": [],
   "source": [
    "X_test = np.array([[1.        +0.j        , 1.05706826-0.08676232j,\n",
    "        1.0411801 -0.05356282j, 1.0035424 +0.05190931j,\n",
    "        1.00036631+0.08488358j, 1.04615197-0.0007294j ,\n",
    "        1.03519631+0.03524898j, 1.04886716-0.00657526j,\n",
    "        0.98652073+0.09642342j],\n",
    "       [1.05706826+0.08676232j, 1.124921  +0.j        ,\n",
    "        1.10524567+0.03371564j, 1.05630904+0.14194135j,\n",
    "        1.05009077+0.17652184j, 1.10591733+0.08999554j,\n",
    "        1.09121487+0.12707661j, 1.10929467+0.08405165j,\n",
    "        1.03445383+0.18751897j],\n",
    "       [1.0411801 +0.05356282j, 1.10524567-0.03371564j,\n",
    "        1.08692498+0.j        , 1.04208797+0.1077995j ,\n",
    "        1.03701489+0.14196154j, 1.08927168+0.05527541j,\n",
    "        1.07593776+0.09214858j, 1.09241181+0.04933426j,\n",
    "        1.02198104+0.15323499j],\n",
    "       [1.0035424 -0.05190931j, 1.05630904-0.14194135j,\n",
    "        1.04208797-0.1077995j , 1.00979192+0.j        ,\n",
    "        1.00831625+0.03325595j, 1.04982   -0.05503701j,\n",
    "        1.04069314-0.01836248j, 1.05224135-0.06104452j,\n",
    "        0.99502065+0.04555538j],\n",
    "       [1.00036631-0.08488358j, 1.05009077-0.17652184j,\n",
    "        1.03701489-0.14196154j, 1.00831625-0.03325595j,\n",
    "        1.00793797+0.j        , 1.04647327-0.08953079j,\n",
    "        1.03856757-0.05260927j, 1.04869324-0.09560926j,\n",
    "        0.99506686+0.01271933j],\n",
    "       [1.04615197+0.0007294j , 1.10591733-0.08999554j,\n",
    "        1.08927168-0.05527541j, 1.04982   +0.05503701j,\n",
    "        1.04647327+0.08953079j, 1.09443448+0.j        ,\n",
    "        1.08294695+0.03763087j, 1.09727924-0.00611367j,\n",
    "        1.03198027+0.10159313j],\n",
    "       [1.03519631-0.03524898j, 1.09121487-0.12707661j,\n",
    "        1.07593776-0.09214858j, 1.04069314+0.01836248j,\n",
    "        1.03856757+0.05260927j, 1.08294695-0.03763087j,\n",
    "        1.07287388+0.j        , 1.08555164-0.04377818j,\n",
    "        1.02464144+0.06504332j],\n",
    "       [1.04886716+0.00657526j, 1.10929467-0.08405165j,\n",
    "        1.09241181-0.04933426j, 1.05224135+0.06104452j,\n",
    "        1.04869324+0.09560926j, 1.09727924+0.00611367j,\n",
    "        1.08555164+0.04377818j, 1.10016556+0.j        ,\n",
    "        1.03409519+0.10762199j],\n",
    "       [0.98652073-0.09642342j, 1.03445383-0.18751897j,\n",
    "        1.02198104-0.15323499j, 0.99502065-0.04555538j,\n",
    "        0.99506686-0.01271933j, 1.03198027-0.10159313j,\n",
    "        1.02464144-0.06504332j, 1.03409519-0.10762199j,\n",
    "        0.98252062+0.j        ]])"
   ]
  },
  {
   "cell_type": "code",
   "execution_count": 534,
   "id": "22040bd6",
   "metadata": {},
   "outputs": [],
   "source": [
    "pq_g_test = np.array([[134.48264792,  25.00212836],\n",
    "       [ 94.32664507,  -4.00461669],\n",
    "       [ 90.12033073,  -6.1499994 ]]) / net.sn_mva"
   ]
  },
  {
   "cell_type": "code",
   "execution_count": 535,
   "id": "465ab7b2",
   "metadata": {},
   "outputs": [
    {
     "name": "stdout",
     "output_type": "stream",
     "text": [
      "active 0\n",
      "[134.48264792]\n",
      "(-0.06319442344827586+0j)\n",
      "reactive 0\n",
      "[25.00212836]\n",
      "(0.017214638620689615+0j)\n",
      "active 1\n",
      "[-0.01]\n",
      "(0.01768235655172412+0j)\n",
      "reactive 1\n",
      "[0.]\n",
      "(-0.010279521379310347+0j)\n",
      "active 2\n",
      "[-0.01]\n",
      "(0.04965385+0j)\n",
      "reactive 2\n",
      "[0.]\n",
      "(-0.003908970000000012+0j)\n"
     ]
    }
   ],
   "source": [
    "for i in range(n):\n",
    "    gen_list = gen_df.loc[gen_df[\"bus\"] == i].index.to_numpy()\n",
    "    print(\"active %d\"  %(i))\n",
    "    print(np.sum([pq_g_test[k, 0] for k in gen_list]) - p_d_val[i])\n",
    "    print(G_val[i][i] * X_test[i][i] + np.sum([G_val[i][j] * np.real(X_test[i][j]) + B_val[i][j] * np.imag(X_test[i][j]) for j in graph.neighbors(i)]))\n",
    "    print(\"reactive %d\"  %(i))\n",
    "    print(np.sum([pq_g_test[k, 1] for k in gen_list]) - q_d_val[i])\n",
    "    print(-B_val[i][i] * X_test[i][i] + np.sum([-B_val[i][j] * np.real(X_test[i][j]) + G_val[i][j] * np.imag(X_test[i][j]) for j in graph.neighbors(i)]))"
   ]
  },
  {
   "cell_type": "code",
   "execution_count": 536,
   "id": "89d48dbd",
   "metadata": {},
   "outputs": [
    {
     "name": "stdout",
     "output_type": "stream",
     "text": [
      "[0.99931147+0.j]\n",
      "[inf+nanj]\n",
      "[inf+nanj]\n"
     ]
    },
    {
     "name": "stderr",
     "output_type": "stream",
     "text": [
      "/tmp/ipykernel_3973/2328657000.py:3: RuntimeWarning: divide by zero encountered in true_divide\n",
      "  print((np.sum([pq_g_test[k, 1] for k in gen_list]) - q_d_val[i]- (-B_val[i][i] * X_test[i][i] + np.sum([-B_val[i][j] * np.real(X_test[i][j]) + G_val[i][j] * np.imag(X_test[i][j]) for j in graph.neighbors(i)])))/(np.sum([pq_g_test[k, 1] for k in gen_list]) - q_d_val[i]))\n",
      "/tmp/ipykernel_3973/2328657000.py:3: RuntimeWarning: invalid value encountered in true_divide\n",
      "  print((np.sum([pq_g_test[k, 1] for k in gen_list]) - q_d_val[i]- (-B_val[i][i] * X_test[i][i] + np.sum([-B_val[i][j] * np.real(X_test[i][j]) + G_val[i][j] * np.imag(X_test[i][j]) for j in graph.neighbors(i)])))/(np.sum([pq_g_test[k, 1] for k in gen_list]) - q_d_val[i]))\n"
     ]
    }
   ],
   "source": [
    "for i in range(n):\n",
    "    gen_list = gen_df.loc[gen_df[\"bus\"] == i].index.to_numpy()\n",
    "    print((np.sum([pq_g_test[k, 1] for k in gen_list]) - q_d_val[i]- (-B_val[i][i] * X_test[i][i] + np.sum([-B_val[i][j] * np.real(X_test[i][j]) + G_val[i][j] * np.imag(X_test[i][j]) for j in graph.neighbors(i)])))/(np.sum([pq_g_test[k, 1] for k in gen_list]) - q_d_val[i]))"
   ]
  },
  {
   "cell_type": "markdown",
   "id": "2bcdbd1c",
   "metadata": {},
   "source": [
    "### Verify case6ww"
   ]
  },
  {
   "cell_type": "code",
   "execution_count": 537,
   "id": "127c09ae",
   "metadata": {},
   "outputs": [],
   "source": [
    "X_test = np.array([[1.1025    +0.j        , 1.10217827+0.02663309j,\n",
    "        1.123092  +0.03027538j, 1.03598829+0.04829751j,\n",
    "        1.03224624+0.06220358j, 1.05293071+0.06416317j],\n",
    "       [1.10217827-0.02663309j, 1.1025    +0.j        ,\n",
    "        1.12349562+0.00313601j, 1.03685269+0.02325704j,\n",
    "        1.03344766+0.03724945j, 1.05417343+0.0387088j ],\n",
    "       [1.123092  -0.03027538j, 1.12349562-0.00313601j,\n",
    "        1.1449    +0.j        , 1.0566643 +0.02075067j,\n",
    "        1.05323423+0.03501923j, 1.07435885+0.03644741j],\n",
    "       [1.03598829-0.04829751j, 1.03685269-0.02325704j,\n",
    "        1.0566643 -0.02075067j, 0.97560489+0.j        ,\n",
    "        0.97269778+0.01323107j, 0.99222024+0.01416632j],\n",
    "       [1.03224624-0.06220358j, 1.03344766-0.03724945j,\n",
    "        1.05323423-0.03501923j, 0.97269778-0.01323107j,\n",
    "        0.96997877+0.j        , 0.98945574+0.00066769j],\n",
    "       [1.05293071-0.06416317j, 1.05417343-0.0387088j ,\n",
    "        1.07435885-0.03644741j, 0.99222024-0.01416632j,\n",
    "        0.98945574-0.00066769j, 1.00932426+0.j        ]])"
   ]
  },
  {
   "cell_type": "code",
   "execution_count": 538,
   "id": "758de576",
   "metadata": {},
   "outputs": [],
   "source": [
    "pq_g_test = np.array([[76.72328296, 61.25990873],\n",
    "                     [73.56969147, 85.79073847],\n",
    "                     [66.45887933, 29.40322149]]) / net.sn_mva"
   ]
  },
  {
   "cell_type": "code",
   "execution_count": 539,
   "id": "9c826814",
   "metadata": {},
   "outputs": [
    {
     "name": "stdout",
     "output_type": "stream",
     "text": [
      "Active constraint 0\n",
      "[76.72328296]\n",
      "(0.00673392551724139+0j)\n",
      "Reactive constraint 0\n",
      "[61.25990873]\n",
      "(-0.03000341379310345+0j)\n",
      "Active constraint 1\n",
      "[-0.01]\n",
      "(-0.0017812941379310443+0j)\n",
      "Reactive constraint 1\n",
      "[0.]\n",
      "(0.004614100344827593+0j)\n",
      "Active constraint 2\n",
      "[-0.01]\n",
      "(-0.004233689999999957+0j)\n",
      "Reactive constraint 2\n",
      "[0.]\n",
      "(0.026041690000000006+0j)\n"
     ]
    }
   ],
   "source": [
    "for i in range(n):\n",
    "    gen_list = gen_df.loc[gen_df[\"bus\"] == i].index.to_numpy()\n",
    "    print(\"Active constraint %d\" %(i))\n",
    "    print(np.sum([pq_g_test[k, 0] for k in gen_list]) - p_d_val[i])\n",
    "    print(G_val[i][i] * X_test[i][i] + np.sum([G_val[i][j] * np.real(X_test[i][j]) + B_val[i][j] * np.imag(X_test[i][j]) for j in graph.neighbors(i)]))\n",
    "    print(\"Reactive constraint %d\" %(i))\n",
    "    print(np.sum([pq_g_test[k, 1] for k in gen_list]) - q_d_val[i])\n",
    "    print(-B_val[i][i] * X_test[i][i] + np.sum([-B_val[i][j] * np.real(X_test[i][j]) + G_val[i][j] * np.imag(X_test[i][j]) for j in graph.neighbors(i)]))"
   ]
  },
  {
   "cell_type": "code",
   "execution_count": 540,
   "id": "9bc7c32d",
   "metadata": {},
   "outputs": [
    {
     "name": "stdout",
     "output_type": "stream",
     "text": [
      "[1.00048977+0.j]\n",
      "[-inf+nanj]\n",
      "[-inf+nanj]\n"
     ]
    },
    {
     "name": "stderr",
     "output_type": "stream",
     "text": [
      "/tmp/ipykernel_3973/2328657000.py:3: RuntimeWarning: divide by zero encountered in true_divide\n",
      "  print((np.sum([pq_g_test[k, 1] for k in gen_list]) - q_d_val[i]- (-B_val[i][i] * X_test[i][i] + np.sum([-B_val[i][j] * np.real(X_test[i][j]) + G_val[i][j] * np.imag(X_test[i][j]) for j in graph.neighbors(i)])))/(np.sum([pq_g_test[k, 1] for k in gen_list]) - q_d_val[i]))\n",
      "/tmp/ipykernel_3973/2328657000.py:3: RuntimeWarning: invalid value encountered in true_divide\n",
      "  print((np.sum([pq_g_test[k, 1] for k in gen_list]) - q_d_val[i]- (-B_val[i][i] * X_test[i][i] + np.sum([-B_val[i][j] * np.real(X_test[i][j]) + G_val[i][j] * np.imag(X_test[i][j]) for j in graph.neighbors(i)])))/(np.sum([pq_g_test[k, 1] for k in gen_list]) - q_d_val[i]))\n"
     ]
    }
   ],
   "source": [
    "for i in range(n):\n",
    "    gen_list = gen_df.loc[gen_df[\"bus\"] == i].index.to_numpy()\n",
    "    print((np.sum([pq_g_test[k, 1] for k in gen_list]) - q_d_val[i]- (-B_val[i][i] * X_test[i][i] + np.sum([-B_val[i][j] * np.real(X_test[i][j]) + G_val[i][j] * np.imag(X_test[i][j]) for j in graph.neighbors(i)])))/(np.sum([pq_g_test[k, 1] for k in gen_list]) - q_d_val[i]))"
   ]
  },
  {
   "cell_type": "markdown",
   "id": "ffcb4714",
   "metadata": {},
   "source": [
    "### Verify 3-bus simple case"
   ]
  },
  {
   "cell_type": "code",
   "execution_count": 541,
   "id": "a23f17ac",
   "metadata": {},
   "outputs": [],
   "source": [
    "X_test = np.array([[1.        +0.j        , 0.99491792+0.0075j    ,\n",
    "        0.95782092-0.02j      ],\n",
    "       [0.99491792-0.0075j    , 0.98991792+0.j        ,\n",
    "        0.9528032 -0.02708202j],\n",
    "       [0.95782092+0.02j      , 0.9528032 +0.02708202j,\n",
    "        0.91782092+0.j        ]])"
   ]
  },
  {
   "cell_type": "code",
   "execution_count": 542,
   "id": "d12d8134",
   "metadata": {},
   "outputs": [],
   "source": [
    "pq_g_test = np.array([[ 0.02048632, -0.00014214]]) / net.sn_mva"
   ]
  },
  {
   "cell_type": "code",
   "execution_count": 543,
   "id": "44a24c52",
   "metadata": {},
   "outputs": [
    {
     "name": "stdout",
     "output_type": "stream",
     "text": [
      "[0.02048632]\n",
      "(0.012483002068965576+0j)\n",
      "[-0.00014214]\n",
      "(0.030146924827586297+0j)\n",
      "[-0.01]\n",
      "(-0.0013793103448275779+0j)\n",
      "[0.]\n",
      "(0.0009482758620689702+0j)\n",
      "[-0.01]\n",
      "(-0.009999999999999953+0j)\n",
      "[0.]\n",
      "(-0.02999999999999997+0j)\n"
     ]
    }
   ],
   "source": [
    "for i in range(n):\n",
    "    gen_list = gen_df.loc[gen_df[\"bus\"] == i].index.to_numpy()\n",
    "    print(np.sum([pq_g_test[k, 0] for k in gen_list]) - p_d_val[i])\n",
    "    print(G_val[i][i] * X_test[i][i] + np.sum([G_val[i][j] * np.real(X_test[i][j]) + B_val[i][j] * np.imag(X_test[i][j]) for j in graph.neighbors(i)]))\n",
    "    print(np.sum([pq_g_test[k, 1] for k in gen_list]) - q_d_val[i])\n",
    "    print(-B_val[i][i] * X_test[i][i] + np.sum([-B_val[i][j] * np.real(X_test[i][j]) + G_val[i][j] * np.imag(X_test[i][j]) for j in graph.neighbors(i)]))"
   ]
  },
  {
   "cell_type": "markdown",
   "id": "0a301982",
   "metadata": {},
   "source": [
    "### Verify 3-bus no-cycle simple case"
   ]
  },
  {
   "cell_type": "code",
   "execution_count": 544,
   "id": "03382485",
   "metadata": {},
   "outputs": [],
   "source": [
    "X_test = np.array([[1.        +0.j        , 0.99491792+0.0075j    ,\n",
    "        0.98987243-0.005j     ],\n",
    "       [0.99491792-0.0075j    , 0.98991792+0.j        ,\n",
    "        0.98480432-0.01239863j],\n",
    "       [0.98987243+0.005j     , 0.98480432+0.01239863j,\n",
    "        0.97987243+0.j        ]])"
   ]
  },
  {
   "cell_type": "code",
   "execution_count": 545,
   "id": "37aebeba",
   "metadata": {},
   "outputs": [],
   "source": [
    "pq_g_test = np.array([[2.01525635e-02, 2.47368045e-05]]) / net.sn_mva"
   ]
  },
  {
   "cell_type": "code",
   "execution_count": 546,
   "id": "f5790fde",
   "metadata": {},
   "outputs": [
    {
     "name": "stdout",
     "output_type": "stream",
     "text": [
      "Active constraint 0\n",
      "[0.02015256]\n",
      "(0.003957247068965497+0j)\n",
      "Reactive constraint 0\n",
      "[2.47368045e-05]\n",
      "(0.006621169827586204+0j)\n",
      "Active constraint 1\n",
      "[-0.01]\n",
      "(-0.0013793103448275779+0j)\n",
      "Reactive constraint 1\n",
      "[0.]\n",
      "(0.0009482758620689702+0j)\n",
      "Active constraint 2\n",
      "[-0.01]\n",
      "(-0.0025000000000000022+0j)\n",
      "Reactive constraint 2\n",
      "[0.]\n",
      "(-0.007500000000000007+0j)\n"
     ]
    }
   ],
   "source": [
    "for i in range(n):\n",
    "    gen_list = gen_df.loc[gen_df[\"bus\"] == i].index.to_numpy()\n",
    "    print(\"Active constraint %d\" %(i))\n",
    "    print(np.sum([pq_g_test[k, 0] for k in gen_list]) - p_d_val[i])\n",
    "    print(G_val[i][i] * X_test[i][i] + np.sum([G_val[i][j] * np.real(X_test[i][j]) + B_val[i][j] * np.imag(X_test[i][j]) for j in graph.neighbors(i)]))\n",
    "    print(\"Reactive constraint %d\" %(i))\n",
    "    print(np.sum([pq_g_test[k, 1] for k in gen_list]) - q_d_val[i])\n",
    "    print(-B_val[i][i] * X_test[i][i] + np.sum([-B_val[i][j] * np.real(X_test[i][j]) + G_val[i][j] * np.imag(X_test[i][j]) for j in graph.neighbors(i)]))"
   ]
  },
  {
   "cell_type": "markdown",
   "id": "ad48d735",
   "metadata": {},
   "source": [
    "### Verify 2-bus simple case"
   ]
  },
  {
   "cell_type": "code",
   "execution_count": 547,
   "id": "bed68bcb",
   "metadata": {},
   "outputs": [],
   "source": [
    "X_test = np.array([[1.        +0.j  , 0.98979587+0.01j],\n",
    "       [0.98979587-0.01j, 0.97979587+0.j  ]])"
   ]
  },
  {
   "cell_type": "code",
   "execution_count": 548,
   "id": "f4ff228e",
   "metadata": {},
   "outputs": [],
   "source": [
    "pq_g_test = np.array([[0.01010206, 0.00010206]]) / net.sn_mva"
   ]
  },
  {
   "cell_type": "code",
   "execution_count": 549,
   "id": "becb83af",
   "metadata": {},
   "outputs": [
    {
     "name": "stdout",
     "output_type": "stream",
     "text": [
      "[0.01010206]\n"
     ]
    },
    {
     "ename": "IndexError",
     "evalue": "index 2 is out of bounds for axis 0 with size 2",
     "output_type": "error",
     "traceback": [
      "\u001b[0;31m---------------------------------------------------------------------------\u001b[0m",
      "\u001b[0;31mIndexError\u001b[0m                                Traceback (most recent call last)",
      "\u001b[0;32m/tmp/ipykernel_3973/1357936639.py\u001b[0m in \u001b[0;36m<module>\u001b[0;34m\u001b[0m\n\u001b[1;32m      2\u001b[0m     \u001b[0mgen_list\u001b[0m \u001b[0;34m=\u001b[0m \u001b[0mgen_df\u001b[0m\u001b[0;34m.\u001b[0m\u001b[0mloc\u001b[0m\u001b[0;34m[\u001b[0m\u001b[0mgen_df\u001b[0m\u001b[0;34m[\u001b[0m\u001b[0;34m\"bus\"\u001b[0m\u001b[0;34m]\u001b[0m \u001b[0;34m==\u001b[0m \u001b[0mi\u001b[0m\u001b[0;34m]\u001b[0m\u001b[0;34m.\u001b[0m\u001b[0mindex\u001b[0m\u001b[0;34m.\u001b[0m\u001b[0mto_numpy\u001b[0m\u001b[0;34m(\u001b[0m\u001b[0;34m)\u001b[0m\u001b[0;34m\u001b[0m\u001b[0;34m\u001b[0m\u001b[0m\n\u001b[1;32m      3\u001b[0m     \u001b[0mprint\u001b[0m\u001b[0;34m(\u001b[0m\u001b[0mnp\u001b[0m\u001b[0;34m.\u001b[0m\u001b[0msum\u001b[0m\u001b[0;34m(\u001b[0m\u001b[0;34m[\u001b[0m\u001b[0mpq_g_test\u001b[0m\u001b[0;34m[\u001b[0m\u001b[0mk\u001b[0m\u001b[0;34m,\u001b[0m \u001b[0;36m0\u001b[0m\u001b[0;34m]\u001b[0m \u001b[0;32mfor\u001b[0m \u001b[0mk\u001b[0m \u001b[0;32min\u001b[0m \u001b[0mgen_list\u001b[0m\u001b[0;34m]\u001b[0m\u001b[0;34m)\u001b[0m \u001b[0;34m-\u001b[0m \u001b[0mp_d_val\u001b[0m\u001b[0;34m[\u001b[0m\u001b[0mi\u001b[0m\u001b[0;34m]\u001b[0m\u001b[0;34m)\u001b[0m\u001b[0;34m\u001b[0m\u001b[0;34m\u001b[0m\u001b[0m\n\u001b[0;32m----> 4\u001b[0;31m     \u001b[0mprint\u001b[0m\u001b[0;34m(\u001b[0m\u001b[0mG_val\u001b[0m\u001b[0;34m[\u001b[0m\u001b[0mi\u001b[0m\u001b[0;34m]\u001b[0m\u001b[0;34m[\u001b[0m\u001b[0mi\u001b[0m\u001b[0;34m]\u001b[0m \u001b[0;34m*\u001b[0m \u001b[0mX_test\u001b[0m\u001b[0;34m[\u001b[0m\u001b[0mi\u001b[0m\u001b[0;34m]\u001b[0m\u001b[0;34m[\u001b[0m\u001b[0mi\u001b[0m\u001b[0;34m]\u001b[0m \u001b[0;34m+\u001b[0m \u001b[0mnp\u001b[0m\u001b[0;34m.\u001b[0m\u001b[0msum\u001b[0m\u001b[0;34m(\u001b[0m\u001b[0;34m[\u001b[0m\u001b[0mG_val\u001b[0m\u001b[0;34m[\u001b[0m\u001b[0mi\u001b[0m\u001b[0;34m]\u001b[0m\u001b[0;34m[\u001b[0m\u001b[0mj\u001b[0m\u001b[0;34m]\u001b[0m \u001b[0;34m*\u001b[0m \u001b[0mnp\u001b[0m\u001b[0;34m.\u001b[0m\u001b[0mreal\u001b[0m\u001b[0;34m(\u001b[0m\u001b[0mX_test\u001b[0m\u001b[0;34m[\u001b[0m\u001b[0mi\u001b[0m\u001b[0;34m]\u001b[0m\u001b[0;34m[\u001b[0m\u001b[0mj\u001b[0m\u001b[0;34m]\u001b[0m\u001b[0;34m)\u001b[0m \u001b[0;34m+\u001b[0m \u001b[0mB_val\u001b[0m\u001b[0;34m[\u001b[0m\u001b[0mi\u001b[0m\u001b[0;34m]\u001b[0m\u001b[0;34m[\u001b[0m\u001b[0mj\u001b[0m\u001b[0;34m]\u001b[0m \u001b[0;34m*\u001b[0m \u001b[0mnp\u001b[0m\u001b[0;34m.\u001b[0m\u001b[0mimag\u001b[0m\u001b[0;34m(\u001b[0m\u001b[0mX_test\u001b[0m\u001b[0;34m[\u001b[0m\u001b[0mi\u001b[0m\u001b[0;34m]\u001b[0m\u001b[0;34m[\u001b[0m\u001b[0mj\u001b[0m\u001b[0;34m]\u001b[0m\u001b[0;34m)\u001b[0m \u001b[0;32mfor\u001b[0m \u001b[0mj\u001b[0m \u001b[0;32min\u001b[0m \u001b[0mgraph\u001b[0m\u001b[0;34m.\u001b[0m\u001b[0mneighbors\u001b[0m\u001b[0;34m(\u001b[0m\u001b[0mi\u001b[0m\u001b[0;34m)\u001b[0m\u001b[0;34m]\u001b[0m\u001b[0;34m)\u001b[0m\u001b[0;34m)\u001b[0m\u001b[0;34m\u001b[0m\u001b[0;34m\u001b[0m\u001b[0m\n\u001b[0m\u001b[1;32m      5\u001b[0m     \u001b[0mprint\u001b[0m\u001b[0;34m(\u001b[0m\u001b[0mnp\u001b[0m\u001b[0;34m.\u001b[0m\u001b[0msum\u001b[0m\u001b[0;34m(\u001b[0m\u001b[0;34m[\u001b[0m\u001b[0mpq_g_test\u001b[0m\u001b[0;34m[\u001b[0m\u001b[0mk\u001b[0m\u001b[0;34m,\u001b[0m \u001b[0;36m1\u001b[0m\u001b[0;34m]\u001b[0m \u001b[0;32mfor\u001b[0m \u001b[0mk\u001b[0m \u001b[0;32min\u001b[0m \u001b[0mgen_list\u001b[0m\u001b[0;34m]\u001b[0m\u001b[0;34m)\u001b[0m \u001b[0;34m-\u001b[0m \u001b[0mq_d_val\u001b[0m\u001b[0;34m[\u001b[0m\u001b[0mi\u001b[0m\u001b[0;34m]\u001b[0m\u001b[0;34m)\u001b[0m\u001b[0;34m\u001b[0m\u001b[0;34m\u001b[0m\u001b[0m\n\u001b[1;32m      6\u001b[0m     \u001b[0mprint\u001b[0m\u001b[0;34m(\u001b[0m\u001b[0;34m-\u001b[0m\u001b[0mB_val\u001b[0m\u001b[0;34m[\u001b[0m\u001b[0mi\u001b[0m\u001b[0;34m]\u001b[0m\u001b[0;34m[\u001b[0m\u001b[0mi\u001b[0m\u001b[0;34m]\u001b[0m \u001b[0;34m*\u001b[0m \u001b[0mX_test\u001b[0m\u001b[0;34m[\u001b[0m\u001b[0mi\u001b[0m\u001b[0;34m]\u001b[0m\u001b[0;34m[\u001b[0m\u001b[0mi\u001b[0m\u001b[0;34m]\u001b[0m \u001b[0;34m+\u001b[0m \u001b[0mnp\u001b[0m\u001b[0;34m.\u001b[0m\u001b[0msum\u001b[0m\u001b[0;34m(\u001b[0m\u001b[0;34m[\u001b[0m\u001b[0;34m-\u001b[0m\u001b[0mB_val\u001b[0m\u001b[0;34m[\u001b[0m\u001b[0mi\u001b[0m\u001b[0;34m]\u001b[0m\u001b[0;34m[\u001b[0m\u001b[0mj\u001b[0m\u001b[0;34m]\u001b[0m \u001b[0;34m*\u001b[0m \u001b[0mnp\u001b[0m\u001b[0;34m.\u001b[0m\u001b[0mreal\u001b[0m\u001b[0;34m(\u001b[0m\u001b[0mX_test\u001b[0m\u001b[0;34m[\u001b[0m\u001b[0mi\u001b[0m\u001b[0;34m]\u001b[0m\u001b[0;34m[\u001b[0m\u001b[0mj\u001b[0m\u001b[0;34m]\u001b[0m\u001b[0;34m)\u001b[0m \u001b[0;34m+\u001b[0m \u001b[0mG_val\u001b[0m\u001b[0;34m[\u001b[0m\u001b[0mi\u001b[0m\u001b[0;34m]\u001b[0m\u001b[0;34m[\u001b[0m\u001b[0mj\u001b[0m\u001b[0;34m]\u001b[0m \u001b[0;34m*\u001b[0m \u001b[0mnp\u001b[0m\u001b[0;34m.\u001b[0m\u001b[0mimag\u001b[0m\u001b[0;34m(\u001b[0m\u001b[0mX_test\u001b[0m\u001b[0;34m[\u001b[0m\u001b[0mi\u001b[0m\u001b[0;34m]\u001b[0m\u001b[0;34m[\u001b[0m\u001b[0mj\u001b[0m\u001b[0;34m]\u001b[0m\u001b[0;34m)\u001b[0m \u001b[0;32mfor\u001b[0m \u001b[0mj\u001b[0m \u001b[0;32min\u001b[0m \u001b[0mgraph\u001b[0m\u001b[0;34m.\u001b[0m\u001b[0mneighbors\u001b[0m\u001b[0;34m(\u001b[0m\u001b[0mi\u001b[0m\u001b[0;34m)\u001b[0m\u001b[0;34m]\u001b[0m\u001b[0;34m)\u001b[0m\u001b[0;34m)\u001b[0m\u001b[0;34m\u001b[0m\u001b[0;34m\u001b[0m\u001b[0m\n",
      "\u001b[0;32m/tmp/ipykernel_3973/1357936639.py\u001b[0m in \u001b[0;36m<listcomp>\u001b[0;34m(.0)\u001b[0m\n\u001b[1;32m      2\u001b[0m     \u001b[0mgen_list\u001b[0m \u001b[0;34m=\u001b[0m \u001b[0mgen_df\u001b[0m\u001b[0;34m.\u001b[0m\u001b[0mloc\u001b[0m\u001b[0;34m[\u001b[0m\u001b[0mgen_df\u001b[0m\u001b[0;34m[\u001b[0m\u001b[0;34m\"bus\"\u001b[0m\u001b[0;34m]\u001b[0m \u001b[0;34m==\u001b[0m \u001b[0mi\u001b[0m\u001b[0;34m]\u001b[0m\u001b[0;34m.\u001b[0m\u001b[0mindex\u001b[0m\u001b[0;34m.\u001b[0m\u001b[0mto_numpy\u001b[0m\u001b[0;34m(\u001b[0m\u001b[0;34m)\u001b[0m\u001b[0;34m\u001b[0m\u001b[0;34m\u001b[0m\u001b[0m\n\u001b[1;32m      3\u001b[0m     \u001b[0mprint\u001b[0m\u001b[0;34m(\u001b[0m\u001b[0mnp\u001b[0m\u001b[0;34m.\u001b[0m\u001b[0msum\u001b[0m\u001b[0;34m(\u001b[0m\u001b[0;34m[\u001b[0m\u001b[0mpq_g_test\u001b[0m\u001b[0;34m[\u001b[0m\u001b[0mk\u001b[0m\u001b[0;34m,\u001b[0m \u001b[0;36m0\u001b[0m\u001b[0;34m]\u001b[0m \u001b[0;32mfor\u001b[0m \u001b[0mk\u001b[0m \u001b[0;32min\u001b[0m \u001b[0mgen_list\u001b[0m\u001b[0;34m]\u001b[0m\u001b[0;34m)\u001b[0m \u001b[0;34m-\u001b[0m \u001b[0mp_d_val\u001b[0m\u001b[0;34m[\u001b[0m\u001b[0mi\u001b[0m\u001b[0;34m]\u001b[0m\u001b[0;34m)\u001b[0m\u001b[0;34m\u001b[0m\u001b[0;34m\u001b[0m\u001b[0m\n\u001b[0;32m----> 4\u001b[0;31m     \u001b[0mprint\u001b[0m\u001b[0;34m(\u001b[0m\u001b[0mG_val\u001b[0m\u001b[0;34m[\u001b[0m\u001b[0mi\u001b[0m\u001b[0;34m]\u001b[0m\u001b[0;34m[\u001b[0m\u001b[0mi\u001b[0m\u001b[0;34m]\u001b[0m \u001b[0;34m*\u001b[0m \u001b[0mX_test\u001b[0m\u001b[0;34m[\u001b[0m\u001b[0mi\u001b[0m\u001b[0;34m]\u001b[0m\u001b[0;34m[\u001b[0m\u001b[0mi\u001b[0m\u001b[0;34m]\u001b[0m \u001b[0;34m+\u001b[0m \u001b[0mnp\u001b[0m\u001b[0;34m.\u001b[0m\u001b[0msum\u001b[0m\u001b[0;34m(\u001b[0m\u001b[0;34m[\u001b[0m\u001b[0mG_val\u001b[0m\u001b[0;34m[\u001b[0m\u001b[0mi\u001b[0m\u001b[0;34m]\u001b[0m\u001b[0;34m[\u001b[0m\u001b[0mj\u001b[0m\u001b[0;34m]\u001b[0m \u001b[0;34m*\u001b[0m \u001b[0mnp\u001b[0m\u001b[0;34m.\u001b[0m\u001b[0mreal\u001b[0m\u001b[0;34m(\u001b[0m\u001b[0mX_test\u001b[0m\u001b[0;34m[\u001b[0m\u001b[0mi\u001b[0m\u001b[0;34m]\u001b[0m\u001b[0;34m[\u001b[0m\u001b[0mj\u001b[0m\u001b[0;34m]\u001b[0m\u001b[0;34m)\u001b[0m \u001b[0;34m+\u001b[0m \u001b[0mB_val\u001b[0m\u001b[0;34m[\u001b[0m\u001b[0mi\u001b[0m\u001b[0;34m]\u001b[0m\u001b[0;34m[\u001b[0m\u001b[0mj\u001b[0m\u001b[0;34m]\u001b[0m \u001b[0;34m*\u001b[0m \u001b[0mnp\u001b[0m\u001b[0;34m.\u001b[0m\u001b[0mimag\u001b[0m\u001b[0;34m(\u001b[0m\u001b[0mX_test\u001b[0m\u001b[0;34m[\u001b[0m\u001b[0mi\u001b[0m\u001b[0;34m]\u001b[0m\u001b[0;34m[\u001b[0m\u001b[0mj\u001b[0m\u001b[0;34m]\u001b[0m\u001b[0;34m)\u001b[0m \u001b[0;32mfor\u001b[0m \u001b[0mj\u001b[0m \u001b[0;32min\u001b[0m \u001b[0mgraph\u001b[0m\u001b[0;34m.\u001b[0m\u001b[0mneighbors\u001b[0m\u001b[0;34m(\u001b[0m\u001b[0mi\u001b[0m\u001b[0;34m)\u001b[0m\u001b[0;34m]\u001b[0m\u001b[0;34m)\u001b[0m\u001b[0;34m)\u001b[0m\u001b[0;34m\u001b[0m\u001b[0;34m\u001b[0m\u001b[0m\n\u001b[0m\u001b[1;32m      5\u001b[0m     \u001b[0mprint\u001b[0m\u001b[0;34m(\u001b[0m\u001b[0mnp\u001b[0m\u001b[0;34m.\u001b[0m\u001b[0msum\u001b[0m\u001b[0;34m(\u001b[0m\u001b[0;34m[\u001b[0m\u001b[0mpq_g_test\u001b[0m\u001b[0;34m[\u001b[0m\u001b[0mk\u001b[0m\u001b[0;34m,\u001b[0m \u001b[0;36m1\u001b[0m\u001b[0;34m]\u001b[0m \u001b[0;32mfor\u001b[0m \u001b[0mk\u001b[0m \u001b[0;32min\u001b[0m \u001b[0mgen_list\u001b[0m\u001b[0;34m]\u001b[0m\u001b[0;34m)\u001b[0m \u001b[0;34m-\u001b[0m \u001b[0mq_d_val\u001b[0m\u001b[0;34m[\u001b[0m\u001b[0mi\u001b[0m\u001b[0;34m]\u001b[0m\u001b[0;34m)\u001b[0m\u001b[0;34m\u001b[0m\u001b[0;34m\u001b[0m\u001b[0m\n\u001b[1;32m      6\u001b[0m     \u001b[0mprint\u001b[0m\u001b[0;34m(\u001b[0m\u001b[0;34m-\u001b[0m\u001b[0mB_val\u001b[0m\u001b[0;34m[\u001b[0m\u001b[0mi\u001b[0m\u001b[0;34m]\u001b[0m\u001b[0;34m[\u001b[0m\u001b[0mi\u001b[0m\u001b[0;34m]\u001b[0m \u001b[0;34m*\u001b[0m \u001b[0mX_test\u001b[0m\u001b[0;34m[\u001b[0m\u001b[0mi\u001b[0m\u001b[0;34m]\u001b[0m\u001b[0;34m[\u001b[0m\u001b[0mi\u001b[0m\u001b[0;34m]\u001b[0m \u001b[0;34m+\u001b[0m \u001b[0mnp\u001b[0m\u001b[0;34m.\u001b[0m\u001b[0msum\u001b[0m\u001b[0;34m(\u001b[0m\u001b[0;34m[\u001b[0m\u001b[0;34m-\u001b[0m\u001b[0mB_val\u001b[0m\u001b[0;34m[\u001b[0m\u001b[0mi\u001b[0m\u001b[0;34m]\u001b[0m\u001b[0;34m[\u001b[0m\u001b[0mj\u001b[0m\u001b[0;34m]\u001b[0m \u001b[0;34m*\u001b[0m \u001b[0mnp\u001b[0m\u001b[0;34m.\u001b[0m\u001b[0mreal\u001b[0m\u001b[0;34m(\u001b[0m\u001b[0mX_test\u001b[0m\u001b[0;34m[\u001b[0m\u001b[0mi\u001b[0m\u001b[0;34m]\u001b[0m\u001b[0;34m[\u001b[0m\u001b[0mj\u001b[0m\u001b[0;34m]\u001b[0m\u001b[0;34m)\u001b[0m \u001b[0;34m+\u001b[0m \u001b[0mG_val\u001b[0m\u001b[0;34m[\u001b[0m\u001b[0mi\u001b[0m\u001b[0;34m]\u001b[0m\u001b[0;34m[\u001b[0m\u001b[0mj\u001b[0m\u001b[0;34m]\u001b[0m \u001b[0;34m*\u001b[0m \u001b[0mnp\u001b[0m\u001b[0;34m.\u001b[0m\u001b[0mimag\u001b[0m\u001b[0;34m(\u001b[0m\u001b[0mX_test\u001b[0m\u001b[0;34m[\u001b[0m\u001b[0mi\u001b[0m\u001b[0;34m]\u001b[0m\u001b[0;34m[\u001b[0m\u001b[0mj\u001b[0m\u001b[0;34m]\u001b[0m\u001b[0;34m)\u001b[0m \u001b[0;32mfor\u001b[0m \u001b[0mj\u001b[0m \u001b[0;32min\u001b[0m \u001b[0mgraph\u001b[0m\u001b[0;34m.\u001b[0m\u001b[0mneighbors\u001b[0m\u001b[0;34m(\u001b[0m\u001b[0mi\u001b[0m\u001b[0;34m)\u001b[0m\u001b[0;34m]\u001b[0m\u001b[0;34m)\u001b[0m\u001b[0;34m)\u001b[0m\u001b[0;34m\u001b[0m\u001b[0;34m\u001b[0m\u001b[0m\n",
      "\u001b[0;31mIndexError\u001b[0m: index 2 is out of bounds for axis 0 with size 2"
     ]
    }
   ],
   "source": [
    "for i in range(n):\n",
    "    gen_list = gen_df.loc[gen_df[\"bus\"] == i].index.to_numpy()\n",
    "    print(np.sum([pq_g_test[k, 0] for k in gen_list]) - p_d_val[i])\n",
    "    print(G_val[i][i] * X_test[i][i] + np.sum([G_val[i][j] * np.real(X_test[i][j]) + B_val[i][j] * np.imag(X_test[i][j]) for j in graph.neighbors(i)]))\n",
    "    print(np.sum([pq_g_test[k, 1] for k in gen_list]) - q_d_val[i])\n",
    "    print(-B_val[i][i] * X_test[i][i] + np.sum([-B_val[i][j] * np.real(X_test[i][j]) + G_val[i][j] * np.imag(X_test[i][j]) for j in graph.neighbors(i)]))"
   ]
  },
  {
   "cell_type": "code",
   "execution_count": null,
   "id": "c3c25265",
   "metadata": {},
   "outputs": [],
   "source": [
    "for i in range(n):\n",
    "    gen_list = gen_df.loc[gen_df[\"bus\"] == i].index.to_numpy()\n",
    "    print(np.sum([pq_g_test[k, 1] for k in gen_list]) - q_d_val[i]- (-B_val[i][i] * X_test[i][i] + np.sum([-B_val[i][j] * np.real(X_test[i][j]) + G_val[i][j] * np.imag(X_test[i][j]) for j in graph.neighbors(i)])))"
   ]
  },
  {
   "cell_type": "code",
   "execution_count": null,
   "id": "4b2aeba2",
   "metadata": {},
   "outputs": [],
   "source": []
  }
 ],
 "metadata": {
  "kernelspec": {
   "display_name": "Python 3 (ipykernel)",
   "language": "python",
   "name": "python3"
  },
  "language_info": {
   "codemirror_mode": {
    "name": "ipython",
    "version": 3
   },
   "file_extension": ".py",
   "mimetype": "text/x-python",
   "name": "python",
   "nbconvert_exporter": "python",
   "pygments_lexer": "ipython3",
   "version": "3.9.6"
  }
 },
 "nbformat": 4,
 "nbformat_minor": 5
}
