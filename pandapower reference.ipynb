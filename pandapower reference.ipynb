{
 "cells": [
  {
   "cell_type": "code",
   "execution_count": 363,
   "id": "57f560c8",
   "metadata": {},
   "outputs": [],
   "source": [
    "import pandapower as pp\n",
    "import pandapower.networks as pn\n",
    "from pandapower.plotting import simple_plot\n",
    "\n",
    "import pandas as pd\n",
    "import numpy as np\n",
    "import cvxpy as cp\n",
    "import networkx as nx"
   ]
  },
  {
   "cell_type": "markdown",
   "id": "7b8b5805",
   "metadata": {},
   "source": [
    "## Create network"
   ]
  },
  {
   "cell_type": "code",
   "execution_count": 364,
   "id": "d818a2e1",
   "metadata": {},
   "outputs": [],
   "source": [
    "# # 2-bus simple case\n",
    "\n",
    "# net = pp.create_empty_network(sn_mva=1)\n",
    "\n",
    "# # buses\n",
    "# pp.create_bus(net, vn_kv=1, max_vm_pu=1.1, min_vm_pu=0.9, index=0)\n",
    "# pp.create_bus(net, vn_kv=1, max_vm_pu=1.1, min_vm_pu=0.9, index=1)\n",
    "\n",
    "# #lines\n",
    "# pp.create_line_from_parameters(net, 0, 1, length_km=1, r_ohm_per_km=1, x_ohm_per_km=1, c_nf_per_km=0, max_i_ka=0, index=0)\n",
    "\n",
    "# # generators\n",
    "# pp.create_ext_grid(net, 0, max_p_mw=1, min_p_mw=0, max_q_mvar=1, min_q_mvar=-1, index=0)\n",
    "# pp.create_poly_cost(net, 0, \"ext_grid\", cp1_eur_per_mw=1, cp0_eur=0, cq1_eur_per_mvar=0, cq0_eur=0, cp2_eur_per_mw2=0, cq2_eur_per_mvar2=0, index=None)\n",
    "\n",
    "# # loads\n",
    "# pp.create_load(net, 1, p_mw=0.01, q_mvar=0, index=0)"
   ]
  },
  {
   "cell_type": "code",
   "execution_count": 365,
   "id": "f5cd7f77",
   "metadata": {},
   "outputs": [
    {
     "data": {
      "text/plain": [
       "1"
      ]
     },
     "execution_count": 365,
     "metadata": {},
     "output_type": "execute_result"
    }
   ],
   "source": [
    "# 3-bus no cycle simple case\n",
    "\n",
    "net = pp.create_empty_network(sn_mva=1)\n",
    "\n",
    "# buses\n",
    "pp.create_bus(net, vn_kv=1, max_vm_pu=1.1, min_vm_pu=0.9, index=0)\n",
    "pp.create_bus(net, vn_kv=1, max_vm_pu=1.1, min_vm_pu=0.9, index=1)\n",
    "pp.create_bus(net, vn_kv=1, max_vm_pu=1.1, min_vm_pu=0.9, index=2)\n",
    "\n",
    "#lines\n",
    "pp.create_line_from_parameters(net, 0, 1, length_km=1, r_ohm_per_km=5, x_ohm_per_km=2, c_nf_per_km=0, max_i_ka=0, index=0)\n",
    "pp.create_line_from_parameters(net, 2, 0, length_km=1, r_ohm_per_km=1, x_ohm_per_km=1, c_nf_per_km=0, max_i_ka=0, index=1)\n",
    "\n",
    "# generators\n",
    "pp.create_ext_grid(net, 0, max_p_mw=1, min_p_mw=0, max_q_mvar=1, min_q_mvar=-1, index=0)\n",
    "pp.create_poly_cost(net, 0, \"ext_grid\", cp1_eur_per_mw=1, cp0_eur=0, cq1_eur_per_mvar=0, cq0_eur=0, cp2_eur_per_mw2=0, cq2_eur_per_mvar2=0, index=None)\n",
    "\n",
    "# loads\n",
    "pp.create_load(net, 1, p_mw=0.01, q_mvar=0, index=0)\n",
    "pp.create_load(net, 2, p_mw=0.01, q_mvar=0, index=1)"
   ]
  },
  {
   "cell_type": "code",
   "execution_count": 366,
   "id": "fe123c87",
   "metadata": {},
   "outputs": [],
   "source": [
    "# # 3-bus simple case\n",
    "\n",
    "# net = pp.create_empty_network(sn_mva=1)\n",
    "\n",
    "# # buses\n",
    "# pp.create_bus(net, vn_kv=1, max_vm_pu=1.1, min_vm_pu=0.9, index=0)\n",
    "# pp.create_bus(net, vn_kv=1, max_vm_pu=1.1, min_vm_pu=0.9, index=1)\n",
    "# pp.create_bus(net, vn_kv=1, max_vm_pu=1.1, min_vm_pu=0.9, index=2)\n",
    "\n",
    "# #lines\n",
    "# pp.create_line_from_parameters(net, 0, 1, length_km=1, r_ohm_per_km=1, x_ohm_per_km=1, c_nf_per_km=0, max_i_ka=0, index=0)\n",
    "# pp.create_line_from_parameters(net, 1, 2, length_km=1, r_ohm_per_km=1, x_ohm_per_km=1, c_nf_per_km=0, max_i_ka=0, index=1)\n",
    "# pp.create_line_from_parameters(net, 2, 0, length_km=1, r_ohm_per_km=1, x_ohm_per_km=1, c_nf_per_km=0, max_i_ka=0, index=2)\n",
    "\n",
    "# # generators\n",
    "# pp.create_ext_grid(net, 0, max_p_mw=1, min_p_mw=0, max_q_mvar=1, min_q_mvar=-1, index=0)\n",
    "# pp.create_poly_cost(net, 0, \"ext_grid\", cp1_eur_per_mw=1, cp0_eur=0, cq1_eur_per_mvar=0, cq0_eur=0, cp2_eur_per_mw2=0, cq2_eur_per_mvar2=0, index=None)\n",
    "\n",
    "# # loads\n",
    "# pp.create_load(net, 1, p_mw=0.01, q_mvar=0, index=0)\n",
    "# pp.create_load(net, 2, p_mw=0.01, q_mvar=0, index=1)"
   ]
  },
  {
   "cell_type": "code",
   "execution_count": 367,
   "id": "2b8b27bd",
   "metadata": {},
   "outputs": [],
   "source": [
    "# net = pn.case6ww()\n",
    "# # net.sn_mva = 100"
   ]
  },
  {
   "cell_type": "code",
   "execution_count": 368,
   "id": "996554fc",
   "metadata": {},
   "outputs": [],
   "source": [
    "# for i in range(len(net.bus)):\n",
    "#     net.bus.vn_kv[i] = 1"
   ]
  },
  {
   "cell_type": "code",
   "execution_count": 369,
   "id": "5b2a9f17",
   "metadata": {},
   "outputs": [],
   "source": [
    "# net.bus"
   ]
  },
  {
   "cell_type": "code",
   "execution_count": 370,
   "id": "92af9fe7",
   "metadata": {},
   "outputs": [],
   "source": [
    "# net.line.r_ohm_per_km = net.line.r_ohm_per_km / (230)**2 * 100"
   ]
  },
  {
   "cell_type": "code",
   "execution_count": 371,
   "id": "cf69b6d5",
   "metadata": {},
   "outputs": [],
   "source": [
    "# net.line.x_ohm_per_km = net.line.x_ohm_per_km / (230)**2 * 100"
   ]
  },
  {
   "cell_type": "code",
   "execution_count": 372,
   "id": "147160f7",
   "metadata": {},
   "outputs": [],
   "source": [
    "# net.line"
   ]
  },
  {
   "cell_type": "code",
   "execution_count": 373,
   "id": "a349d799",
   "metadata": {},
   "outputs": [],
   "source": [
    "# net = pn.case9()\n",
    "# net.sn_mva = 100"
   ]
  },
  {
   "cell_type": "code",
   "execution_count": 374,
   "id": "8abb2dad",
   "metadata": {},
   "outputs": [],
   "source": [
    "# # obtain a NetworkX Graph from the network, with each edge containing p.u. impedance data\n",
    "# graph = pp.topology.create_nxgraph(net, multi=False, calc_branch_impedances=True, branch_impedance_unit=\"pu\")\n",
    "# graph.edges(data=True)"
   ]
  },
  {
   "cell_type": "code",
   "execution_count": 375,
   "id": "539ae159",
   "metadata": {
    "scrolled": true
   },
   "outputs": [
    {
     "name": "stderr",
     "output_type": "stream",
     "text": [
      "No or insufficient geodata available --> Creating artificial coordinates. This may take some time\n"
     ]
    },
    {
     "data": {
      "image/png": "[encoded data removed]",
      "text/plain": [
       "<Figure size 720x576 with 1 Axes>"
      ]
     },
     "metadata": {},
     "output_type": "display_data"
    },
    {
     "data": {
      "text/plain": [
       "<AxesSubplot:>"
      ]
     },
     "execution_count": 375,
     "metadata": {},
     "output_type": "execute_result"
    }
   ],
   "source": [
    "simple_plot(net, plot_loads=True, plot_sgens=True)"
   ]
  },
  {
   "cell_type": "code",
   "execution_count": 376,
   "id": "68d64092",
   "metadata": {
    "scrolled": false
   },
   "outputs": [
    {
     "name": "stdout",
     "output_type": "stream",
     "text": [
      "PYPOWER Version 5.1.4, 27-June-2018 -- AC Optimal Power Flow\n",
      "Python Interior Point Solver - PIPS, Version 1.0, 07-Feb-2011\n",
      "Converged!\n",
      "\n",
      "Converged in 0.21 seconds\n",
      "================================================================================\n",
      "| PyPower (ppci) System Summary - these are not valid for pandapower DataFrames|\n",
      "================================================================================\n",
      "\n",
      "How many?                How much?              P (MW)            Q (MVAr)\n",
      "---------------------    -------------------  -------------  -----------------\n",
      "Buses              3     Total Gen Capacity       1.0          -1.0 to 1.0\n",
      "Generators         1     On-line Capacity         1.0          -1.0 to 1.0\n",
      "Committed Gens     1     Generation (actual)      0.0               0.0\n",
      "Loads              2     Load                     0.0               0.0\n",
      "  Fixed            2       Fixed                  0.0               0.0\n",
      "  Dispatchable     0       Dispatchable           0.0 of 0.0        0.0\n",
      "Shunts             0     Shunt (inj)              0.0               0.0\n",
      "Branches           2     Losses (I^2 * Z)         0.00              0.00\n",
      "Transformers       2     Branch Charging (inj)     -                0.0\n",
      "Inter-ties         0     Total Inter-tie Flow     0.0               0.0\n",
      "Areas              1\n",
      "\n",
      "                          Minimum                      Maximum\n",
      "                 -------------------------  --------------------------------\n",
      "Voltage Magnitude   0.947 p.u. @ bus 1          1.000 p.u. @ bus 0   \n",
      "Voltage Angle      -1.21 deg   @ bus 1          0.00 deg   @ bus 0   \n",
      "P Losses (I^2*R)             -                  0.00 MW    @ line 0-1\n",
      "Q Losses (I^2*X)             -                  0.00 MVAr  @ line 0-1\n",
      "\n",
      "================================================================================\n",
      "|     Area Summary                                                             |\n",
      "================================================================================\n",
      "Area  # of      # of Gens        # of Loads         # of    # of   # of   # of\n",
      " Num  Buses   Total  Online   Total  Fixed  Disp    Shunt   Brchs  Xfmrs   Ties\n",
      "----  -----   -----  ------   -----  -----  -----   -----   -----  -----  -----\n",
      "  1       3       1      1       2      2      0       0       2      2      0\n",
      "----  -----   -----  ------   -----  -----  -----   -----   -----  -----  -----\n",
      "Tot:      3       1      1       2      2      0       0       2      2      0\n",
      "\n",
      "Area      Total Gen Capacity           On-line Gen Capacity         Generation\n",
      " Num     MW           MVAr            MW           MVAr             MW    MVAr\n",
      "----   ------  ------------------   ------  ------------------    ------  ------\n",
      "  1       1.0     -1.0 to 1.0      1.0     -1.0 to 1.0           0.0     0.0\n",
      "----   ------  ------------------   ------  ------------------    ------  ------\n",
      "\n",
      "Area    Disp Load Cap       Disp Load         Fixed Load        Total Load\n",
      " Num      MW     MVAr       MW     MVAr       MW     MVAr       MW     MVAr\n",
      "----    ------  ------    ------  ------    ------  ------    ------  ------\n",
      "  1        0.0     0.0       0.0     0.0       0.0     0.0       0.0     0.0\n",
      "----    ------  ------    ------  ------    ------  ------    ------  ------\n",
      "Tot:       0.0     0.0       0.0     0.0       0.0     0.0       0.0     0.0\n",
      "\n",
      "Area      Shunt Inj        Branch      Series Losses      Net Export\n",
      " Num      MW     MVAr     Charging      MW     MVAr       MW     MVAr\n",
      "----    ------  ------    --------    ------  ------    ------  ------\n",
      "  1        0.0     0.0        0.0       0.00    0.00       0.0     0.0\n",
      "----    ------  ------    --------    ------  ------    ------  ------\n",
      "Tot:       0.0     0.0        0.0       0.00    0.00       -       -\n",
      "\n",
      "================================================================================\n",
      "|     Generator Data                                                           |\n",
      "================================================================================\n",
      " Gen   Bus   Status     Pg        Qg   \n",
      "  #     #              (MW)     (MVAr) \n",
      "----  -----  ------  --------  --------\n",
      "  0      0      1       0.02      0.00\n",
      "                     --------  --------\n",
      "            Total:      0.02      0.00\n",
      "\n",
      "================================================================================\n",
      "|     Bus Data                                                                 |\n",
      "================================================================================\n",
      " Bus      Voltage          Generation             Load        \n",
      "  #   Mag(pu) Ang(deg)   P (MW)   Q (MVAr)   P (MW)   Q (MVAr)\n",
      "----- ------- --------  --------  --------  --------  --------\n",
      "    0  1.000    0.000*     0.02      0.00       -         -   \n",
      "    1  0.947   -1.210       -         -        0.01      0.00 \n",
      "    2  0.990   -0.579       -         -        0.01      0.00 \n",
      "                        --------  --------  --------  --------\n",
      "               Total:      0.02      0.00      0.02      0.00\n",
      "\n",
      "================================================================================\n",
      "|     Branch Data                                                              |\n",
      "================================================================================\n",
      "Brnch   From   To    From Bus Injection   To Bus Injection     Loss (I^2 * Z)  \n",
      "  #     Bus    Bus    P (MW)   Q (MVAr)   P (MW)   Q (MVAr)   P (MW)   Q (MVAr)\n",
      "-----  -----  -----  --------  --------  --------  --------  --------  --------\n",
      "   0      0      1      0.01      0.00     -0.01      0.00     0.001      0.00\n",
      "   1      2      0     -0.01      0.00      0.01      0.00     0.000      0.00\n",
      "                                                             --------  --------\n",
      "                                                    Total:     0.001      0.00\n",
      "\n",
      "Converged in 0.21 seconds\n",
      "================================================================================\n",
      "| PyPower (ppci) System Summary - these are not valid for pandapower DataFrames|\n",
      "================================================================================\n",
      "\n",
      "How many?                How much?              P (MW)            Q (MVAr)\n",
      "---------------------    -------------------  -------------  -----------------\n",
      "Buses              3     Total Gen Capacity       1.0          -1.0 to 1.0\n",
      "Generators         1     On-line Capacity         1.0          -1.0 to 1.0\n",
      "Committed Gens     1     Generation (actual)      0.0               0.0\n",
      "Loads              2     Load                     0.0               0.0\n",
      "  Fixed            2       Fixed                  0.0               0.0\n",
      "  Dispatchable     0       Dispatchable           0.0 of 0.0        0.0\n",
      "Shunts             0     Shunt (inj)              0.0               0.0\n",
      "Branches           2     Losses (I^2 * Z)         0.00              0.00\n",
      "Transformers       2     Branch Charging (inj)     -                0.0\n",
      "Inter-ties         0     Total Inter-tie Flow     0.0               0.0\n",
      "Areas              1\n",
      "\n",
      "                          Minimum                      Maximum\n",
      "                 -------------------------  --------------------------------\n",
      "Voltage Magnitude   0.947 p.u. @ bus 1          1.000 p.u. @ bus 0   \n",
      "Voltage Angle      -1.21 deg   @ bus 1          0.00 deg   @ bus 0   \n",
      "P Losses (I^2*R)             -                  0.00 MW    @ line 0-1\n",
      "Q Losses (I^2*X)             -                  0.00 MVAr  @ line 0-1\n",
      "\n",
      "================================================================================\n",
      "|     Area Summary                                                             |\n",
      "================================================================================\n",
      "Area  # of      # of Gens        # of Loads         # of    # of   # of   # of\n",
      " Num  Buses   Total  Online   Total  Fixed  Disp    Shunt   Brchs  Xfmrs   Ties\n",
      "----  -----   -----  ------   -----  -----  -----   -----   -----  -----  -----\n",
      "  1       3       1      1       2      2      0       0       2      2      0\n",
      "----  -----   -----  ------   -----  -----  -----   -----   -----  -----  -----\n",
      "Tot:      3       1      1       2      2      0       0       2      2      0\n",
      "\n",
      "Area      Total Gen Capacity           On-line Gen Capacity         Generation\n",
      " Num     MW           MVAr            MW           MVAr             MW    MVAr\n",
      "----   ------  ------------------   ------  ------------------    ------  ------\n",
      "  1       1.0     -1.0 to 1.0      1.0     -1.0 to 1.0           0.0     0.0\n",
      "----   ------  ------------------   ------  ------------------    ------  ------\n",
      "\n",
      "Area    Disp Load Cap       Disp Load         Fixed Load        Total Load\n",
      " Num      MW     MVAr       MW     MVAr       MW     MVAr       MW     MVAr\n",
      "----    ------  ------    ------  ------    ------  ------    ------  ------\n",
      "  1        0.0     0.0       0.0     0.0       0.0     0.0       0.0     0.0\n",
      "----    ------  ------    ------  ------    ------  ------    ------  ------\n",
      "Tot:       0.0     0.0       0.0     0.0       0.0     0.0       0.0     0.0\n",
      "\n",
      "Area      Shunt Inj        Branch      Series Losses      Net Export\n",
      " Num      MW     MVAr     Charging      MW     MVAr       MW     MVAr\n",
      "----    ------  ------    --------    ------  ------    ------  ------\n",
      "  1        0.0     0.0        0.0       0.00    0.00       0.0     0.0\n",
      "----    ------  ------    --------    ------  ------    ------  ------\n",
      "Tot:       0.0     0.0        0.0       0.00    0.00       -       -\n",
      "\n",
      "================================================================================\n",
      "|     Generator Data                                                           |\n",
      "================================================================================\n",
      " Gen   Bus   Status     Pg        Qg   \n",
      "  #     #              (MW)     (MVAr) \n",
      "----  -----  ------  --------  --------\n",
      "  0      0      1       0.02      0.00\n",
      "                     --------  --------\n",
      "            Total:      0.02      0.00\n",
      "\n",
      "================================================================================\n",
      "|     Bus Data                                                                 |\n",
      "================================================================================\n",
      " Bus      Voltage          Generation             Load        \n",
      "  #   Mag(pu) Ang(deg)   P (MW)   Q (MVAr)   P (MW)   Q (MVAr)\n",
      "----- ------- --------  --------  --------  --------  --------\n",
      "    0  1.000    0.000*     0.02      0.00       -         -   \n",
      "    1  0.947   -1.210       -         -        0.01      0.00 \n",
      "    2  0.990   -0.579       -         -        0.01      0.00 \n",
      "                        --------  --------  --------  --------\n",
      "               Total:      0.02      0.00      0.02      0.00\n",
      "\n",
      "================================================================================\n",
      "|     Branch Data                                                              |\n",
      "================================================================================\n",
      "Brnch   From   To    From Bus Injection   To Bus Injection     Loss (I^2 * Z)  \n",
      "  #     Bus    Bus    P (MW)   Q (MVAr)   P (MW)   Q (MVAr)   P (MW)   Q (MVAr)\n",
      "-----  -----  -----  --------  --------  --------  --------  --------  --------\n",
      "   0      0      1      0.01      0.00     -0.01      0.00     0.001      0.00\n",
      "   1      2      0     -0.01      0.00      0.01      0.00     0.000      0.00\n",
      "                                                             --------  --------\n",
      "                                                    Total:     0.001      0.00\n"
     ]
    }
   ],
   "source": [
    "pp.runopp(net, verbose=True, suppress_warnings=False)"
   ]
  },
  {
   "cell_type": "code",
   "execution_count": 377,
   "id": "598b795f",
   "metadata": {},
   "outputs": [
    {
     "data": {
      "text/plain": [
       "0.020659621595850344"
      ]
     },
     "execution_count": 377,
     "metadata": {},
     "output_type": "execute_result"
    }
   ],
   "source": [
    "net.res_cost"
   ]
  },
  {
   "cell_type": "code",
   "execution_count": 378,
   "id": "87fdc282",
   "metadata": {},
   "outputs": [
    {
     "data": {
      "text/plain": [
       "array([1.        +0.j  , 0.94676616-0.02j, 0.98979587-0.01j])"
      ]
     },
     "execution_count": 378,
     "metadata": {},
     "output_type": "execute_result"
    }
   ],
   "source": [
    "V_polar = net.res_bus[[\"vm_pu\", \"va_degree\"]].to_numpy()\n",
    "V = V_polar[:,0] * np.exp(1j * (V_polar[:,1] / 180 * np.pi))\n",
    "V"
   ]
  },
  {
   "cell_type": "code",
   "execution_count": 379,
   "id": "da2af894",
   "metadata": {},
   "outputs": [
    {
     "data": {
      "text/plain": [
       "array([[1.        +0.j        , 0.94676616+0.02j      ,\n",
       "        0.98979587+0.01j      ],\n",
       "       [0.94676616-0.02j      , 0.89676616+0.j        ,\n",
       "        0.93730524-0.01032826j],\n",
       "       [0.98979587-0.01j      , 0.93730524+0.01032826j,\n",
       "        0.97979587+0.j        ]])"
      ]
     },
     "execution_count": 379,
     "metadata": {},
     "output_type": "execute_result"
    }
   ],
   "source": [
    "X = V.reshape(-1,1) @ V.conjugate().reshape(1,-1)\n",
    "X"
   ]
  },
  {
   "cell_type": "code",
   "execution_count": 380,
   "id": "b0ca4c24",
   "metadata": {},
   "outputs": [
    {
     "data": {
      "text/plain": [
       "array([[0.02065962, 0.00032509]])"
      ]
     },
     "execution_count": 380,
     "metadata": {},
     "output_type": "execute_result"
    }
   ],
   "source": [
    "np.concatenate((net.res_gen[[\"p_mw\", \"q_mvar\"]].to_numpy(), net.res_sgen[[\"p_mw\", \"q_mvar\"]].to_numpy(), net.res_ext_grid[[\"p_mw\", \"q_mvar\"]].to_numpy()))"
   ]
  },
  {
   "cell_type": "code",
   "execution_count": 381,
   "id": "bfcfc8bf",
   "metadata": {},
   "outputs": [],
   "source": [
    "# array([1.        +0.j  , 0.98979588-0.01j, 0.98979588-0.01j])"
   ]
  }
 ],
 "metadata": {
  "kernelspec": {
   "display_name": "Python 3 (ipykernel)",
   "language": "python",
   "name": "python3"
  },
  "language_info": {
   "codemirror_mode": {
    "name": "ipython",
    "version": 3
   },
   "file_extension": ".py",
   "mimetype": "text/x-python",
   "name": "python",
   "nbconvert_exporter": "python",
   "pygments_lexer": "ipython3",
   "version": "3.9.6"
  }
 },
 "nbformat": 4,
 "nbformat_minor": 5
}
