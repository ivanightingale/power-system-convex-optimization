{
 "cells": [
  {
   "cell_type": "code",
   "execution_count": 53,
   "id": "57f560c8",
   "metadata": {},
   "outputs": [],
   "source": [
    "import pandapower as pp\n",
    "import pandapower.networks as pn\n",
    "from pandapower.plotting import simple_plot\n",
    "\n",
    "import pandas as pd\n",
    "import numpy as np\n",
    "import cvxpy as cp\n",
    "import networkx as nx\n",
    "import custom_networks\n",
    "from solution_files_manager import SolutionFilesManager"
   ]
  },
  {
   "cell_type": "code",
   "execution_count": 54,
   "id": "38168c06",
   "metadata": {},
   "outputs": [],
   "source": [
    "import os\n",
    "folder = os.path.abspath(os.getcwd())"
   ]
  },
  {
   "cell_type": "markdown",
   "id": "7b8b5805",
   "metadata": {},
   "source": [
    "## Create network"
   ]
  },
  {
   "cell_type": "code",
   "execution_count": 55,
   "id": "b2331ef1",
   "metadata": {},
   "outputs": [],
   "source": [
    "case = \"case14\"\n",
    "case_type = 0\n",
    "is_custom = False\n",
    "net = custom_networks.get_case(case, case_type, is_custom)"
   ]
  },
  {
   "cell_type": "code",
   "execution_count": 56,
   "id": "230fef5a",
   "metadata": {},
   "outputs": [
    {
     "data": {
      "text/html": [
       "<div>\n",
       "<style scoped>\n",
       "    .dataframe tbody tr th:only-of-type {\n",
       "        vertical-align: middle;\n",
       "    }\n",
       "\n",
       "    .dataframe tbody tr th {\n",
       "        vertical-align: top;\n",
       "    }\n",
       "\n",
       "    .dataframe thead th {\n",
       "        text-align: right;\n",
       "    }\n",
       "</style>\n",
       "<table border=\"1\" class=\"dataframe\">\n",
       "  <thead>\n",
       "    <tr style=\"text-align: right;\">\n",
       "      <th></th>\n",
       "      <th>df</th>\n",
       "      <th>hv_bus</th>\n",
       "      <th>i0_percent</th>\n",
       "      <th>in_service</th>\n",
       "      <th>lv_bus</th>\n",
       "      <th>max_loading_percent</th>\n",
       "      <th>name</th>\n",
       "      <th>parallel</th>\n",
       "      <th>pfe_kw</th>\n",
       "      <th>shift_degree</th>\n",
       "      <th>...</th>\n",
       "      <th>tap_min</th>\n",
       "      <th>tap_phase_shifter</th>\n",
       "      <th>tap_pos</th>\n",
       "      <th>tap_side</th>\n",
       "      <th>tap_step_degree</th>\n",
       "      <th>tap_step_percent</th>\n",
       "      <th>vn_hv_kv</th>\n",
       "      <th>vn_lv_kv</th>\n",
       "      <th>vk_percent</th>\n",
       "      <th>vkr_percent</th>\n",
       "    </tr>\n",
       "  </thead>\n",
       "  <tbody>\n",
       "    <tr>\n",
       "      <th>0</th>\n",
       "      <td>1.0</td>\n",
       "      <td>3</td>\n",
       "      <td>0.0</td>\n",
       "      <td>True</td>\n",
       "      <td>6</td>\n",
       "      <td>100.0</td>\n",
       "      <td>None</td>\n",
       "      <td>1</td>\n",
       "      <td>0.0</td>\n",
       "      <td>0.0</td>\n",
       "      <td>...</td>\n",
       "      <td>NaN</td>\n",
       "      <td>False</td>\n",
       "      <td>-1.0</td>\n",
       "      <td>hv</td>\n",
       "      <td>NaN</td>\n",
       "      <td>2.2</td>\n",
       "      <td>135.0</td>\n",
       "      <td>14.000</td>\n",
       "      <td>2070.288</td>\n",
       "      <td>0.0</td>\n",
       "    </tr>\n",
       "    <tr>\n",
       "      <th>1</th>\n",
       "      <td>1.0</td>\n",
       "      <td>3</td>\n",
       "      <td>0.0</td>\n",
       "      <td>True</td>\n",
       "      <td>8</td>\n",
       "      <td>100.0</td>\n",
       "      <td>None</td>\n",
       "      <td>1</td>\n",
       "      <td>0.0</td>\n",
       "      <td>0.0</td>\n",
       "      <td>...</td>\n",
       "      <td>NaN</td>\n",
       "      <td>False</td>\n",
       "      <td>-1.0</td>\n",
       "      <td>hv</td>\n",
       "      <td>NaN</td>\n",
       "      <td>3.1</td>\n",
       "      <td>135.0</td>\n",
       "      <td>0.208</td>\n",
       "      <td>5506.182</td>\n",
       "      <td>0.0</td>\n",
       "    </tr>\n",
       "    <tr>\n",
       "      <th>2</th>\n",
       "      <td>1.0</td>\n",
       "      <td>4</td>\n",
       "      <td>0.0</td>\n",
       "      <td>True</td>\n",
       "      <td>5</td>\n",
       "      <td>100.0</td>\n",
       "      <td>None</td>\n",
       "      <td>1</td>\n",
       "      <td>0.0</td>\n",
       "      <td>0.0</td>\n",
       "      <td>...</td>\n",
       "      <td>NaN</td>\n",
       "      <td>False</td>\n",
       "      <td>-1.0</td>\n",
       "      <td>hv</td>\n",
       "      <td>NaN</td>\n",
       "      <td>6.8</td>\n",
       "      <td>135.0</td>\n",
       "      <td>0.208</td>\n",
       "      <td>2494.998</td>\n",
       "      <td>0.0</td>\n",
       "    </tr>\n",
       "    <tr>\n",
       "      <th>3</th>\n",
       "      <td>1.0</td>\n",
       "      <td>6</td>\n",
       "      <td>0.0</td>\n",
       "      <td>True</td>\n",
       "      <td>7</td>\n",
       "      <td>100.0</td>\n",
       "      <td>None</td>\n",
       "      <td>1</td>\n",
       "      <td>0.0</td>\n",
       "      <td>0.0</td>\n",
       "      <td>...</td>\n",
       "      <td>NaN</td>\n",
       "      <td>False</td>\n",
       "      <td>NaN</td>\n",
       "      <td>None</td>\n",
       "      <td>NaN</td>\n",
       "      <td>NaN</td>\n",
       "      <td>14.0</td>\n",
       "      <td>12.000</td>\n",
       "      <td>1743.885</td>\n",
       "      <td>0.0</td>\n",
       "    </tr>\n",
       "    <tr>\n",
       "      <th>4</th>\n",
       "      <td>1.0</td>\n",
       "      <td>6</td>\n",
       "      <td>0.0</td>\n",
       "      <td>True</td>\n",
       "      <td>8</td>\n",
       "      <td>100.0</td>\n",
       "      <td>None</td>\n",
       "      <td>1</td>\n",
       "      <td>0.0</td>\n",
       "      <td>0.0</td>\n",
       "      <td>...</td>\n",
       "      <td>NaN</td>\n",
       "      <td>False</td>\n",
       "      <td>NaN</td>\n",
       "      <td>None</td>\n",
       "      <td>NaN</td>\n",
       "      <td>NaN</td>\n",
       "      <td>14.0</td>\n",
       "      <td>0.208</td>\n",
       "      <td>1089.099</td>\n",
       "      <td>0.0</td>\n",
       "    </tr>\n",
       "  </tbody>\n",
       "</table>\n",
       "<p>5 rows × 24 columns</p>\n",
       "</div>"
      ],
      "text/plain": [
       "    df  hv_bus  i0_percent  in_service  lv_bus  max_loading_percent  name  \\\n",
       "0  1.0       3         0.0        True       6                100.0  None   \n",
       "1  1.0       3         0.0        True       8                100.0  None   \n",
       "2  1.0       4         0.0        True       5                100.0  None   \n",
       "3  1.0       6         0.0        True       7                100.0  None   \n",
       "4  1.0       6         0.0        True       8                100.0  None   \n",
       "\n",
       "   parallel  pfe_kw  shift_degree  ...  tap_min tap_phase_shifter  tap_pos  \\\n",
       "0         1     0.0           0.0  ...      NaN             False     -1.0   \n",
       "1         1     0.0           0.0  ...      NaN             False     -1.0   \n",
       "2         1     0.0           0.0  ...      NaN             False     -1.0   \n",
       "3         1     0.0           0.0  ...      NaN             False      NaN   \n",
       "4         1     0.0           0.0  ...      NaN             False      NaN   \n",
       "\n",
       "   tap_side  tap_step_degree  tap_step_percent  vn_hv_kv vn_lv_kv  vk_percent  \\\n",
       "0        hv              NaN               2.2     135.0   14.000    2070.288   \n",
       "1        hv              NaN               3.1     135.0    0.208    5506.182   \n",
       "2        hv              NaN               6.8     135.0    0.208    2494.998   \n",
       "3      None              NaN               NaN      14.0   12.000    1743.885   \n",
       "4      None              NaN               NaN      14.0    0.208    1089.099   \n",
       "\n",
       "   vkr_percent  \n",
       "0          0.0  \n",
       "1          0.0  \n",
       "2          0.0  \n",
       "3          0.0  \n",
       "4          0.0  \n",
       "\n",
       "[5 rows x 24 columns]"
      ]
     },
     "execution_count": 56,
     "metadata": {},
     "output_type": "execute_result"
    }
   ],
   "source": [
    "net.trafo"
   ]
  },
  {
   "cell_type": "code",
   "execution_count": 57,
   "id": "1a51c0ea",
   "metadata": {},
   "outputs": [],
   "source": [
    "net.trafo[\"tap_step_percent\"] = np.nan"
   ]
  },
  {
   "cell_type": "code",
   "execution_count": 59,
   "id": "3ab7b557",
   "metadata": {},
   "outputs": [],
   "source": [
    "# # deprecated\n",
    "# net.bus[\"zone\"] = None\n",
    "# net.load = net.load.drop([\"controllable\"], axis=1)\n",
    "# net.load[\"type\"] = \"wye\"\n",
    "# net.line.drop([\"max_loading_percent\"], axis=1)\n",
    "# net.line[\"type\"] = None\n",
    "# net.f_hz = 50\n",
    "\n",
    "# net.line[\"max_i_ka\"] = np.zeros(len(net.line))\n",
    "# net.line[\"c_nf_per_km\"] = np.zeros(len(net.line))"
   ]
  },
  {
   "cell_type": "code",
   "execution_count": 60,
   "id": "d6abbcdc",
   "metadata": {},
   "outputs": [],
   "source": [
    "# # convert all values to p.u.; no longer used\n",
    "\n",
    "# # parameters\n",
    "# net.load[\"p_mw\"] = net.load[\"p_mw\"] / net.sn_mva\n",
    "# net.load[\"q_mvar\"] = net.load[\"q_mvar\"] / net.sn_mva\n",
    "\n",
    "# net.line[\"r_ohm_per_km\"] = np.array((net.line['r_ohm_per_km'] * net.line[\"length_km\"] * net.sn_mva / net.line['parallel'])) / ((net.bus.loc[net.line.from_bus.values, \"vn_kv\"].values) ** 2)\n",
    "# net.line[\"x_ohm_per_km\"] = np.array((net.line['x_ohm_per_km'] * net.line[\"length_km\"] * net.sn_mva / net.line['parallel'])) / ((net.bus.loc[net.line.from_bus.values, \"vn_kv\"].values) ** 2)\n",
    "\n",
    "# # bounds\n",
    "# for col_name in [\"max_p_mw\", \"min_p_mw\", \"max_q_mvar\", \"min_q_mvar\"]:\n",
    "#     net.gen[col_name] = net.gen[col_name] / net.sn_mva\n",
    "#     net.ext_grid[col_name] = net.ext_grid[col_name] / net.sn_mva\n",
    "\n",
    "\n",
    "# net.bus[\"vn_kv\"] = 1\n",
    "# net.sn_mva = 1"
   ]
  },
  {
   "cell_type": "code",
   "execution_count": 61,
   "id": "539ae159",
   "metadata": {
    "scrolled": true
   },
   "outputs": [
    {
     "data": {
      "image/png": "[encoded data removed]",
      "text/plain": [
       "<Figure size 720x576 with 1 Axes>"
      ]
     },
     "metadata": {},
     "output_type": "display_data"
    },
    {
     "data": {
      "text/plain": [
       "<AxesSubplot:>"
      ]
     },
     "execution_count": 61,
     "metadata": {},
     "output_type": "execute_result"
    }
   ],
   "source": [
    "simple_plot(net, plot_loads=True, plot_sgens=True)"
   ]
  },
  {
   "cell_type": "markdown",
   "id": "8d24a1f9",
   "metadata": {},
   "source": [
    "## Solve"
   ]
  },
  {
   "cell_type": "code",
   "execution_count": 62,
   "id": "68d64092",
   "metadata": {
    "scrolled": false
   },
   "outputs": [
    {
     "name": "stderr",
     "output_type": "stream",
     "text": [
      "gen vm_pu > bus max_vm_pu for gens [2 3]. Setting bus limit for these gens.\n",
      "/home/ivanightingale/anaconda3/envs/power/lib/python3.9/site-packages/pandapower/pypower/pipsopf_solver.py:167: ComplexWarning: Casting complex values to real discards the imaginary part\n",
      "  Sf = V[ branch[:, F_BUS].astype(int) ] * conj(Yf * V)  ## cplx pwr at \"from\" bus, p[\"u\"].\n",
      "/home/ivanightingale/anaconda3/envs/power/lib/python3.9/site-packages/pandapower/pypower/pipsopf_solver.py:168: ComplexWarning: Casting complex values to real discards the imaginary part\n",
      "  St = V[ branch[:, T_BUS].astype(int) ] * conj(Yt * V)  ## cplx pwr at \"to\" bus, p[\"u\"].\n",
      "/home/ivanightingale/anaconda3/envs/power/lib/python3.9/site-packages/pandapower/pypower/pipsopf_solver.py:179: ComplexWarning: Casting complex values to real discards the imaginary part\n",
      "  muSf[il] = \\\n",
      "/home/ivanightingale/anaconda3/envs/power/lib/python3.9/site-packages/pandapower/pypower/pipsopf_solver.py:181: ComplexWarning: Casting complex values to real discards the imaginary part\n",
      "  muSt[il] = \\\n"
     ]
    }
   ],
   "source": [
    "pp.runopp(net, verbose=False, suppress_warnings=False)"
   ]
  },
  {
   "cell_type": "code",
   "execution_count": 63,
   "id": "598b795f",
   "metadata": {},
   "outputs": [
    {
     "data": {
      "text/plain": [
       "8079.95526588136"
      ]
     },
     "execution_count": 63,
     "metadata": {},
     "output_type": "execute_result"
    }
   ],
   "source": [
    "net.res_cost"
   ]
  },
  {
   "cell_type": "markdown",
   "id": "2380d928",
   "metadata": {},
   "source": [
    "### Save solution"
   ]
  },
  {
   "cell_type": "code",
   "execution_count": 64,
   "id": "13eed13a",
   "metadata": {},
   "outputs": [],
   "source": [
    "sfm = SolutionFilesManager(folder, case, case_type, \"orig\")"
   ]
  },
  {
   "cell_type": "code",
   "execution_count": 65,
   "id": "87fdc282",
   "metadata": {
    "scrolled": true
   },
   "outputs": [
    {
     "data": {
      "text/plain": [
       "array([[1.06      +0.j        ],\n",
       "       [1.0360069 -0.07204851j],\n",
       "       [1.00049149-0.17440597j],\n",
       "       [1.00863842-0.15553903j],\n",
       "       [1.01605453-0.13458846j],\n",
       "       [1.00447934-0.23386371j],\n",
       "       [1.01260946-0.2063982j ],\n",
       "       [1.04110631-0.19824474j],\n",
       "       [0.9969015 -0.23824527j],\n",
       "       [0.98959726-0.24104759j],\n",
       "       [0.99301542-0.23914028j],\n",
       "       [0.98633553-0.24574362j],\n",
       "       [0.9819655 -0.24579464j],\n",
       "       [0.96773491-0.25526852j]])"
      ]
     },
     "execution_count": 65,
     "metadata": {},
     "output_type": "execute_result"
    }
   ],
   "source": [
    "V_polar = net.res_bus[[\"vm_pu\", \"va_degree\"]].to_numpy()\n",
    "V = V_polar[:,[0]] * np.exp(1j * (V_polar[:,[1]] / 180 * np.pi))\n",
    "V"
   ]
  },
  {
   "cell_type": "code",
   "execution_count": 66,
   "id": "b0ca4c24",
   "metadata": {},
   "outputs": [],
   "source": [
    "p_g = np.concatenate((net.res_ext_grid[[\"p_mw\"]].to_numpy(), net.res_gen[[\"p_mw\"]].to_numpy(), net.res_sgen[[\"p_mw\"]].to_numpy())) \\\n",
    "    / net.sn_mva\n",
    "q_g = np.concatenate((net.res_ext_grid[[\"q_mvar\"]].to_numpy(), net.res_gen[[\"q_mvar\"]].to_numpy(), net.res_sgen[[\"q_mvar\"]].to_numpy())) \\\n",
    "    / net.sn_mva"
   ]
  },
  {
   "cell_type": "code",
   "execution_count": 67,
   "id": "58233b38",
   "metadata": {},
   "outputs": [
    {
     "data": {
      "text/plain": [
       "array([[1.94477216e+00],\n",
       "       [3.67478042e-01],\n",
       "       [2.90077404e-01],\n",
       "       [3.65617411e-06],\n",
       "       [8.02609604e-02]])"
      ]
     },
     "execution_count": 67,
     "metadata": {},
     "output_type": "execute_result"
    }
   ],
   "source": [
    "p_g"
   ]
  },
  {
   "cell_type": "code",
   "execution_count": 68,
   "id": "15a9547d",
   "metadata": {},
   "outputs": [],
   "source": [
    "# sfm.save_solution(net.res_cost, V, p_g, q_g)"
   ]
  },
  {
   "cell_type": "code",
   "execution_count": null,
   "id": "2ab38652",
   "metadata": {},
   "outputs": [],
   "source": []
  }
 ],
 "metadata": {
  "kernelspec": {
   "display_name": "Python 3 (ipykernel)",
   "language": "python",
   "name": "python3"
  },
  "language_info": {
   "codemirror_mode": {
    "name": "ipython",
    "version": 3
   },
   "file_extension": ".py",
   "mimetype": "text/x-python",
   "name": "python",
   "nbconvert_exporter": "python",
   "pygments_lexer": "ipython3",
   "version": "3.9.6"
  }
 },
 "nbformat": 4,
 "nbformat_minor": 5
}
