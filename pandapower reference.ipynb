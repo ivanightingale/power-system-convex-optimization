{
 "cells": [
  {
   "cell_type": "code",
   "execution_count": 1,
   "id": "57f560c8",
   "metadata": {},
   "outputs": [],
   "source": [
    "import pandapower as pp\n",
    "import pandapower.networks as pn\n",
    "from pandapower.plotting import simple_plot\n",
    "\n",
    "import pandas as pd\n",
    "import numpy as np\n",
    "import cvxpy as cp\n",
    "import networkx as nx\n",
    "import custom_networks\n",
    "from solution_files_manager import SolutionFilesManager"
   ]
  },
  {
   "cell_type": "code",
   "execution_count": 2,
   "id": "38168c06",
   "metadata": {},
   "outputs": [],
   "source": [
    "import os\n",
    "folder = os.path.abspath(os.getcwd())"
   ]
  },
  {
   "cell_type": "markdown",
   "id": "7b8b5805",
   "metadata": {},
   "source": [
    "## Create network"
   ]
  },
  {
   "cell_type": "code",
   "execution_count": 3,
   "id": "b2331ef1",
   "metadata": {},
   "outputs": [],
   "source": [
    "case = \"ccase3_radial\"\n",
    "case_type = 0\n",
    "net = custom_networks.ccase3_radial(case_type)"
   ]
  },
  {
   "cell_type": "code",
   "execution_count": 4,
   "id": "2b8b27bd",
   "metadata": {},
   "outputs": [],
   "source": [
    "# net = pn.case6ww()\n",
    "# # net.sn_mva = 100"
   ]
  },
  {
   "cell_type": "code",
   "execution_count": 5,
   "id": "a349d799",
   "metadata": {},
   "outputs": [],
   "source": [
    "# net = pn.case9()\n",
    "# net.sn_mva = 100"
   ]
  },
  {
   "cell_type": "code",
   "execution_count": 7,
   "id": "8abb2dad",
   "metadata": {},
   "outputs": [],
   "source": [
    "# # obtain a NetworkX Graph from the network, with each edge containing p.u. impedance data\n",
    "# graph = pp.topology.create_nxgraph(net, multi=False, calc_branch_impedances=True, branch_impedance_unit=\"pu\")\n",
    "# graph.edges(data=True)"
   ]
  },
  {
   "cell_type": "code",
   "execution_count": 8,
   "id": "539ae159",
   "metadata": {
    "scrolled": true
   },
   "outputs": [
    {
     "name": "stderr",
     "output_type": "stream",
     "text": [
      "No or insufficient geodata available --> Creating artificial coordinates. This may take some time\n"
     ]
    },
    {
     "data": {
      "image/png": "[encoded data removed]",
      "text/plain": [
       "<Figure size 720x576 with 1 Axes>"
      ]
     },
     "metadata": {},
     "output_type": "display_data"
    },
    {
     "data": {
      "text/plain": [
       "<AxesSubplot:>"
      ]
     },
     "execution_count": 8,
     "metadata": {},
     "output_type": "execute_result"
    }
   ],
   "source": [
    "simple_plot(net, plot_loads=True, plot_sgens=True)"
   ]
  },
  {
   "cell_type": "markdown",
   "id": "8d24a1f9",
   "metadata": {},
   "source": [
    "## Solve"
   ]
  },
  {
   "cell_type": "code",
   "execution_count": 9,
   "id": "68d64092",
   "metadata": {
    "scrolled": false
   },
   "outputs": [
    {
     "name": "stderr",
     "output_type": "stream",
     "text": [
      "/home/ivanightingale/anaconda3/envs/power/lib/python3.9/site-packages/pandapower/pypower/pipsopf_solver.py:167: ComplexWarning: Casting complex values to real discards the imaginary part\n",
      "  Sf = V[ branch[:, F_BUS].astype(int) ] * conj(Yf * V)  ## cplx pwr at \"from\" bus, p[\"u\"].\n",
      "/home/ivanightingale/anaconda3/envs/power/lib/python3.9/site-packages/pandapower/pypower/pipsopf_solver.py:168: ComplexWarning: Casting complex values to real discards the imaginary part\n",
      "  St = V[ branch[:, T_BUS].astype(int) ] * conj(Yt * V)  ## cplx pwr at \"to\" bus, p[\"u\"].\n",
      "/home/ivanightingale/anaconda3/envs/power/lib/python3.9/site-packages/pandapower/results_branch.py:141: RuntimeWarning: divide by zero encountered in true_divide\n",
      "  res_line_df[\"loading_percent\"].values[:] = i_ka / i_max * 100\n"
     ]
    }
   ],
   "source": [
    "pp.runopp(net, verbose=False, suppress_warnings=False)"
   ]
  },
  {
   "cell_type": "code",
   "execution_count": 10,
   "id": "598b795f",
   "metadata": {},
   "outputs": [
    {
     "data": {
      "text/plain": [
       "0.020204124412845297"
      ]
     },
     "execution_count": 10,
     "metadata": {},
     "output_type": "execute_result"
    }
   ],
   "source": [
    "net.res_cost"
   ]
  },
  {
   "cell_type": "markdown",
   "id": "2380d928",
   "metadata": {},
   "source": [
    "### Save solution"
   ]
  },
  {
   "cell_type": "code",
   "execution_count": null,
   "id": "13eed13a",
   "metadata": {},
   "outputs": [],
   "source": [
    "sfm = SolutionFilesManager(folder, case, case_type, \"orig\")"
   ]
  },
  {
   "cell_type": "code",
   "execution_count": 28,
   "id": "87fdc282",
   "metadata": {},
   "outputs": [
    {
     "data": {
      "text/plain": [
       "array([[1.        +0.j  ],\n",
       "       [0.98979588-0.01j],\n",
       "       [0.98979588-0.01j]])"
      ]
     },
     "execution_count": 28,
     "metadata": {},
     "output_type": "execute_result"
    }
   ],
   "source": [
    "V_polar = net.res_bus[[\"vm_pu\", \"va_degree\"]].to_numpy()\n",
    "V = V_polar[:,[0]] * np.exp(1j * (V_polar[:,[1]] / 180 * np.pi))\n",
    "V"
   ]
  },
  {
   "cell_type": "code",
   "execution_count": 29,
   "id": "b0ca4c24",
   "metadata": {},
   "outputs": [],
   "source": [
    "p_g = np.concatenate((net.res_gen[[\"p_mw\"]].to_numpy(), net.res_sgen[[\"p_mw\"]].to_numpy(), net.res_ext_grid[[\"p_mw\"]].to_numpy())) \\\n",
    "    / net.sn_mva\n",
    "q_g = np.concatenate((net.res_gen[[\"q_mvar\"]].to_numpy(), net.res_sgen[[\"q_mvar\"]].to_numpy(), net.res_ext_grid[[\"q_mvar\"]].to_numpy())) \\\n",
    "    / net.sn_mva"
   ]
  },
  {
   "cell_type": "code",
   "execution_count": 30,
   "id": "15a9547d",
   "metadata": {},
   "outputs": [],
   "source": [
    "sfm.save_solution(net.res_cost, V, p_g, q_g)"
   ]
  },
  {
   "cell_type": "code",
   "execution_count": null,
   "id": "2ab38652",
   "metadata": {},
   "outputs": [],
   "source": []
  }
 ],
 "metadata": {
  "kernelspec": {
   "display_name": "Python 3 (ipykernel)",
   "language": "python",
   "name": "python3"
  },
  "language_info": {
   "codemirror_mode": {
    "name": "ipython",
    "version": 3
   },
   "file_extension": ".py",
   "mimetype": "text/x-python",
   "name": "python",
   "nbconvert_exporter": "python",
   "pygments_lexer": "ipython3",
   "version": "3.9.6"
  }
 },
 "nbformat": 4,
 "nbformat_minor": 5
}
