{
 "cells": [
  {
   "cell_type": "code",
   "execution_count": 1,
   "id": "57f560c8",
   "metadata": {
    "pycharm": {
     "name": "#%%\n"
    }
   },
   "outputs": [],
   "source": [
    "import pandapower as pp\n",
    "import pandapower.networks as pn\n",
    "from pandapower.plotting import simple_plot\n",
    "\n",
    "import pandas as pd\n",
    "import numpy as np\n",
    "import cvxpy as cp\n",
    "import networkx as nx\n",
    "import custom_networks\n",
    "from solution_files_manager import SolutionFilesManager"
   ]
  },
  {
   "cell_type": "code",
   "execution_count": 2,
   "id": "38168c06",
   "metadata": {
    "pycharm": {
     "name": "#%%\n"
    }
   },
   "outputs": [],
   "source": [
    "import os\n",
    "folder = os.path.abspath(os.getcwd())"
   ]
  },
  {
   "cell_type": "markdown",
   "id": "7b8b5805",
   "metadata": {
    "pycharm": {
     "name": "#%% md\n"
    }
   },
   "source": [
    "## Create network"
   ]
  },
  {
   "cell_type": "code",
   "execution_count": 3,
   "id": "b2331ef1",
   "metadata": {
    "pycharm": {
     "name": "#%%\n"
    }
   },
   "outputs": [],
   "source": [
    "case = \"case9\"\n",
    "net = custom_networks.get_case(case)"
   ]
  },
  {
   "cell_type": "code",
   "execution_count": 4,
   "id": "4c712ee6",
   "metadata": {
    "pycharm": {
     "name": "#%%\n"
    }
   },
   "outputs": [],
   "source": [
    "# net.trafo[\"tap_step_percent\"] = np.nan\n",
    "# net.trafo[\"tap_side\"] = None\n",
    "# net.trafo[\"tap_pos\"] = np.nan\n",
    "# net.trafo[\"tap_neutral\"] = 0"
   ]
  },
  {
   "cell_type": "code",
   "execution_count": 5,
   "id": "a48d5658",
   "metadata": {
    "pycharm": {
     "name": "#%%\n"
    }
   },
   "outputs": [],
   "source": [
    "# net.trafo.at[0, \"tap_step_percent\"] = 2.0\n",
    "# net.trafo.at[1, \"tap_step_percent\"] = 2.0\n",
    "# net.trafo.at[10, \"tap_step_percent\"] = 2.0"
   ]
  },
  {
   "cell_type": "code",
   "execution_count": 6,
   "id": "1a51c0ea",
   "metadata": {
    "pycharm": {
     "name": "#%%\n"
    }
   },
   "outputs": [],
   "source": [
    "# net.trafo[\"tap_step_percent\"] = 10.0\n",
    "# net.trafo.loc[net.trafo[\"tap_side\"].isna(), [\"tap_step_percent\"]] = np.nan\n",
    "\n",
    "# net.trafo[\"vk_percent\"] = 0\n",
    "# net.trafo[\"sn_mva\"] = 0\n",
    "# net.trafo[\"max_loading_percent\"] = 0  # no effect"
   ]
  },
  {
   "cell_type": "code",
   "execution_count": 7,
   "id": "3ab7b557",
   "metadata": {
    "pycharm": {
     "name": "#%%\n"
    }
   },
   "outputs": [],
   "source": [
    "# # deprecated\n",
    "# net.bus[\"zone\"] = None\n",
    "# net.load = net.load.drop([\"controllable\"], axis=1)\n",
    "# net.load[\"type\"] = \"wye\"\n",
    "# net.line.drop([\"max_loading_percent\"], axis=1)\n",
    "# net.line[\"type\"] = None\n",
    "# net.f_hz = 50\n",
    "\n",
    "# net.line[\"max_i_ka\"] = np.zeros(len(net.line))\n",
    "# net.line[\"c_nf_per_km\"] = np.zeros(len(net.line))"
   ]
  },
  {
   "cell_type": "code",
   "execution_count": 8,
   "id": "d6abbcdc",
   "metadata": {
    "pycharm": {
     "name": "#%%\n"
    }
   },
   "outputs": [],
   "source": [
    "# # convert all values to p.u.; no longer used\n",
    "\n",
    "# # parameters\n",
    "# net.load[\"p_mw\"] = net.load[\"p_mw\"] / net.sn_mva\n",
    "# net.load[\"q_mvar\"] = net.load[\"q_mvar\"] / net.sn_mva\n",
    "\n",
    "# net.line[\"r_ohm_per_km\"] = np.array((net.line['r_ohm_per_km'] * net.line[\"length_km\"] * net.sn_mva / net.line['parallel'])) / ((net.bus.loc[net.line.from_bus.values, \"vn_kv\"].values) ** 2)\n",
    "# net.line[\"x_ohm_per_km\"] = np.array((net.line['x_ohm_per_km'] * net.line[\"length_km\"] * net.sn_mva / net.line['parallel'])) / ((net.bus.loc[net.line.from_bus.values, \"vn_kv\"].values) ** 2)\n",
    "\n",
    "# # bounds\n",
    "# for col_name in [\"max_p_mw\", \"min_p_mw\", \"max_q_mvar\", \"min_q_mvar\"]:\n",
    "#     net.gen[col_name] = net.gen[col_name] / net.sn_mva\n",
    "#     net.ext_grid[col_name] = net.ext_grid[col_name] / net.sn_mva\n",
    "\n",
    "\n",
    "# net.bus[\"vn_kv\"] = 1\n",
    "# net.sn_mva = 1"
   ]
  },
  {
   "cell_type": "code",
   "execution_count": 9,
   "id": "539ae159",
   "metadata": {
    "scrolled": true,
    "pycharm": {
     "name": "#%%\n"
    }
   },
   "outputs": [
    {
     "data": {
      "text/plain": "<Figure size 720x576 with 1 Axes>",
      "image/png": "[encoded data removed]"
     },
     "metadata": {},
     "output_type": "display_data"
    },
    {
     "data": {
      "text/plain": "<AxesSubplot:>"
     },
     "execution_count": 9,
     "metadata": {},
     "output_type": "execute_result"
    }
   ],
   "source": [
    "simple_plot(net, plot_loads=True, plot_sgens=True)"
   ]
  },
  {
   "cell_type": "markdown",
   "id": "8d24a1f9",
   "metadata": {
    "pycharm": {
     "name": "#%% md\n"
    }
   },
   "source": [
    "## Solve"
   ]
  },
  {
   "cell_type": "code",
   "execution_count": 10,
   "id": "68d64092",
   "metadata": {
    "scrolled": false,
    "pycharm": {
     "name": "#%%\n"
    }
   },
   "outputs": [
    {
     "name": "stderr",
     "output_type": "stream",
     "text": [
      "numba cannot be imported and numba functions are disabled.\n",
      "Probably the execution is slow.\n",
      "Please install numba to gain a massive speedup.\n",
      "(or if you prefer slow execution, set the flag numba=False to avoid this warning!)\n",
      "\n"
     ]
    }
   ],
   "source": [
    "pp.runopp(net, verbose=False, suppress_warnings=True)"
   ]
  },
  {
   "cell_type": "code",
   "execution_count": 11,
   "id": "598b795f",
   "metadata": {
    "pycharm": {
     "name": "#%%\n"
    }
   },
   "outputs": [
    {
     "data": {
      "text/plain": "5311.9118441746705"
     },
     "execution_count": 11,
     "metadata": {},
     "output_type": "execute_result"
    }
   ],
   "source": [
    "net.res_cost"
   ]
  },
  {
   "cell_type": "markdown",
   "id": "2380d928",
   "metadata": {
    "pycharm": {
     "name": "#%% md\n"
    }
   },
   "source": [
    "### Save solution"
   ]
  },
  {
   "cell_type": "code",
   "execution_count": 12,
   "id": "87fdc282",
   "metadata": {
    "scrolled": true,
    "pycharm": {
     "name": "#%%\n"
    }
   },
   "outputs": [],
   "source": [
    "V_polar = net.res_bus[[\"vm_pu\", \"va_degree\"]].to_numpy()\n",
    "V = V_polar[:,[0]] * np.exp(1j * (V_polar[:,[1]] / 180 * np.pi))"
   ]
  },
  {
   "cell_type": "code",
   "execution_count": 13,
   "id": "b0ca4c24",
   "metadata": {
    "pycharm": {
     "name": "#%%\n"
    }
   },
   "outputs": [],
   "source": [
    "p_g = np.concatenate((net.res_ext_grid[[\"p_mw\"]].to_numpy(), net.res_gen[[\"p_mw\"]].to_numpy(), net.res_sgen[[\"p_mw\"]].to_numpy())) \\\n",
    "    / net.sn_mva\n",
    "q_g = np.concatenate((net.res_ext_grid[[\"q_mvar\"]].to_numpy(), net.res_gen[[\"q_mvar\"]].to_numpy(), net.res_sgen[[\"q_mvar\"]].to_numpy())) \\\n",
    "    / net.sn_mva"
   ]
  },
  {
   "cell_type": "code",
   "execution_count": 14,
   "outputs": [
    {
     "data": {
      "text/plain": "array([[0.90120331],\n       [1.34482648],\n       [0.94326645]])"
     },
     "execution_count": 14,
     "metadata": {},
     "output_type": "execute_result"
    }
   ],
   "source": [
    "p_g"
   ],
   "metadata": {
    "collapsed": false,
    "pycharm": {
     "name": "#%%\n"
    }
   }
  },
  {
   "cell_type": "code",
   "execution_count": 15,
   "id": "15a9547d",
   "metadata": {
    "pycharm": {
     "name": "#%%\n"
    }
   },
   "outputs": [],
   "source": [
    "sfm = SolutionFilesManager(folder, case, \"orig\")\n",
    "sfm.save_solution(net.res_cost, V, p_g, q_g)"
   ]
  },
  {
   "cell_type": "code",
   "execution_count": 15,
   "id": "2ab38652",
   "metadata": {
    "pycharm": {
     "name": "#%%\n"
    }
   },
   "outputs": [],
   "source": []
  }
 ],
 "metadata": {
  "kernelspec": {
   "display_name": "Python 3 (ipykernel)",
   "language": "python",
   "name": "python3"
  },
  "language_info": {
   "codemirror_mode": {
    "name": "ipython",
    "version": 3
   },
   "file_extension": ".py",
   "mimetype": "text/x-python",
   "name": "python",
   "nbconvert_exporter": "python",
   "pygments_lexer": "ipython3",
   "version": "3.9.6"
  }
 },
 "nbformat": 4,
 "nbformat_minor": 5
}