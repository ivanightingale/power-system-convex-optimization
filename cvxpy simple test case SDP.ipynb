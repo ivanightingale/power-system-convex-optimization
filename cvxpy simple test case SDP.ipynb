{
 "cells": [
  {
   "cell_type": "code",
   "execution_count": 1,
   "id": "57f560c8",
   "metadata": {},
   "outputs": [],
   "source": [
    "import pandapower as pp\n",
    "import pandapower.networks as pn\n",
    "from pandapower.plotting import simple_plot\n",
    "\n",
    "import pandas as pd\n",
    "import numpy as np\n",
    "import cvxpy as cp\n",
    "import networkx as nx"
   ]
  },
  {
   "cell_type": "markdown",
   "id": "7b8b5805",
   "metadata": {},
   "source": [
    "## Create network"
   ]
  },
  {
   "cell_type": "code",
   "execution_count": 23,
   "id": "fe123c87",
   "metadata": {},
   "outputs": [
    {
     "data": {
      "text/plain": [
       "1"
      ]
     },
     "execution_count": 23,
     "metadata": {},
     "output_type": "execute_result"
    }
   ],
   "source": [
    "net = pp.create_empty_network(sn_mva=1)\n",
    "\n",
    "# buses\n",
    "pp.create_bus(net, vn_kv=1, max_vm_pu=0, min_vm_pu=0, index=0)\n",
    "pp.create_bus(net, vn_kv=1, max_vm_pu=0, min_vm_pu=0, index=1)\n",
    "pp.create_bus(net, vn_kv=1, max_vm_pu=0, min_vm_pu=0, index=2)\n",
    "\n",
    "#lines\n",
    "pp.create_line_from_parameters(net, 0, 1, length_km=1, r_ohm_per_km=1, x_ohm_per_km=1, c_nf_per_km=0, max_i_ka=0, index=0)\n",
    "pp.create_line_from_parameters(net, 1, 2, length_km=1, r_ohm_per_km=1, x_ohm_per_km=1, c_nf_per_km=0, max_i_ka=0, index=1)\n",
    "pp.create_line_from_parameters(net, 2, 0, length_km=1, r_ohm_per_km=1, x_ohm_per_km=1, c_nf_per_km=0, max_i_ka=0, index=2)\n",
    "\n",
    "# generators\n",
    "pp.create_ext_grid(net, 0, max_p_mw=0, min_p_mw=0, max_q_mvar=0, min_q_mvar=0, index=0)\n",
    "\n",
    "# loads\n",
    "pp.create_load(net, 1, p_mw=0, index=0, max_p_mw=0, min_p_mw=0, max_q_mvar=0, min_q_mvar=0)\n",
    "pp.create_load(net, 2, p_mw=0, index=1, max_p_mw=0, min_p_mw=0, max_q_mvar=0, min_q_mvar=1)"
   ]
  },
  {
   "cell_type": "code",
   "execution_count": 24,
   "id": "539ae159",
   "metadata": {},
   "outputs": [
    {
     "name": "stderr",
     "output_type": "stream",
     "text": [
      "No or insufficient geodata available --> Creating artificial coordinates. This may take some time\n"
     ]
    },
    {
     "data": {
      "image/png": "[encoded data removed]",
      "text/plain": [
       "<Figure size 720x576 with 1 Axes>"
      ]
     },
     "metadata": {},
     "output_type": "display_data"
    },
    {
     "data": {
      "text/plain": [
       "<AxesSubplot:>"
      ]
     },
     "execution_count": 24,
     "metadata": {},
     "output_type": "execute_result"
    }
   ],
   "source": [
    "simple_plot(net, plot_loads=True, plot_sgens=True)"
   ]
  },
  {
   "cell_type": "code",
   "execution_count": null,
   "id": "68d64092",
   "metadata": {},
   "outputs": [],
   "source": []
  }
 ],
 "metadata": {
  "kernelspec": {
   "display_name": "Python 3 (ipykernel)",
   "language": "python",
   "name": "python3"
  },
  "language_info": {
   "codemirror_mode": {
    "name": "ipython",
    "version": 3
   },
   "file_extension": ".py",
   "mimetype": "text/x-python",
   "name": "python",
   "nbconvert_exporter": "python",
   "pygments_lexer": "ipython3",
   "version": "3.9.6"
  }
 },
 "nbformat": 4,
 "nbformat_minor": 5
}
