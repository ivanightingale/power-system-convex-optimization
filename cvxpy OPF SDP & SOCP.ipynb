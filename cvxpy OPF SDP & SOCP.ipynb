{
 "cells": [
  {
   "cell_type": "code",
   "execution_count": 1,
   "id": "8690c1c7",
   "metadata": {
    "pycharm": {
     "name": "#%%\n"
    }
   },
   "outputs": [],
   "source": [
    "import pandapower as pp\n",
    "import pandapower.networks as pn\n",
    "from pandapower.plotting import simple_plot\n",
    "\n",
    "import pandas as pd\n",
    "import numpy as np\n",
    "from numpy.random import default_rng\n",
    "import cvxpy as cp\n",
    "import networkx as nx\n",
    "import mosek\n",
    "import custom_networks\n",
    "\n",
    "from solution_files_manager import SolutionFilesManager\n",
    "from opt_utils import decompose_psd, complex_hyperplane_rounding, fixed_point_iteration\n",
    "from opf_utils import *"
   ]
  },
  {
   "cell_type": "code",
   "execution_count": 2,
   "id": "cab83d56",
   "metadata": {
    "pycharm": {
     "name": "#%%\n"
    }
   },
   "outputs": [],
   "source": [
    "import os\n",
    "folder = os.path.abspath(os.getcwd())"
   ]
  },
  {
   "cell_type": "markdown",
   "id": "6dbf9c14",
   "metadata": {
    "pycharm": {
     "name": "#%% md\n"
    }
   },
   "source": [
    "## Data processing"
   ]
  },
  {
   "cell_type": "code",
   "execution_count": 3,
   "id": "9ff399a2",
   "metadata": {
    "pycharm": {
     "name": "#%%\n"
    }
   },
   "outputs": [],
   "source": [
    "case = \"case9\"\n",
    "net = custom_networks.get_case(case)\n",
    "n = len(net.bus)"
   ]
  },
  {
   "cell_type": "code",
   "execution_count": 4,
   "id": "1ecb9741",
   "metadata": {
    "scrolled": true,
    "pycharm": {
     "name": "#%%\n"
    }
   },
   "outputs": [
    {
     "data": {
      "text/plain": "<Figure size 720x576 with 1 Axes>",
      "image/png": "[encoded data removed]"
     },
     "metadata": {},
     "output_type": "display_data"
    },
    {
     "data": {
      "text/plain": "<AxesSubplot:>"
     },
     "execution_count": 4,
     "metadata": {},
     "output_type": "execute_result"
    }
   ],
   "source": [
    "simple_plot(net, plot_loads=True, plot_sgens=True)"
   ]
  },
  {
   "cell_type": "markdown",
   "id": "778e9553",
   "metadata": {
    "pycharm": {
     "name": "#%% md\n"
    }
   },
   "source": [
    "#### Generators"
   ]
  },
  {
   "cell_type": "code",
   "execution_count": 5,
   "outputs": [],
   "source": [
    "gen_df_list = []\n",
    "gen_class_list = [\"ext_grid\", \"gen\", \"sgen\"]  # the 3 types of generators\n",
    "data_col_list = [\"bus\", \"max_p_mw\", \"min_p_mw\", \"max_q_mvar\", \"min_q_mvar\"]\n",
    "\n",
    "for gen_class in gen_class_list:\n",
    "    if not net[gen_class].empty:\n",
    "        # get a table of cost coefficients only for the current type of generators\n",
    "        gen_class_poly_cost = net.poly_cost.loc[net.poly_cost.et == gen_class].set_index(\"element\")\n",
    "        # get a table of cost coefficients and power bounds only for the current type of generators\n",
    "        gen_class_df = net[gen_class][data_col_list].join(gen_class_poly_cost)\n",
    "        gen_df_list.append(gen_class_df)\n",
    "\n",
    "# combine tables for all types of generators\n",
    "gen_df = pd.concat(gen_df_list).reset_index()\n",
    "n_gen = len(gen_df)\n",
    "gens = gen_df[\"bus\"].to_numpy()"
   ],
   "metadata": {
    "collapsed": false,
    "pycharm": {
     "name": "#%%\n"
    }
   }
  },
  {
   "cell_type": "code",
   "execution_count": 6,
   "id": "108b7cbe",
   "metadata": {
    "scrolled": false,
    "pycharm": {
     "name": "#%%\n"
    }
   },
   "outputs": [
    {
     "data": {
      "text/plain": "   index  bus  max_p_mw  min_p_mw  max_q_mvar  min_q_mvar        et  cp0_eur  \\\n0      0    0     250.0      10.0       300.0      -300.0  ext_grid    150.0   \n1      0    1     300.0      10.0       300.0      -300.0       gen    600.0   \n2      1    2     270.0      10.0       300.0      -300.0       gen    335.0   \n\n   cp1_eur_per_mw  cp2_eur_per_mw2  cq0_eur  cq1_eur_per_mvar  \\\n0             5.0           0.1100      0.0               0.0   \n1             1.2           0.0850      0.0               0.0   \n2             1.0           0.1225      0.0               0.0   \n\n   cq2_eur_per_mvar2  \n0                0.0  \n1                0.0  \n2                0.0  ",
      "text/html": "<div>\n<style scoped>\n    .dataframe tbody tr th:only-of-type {\n        vertical-align: middle;\n    }\n\n    .dataframe tbody tr th {\n        vertical-align: top;\n    }\n\n    .dataframe thead th {\n        text-align: right;\n    }\n</style>\n<table border=\"1\" class=\"dataframe\">\n  <thead>\n    <tr style=\"text-align: right;\">\n      <th></th>\n      <th>index</th>\n      <th>bus</th>\n      <th>max_p_mw</th>\n      <th>min_p_mw</th>\n      <th>max_q_mvar</th>\n      <th>min_q_mvar</th>\n      <th>et</th>\n      <th>cp0_eur</th>\n      <th>cp1_eur_per_mw</th>\n      <th>cp2_eur_per_mw2</th>\n      <th>cq0_eur</th>\n      <th>cq1_eur_per_mvar</th>\n      <th>cq2_eur_per_mvar2</th>\n    </tr>\n  </thead>\n  <tbody>\n    <tr>\n      <th>0</th>\n      <td>0</td>\n      <td>0</td>\n      <td>250.0</td>\n      <td>10.0</td>\n      <td>300.0</td>\n      <td>-300.0</td>\n      <td>ext_grid</td>\n      <td>150.0</td>\n      <td>5.0</td>\n      <td>0.1100</td>\n      <td>0.0</td>\n      <td>0.0</td>\n      <td>0.0</td>\n    </tr>\n    <tr>\n      <th>1</th>\n      <td>0</td>\n      <td>1</td>\n      <td>300.0</td>\n      <td>10.0</td>\n      <td>300.0</td>\n      <td>-300.0</td>\n      <td>gen</td>\n      <td>600.0</td>\n      <td>1.2</td>\n      <td>0.0850</td>\n      <td>0.0</td>\n      <td>0.0</td>\n      <td>0.0</td>\n    </tr>\n    <tr>\n      <th>2</th>\n      <td>1</td>\n      <td>2</td>\n      <td>270.0</td>\n      <td>10.0</td>\n      <td>300.0</td>\n      <td>-300.0</td>\n      <td>gen</td>\n      <td>335.0</td>\n      <td>1.0</td>\n      <td>0.1225</td>\n      <td>0.0</td>\n      <td>0.0</td>\n      <td>0.0</td>\n    </tr>\n  </tbody>\n</table>\n</div>"
     },
     "execution_count": 6,
     "metadata": {},
     "output_type": "execute_result"
    }
   ],
   "source": [
    "gen_df"
   ]
  },
  {
   "cell_type": "markdown",
   "id": "fe55fdc3",
   "metadata": {
    "pycharm": {
     "name": "#%% md\n"
    }
   },
   "source": [
    "#### Bus loads"
   ]
  },
  {
   "cell_type": "code",
   "execution_count": 7,
   "id": "a553c78d",
   "metadata": {
    "pycharm": {
     "name": "#%%\n"
    }
   },
   "outputs": [],
   "source": [
    "load_df = net.bus.join(net.load[[\"bus\", \"p_mw\", \"q_mvar\"]].set_index(\"bus\")).fillna(0)[[\"p_mw\", \"q_mvar\"]]"
   ]
  },
  {
   "cell_type": "code",
   "execution_count": 8,
   "id": "07e3ce73",
   "metadata": {
    "scrolled": true,
    "pycharm": {
     "name": "#%%\n"
    }
   },
   "outputs": [
    {
     "data": {
      "text/plain": "    p_mw  q_mvar\n0    0.0     0.0\n1    0.0     0.0\n2    0.0     0.0\n3    0.0     0.0\n4   90.0    30.0\n5    0.0     0.0\n6  100.0    35.0\n7    0.0     0.0\n8  125.0    50.0",
      "text/html": "<div>\n<style scoped>\n    .dataframe tbody tr th:only-of-type {\n        vertical-align: middle;\n    }\n\n    .dataframe tbody tr th {\n        vertical-align: top;\n    }\n\n    .dataframe thead th {\n        text-align: right;\n    }\n</style>\n<table border=\"1\" class=\"dataframe\">\n  <thead>\n    <tr style=\"text-align: right;\">\n      <th></th>\n      <th>p_mw</th>\n      <th>q_mvar</th>\n    </tr>\n  </thead>\n  <tbody>\n    <tr>\n      <th>0</th>\n      <td>0.0</td>\n      <td>0.0</td>\n    </tr>\n    <tr>\n      <th>1</th>\n      <td>0.0</td>\n      <td>0.0</td>\n    </tr>\n    <tr>\n      <th>2</th>\n      <td>0.0</td>\n      <td>0.0</td>\n    </tr>\n    <tr>\n      <th>3</th>\n      <td>0.0</td>\n      <td>0.0</td>\n    </tr>\n    <tr>\n      <th>4</th>\n      <td>90.0</td>\n      <td>30.0</td>\n    </tr>\n    <tr>\n      <th>5</th>\n      <td>0.0</td>\n      <td>0.0</td>\n    </tr>\n    <tr>\n      <th>6</th>\n      <td>100.0</td>\n      <td>35.0</td>\n    </tr>\n    <tr>\n      <th>7</th>\n      <td>0.0</td>\n      <td>0.0</td>\n    </tr>\n    <tr>\n      <th>8</th>\n      <td>125.0</td>\n      <td>50.0</td>\n    </tr>\n  </tbody>\n</table>\n</div>"
     },
     "execution_count": 8,
     "metadata": {},
     "output_type": "execute_result"
    }
   ],
   "source": [
    "load_df"
   ]
  },
  {
   "cell_type": "markdown",
   "id": "ed0a038a",
   "metadata": {
    "pycharm": {
     "name": "#%% md\n"
    }
   },
   "source": [
    "#### Admittance matrices"
   ]
  },
  {
   "cell_type": "code",
   "execution_count": 9,
   "id": "e3760657",
   "metadata": {
    "pycharm": {
     "name": "#%%\n"
    }
   },
   "outputs": [],
   "source": [
    "# obtain a NetworkX Graph from the network, with each edge containing p.u. impedance data\n",
    "graph = pp.topology.create_nxgraph(net, multi=False, calc_branch_impedances=True, branch_impedance_unit=\"pu\")"
   ]
  },
  {
   "cell_type": "code",
   "execution_count": 10,
   "outputs": [],
   "source": [
    "# compute non-diagonal entries of the admittance matrices (opposite of mutual admittance on each line)\n",
    "G_val = np.zeros((n,n))\n",
    "B_val = np.zeros((n,n))\n",
    "for i,j in graph.edges:\n",
    "    edge = graph.edges[(i,j)]\n",
    "    r = edge[\"r_pu\"]\n",
    "    x = edge[\"x_pu\"]\n",
    "    z = r + x*1j\n",
    "    y = np.reciprocal(z)\n",
    "    G_val[i][j] = G_val[j][i] = -np.real(y)\n",
    "    B_val[i][j] = B_val[j][i] = -np.imag(y)"
   ],
   "metadata": {
    "collapsed": false,
    "pycharm": {
     "name": "#%%\n"
    }
   }
  },
  {
   "cell_type": "code",
   "execution_count": 11,
   "outputs": [],
   "source": [
    "# compute line susceptance in p.u.\n",
    "net.line['s_pu'] = net.line['c_nf_per_km'] * net.line[\"length_km\"] * (2 * np.pi * net.f_hz) * \\\n",
    "    ((net.bus.loc[net.line.from_bus.values, \"vn_kv\"].values) ** 2) / net.sn_mva / net.line['parallel'] / 1e9"
   ],
   "metadata": {
    "collapsed": false,
    "pycharm": {
     "name": "#%%\n"
    }
   }
  },
  {
   "cell_type": "code",
   "execution_count": 12,
   "id": "3c7ef2b1",
   "metadata": {
    "pycharm": {
     "name": "#%%\n"
    }
   },
   "outputs": [],
   "source": [
    "# compute intermediate values that will sum to the diagonal entries of G and B\n",
    "G_interm = -np.copy(G_val)\n",
    "B_interm = -np.copy(B_val)\n",
    "\n",
    "# add line susceptance\n",
    "for _, row in net.line.iterrows():\n",
    "    B_interm[row[\"from_bus\"]][row[\"to_bus\"]] += row[\"s_pu\"] / 2\n",
    "    B_interm[row[\"to_bus\"]][row[\"from_bus\"]] += row[\"s_pu\"] / 2\n",
    "\n",
    "# transformers\n",
    "for _, row in net.trafo.iterrows():\n",
    "    h = row[\"hv_bus\"]\n",
    "    l = row[\"lv_bus\"]\n",
    "    ratio_magnitude = (row[\"vn_hv_kv\"] / row[\"vn_lv_kv\"]) * (net.bus.loc[l][\"vn_kv\"] / net.bus.loc[h][\"vn_kv\"])\n",
    "    ratio_sq = ratio_magnitude**2\n",
    "    G_interm[h][l] /= ratio_sq\n",
    "    B_interm[h][l] /= ratio_sq\n",
    "    G_interm[l][h] *= ratio_sq\n",
    "    B_interm[l][h] *= ratio_sq\n",
    "    # shift degrees\n",
    "    if row[\"tap_phase_shifter\"]:\n",
    "        theta = row[\"shift_degree\"]\n",
    "        ratios_denom = np.exp(-1j * (2 * theta / 180 * np.pi))\n",
    "        G_val[h][l] /= ratios_denom\n",
    "        B_val[h][l] /= ratios_denom\n",
    "        G_val[l][h] *= ratios_denom\n",
    "        B_val[l][h] *= ratios_denom\n",
    "    \n",
    "G_row_sums = np.sum(G_interm, axis=1)\n",
    "B_row_sums = np.sum(B_interm, axis=1)\n",
    "for i in range(n):\n",
    "    shunt_row = net.shunt.loc[net.shunt[\"bus\"] == i]\n",
    "    g = 0  # shunt conductance\n",
    "    b = 0  # shunt susceptance\n",
    "    # if both are 0, there will be no data in the shunt dataframe\n",
    "    if not shunt_row.empty:\n",
    "        g = shunt_row[\"p_mw\"] / net.sn_mva\n",
    "        b = -shunt_row[\"q_mvar\"] / net.sn_mva  # the pandapower data store negative shunt susceptance\n",
    "    G_val[i][i] = g + G_row_sums[i]\n",
    "    B_val[i][i] = b + B_row_sums[i]\n",
    "\n",
    "Y_val = G_val + B_val * 1j"
   ]
  },
  {
   "cell_type": "markdown",
   "id": "9ba53658",
   "metadata": {
    "pycharm": {
     "name": "#%% md\n"
    }
   },
   "source": [
    "## Variables"
   ]
  },
  {
   "cell_type": "code",
   "execution_count": 13,
   "id": "935226d1",
   "metadata": {
    "pycharm": {
     "name": "#%%\n"
    }
   },
   "outputs": [],
   "source": [
    "# X = VV*\n",
    "X = cp.Variable((n,n), hermitian=True)\n",
    "# active power generated\n",
    "p_g = cp.Variable((n_gen, 1))\n",
    "# reactive power generated\n",
    "q_g = cp.Variable((n_gen, 1))"
   ]
  },
  {
   "cell_type": "markdown",
   "id": "f50e65a8",
   "metadata": {
    "pycharm": {
     "name": "#%% md\n"
    }
   },
   "source": [
    "## Parameters"
   ]
  },
  {
   "cell_type": "code",
   "execution_count": 14,
   "id": "5dc4a606",
   "metadata": {
    "pycharm": {
     "name": "#%%\n"
    }
   },
   "outputs": [],
   "source": [
    "p_d_val = load_df[[\"p_mw\"]].to_numpy() / net.sn_mva\n",
    "q_d_val = load_df[[\"q_mvar\"]].to_numpy() / net.sn_mva"
   ]
  },
  {
   "cell_type": "code",
   "execution_count": 15,
   "id": "e739e22e",
   "metadata": {
    "pycharm": {
     "name": "#%%\n"
    }
   },
   "outputs": [],
   "source": [
    "# loads\n",
    "p_d = cp.Parameter((n,1), nonneg=True, value=p_d_val)\n",
    "q_d = cp.Parameter((n,1), value=q_d_val)\n",
    "\n",
    "# admittance matrices\n",
    "G = cp.Parameter((n,n), symmetric=True, value=G_val)\n",
    "B = cp.Parameter((n,n), symmetric=True, value=B_val)\n",
    "Y = cp.Parameter((n,n), complex=True, value=Y_val)\n",
    "\n",
    "# squares of voltage bounds\n",
    "V_min_sq = cp.Parameter((n), nonneg=True, value=np.square(net.bus[\"min_vm_pu\"].to_numpy()))\n",
    "V_max_sq = cp.Parameter((n), nonneg=True, value=np.square(net.bus[\"max_vm_pu\"].to_numpy()))\n",
    "\n",
    "# bounds for generated power\n",
    "# TODO: check whether these are for net injections (supply - demand) or for generated power (supply)\n",
    "p_min = cp.Parameter((n_gen,1), value=gen_df[[\"min_p_mw\"]].to_numpy() / net.sn_mva)\n",
    "p_max = cp.Parameter((n_gen,1), value=gen_df[[\"max_p_mw\"]].to_numpy() / net.sn_mva)\n",
    "q_min = cp.Parameter((n_gen,1), value=gen_df[[\"min_q_mvar\"]].to_numpy() / net.sn_mva)\n",
    "q_max = cp.Parameter((n_gen,1), value=gen_df[[\"max_q_mvar\"]].to_numpy() / net.sn_mva)"
   ]
  },
  {
   "cell_type": "code",
   "execution_count": 16,
   "outputs": [],
   "source": [
    "# vectors of cost coefficients: c_[p or q]_[power]\n",
    "# costs are only on generators\n",
    "\n",
    "c_p_2 = cp.Parameter((n_gen), value=gen_df[\"cp2_eur_per_mw2\"].to_numpy() * (net.sn_mva**2), nonneg=True)\n",
    "c_p_1 = cp.Parameter((n_gen), value=gen_df[\"cp1_eur_per_mw\"].to_numpy() * net.sn_mva, nonneg=True)\n",
    "c_p_0 = cp.Parameter((n_gen), value=gen_df[\"cp0_eur\"].to_numpy(), nonneg=True)\n",
    "\n",
    "c_q_2 = cp.Parameter((n_gen), value=gen_df[\"cq2_eur_per_mvar2\"].to_numpy() * (net.sn_mva**2), nonneg=True)\n",
    "c_q_1 = cp.Parameter((n_gen), value=gen_df[\"cq1_eur_per_mvar\"].to_numpy() * net.sn_mva, nonneg=True)\n",
    "c_q_0 = cp.Parameter((n_gen), value=gen_df[\"cq0_eur\"].to_numpy(), nonneg=True)"
   ],
   "metadata": {
    "collapsed": false,
    "pycharm": {
     "name": "#%%\n"
    }
   }
  },
  {
   "cell_type": "markdown",
   "id": "f28cb541",
   "metadata": {
    "pycharm": {
     "name": "#%% md\n"
    }
   },
   "source": [
    "## Constraints"
   ]
  },
  {
   "cell_type": "markdown",
   "id": "d84d7046",
   "metadata": {
    "pycharm": {
     "name": "#%% md\n"
    }
   },
   "source": [
    "##### SOCP"
   ]
  },
  {
   "cell_type": "code",
   "execution_count": 17,
   "id": "8a76a895",
   "metadata": {
    "pycharm": {
     "name": "#%%\n"
    }
   },
   "outputs": [],
   "source": [
    "# constraints = [ cp.quad_over_lin(cp.norm(X[i][j]), cp.real(X[i][i])) <= cp.real(X[j][j]) for i,j in graph.edges]"
   ]
  },
  {
   "cell_type": "markdown",
   "id": "afa69d50",
   "metadata": {
    "pycharm": {
     "name": "#%% md\n"
    }
   },
   "source": [
    "##### SDP"
   ]
  },
  {
   "cell_type": "code",
   "execution_count": 29,
   "id": "c3940ec9",
   "metadata": {
    "pycharm": {
     "name": "#%%\n"
    }
   },
   "outputs": [],
   "source": [
    "constraints = [X >> 0]\n",
    "\n",
    "for i in range(n):\n",
    "    gen_list = gen_df.loc[gen_df[\"bus\"] == i].index.to_numpy()\n",
    "    constraints += [\n",
    "        cp.sum([p_g[k] for k in gen_list]) - p_d[i] == G[i][i] * X[i][i] +\n",
    "        cp.sum([G[i][j] * cp.real(X[i][j]) + B[i][j] * cp.imag(X[i][j]) for j in graph.neighbors(i)])\n",
    "    ]\n",
    "    constraints += [\n",
    "        cp.sum([q_g[k] for k in gen_list]) - q_d[i] == -B[i][i] * X[i][i] +\n",
    "        cp.sum([-B[i][j] * cp.real(X[i][j]) + G[i][j] * cp.imag(X[i][j]) for j in graph.neighbors(i)])\n",
    "    ]\n",
    "\n",
    "constraints += [\n",
    "    cp.real(cp.diag(X)) >= V_min_sq,\n",
    "    cp.real(cp.diag(X)) <= V_max_sq\n",
    "]\n",
    "\n",
    "constraints += [\n",
    "    p_g >= p_min,\n",
    "    p_g <= p_max,\n",
    "    q_g >= q_min,\n",
    "    q_g <= q_max\n",
    "]"
   ]
  },
  {
   "cell_type": "code",
   "execution_count": 30,
   "id": "7f31061c",
   "metadata": {
    "pycharm": {
     "name": "#%%\n"
    }
   },
   "outputs": [],
   "source": [
    "p_cost = c_p_2 @ cp.square(p_g) + c_p_1 @ p_g + cp.sum(c_p_0)\n",
    "q_cost = c_q_2 @ cp.square(q_g) + c_q_1 @ q_g + cp.sum(c_q_0)"
   ]
  },
  {
   "cell_type": "markdown",
   "source": [
    "## Modified constraints"
   ],
   "metadata": {
    "collapsed": false,
    "pycharm": {
     "name": "#%% md\n"
    }
   }
  },
  {
   "cell_type": "code",
   "execution_count": 38,
   "outputs": [],
   "source": [
    "Phis = []\n",
    "Psis = []\n",
    "for i in range(n):\n",
    "    J_i = np.zeros((n,n))\n",
    "    J_i[i][i] = 1\n",
    "    Y_i = J_i @ Y\n",
    "    Phi_i = 1 / 2 * (Y_i.H + Y_i)\n",
    "    Phis.append(Phi_i)\n",
    "    Psi_i = 1 / 2j * (Y_i.H - Y_i)\n",
    "    Psis.append(Psi_i)"
   ],
   "metadata": {
    "collapsed": false,
    "pycharm": {
     "name": "#%%\n"
    }
   }
  },
  {
   "cell_type": "code",
   "execution_count": 39,
   "outputs": [],
   "source": [
    "constraints = [X >> 0]\n",
    "\n",
    "for i in range(n):\n",
    "    # TODO: multiple generators at one bus\n",
    "    if i in gens:\n",
    "        i_gen_idx = list(gens).index(i)\n",
    "        constraints += [ cp.real(cp.trace(Phis[i] @ X)) + p_d[i] <= p_max[i_gen_idx] ]\n",
    "        constraints += [ cp.real(cp.trace(Phis[i] @ X)) + p_d[i] >= p_min[i_gen_idx] ]\n",
    "        constraints += [ cp.real(cp.trace(Psis[i] @ X)) + q_d[i] <= q_max[i_gen_idx] ]\n",
    "        constraints += [ cp.real(cp.trace(Psis[i] @ X)) + q_d[i] >= q_min[i_gen_idx] ]\n",
    "    else:\n",
    "        constraints += [ cp.real(cp.trace(Phis[i] @ X)) == -p_d[i] ]\n",
    "        constraints += [ cp.real(cp.trace(Psis[i] @ X)) == -q_d[i] ]\n",
    "\n",
    "constraints += [\n",
    "    cp.real(cp.diag(X)) >= V_min_sq,\n",
    "    cp.real(cp.diag(X)) <= V_max_sq\n",
    "]"
   ],
   "metadata": {
    "collapsed": false,
    "pycharm": {
     "name": "#%%\n"
    }
   }
  },
  {
   "cell_type": "code",
   "execution_count": 40,
   "outputs": [],
   "source": [
    "p_cost = cp.sum([ c_p_2[i] * cp.square((cp.real(cp.trace(Phis[gens[i]] @ X)) + p_d[gens[i]])) + c_p_1[i] * (cp.real(cp.trace(Phis[gens[i]] @ X)) + p_d[gens[i]]) for i in range(n_gen) ]) + cp.sum(c_p_0)\n",
    "q_cost = cp.sum([ c_q_2[i] * cp.square((cp.real(cp.trace(Psis[gens[i]] @ X)) + p_d[gens[i]])) + c_q_1[i] * (cp.real(cp.trace(Psis[gens[i]] @ X)) + q_d[gens[i]]) for i in range(n_gen) ]) + cp.sum(c_q_0)"
   ],
   "metadata": {
    "collapsed": false,
    "pycharm": {
     "name": "#%%\n"
    }
   }
  },
  {
   "cell_type": "markdown",
   "source": [
    "## Solving"
   ],
   "metadata": {
    "collapsed": false,
    "pycharm": {
     "name": "#%% md\n"
    }
   }
  },
  {
   "cell_type": "code",
   "execution_count": 48,
   "id": "519d88f8",
   "metadata": {
    "pycharm": {
     "name": "#%%\n"
    }
   },
   "outputs": [],
   "source": [
    "prob = cp.Problem(cp.Minimize(p_cost + q_cost), constraints)"
   ]
  },
  {
   "cell_type": "code",
   "execution_count": 49,
   "id": "b7eeaf40",
   "metadata": {
    "scrolled": true,
    "pycharm": {
     "name": "#%%\n"
    }
   },
   "outputs": [
    {
     "name": "stdout",
     "output_type": "stream",
     "text": [
      "The optimal value is 5296.686024086754\n"
     ]
    },
    {
     "name": "stderr",
     "output_type": "stream",
     "text": [
      "/home/ivanightingale/miniconda3/envs/convex/lib/python3.10/site-packages/cvxpy/reductions/solvers/solving_chain.py:178: UserWarning: You are solving a parameterized problem that is not DPP. Because the problem is not DPP, subsequent solves will not be faster than the first one. For more information, see the documentation on Discplined Parametrized Programming, at\n",
      "\thttps://www.cvxpy.org/tutorial/advanced/index.html#disciplined-parametrized-programming\n",
      "  warnings.warn(dpp_error_msg)\n"
     ]
    }
   ],
   "source": [
    "# prob.solve(solver=cp.SCS, verbose=True)  # eps=1e-6\n",
    "# prob.solve(solver=cp.CVXOPT, verbose=True)\n",
    "prob.solve(solver=cp.MOSEK, mosek_params={mosek.iparam.intpnt_solve_form : mosek.solveform.dual}, verbose=False)\n",
    "\n",
    "# Print result.\n",
    "print(\"The optimal value is\", prob.value)\n",
    "# print(\"A solution X is\")\n",
    "# print(X.value)"
   ]
  },
  {
   "cell_type": "code",
   "execution_count": 43,
   "outputs": [
    {
     "name": "stdout",
     "output_type": "stream",
     "text": [
      "[[0.89798273]\n",
      " [1.34320365]\n",
      " [0.94188053]]\n",
      "[[0.12977966]\n",
      " [0.05796688]\n",
      " [0.08628408]]\n"
     ]
    }
   ],
   "source": [
    "print(p_g.value)\n",
    "print(q_g.value)"
   ],
   "metadata": {
    "collapsed": false,
    "pycharm": {
     "name": "#%%\n"
    }
   }
  },
  {
   "cell_type": "code",
   "execution_count": 29,
   "outputs": [],
   "source": [
    "# sfm = SolutionFilesManager(folder, case, \"sdp\")\n",
    "# sfm.save_solution(prob.value, X, p_g, q_g)"
   ],
   "metadata": {
    "collapsed": false,
    "pycharm": {
     "name": "#%%\n"
    }
   }
  },
  {
   "cell_type": "code",
   "execution_count": 30,
   "outputs": [],
   "source": [
    "# # recover V by diagonalization using the largest eigenvalue\n",
    "# (eigen_val, eigen_vec) = np.linalg.eigh(X.value)\n",
    "# V = np.sqrt(eigen_val[n-1]) * eigen_vec[:,n-1]"
   ],
   "metadata": {
    "collapsed": false,
    "pycharm": {
     "name": "#%%\n"
    }
   }
  },
  {
   "cell_type": "markdown",
   "source": [
    "# Test"
   ],
   "metadata": {
    "collapsed": false,
    "pycharm": {
     "name": "#%% md\n"
    }
   }
  },
  {
   "cell_type": "markdown",
   "source": [
    "##### Find interior point"
   ],
   "metadata": {
    "collapsed": false,
    "pycharm": {
     "name": "#%% md\n"
    }
   }
  },
  {
   "cell_type": "code",
   "execution_count": 44,
   "outputs": [],
   "source": [
    "X_ac = cp.Variable((n,n), hermitian=True)"
   ],
   "metadata": {
    "collapsed": false,
    "pycharm": {
     "name": "#%%\n"
    }
   }
  },
  {
   "cell_type": "code",
   "execution_count": 45,
   "outputs": [
    {
     "data": {
      "text/plain": "-25.95550002568475"
     },
     "execution_count": 45,
     "metadata": {},
     "output_type": "execute_result"
    }
   ],
   "source": [
    "prob_ac = cp.Problem(cp.Maximize(cp.log_det(X_ac) \\\n",
    "                              + cp.sum([ cp.log(p_max[i] - cp.real(cp.trace(Phis[i] @ X_ac)) - p_d[gens[i]]) + cp.log(cp.real(cp.trace(Phis[i] @ X_ac)) + p_d[gens[i]] - p_min[i]) for i in range(n_gen) ]) \\\n",
    "                              + cp.sum([ cp.log(q_max[i] - cp.real(cp.trace(Psis[i] @ X_ac)) - q_d[gens[i]]) + cp.log(cp.real(cp.trace(Psis[i] @ X_ac)) + q_d[gens[i]] - q_min[i]) for i in range(n_gen) ]) \\\n",
    "                              + cp.sum([ cp.log(V_max_sq[i] - cp.real(X_ac[i][i])) + cp.log(cp.real(X_ac[i][i]) - V_min_sq[i]) for i in range(n) ]) ), constraints)\n",
    "\n",
    "prob_ac.solve(solver=cp.SCS)"
   ],
   "metadata": {
    "collapsed": false,
    "pycharm": {
     "name": "#%%\n"
    }
   }
  },
  {
   "cell_type": "markdown",
   "source": [
    "### Fixed point iterations"
   ],
   "metadata": {
    "collapsed": false,
    "pycharm": {
     "name": "#%% md\n"
    }
   }
  },
  {
   "cell_type": "code",
   "execution_count": 50,
   "outputs": [
    {
     "name": "stdout",
     "output_type": "stream",
     "text": [
      "Initial objective:  5296.686024086754\n",
      "Initial rank:  9\n",
      "Current objective:  5535.482075518804\n",
      "Current rank:  4\n",
      "Current objective:  5955.826117711595\n",
      "Current rank:  3\n",
      "Current objective:  6424.235497034275\n",
      "Current rank:  4\n",
      "Current objective:  6867.577082522338\n",
      "Current rank:  3\n",
      "Current objective:  7260.511104145627\n",
      "Current rank:  8\n",
      "Current objective:  7600.8781546635455\n",
      "Current rank:  9\n",
      "Current objective:  7745.201245007713\n",
      "Current rank:  4\n",
      "Current objective:  7823.920300182146\n",
      "Current rank:  3\n",
      "Current objective:  7886.526453661357\n",
      "Current rank:  3\n",
      "Current objective:  7935.978273674067\n",
      "Current rank:  3\n",
      "Current objective:  7974.813545044274\n",
      "Current rank:  3\n",
      "Current objective:  8005.176380036068\n",
      "Current rank:  3\n",
      "Current objective:  8028.834420639402\n",
      "Current rank:  3\n",
      "Current objective:  8047.219948340216\n",
      "Current rank:  3\n",
      "Current objective:  8061.479161064374\n",
      "Current rank:  3\n",
      "Current objective:  8072.520888458363\n",
      "Current rank:  3\n",
      "Current objective:  8081.06083791945\n",
      "Current rank:  3\n",
      "Current objective:  8087.659715067158\n",
      "Current rank:  3\n",
      "Current objective:  8092.755048776334\n",
      "Current rank:  3\n",
      "Current objective:  8096.687246579044\n",
      "Current rank:  3\n",
      "Current objective:  8099.720522044731\n",
      "Current rank:  3\n",
      "Current objective:  8102.059607102241\n",
      "Current rank:  3\n",
      "Current objective:  8103.862911448856\n",
      "Current rank:  3\n",
      "Current objective:  8105.252889865922\n",
      "Current rank:  3\n",
      "Current objective:  8106.324115572835\n",
      "Current rank:  3\n",
      "Current objective:  8107.1495899061\n",
      "Current rank:  3\n",
      "Current objective:  8107.7856341745355\n",
      "Current rank:  3\n",
      "Current objective:  8108.275686448507\n",
      "Current rank:  3\n",
      "Current objective:  8108.653232918861\n",
      "Current rank:  3\n",
      "Current objective:  8108.94409290302\n",
      "Current rank:  3\n",
      "Current objective:  8109.1681634395845\n",
      "Current rank:  3\n",
      "Current objective:  8109.340776247425\n",
      "Current rank:  3\n",
      "Current objective:  8109.473745807523\n",
      "Current rank:  3\n",
      "Current objective:  8109.576173959301\n",
      "Current rank:  3\n",
      "Current objective:  8109.655077400658\n",
      "Current rank:  3\n",
      "Current objective:  8109.715859001678\n",
      "Current rank:  3\n",
      "Current objective:  8109.762677309895\n",
      "Current rank:  3\n",
      "Current objective:  8109.798741928321\n",
      "Current rank:  3\n",
      "Current objective:  8109.826519892911\n",
      "Current rank:  3\n",
      "Current objective:  8109.847920669444\n",
      "Current rank:  3\n",
      "Current objective:  8109.8644047600565\n",
      "Current rank:  3\n",
      "Current objective:  8109.877100522829\n",
      "Current rank:  3\n",
      "Current objective:  8109.8868784091255\n",
      "Current rank:  3\n",
      "Current objective:  8109.8944121793265\n",
      "Current rank:  3\n",
      "Current objective:  8109.900215580458\n",
      "Current rank:  3\n",
      "Current objective:  8109.904688073042\n",
      "Current rank:  3\n",
      "Current objective:  8109.908130633252\n",
      "Current rank:  3\n",
      "Fixed point objective:  8109.910784986373\n",
      "Fixed point rank:  3\n",
      "Fixed point eigenvalues:\n",
      "[-7.11851107e-10 -5.72557452e-10 -4.57993218e-10 -1.68837828e-10\n",
      "  2.74377266e-10  9.75495784e-10  1.69673017e-08  6.72864885e-03\n",
      "  1.07692377e+01]\n"
     ]
    }
   ],
   "source": [
    "# fixed_point_iteration(prob, X, np.zeros((n,n)), True)\n",
    "fixed_point_iteration(prob, X, -X_ac.value, True)"
   ],
   "metadata": {
    "collapsed": false,
    "pycharm": {
     "name": "#%%\n"
    }
   }
  },
  {
   "cell_type": "markdown",
   "source": [
    "### Hyperplane rounding"
   ],
   "metadata": {
    "collapsed": false,
    "pycharm": {
     "name": "#%% md\n"
    }
   }
  },
  {
   "cell_type": "code",
   "execution_count": null,
   "outputs": [],
   "source": [
    "def cost_from_exact_solution(v):\n",
    "    X_exact = v @ v.conj().T\n",
    "    p_g, q_g = compute_generation(X_exact, n_gen, p_d_val, q_d_val, G_val, B_val, graph)\n",
    "    p_cost = np.sum(c_p_2.value @ np.square(p_g) + c_p_1.value @ p_g + np.sum(c_p_0.value))\n",
    "    q_cost = np.sum(c_q_2.value @ np.square(q_g) + c_q_1.value @ q_g + np.sum(c_q_0.value))\n",
    "    return p_cost + q_cost"
   ],
   "metadata": {
    "collapsed": false,
    "pycharm": {
     "name": "#%%\n"
    }
   }
  },
  {
   "cell_type": "code",
   "execution_count": null,
   "outputs": [],
   "source": [
    "# note that this usually results in an infeasible point\n",
    "hyperplane_cost, hyperplane_v = complex_hyperplane_rounding(decompose_psd(X.value), cost_from_exact_solution, net.bus[\"min_vm_pu\"].to_numpy(), net.bus[\"max_vm_pu\"].to_numpy())\n",
    "print(hyperplane_cost)"
   ],
   "metadata": {
    "collapsed": false,
    "pycharm": {
     "name": "#%%\n"
    }
   }
  },
  {
   "cell_type": "code",
   "execution_count": null,
   "outputs": [],
   "source": [
    "check_power_feasibility(hyperplane_v, p_min.value, p_max.value, q_min.value, q_max.value, n_gen, p_d_val, q_d_val, G_val, B_val, graph)"
   ],
   "metadata": {
    "collapsed": false,
    "pycharm": {
     "name": "#%%\n"
    }
   }
  },
  {
   "cell_type": "markdown",
   "source": [
    "### Verify correctness of constraints"
   ],
   "metadata": {
    "collapsed": false,
    "pycharm": {
     "name": "#%% md\n"
    }
   }
  },
  {
   "cell_type": "code",
   "execution_count": null,
   "id": "bfd59245",
   "metadata": {
    "pycharm": {
     "name": "#%%\n"
    }
   },
   "outputs": [],
   "source": [
    "# load pandapower solution\n",
    "sfm = SolutionFilesManager(folder, case, \"orig\")\n",
    "_, V_orig, p_g_orig, q_g_orig = sfm.load_solution()"
   ]
  },
  {
   "cell_type": "code",
   "execution_count": null,
   "outputs": [],
   "source": [
    "X_orig = V_orig @ V_orig.conjugate().reshape(1,-1)"
   ],
   "metadata": {
    "collapsed": false,
    "pycharm": {
     "name": "#%%\n"
    }
   }
  },
  {
   "cell_type": "code",
   "execution_count": null,
   "id": "793f1c97",
   "metadata": {
    "pycharm": {
     "name": "#%%\n"
    }
   },
   "outputs": [],
   "source": [
    "verify_feasibility(X_orig, p_g_orig, q_g_orig, p_d_val, q_d_val, gen_df, G_val, B_val, graph)"
   ]
  },
  {
   "cell_type": "code",
   "execution_count": null,
   "id": "465ab7b2",
   "metadata": {
    "scrolled": false,
    "pycharm": {
     "name": "#%%\n"
    }
   },
   "outputs": [],
   "source": []
  },
  {
   "cell_type": "code",
   "execution_count": null,
   "outputs": [],
   "source": [],
   "metadata": {
    "collapsed": false,
    "pycharm": {
     "name": "#%%\n"
    }
   }
  }
 ],
 "metadata": {
  "kernelspec": {
   "display_name": "Python 3 (ipykernel)",
   "language": "python",
   "name": "python3"
  },
  "language_info": {
   "codemirror_mode": {
    "name": "ipython",
    "version": 3
   },
   "file_extension": ".py",
   "mimetype": "text/x-python",
   "name": "python",
   "nbconvert_exporter": "python",
   "pygments_lexer": "ipython3",
   "version": "3.9.6"
  }
 },
 "nbformat": 4,
 "nbformat_minor": 5
}