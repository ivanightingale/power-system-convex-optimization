{
 "cells": [
  {
   "cell_type": "code",
   "execution_count": 4,
   "metadata": {},
   "outputs": [
    {
     "name": "stdout",
     "output_type": "stream",
     "text": [
      "Optimizing...\n",
      "Iteration    Cost                       Gradient norm     \n",
      "---------    -----------------------    --------------    \n",
      "     0       +1.0247437994518909e+00    0.00000000e+00    \n",
      "Terminated - min grad norm reached after 1 iterations, 0.00 seconds.\n",
      "\n",
      "Maximum angle between any two points: 1.0\n"
     ]
    }
   ],
   "source": [
    "import autograd.numpy as np\n",
    "\n",
    "import pymanopt\n",
    "from pymanopt.manifolds import Elliptope\n",
    "from pymanopt.solvers import ConjugateGradient\n",
    "\n",
    "SUPPORTED_BACKENDS = (\"Autograd\")\n",
    "\n",
    "\n",
    "def create_cost(manifold, epsilon, backend):\n",
    "    @pymanopt.function.Autograd(manifold)\n",
    "    def cost(X):\n",
    "        Y = X @ X.T\n",
    "        # Shift the exponentials by the maximum value to reduce numerical\n",
    "        # trouble due to possible overflows.\n",
    "        s = np.triu(Y, 1).max()\n",
    "        expY = np.exp((Y - s) / epsilon)\n",
    "        # Zero out the diagonal\n",
    "        expY -= np.diag(np.diag(expY))\n",
    "        u = np.triu(expY, 1).sum()\n",
    "        return s + epsilon * np.log(u)\n",
    "\n",
    "    return cost\n",
    "\n",
    "\n",
    "backend=SUPPORTED_BACKENDS[0]\n",
    "quiet=False\n",
    "dimension = 3  # Dimension of the embedding space, i.e. R^k\n",
    "num_points = 24  # Points on the sphere\n",
    "# This value should be as close to 0 as affordable. If it is too close to\n",
    "# zero, optimization first becomes much slower, than simply doesn't work\n",
    "# anymore because of floating point overflow errors (NaN's and Inf's start\n",
    "# to appear). If it is too large, then log-sum-exp is a poor approximation\n",
    "# of the max function, and the spread will be less uniform. An okay value\n",
    "# seems to be 0.01 or 0.001 for example. Note that a better strategy than\n",
    "# using a small epsilon straightaway is to reduce epsilon bit by bit and to\n",
    "# warm-start subsequent optimization in that way. Trustregions will be more\n",
    "# appropriate for these fine tunings.\n",
    "epsilon = 0.005\n",
    "\n",
    "manifold = Elliptope(num_points, dimension)\n",
    "cost = create_cost(manifold, epsilon, backend)\n",
    "problem = pymanopt.Problem(manifold, cost)\n",
    "if quiet:\n",
    "    problem.verbosity = 0\n",
    "\n",
    "solver = ConjugateGradient(mingradnorm=1e-8, maxiter=1e5)\n",
    "Yopt = solver.solve(problem)\n",
    "\n",
    "Xopt = Yopt @ Yopt.T\n",
    "maxdot = np.triu(Xopt, 1).max()\n",
    "print(\"Maximum angle between any two points:\", maxdot)"
   ]
  },
  {
   "cell_type": "code",
   "execution_count": null,
   "metadata": {},
   "outputs": [],
   "source": []
  },
  {
   "cell_type": "code",
   "execution_count": 1,
   "outputs": [
    {
     "name": "stdout",
     "output_type": "stream",
     "text": [
      "Optimizing...\n",
      "Iteration    Cost                       Gradient norm     \n",
      "---------    -----------------------    --------------    \n",
      "   1         +1.1041943339110254e+00    5.65626470e-01    \n",
      "   2         +5.2849633289004561e-01    8.90742722e-01    \n",
      "   3         -8.0741058657312559e-01    2.23937710e+00    \n",
      "   4         -1.2667369971251594e+00    1.59671326e+00    \n",
      "   5         -1.4100298597091836e+00    1.11228845e+00    \n",
      "   6         -1.5219408277812505e+00    2.45507203e-01    \n",
      "   7         -1.5269956262562046e+00    6.81712914e-02    \n",
      "   8         -1.5273114803528709e+00    3.40941735e-02    \n",
      "   9         -1.5273905588875487e+00    1.70222768e-02    \n",
      "  10         -1.5274100956128560e+00    8.61140952e-03    \n",
      "  11         -1.5274154319869837e+00    3.90706914e-03    \n",
      "  12         -1.5274156215853507e+00    3.62943721e-03    \n",
      "  13         -1.5274162595152783e+00    2.47643452e-03    \n",
      "  14         -1.5274168030609154e+00    3.66398414e-04    \n",
      "  15         -1.5274168133149475e+00    1.45210081e-04    \n",
      "  16         -1.5274168150025758e+00    4.96142583e-05    \n",
      "  17         -1.5274168150483476e+00    4.42317042e-05    \n",
      "  18         -1.5274168151841643e+00    2.13915041e-05    \n",
      "  19         -1.5274168152087644e+00    1.36422863e-05    \n",
      "  20         -1.5274168152220804e+00    6.25780214e-06    \n",
      "  21         -1.5274168152229037e+00    5.48381052e-06    \n",
      "  22         -1.5274168152252021e+00    2.16996083e-06    \n",
      "  23         -1.5274168152255774e+00    7.52279600e-07    \n",
      "Terminated - min grad norm reached after 23 iterations, 0.03 seconds.\n",
      "\n",
      "Dominant eigenvector: [-0.78442334 -0.38225031 -0.48843088]\n",
      "Pymanopt solution: [0.78442327 0.38225034 0.48843097]\n"
     ]
    }
   ],
   "source": [
    "import autograd.numpy as anp\n",
    "import pymanopt\n",
    "import pymanopt.manifolds\n",
    "import pymanopt.solvers\n",
    "\n",
    "anp.random.seed(42)\n",
    "\n",
    "dim = 3\n",
    "manifold = pymanopt.manifolds.Sphere(dim)\n",
    "\n",
    "matrix = anp.random.normal(size=(dim, dim))\n",
    "matrix = 0.5 * (matrix + matrix.T)\n",
    "\n",
    "@pymanopt.function.Autograd(manifold)\n",
    "def cost(point):\n",
    "    return -point @ matrix @ point\n",
    "\n",
    "problem = pymanopt.Problem(manifold=manifold, cost=cost)\n",
    "\n",
    "solver = pymanopt.solvers.SteepestDescent()\n",
    "solution = solver.solve(problem)\n",
    "\n",
    "eigenvalues, eigenvectors = anp.linalg.eig(matrix)\n",
    "dominant_eigenvector = eigenvectors[:, eigenvalues.argmax()]\n",
    "\n",
    "print(\"Dominant eigenvector:\", dominant_eigenvector)\n",
    "print(\"Pymanopt solution:\", solution)"
   ],
   "metadata": {
    "collapsed": false,
    "pycharm": {
     "name": "#%%\n"
    }
   }
  },
  {
   "cell_type": "code",
   "execution_count": null,
   "outputs": [],
   "source": [],
   "metadata": {
    "collapsed": false,
    "pycharm": {
     "name": "#%%\n"
    }
   }
  }
 ],
 "metadata": {
  "kernelspec": {
   "display_name": "Python 3",
   "language": "python",
   "name": "python3"
  },
  "language_info": {
   "codemirror_mode": {
    "name": "ipython",
    "version": 3
   },
   "file_extension": ".py",
   "mimetype": "text/x-python",
   "name": "python",
   "nbconvert_exporter": "python",
   "pygments_lexer": "ipython3",
   "version": "3.7.11"
  }
 },
 "nbformat": 4,
 "nbformat_minor": 1
}