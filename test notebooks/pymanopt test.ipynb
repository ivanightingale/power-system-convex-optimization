{
 "cells": [
  {
   "cell_type": "code",
   "execution_count": null,
   "metadata": {
    "pycharm": {
     "is_executing": true
    }
   },
   "outputs": [],
   "source": [
    "import autograd.numpy as np\n",
    "import torch\n",
    "from numpy import linalg as la\n",
    "from numpy import random as rnd\n",
    "\n",
    "import pymanopt\n",
    "from pymanopt.manifolds import PSDFixedRank\n",
    "from pymanopt.solvers import TrustRegions\n",
    "\n",
    "\n",
    "SUPPORTED_BACKENDS = (\"Autograd\", \"Callable\", \"PyTorch\")\n",
    "\n",
    "\n",
    "def create_cost_egrad_ehess(manifold, matrix, backend):\n",
    "    egrad = ehess = None\n",
    "\n",
    "    @pymanopt.function.Autograd(manifold)\n",
    "    def cost(Y):\n",
    "        return np.linalg.norm(Y @ Y.T - matrix, \"fro\") ** 2\n",
    "\n",
    "    return cost, egrad, ehess\n",
    "\n",
    "\n",
    "backend=SUPPORTED_BACKENDS[0]\n",
    "quiet=False\n",
    "num_rows = 5\n",
    "rank = 5\n",
    "low_rank_factor = rnd.randn(num_rows, rank)\n",
    "matrix = low_rank_factor @ low_rank_factor.T\n",
    "\n",
    "manifold = PSDFixedRank(num_rows, rank)\n",
    "cost, egrad, ehess = create_cost_egrad_ehess(manifold, matrix, backend)\n",
    "problem = pymanopt.Problem(manifold, cost=cost, egrad=egrad, ehess=ehess)\n",
    "if quiet:\n",
    "    problem.verbosity = 0\n",
    "\n",
    "\n",
    "solver = TrustRegions(maxiter=500, minstepsize=1e-6)\n",
    "low_rank_factor_estimate = solver.solve(problem)\n",
    "\n",
    "print(\"Rank of target matrix:\", la.matrix_rank(matrix))\n",
    "matrix_estimate = low_rank_factor_estimate @ low_rank_factor_estimate.T\n",
    "print(\n",
    "    \"Frobenius norm error of low-rank estimate:\",\n",
    "    la.norm(matrix - matrix_estimate),\n",
    ")"
   ]
  },
  {
   "cell_type": "code",
   "execution_count": null,
   "metadata": {},
   "outputs": [],
   "source": []
  }
 ],
 "metadata": {
  "kernelspec": {
   "display_name": "Python 3",
   "language": "python",
   "name": "python3"
  },
  "language_info": {
   "codemirror_mode": {
    "name": "ipython",
    "version": 3
   },
   "file_extension": ".py",
   "mimetype": "text/x-python",
   "name": "python",
   "nbconvert_exporter": "python",
   "pygments_lexer": "ipython3",
   "version": "3.7.11"
  }
 },
 "nbformat": 4,
 "nbformat_minor": 1
}