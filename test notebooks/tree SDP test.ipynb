{
 "cells": [
  {
   "cell_type": "code",
   "execution_count": 382,
   "outputs": [],
   "source": [
    "import numpy as np\n",
    "import cvxpy as cp\n",
    "import networkx as nx\n",
    "\n",
    "from numpy.random import default_rng\n",
    "from opt_utils import decompose_psd, hyperplane_rounding, complex_hyperplane_rounding, fixed_point_iteration, normalize_rows, load_graph"
   ],
   "metadata": {
    "collapsed": false,
    "pycharm": {
     "name": "#%%\n"
    }
   }
  },
  {
   "cell_type": "markdown",
   "source": [
    "# Max-cut"
   ],
   "metadata": {
    "collapsed": false,
    "pycharm": {
     "name": "#%% md\n"
    }
   }
  },
  {
   "cell_type": "code",
   "execution_count": null,
   "outputs": [],
   "source": [
    "graph_file = \"G48.mtx\"\n",
    "graph_type = 1\n",
    "\n",
    "# graph_file = \"toruspm3-8-50.dat\"\n",
    "# graph_type = 0\n",
    "\n",
    "n = 100\n",
    "G = load_graph(graph_file, graph_type, n)"
   ],
   "metadata": {
    "collapsed": false,
    "pycharm": {
     "name": "#%%\n"
    }
   }
  },
  {
   "cell_type": "code",
   "execution_count": null,
   "outputs": [],
   "source": [
    "L_val = nx.laplacian_matrix(G).toarray() * 1.0"
   ],
   "metadata": {
    "collapsed": false,
    "pycharm": {
     "name": "#%%\n"
    }
   }
  },
  {
   "cell_type": "code",
   "execution_count": null,
   "outputs": [],
   "source": [
    "sparsity_graph = G.copy()\n",
    "# TODO: graph needs to be chordal for the PSD theorem to work"
   ],
   "metadata": {
    "collapsed": false,
    "pycharm": {
     "name": "#%%\n"
    }
   }
  },
  {
   "cell_type": "code",
   "execution_count": null,
   "outputs": [],
   "source": [
    "treewidth, tree_decomp = nx.algorithms.approximation.treewidth_min_degree(sparsity_graph)"
   ],
   "metadata": {
    "collapsed": false,
    "pycharm": {
     "name": "#%%\n"
    }
   }
  },
  {
   "cell_type": "code",
   "execution_count": null,
   "outputs": [],
   "source": [
    "nx.draw(tree_decomp, nx.spring_layout(tree_decomp))"
   ],
   "metadata": {
    "collapsed": false,
    "pycharm": {
     "name": "#%%\n"
    }
   }
  },
  {
   "cell_type": "code",
   "execution_count": null,
   "outputs": [],
   "source": [
    "X = []\n",
    "n_tree = tree_decomp.number_of_nodes()\n",
    "masks = np.full((n_tree, n, n), False)  # first apply masks to A_i to extract the non-zero terms to be in A_tilde_ik\n",
    "permutations = []  # then extract the indices correponding to bag k to get A_tilde_ik\n",
    "\n",
    "for i, bag in enumerate(tree_decomp.nodes):\n",
    "    X_i_size = len(bag)\n",
    "    X.append(cp.Variable((X_i_size, X_i_size), PSD=True))\n",
    "    permutations.append(np.zeros((X_i_size, n)))\n",
    "    for node_bag_idx, node in enumerate(bag):\n",
    "        permutations[i][node_bag_idx][node] = 1"
   ],
   "metadata": {
    "collapsed": false,
    "pycharm": {
     "name": "#%%\n"
    }
   }
  },
  {
   "cell_type": "code",
   "execution_count": null,
   "outputs": [],
   "source": [
    "remaining_edges_set = set(G.edges)\n",
    "remaining_nodes_set = set(G.nodes)\n",
    "edge_list = list(G.edges)\n",
    "\n",
    "for k, bag in enumerate(tree_decomp.nodes):\n",
    "    for i in bag:\n",
    "        for j in bag:\n",
    "            if (i, j) in remaining_edges_set:\n",
    "                masks[k][i][j] = True\n",
    "                masks[k][j][i] = True\n",
    "                remaining_edges_set.remove((i, j))\n",
    "\n",
    "                if i in remaining_nodes_set:\n",
    "                    masks[k][i][i] = True\n",
    "                    remaining_nodes_set.remove(i)\n",
    "                if j in remaining_nodes_set:\n",
    "                    masks[k][j][j] = True\n",
    "                    remaining_nodes_set.remove(j)"
   ],
   "metadata": {
    "collapsed": false,
    "pycharm": {
     "name": "#%%\n"
    }
   }
  },
  {
   "cell_type": "code",
   "execution_count": null,
   "outputs": [],
   "source": [
    "# verify the masks add up to the adjacency matrix\n",
    "np.all(np.sum(masks, axis=0) == nx.to_numpy_array(G, weight=None) + np.eye(n))"
   ],
   "metadata": {
    "collapsed": false,
    "pycharm": {
     "name": "#%%\n"
    }
   }
  },
  {
   "cell_type": "code",
   "execution_count": null,
   "outputs": [],
   "source": [
    "# create constraint matrices\n",
    "A = [ L_val ]\n",
    "for i in range(n):\n",
    "    A_i = np.zeros((n,n))\n",
    "    A_i[i][i] = 1\n",
    "    A.append(A_i)"
   ],
   "metadata": {
    "collapsed": false,
    "pycharm": {
     "name": "#%%\n"
    }
   }
  },
  {
   "cell_type": "code",
   "execution_count": null,
   "outputs": [],
   "source": [
    "# constraint matrices for the blocks\n",
    "A_tilde = []\n",
    "for i, A_i in enumerate(A):\n",
    "    A_tilde.append([])\n",
    "    for k in range(tree_decomp.number_of_nodes()):\n",
    "        P_k = permutations[k]\n",
    "        A_tilde[i].append(P_k @ (A_i * masks[k]) @ P_k.T )"
   ],
   "metadata": {
    "collapsed": false,
    "pycharm": {
     "name": "#%%\n"
    }
   }
  },
  {
   "cell_type": "code",
   "execution_count": null,
   "outputs": [],
   "source": [
    "constraints = [ ]\n",
    "\n",
    "for i in range(1, n + 1):\n",
    "    constraints += [ cp.sum([ cp.trace(A_tilde[i][k] @ X[k]) for k in range(n_tree) ]) == 1 ]\n",
    "\n",
    "# consistency constraints\n",
    "for (j,k) in tree_decomp.edges:\n",
    "    inter = j.intersection(k)\n",
    "    inter_permutation = np.zeros((len(inter), n))\n",
    "    for node_inter_idx, node in enumerate(inter):\n",
    "        inter_permutation[node_inter_idx][node] = 1\n",
    "    bag_j_idx = list(tree_decomp.nodes).index(j)\n",
    "    bag_k_idx = list(tree_decomp.nodes).index(k)\n",
    "    P_j = permutations[bag_j_idx]\n",
    "    P_k = permutations[bag_k_idx]\n",
    "    constraints += [ inter_permutation @ (P_k.T @ X[bag_k_idx] @ P_k - P_j.T @ X[bag_j_idx] @ P_j) @ inter_permutation.T == 0  ]"
   ],
   "metadata": {
    "collapsed": false,
    "pycharm": {
     "name": "#%%\n"
    }
   }
  },
  {
   "cell_type": "code",
   "execution_count": null,
   "outputs": [],
   "source": [
    "prob = cp.Problem(cp.Maximize(1/4 * ( cp.sum([ cp.trace(A_tilde[0][k] @ X[k]) for k in range(n_tree) ]) )), constraints)\n",
    "prob.solve(solver=cp.MOSEK, verbose=True)"
   ],
   "metadata": {
    "collapsed": false,
    "pycharm": {
     "name": "#%%\n"
    }
   }
  },
  {
   "cell_type": "code",
   "execution_count": null,
   "outputs": [],
   "source": [
    "for i in range(n_tree):\n",
    "    print(np.linalg.eigvalsh(X[i].value))"
   ],
   "metadata": {
    "collapsed": false,
    "pycharm": {
     "name": "#%%\n"
    }
   }
  }
 ],
 "metadata": {
  "kernelspec": {
   "display_name": "Python 3",
   "language": "python",
   "name": "python3"
  },
  "language_info": {
   "codemirror_mode": {
    "name": "ipython",
    "version": 2
   },
   "file_extension": ".py",
   "mimetype": "text/x-python",
   "name": "python",
   "nbconvert_exporter": "python",
   "pygments_lexer": "ipython2",
   "version": "2.7.6"
  }
 },
 "nbformat": 4,
 "nbformat_minor": 0
}