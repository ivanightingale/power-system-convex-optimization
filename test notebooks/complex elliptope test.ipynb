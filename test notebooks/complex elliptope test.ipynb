{
 "cells": [
  {
   "cell_type": "code",
   "execution_count": 1,
   "metadata": {
    "collapsed": true,
    "pycharm": {
     "name": "#%%\n"
    }
   },
   "outputs": [],
   "source": [
    "# import numpy as np\n",
    "import cvxpy as cp\n",
    "import networkx as nx\n",
    "import autograd.numpy as np\n",
    "from autograd import grad\n",
    "\n",
    "import pymanopt\n",
    "import pymanopt.manifolds\n",
    "import pymanopt.solvers\n",
    "\n",
    "from numpy.random import default_rng\n",
    "from complex_elliptope import ComplexElliptope\n",
    "\n",
    "from opt_utils import decompose_psd, normalize_rows, complex_hyperplane_rounding"
   ]
  },
  {
   "cell_type": "code",
   "execution_count": 2,
   "outputs": [],
   "source": [
    "def get_rand_complex(m, n, max_val=5):\n",
    "    return np.round(np.random.rand(m, n) * max_val) + np.round(np.random.rand(m, n) * max_val) * 1j"
   ],
   "metadata": {
    "collapsed": false,
    "pycharm": {
     "name": "#%%\n"
    }
   }
  },
  {
   "cell_type": "markdown",
   "source": [
    "# Phase recovery"
   ],
   "metadata": {
    "collapsed": false,
    "pycharm": {
     "name": "#%% md\n"
    }
   }
  },
  {
   "cell_type": "code",
   "execution_count": 3,
   "outputs": [],
   "source": [
    "n = 50  # number of observations\n",
    "p = 20  # dimension of x\n",
    "max_val = 10"
   ],
   "metadata": {
    "collapsed": false,
    "pycharm": {
     "name": "#%%\n"
    }
   }
  },
  {
   "cell_type": "code",
   "execution_count": 4,
   "outputs": [],
   "source": [
    "rng = default_rng()\n",
    "A = rng.random((n,p)) * max_val + rng.random((n,p)) * max_val * 1j\n",
    "assert np.linalg.matrix_rank(A, tol=1e-6) >= p  # A must be injective; if the rows of A are linearly independent, AA+ = I\n",
    "b = rng.random(n) * max_val\n",
    "M = np.diag(b) @ (np.identity(n) - A @ np.linalg.pinv(A)) @ np.diag(b)"
   ],
   "metadata": {
    "collapsed": false,
    "pycharm": {
     "name": "#%%\n"
    }
   }
  },
  {
   "cell_type": "markdown",
   "source": [
    "\\begin{equation*}\n",
    "\\begin{aligned}\n",
    "\\min \\quad & u^{*}Mu \\\\\n",
    "\\textrm{s.t.} \\quad & |u_{i}| = 1, \\qquad i=1,...,n\n",
    "\\end{aligned}\n",
    "\\end{equation*}"
   ],
   "metadata": {
    "collapsed": false,
    "pycharm": {
     "name": "#%% md\n"
    }
   }
  },
  {
   "cell_type": "code",
   "execution_count": 5,
   "outputs": [],
   "source": [
    "# u = cp.Variable(n, complex=True)\n",
    "# qp_constraints = [ cp.square(cp.real(u[i])) + cp.square(cp.imag(u[i])) == 1 for i in range(n) ]\n",
    "# prob = cp.Problem(cp.Minimize(cp.quad_form(u, M)), qp_constraints)\n",
    "# prob.solve()"
   ],
   "metadata": {
    "collapsed": false,
    "pycharm": {
     "name": "#%%\n"
    }
   }
  },
  {
   "cell_type": "markdown",
   "source": [
    "\\begin{equation*}\n",
    "\\begin{aligned}\n",
    "\\min \\quad & M \\cdot U \\\\\n",
    "\\textrm{s.t.} \\quad & U_{ii} = 1, \\qquad i=1,...,n \\\\\n",
    "& U \\succeq 0\n",
    "\\end{aligned}\n",
    "\\end{equation*}"
   ],
   "metadata": {
    "collapsed": false,
    "pycharm": {
     "name": "#%% md\n"
    }
   }
  },
  {
   "cell_type": "markdown",
   "source": [
    "### solve SDP with cvxpy"
   ],
   "metadata": {
    "collapsed": false,
    "pycharm": {
     "name": "#%% md\n"
    }
   }
  },
  {
   "cell_type": "code",
   "execution_count": 6,
   "outputs": [],
   "source": [
    "U = cp.Variable((n,n), hermitian=True)\n",
    "# U = cp.Variable((n,n), symmetric=True)  # for testing"
   ],
   "metadata": {
    "collapsed": false,
    "pycharm": {
     "name": "#%%\n"
    }
   }
  },
  {
   "cell_type": "code",
   "execution_count": 7,
   "outputs": [],
   "source": [
    "sdp_constraints = [U >> 0]\n",
    "sdp_constraints += [U[i][i] == 1 for i in range(n)]"
   ],
   "metadata": {
    "collapsed": false,
    "pycharm": {
     "name": "#%%\n"
    }
   }
  },
  {
   "cell_type": "code",
   "execution_count": 8,
   "outputs": [
    {
     "name": "stdout",
     "output_type": "stream",
     "text": [
      "The optimal value is 1515.6610902013365\n",
      "A solution U is [[ 1.00000000e+00+0.j          7.53784948e-02+0.0081514j\n",
      "  -1.63808256e-01+0.23070046j ... -4.31110044e-01-0.1728112j\n",
      "   6.39486193e-03+0.19008847j -4.73541962e-02+0.6106984j ]\n",
      " [ 7.53784948e-02-0.0081514j   1.00000000e+00+0.j\n",
      "  -7.00586728e-02-0.01875015j ... -6.35562352e-02-0.05255963j\n",
      "  -5.71961459e-02-0.06798054j -1.41074042e-01-0.02366289j]\n",
      " [-1.63808256e-01-0.23070046j -7.00586728e-02+0.01875015j\n",
      "   1.00000000e+00+0.j         ... -1.76185799e-01+0.23597661j\n",
      "   1.77009731e-01-0.12711279j  3.16952149e-01-0.1005304j ]\n",
      " ...\n",
      " [-4.31110044e-01+0.1728112j  -6.35562352e-02+0.05255963j\n",
      "  -1.76185799e-01-0.23597661j ...  1.00000000e+00+0.j\n",
      "   1.98123476e-01+0.13683914j -8.41139112e-02-0.49046139j]\n",
      " [ 6.39486193e-03-0.19008847j -5.71961459e-02+0.06798054j\n",
      "   1.77009731e-01+0.12711279j ...  1.98123476e-01-0.13683914j\n",
      "   1.00000000e+00+0.j          4.03304182e-04-0.28553369j]\n",
      " [-4.73541962e-02-0.6106984j  -1.41074042e-01+0.02366289j\n",
      "   3.16952149e-01+0.1005304j  ... -8.41139112e-02+0.49046139j\n",
      "   4.03304182e-04+0.28553369j  1.00000000e+00+0.j        ]]\n"
     ]
    }
   ],
   "source": [
    "prob = cp.Problem(cp.Maximize(cp.real(cp.trace(M @ U))), sdp_constraints)\n",
    "prob.solve()\n",
    "\n",
    "print(\"The optimal value is\", prob.value)\n",
    "print(\"A solution U is\", U.value)"
   ],
   "metadata": {
    "collapsed": false,
    "pycharm": {
     "name": "#%%\n"
    }
   }
  },
  {
   "cell_type": "code",
   "execution_count": 9,
   "outputs": [
    {
     "name": "stdout",
     "output_type": "stream",
     "text": [
      "30\n"
     ]
    }
   ],
   "source": [
    "opt_rank = np.linalg.matrix_rank(U.value, 1e-9)\n",
    "print(opt_rank)"
   ],
   "metadata": {
    "collapsed": false,
    "pycharm": {
     "name": "#%%\n"
    }
   }
  },
  {
   "cell_type": "markdown",
   "source": [
    "### Complex elliptope gradient"
   ],
   "metadata": {
    "collapsed": false,
    "pycharm": {
     "name": "#%% md\n"
    }
   }
  },
  {
   "cell_type": "code",
   "execution_count": 10,
   "outputs": [
    {
     "name": "stdout",
     "output_type": "stream",
     "text": [
      "Optimizing...\n",
      "Iteration    Cost                       Gradient norm     \n",
      "---------    -----------------------    --------------    \n",
      "   1         -8.8184068437056499e+02    3.85241567e+02    \n",
      "   2         -8.9479172163421424e+02    3.52530488e+02    \n",
      "   3         -8.9964710295121017e+02    3.45355897e+02    \n",
      "   4         -9.0166434565352631e+02    3.42492001e+02    \n",
      "   5         -9.0253469216100484e+02    3.41274034e+02    \n",
      "   6         -9.0291610647739117e+02    3.40743427e+02    \n",
      "   7         -9.0308438008823282e+02    3.40509925e+02    \n",
      "   8         -9.0315883800147185e+02    3.40406720e+02    \n",
      "   9         -9.0319182693941525e+02    3.40361017e+02    \n",
      "  10         -9.0320645122676478e+02    3.40340760e+02    \n",
      "  11         -9.0321293594870713e+02    3.40331779e+02    \n",
      "  12         -9.0321581173683899e+02    3.40327796e+02    \n",
      "  13         -9.0321708713001851e+02    3.40326030e+02    \n",
      "  14         -9.0321765277104964e+02    3.40325247e+02    \n",
      "  15         -9.0321790363715229e+02    3.40324899e+02    \n",
      "  16         -9.0321801489866277e+02    3.40324745e+02    \n",
      "  17         -9.0321806424429974e+02    3.40324677e+02    \n",
      "  18         -9.0321808612962150e+02    3.40324647e+02    \n",
      "  19         -9.0321809583600123e+02    3.40324633e+02    \n",
      "  20         -9.0321810014088771e+02    3.40324627e+02    \n",
      "  21         -9.0321810205015242e+02    3.40324625e+02    \n",
      "  22         -9.0321810289693258e+02    3.40324623e+02    \n",
      "  23         -9.0321810327248886e+02    3.40324623e+02    \n",
      "  24         -9.0321810343905224e+02    3.40324623e+02    \n",
      "  25         -9.0321810351292481e+02    3.40324623e+02    \n",
      "Terminated - min stepsize reached after 25 iterations, 0.02 seconds.\n",
      "\n"
     ]
    }
   ],
   "source": [
    "manifold = ComplexElliptope(n, opt_rank)\n",
    "\n",
    "@pymanopt.function.autograd(manifold)\n",
    "def manifold_cost(Y):\n",
    "    return -np.real(np.trace(M @ Y @ np.conj(Y).T))\n",
    "\n",
    "problem = pymanopt.Problem(manifold=manifold, cost=manifold_cost)\n",
    "solver = pymanopt.solvers.SteepestDescent(minstepsize=1e-9)\n",
    "solution = solver.solve(problem)"
   ],
   "metadata": {
    "collapsed": false,
    "pycharm": {
     "name": "#%%\n"
    }
   }
  },
  {
   "cell_type": "code",
   "execution_count": 15,
   "outputs": [
    {
     "data": {
      "text/plain": "array([[-1.71145535e+02-1.55323771e+01j, -1.27740822e+01-5.11884173e-01j,\n         3.16183780e+01+2.11931414e+01j, ...,\n         7.10983905e+01-7.27313334e+00j,  1.85807375e+00+1.52665880e+01j,\n         1.75900567e+01+5.01016953e+01j],\n       [ 8.37465141e-02-4.50145730e-02j,  1.00347303e+00+9.94449018e-01j,\n        -5.16559383e-02-3.45639971e-01j, ...,\n        -1.15091520e-02-8.36791131e-01j,  1.02083179e-02-1.05743572e+00j,\n        -1.18032504e-01-4.88568245e-01j],\n       [-1.54289180e+01-8.25241289e+01j, -8.13444332e+00+5.61672379e+00j,\n         1.12608642e+02+1.30788945e+01j, ...,\n        -2.29263571e+01+7.99157252e+01j,  2.15953202e+01-4.19741238e+01j,\n         3.70063777e+01-3.08818736e+01j],\n       ...,\n       [ 1.16509544e+01+1.01933975e+01j,  1.87274558e+00+2.71332267e+00j,\n         3.00556011e+00-9.53872102e+00j, ...,\n        -2.47297452e+01-5.72713446e+00j, -4.11584690e+00+4.98180145e+00j,\n        -7.28822716e-01-2.14410735e+01j],\n       [-3.42671457e+00-3.83969866e+01j,  1.13458509e+00+1.47246551e+01j,\n         2.59155563e+00+2.23980648e+01j, ...,\n        -2.14643978e+00-3.11402221e+01j,  1.65539589e+00-1.80826368e+01j,\n        -5.16253440e+00-5.75100726e+01j],\n       [ 1.00179014e+02-2.01600436e+02j, -1.36560984e+01-1.63892411e+01j,\n         4.65416878e+00+8.55402933e+01j, ...,\n        -8.88095741e+01+1.41224006e+02j, -4.83257168e+01+9.05777591e+01j,\n         6.83962804e+01+1.69343598e+02j]])"
     },
     "execution_count": 15,
     "metadata": {},
     "output_type": "execute_result"
    }
   ],
   "source": [
    "problem.grad(U.value)"
   ],
   "metadata": {
    "collapsed": false,
    "pycharm": {
     "name": "#%%\n"
    }
   }
  },
  {
   "cell_type": "code",
   "execution_count": 16,
   "outputs": [
    {
     "data": {
      "text/plain": "array([[ 1.17920310e+01 -1.4896583j , -1.54627706e+00 -6.53388003j,\n        -1.17911011e+01+18.76301105j, ..., -3.57205572e+00 +5.84699634j,\n        -1.66100314e+00 -4.76682721j,  1.81957274e+00 +2.1406472j ],\n       [-1.73591489e-03 +0.70628808j, -3.93068387e-01 +1.16664277j,\n         9.92216435e-01 -2.00513325j, ...,  9.20579773e-01 -1.81620294j,\n        -1.58569695e+00 -1.10828943j,  1.26708700e+00 -3.05752599j],\n       [ 2.66975080e+00 +3.09286053j,  1.30486346e+00 -7.34720537j,\n        -1.03841953e+01-14.6095152j , ..., -6.02815368e+00 +1.11266433j,\n        -5.42192035e-01 -2.40068191j, -2.59258486e+00 +4.00524718j],\n       ...,\n       [-1.82021924e+00 +1.38854913j,  1.66839109e+00 +5.16650611j,\n         1.12054859e+01 -5.94148836j, ...,  1.62326929e+00 -4.28419663j,\n        -5.43784696e+00 -5.96427359j,  1.99218196e+00 -0.27488584j],\n       [ 9.64257894e-02 +8.61983179j,  7.72186838e+00 -4.95564158j,\n         7.30714444e+00 +5.40187742j, ...,  8.77543016e-01-15.87368775j,\n         5.29166144e+00 +0.67571985j, -9.99757990e+00-14.96379755j],\n       [ 1.61219814e+01 -3.49489089j,  1.69283809e-01 -8.9186993j ,\n        -9.36504532e+00-21.41538828j, ..., -1.98237477e+01 -5.77519748j,\n         2.83406988e+01 -0.84555129j, -5.25432084e+00 +2.90860701j]])"
     },
     "execution_count": 16,
     "metadata": {},
     "output_type": "execute_result"
    }
   ],
   "source": [
    "problem.grad(solution)"
   ],
   "metadata": {
    "collapsed": false,
    "pycharm": {
     "name": "#%%\n"
    }
   }
  },
  {
   "cell_type": "code",
   "execution_count": 11,
   "outputs": [
    {
     "data": {
      "text/plain": "340.3246225407906"
     },
     "execution_count": 11,
     "metadata": {},
     "output_type": "execute_result"
    }
   ],
   "source": [
    "np.linalg.norm(problem.grad(solution))"
   ],
   "metadata": {
    "collapsed": false,
    "pycharm": {
     "name": "#%%\n"
    }
   }
  },
  {
   "cell_type": "code",
   "execution_count": 12,
   "outputs": [
    {
     "data": {
      "text/plain": "457.4888804695002"
     },
     "execution_count": 12,
     "metadata": {},
     "output_type": "execute_result"
    }
   ],
   "source": [
    "manifold.norm(np.zeros(solution.shape), problem.grad(decompose_psd(U.value)))"
   ],
   "metadata": {
    "collapsed": false,
    "pycharm": {
     "name": "#%%\n"
    }
   }
  },
  {
   "cell_type": "markdown",
   "source": [
    "### Hyperplane rounding"
   ],
   "metadata": {
    "collapsed": false,
    "pycharm": {
     "name": "#%% md\n"
    }
   }
  },
  {
   "cell_type": "code",
   "execution_count": 13,
   "outputs": [],
   "source": [
    "qp_cost = lambda u: -cp.real(cp.quad_form(u, M)).value"
   ],
   "metadata": {
    "collapsed": false,
    "pycharm": {
     "name": "#%%\n"
    }
   }
  },
  {
   "cell_type": "code",
   "execution_count": 14,
   "outputs": [
    {
     "data": {
      "text/plain": "(array([[-1448.79657732]]),\n array([[ 0.14667232-0.98918513j],\n        [ 0.06203914+0.99807372j],\n        [-0.91406643+0.40556449j],\n        [ 0.7863508 +0.61778024j],\n        [-0.97874783+0.20506749j],\n        [ 0.72367967-0.69013602j],\n        [-0.96163793+0.27432187j],\n        [-0.96941933+0.24541021j],\n        [ 0.4851313 +0.87444132j],\n        [-0.99729798-0.07346245j],\n        [-0.93464706-0.35557681j],\n        [ 0.760043  +0.64987279j],\n        [-0.97615265+0.21708524j],\n        [ 0.70983466+0.70436834j],\n        [ 0.75410175-0.65675761j],\n        [ 0.74497213-0.66709559j],\n        [ 0.99926171-0.03841925j],\n        [ 0.54541664-0.83816507j],\n        [ 0.43034871-0.90266272j],\n        [-0.06811646+0.99767738j],\n        [-0.91643671-0.40017966j],\n        [-0.46593752+0.88481762j],\n        [-0.99980934-0.01952664j],\n        [ 0.41417756-0.91019611j],\n        [-0.33445617+0.94241131j],\n        [ 0.99786256-0.06534767j],\n        [ 0.99991295+0.01319414j],\n        [ 0.30354554+0.95281693j],\n        [-0.68905069+0.72471315j],\n        [ 0.88361281-0.46821834j],\n        [ 0.47436526+0.88032812j],\n        [ 0.5022826 +0.86470353j],\n        [ 0.90798498-0.41900271j],\n        [-0.12638557+0.99198119j],\n        [ 0.9993546 +0.03592185j],\n        [ 0.62612804+0.77972026j],\n        [ 0.99743993+0.07150936j],\n        [-0.99807213+0.06206465j],\n        [-0.26445733-0.96439739j],\n        [-0.28706267+0.9579118j ],\n        [ 0.73904722-0.67365363j],\n        [ 0.84801278+0.52997577j],\n        [ 0.96925097-0.24607428j],\n        [ 0.62139251-0.78349943j],\n        [ 0.02410635-0.9997094j ],\n        [ 0.25578309+0.9667342j ],\n        [-0.97917457+0.20302012j],\n        [-0.50926164+0.86061175j],\n        [-0.55122889+0.83435407j],\n        [-0.86660518+0.49899445j]]))"
     },
     "execution_count": 14,
     "metadata": {},
     "output_type": "execute_result"
    }
   ],
   "source": [
    "complex_hyperplane_rounding(decompose_psd(U.value), qp_cost)"
   ],
   "metadata": {
    "collapsed": false,
    "pycharm": {
     "name": "#%%\n"
    }
   }
  }
 ],
 "metadata": {
  "kernelspec": {
   "display_name": "Python 3",
   "language": "python",
   "name": "python3"
  },
  "language_info": {
   "codemirror_mode": {
    "name": "ipython",
    "version": 2
   },
   "file_extension": ".py",
   "mimetype": "text/x-python",
   "name": "python",
   "nbconvert_exporter": "python",
   "pygments_lexer": "ipython2",
   "version": "2.7.6"
  }
 },
 "nbformat": 4,
 "nbformat_minor": 0
}