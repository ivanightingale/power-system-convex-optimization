{
 "cells": [
  {
   "cell_type": "code",
   "execution_count": 1,
   "metadata": {
    "collapsed": true
   },
   "outputs": [],
   "source": [
    "# import numpy as np\n",
    "import cvxpy as cp\n",
    "import networkx as nx\n",
    "import autograd.numpy as np\n",
    "from autograd import grad\n",
    "\n",
    "import pymanopt\n",
    "import pymanopt.manifolds\n",
    "import pymanopt.solvers\n",
    "\n",
    "from numpy.random import default_rng\n",
    "from complex_elliptope import ComplexElliptope\n",
    "\n",
    "from opt_utils import decompose_psd, normalize_rows, complex_hyperplane_rounding"
   ]
  },
  {
   "cell_type": "code",
   "execution_count": 2,
   "outputs": [],
   "source": [
    "def get_rand_complex(m, n, max_val=5):\n",
    "    return np.round(np.random.rand(m, n) * max_val) + np.round(np.random.rand(m, n) * max_val) * 1j"
   ],
   "metadata": {
    "collapsed": false,
    "pycharm": {
     "name": "#%%\n"
    }
   }
  },
  {
   "cell_type": "markdown",
   "source": [
    "# Phase recovery"
   ],
   "metadata": {
    "collapsed": false,
    "pycharm": {
     "name": "#%% md\n"
    }
   }
  },
  {
   "cell_type": "code",
   "execution_count": 3,
   "outputs": [],
   "source": [
    "n = 50  # number of observations\n",
    "p = 20  # dimension of x\n",
    "max_val = 1e2"
   ],
   "metadata": {
    "collapsed": false,
    "pycharm": {
     "name": "#%%\n"
    }
   }
  },
  {
   "cell_type": "code",
   "execution_count": 4,
   "outputs": [],
   "source": [
    "rng = default_rng()\n",
    "A = rng.random((n,p)) * max_val + rng.random((n,p)) * max_val * 1j\n",
    "assert np.linalg.matrix_rank(A, tol=1e-6) >= p  # A must be injective; if the rows of A are linearly independent, AA+ = I\n",
    "b = rng.random(n) * max_val\n",
    "M = np.diag(b) @ (np.identity(n) - A @ np.linalg.pinv(A)) @ np.diag(b)"
   ],
   "metadata": {
    "collapsed": false,
    "pycharm": {
     "name": "#%%\n"
    }
   }
  },
  {
   "cell_type": "markdown",
   "source": [
    "\\begin{equation*}\n",
    "\\begin{aligned}\n",
    "\\min \\quad & u^{*}Mu \\\\\n",
    "\\textrm{s.t.} \\quad & |u_{i}| = 1, \\qquad i=1,...,n\n",
    "\\end{aligned}\n",
    "\\end{equation*}"
   ],
   "metadata": {
    "collapsed": false,
    "pycharm": {
     "name": "#%% md\n"
    }
   }
  },
  {
   "cell_type": "code",
   "execution_count": 15,
   "outputs": [],
   "source": [
    "# u = cp.Variable(n, complex=True)\n",
    "# qp_constraints = [ cp.square(cp.real(u[i])) + cp.square(cp.imag(u[i])) == 1 for i in range(n) ]\n",
    "# prob = cp.Problem(cp.Minimize(cp.quad_form(u, M)), qp_constraints)\n",
    "# prob.solve()"
   ],
   "metadata": {
    "collapsed": false,
    "pycharm": {
     "name": "#%%\n"
    }
   }
  },
  {
   "cell_type": "markdown",
   "source": [
    "\\begin{equation*}\n",
    "\\begin{aligned}\n",
    "\\min \\quad & M \\cdot U \\\\\n",
    "\\textrm{s.t.} \\quad & U_{ii} = 1, \\qquad i=1,...,n \\\\\n",
    "& U \\succeq 0\n",
    "\\end{aligned}\n",
    "\\end{equation*}"
   ],
   "metadata": {
    "collapsed": false,
    "pycharm": {
     "name": "#%% md\n"
    }
   }
  },
  {
   "cell_type": "markdown",
   "source": [
    "### solve SDP with cvxpy"
   ],
   "metadata": {
    "collapsed": false,
    "pycharm": {
     "name": "#%% md\n"
    }
   }
  },
  {
   "cell_type": "code",
   "execution_count": 9,
   "outputs": [],
   "source": [
    "U = cp.Variable((n,n), hermitian=True)\n",
    "# U = cp.Variable((n,n), symmetric=True)  # for testing"
   ],
   "metadata": {
    "collapsed": false,
    "pycharm": {
     "name": "#%%\n"
    }
   }
  },
  {
   "cell_type": "code",
   "execution_count": 10,
   "outputs": [],
   "source": [
    "sdp_constraints = [U >> 0]\n",
    "sdp_constraints += [U[i][i] == 1 for i in range(n)]"
   ],
   "metadata": {
    "collapsed": false,
    "pycharm": {
     "name": "#%%\n"
    }
   }
  },
  {
   "cell_type": "code",
   "execution_count": 11,
   "outputs": [
    {
     "name": "stdout",
     "output_type": "stream",
     "text": [
      "The optimal value is 227998.78899964158\n",
      "A solution U is [[ 9.99999997e-01+0.j          9.43357384e-02+0.27514311j\n",
      "  -8.32239114e-02+0.08957215j ...  7.56581847e-02+0.15751748j\n",
      "   1.64663577e-01-0.32299026j -3.96778018e-03-0.00885349j]\n",
      " [ 9.43357384e-02-0.27514311j  9.99999997e-01+0.j\n",
      "  -1.45497364e-01+0.05757336j ...  2.54574326e-01-0.1440652j\n",
      "  -1.08787821e-01-0.25907406j -1.28752937e-02-0.00554008j]\n",
      " [-8.32239114e-02-0.08957215j -1.45497364e-01-0.05757336j\n",
      "   9.99999996e-01+0.j         ... -2.16986718e-02-0.04728792j\n",
      "  -1.44870767e-01-0.07348178j  8.05666979e-04+0.00418659j]\n",
      " ...\n",
      " [ 7.56581847e-02-0.15751748j  2.54574326e-01+0.1440652j\n",
      "  -2.16986718e-02+0.04728792j ...  9.99999997e-01+0.j\n",
      "  -4.23641823e-02-0.01645329j  1.11103137e-03-0.00177536j]\n",
      " [ 1.64663577e-01+0.32299026j -1.08787821e-01+0.25907406j\n",
      "  -1.44870767e-01+0.07348178j ... -4.23641823e-02+0.01645329j\n",
      "   9.99999997e-01+0.j          2.47040835e-03+0.00345465j]\n",
      " [-3.96778018e-03+0.00885349j -1.28752937e-02+0.00554008j\n",
      "   8.05666979e-04-0.00418659j ...  1.11103137e-03+0.00177536j\n",
      "   2.47040835e-03-0.00345465j  9.99999996e-01+0.j        ]]\n"
     ]
    }
   ],
   "source": [
    "prob = cp.Problem(cp.Maximize(cp.real(cp.trace(M @ U))), sdp_constraints)\n",
    "prob.solve()\n",
    "\n",
    "print(\"The optimal value is\", prob.value)\n",
    "print(\"A solution U is\", U.value)"
   ],
   "metadata": {
    "collapsed": false,
    "pycharm": {
     "name": "#%%\n"
    }
   }
  },
  {
   "cell_type": "code",
   "execution_count": 12,
   "outputs": [
    {
     "name": "stdout",
     "output_type": "stream",
     "text": [
      "44\n"
     ]
    }
   ],
   "source": [
    "opt_rank = np.linalg.matrix_rank(U.value, 1e-9)\n",
    "print(opt_rank)"
   ],
   "metadata": {
    "collapsed": false,
    "pycharm": {
     "name": "#%%\n"
    }
   }
  },
  {
   "cell_type": "markdown",
   "source": [
    "### Complex elliptope gradient"
   ],
   "metadata": {
    "collapsed": false,
    "pycharm": {
     "name": "#%% md\n"
    }
   }
  },
  {
   "cell_type": "code",
   "execution_count": 22,
   "outputs": [
    {
     "name": "stdout",
     "output_type": "stream",
     "text": [
      "Optimizing...\n",
      "Iteration    Cost                       Gradient norm     \n",
      "---------    -----------------------    --------------    \n",
      "   1         +1.3551293986124184e+05    5.49743191e+04    \n",
      "Terminated - min stepsize reached after 1 iterations, 0.02 seconds.\n",
      "\n"
     ]
    }
   ],
   "source": [
    "manifold = ComplexElliptope(n, opt_rank)\n",
    "\n",
    "@pymanopt.function.Autograd(manifold)\n",
    "def manifold_cost(Y):\n",
    "    return np.real(np.trace(M @ Y @ np.conj(Y).T))\n",
    "\n",
    "problem = pymanopt.Problem(manifold=manifold, cost=manifold_cost)\n",
    "solver = pymanopt.solvers.SteepestDescent(minstepsize=1e-9)\n",
    "solution = solver.solve(problem)"
   ],
   "metadata": {
    "collapsed": false,
    "pycharm": {
     "name": "#%%\n"
    }
   }
  },
  {
   "cell_type": "markdown",
   "source": [
    "### Hyperplane rounding"
   ],
   "metadata": {
    "collapsed": false,
    "pycharm": {
     "name": "#%% md\n"
    }
   }
  },
  {
   "cell_type": "code",
   "execution_count": 14,
   "outputs": [],
   "source": [
    "qp_cost = lambda u: -cp.real(cp.quad_form(u, M)).value"
   ],
   "metadata": {
    "collapsed": false,
    "pycharm": {
     "name": "#%%\n"
    }
   }
  },
  {
   "cell_type": "code",
   "execution_count": 15,
   "outputs": [
    {
     "data": {
      "text/plain": "(array([[ 0.08519919-0.09548121j],\n        [ 0.06305655+0.17592642j],\n        [-0.0416951 +0.02836427j],\n        [-0.01172078-0.08780442j],\n        [ 0.0865462 -0.04801776j],\n        [-0.08931889+0.23751578j],\n        [ 0.07614338-0.08094399j],\n        [ 0.09554681+0.00865453j],\n        [ 0.12409845+0.00348004j],\n        [ 0.00324088-0.01744834j],\n        [ 0.04323691-0.12139102j],\n        [-0.04244527+0.14978684j],\n        [ 0.16660813-0.07525077j],\n        [-0.0819062 -0.01005515j],\n        [-0.12543885+0.2058115j ],\n        [-0.10580387-0.03154271j],\n        [-0.18620486-0.02979513j],\n        [-0.15416302+0.00947798j],\n        [-0.0036893 -0.03838838j],\n        [ 0.05981327-0.08125232j],\n        [ 0.08260892-0.20849576j],\n        [ 0.03984368+0.02198208j],\n        [-0.08199705+0.02461033j],\n        [-0.01485817+0.03481425j],\n        [ 0.07726055+0.16013038j],\n        [ 0.0053742 -0.11971186j],\n        [-0.18534006-0.0930069j ],\n        [-0.03237948+0.0931882j ],\n        [ 0.01523685+0.10690026j],\n        [-0.049377  +0.15572624j],\n        [ 0.05994645-0.07274455j],\n        [ 0.08842064+0.04427963j],\n        [ 0.00185626-0.08949285j],\n        [ 0.06056397+0.28995783j],\n        [ 0.08580737-0.1044976j ],\n        [ 0.00640329+0.08452343j],\n        [-0.02790624-0.03943714j],\n        [-0.18259514+0.06857031j],\n        [-0.00654024+0.06029421j],\n        [-0.03305494-0.10509294j],\n        [-0.17265744-0.12295498j],\n        [-0.09461925+0.03070688j],\n        [-0.0704426 -0.12384302j],\n        [-0.09365862-0.03373043j],\n        [-0.03357035-0.06469785j],\n        [-0.08032111+0.00704669j],\n        [ 0.22086027+0.13041459j],\n        [ 0.11164309+0.00807822j],\n        [ 0.02066367-0.02961962j],\n        [ 0.13419175+0.12515552j]]),\n array([[-4958.57541133]]))"
     },
     "execution_count": 15,
     "metadata": {},
     "output_type": "execute_result"
    }
   ],
   "source": [
    "complex_hyperplane_rounding(decompose_psd(U.value), qp_cost)"
   ],
   "metadata": {
    "collapsed": false,
    "pycharm": {
     "name": "#%%\n"
    }
   }
  }
 ],
 "metadata": {
  "kernelspec": {
   "display_name": "Python 3",
   "language": "python",
   "name": "python3"
  },
  "language_info": {
   "codemirror_mode": {
    "name": "ipython",
    "version": 2
   },
   "file_extension": ".py",
   "mimetype": "text/x-python",
   "name": "python",
   "nbconvert_exporter": "python",
   "pygments_lexer": "ipython2",
   "version": "2.7.6"
  }
 },
 "nbformat": 4,
 "nbformat_minor": 0
}