{
 "cells": [
  {
   "cell_type": "code",
   "execution_count": 1,
   "metadata": {
    "collapsed": true
   },
   "outputs": [],
   "source": [
    "# import numpy as np\n",
    "import cvxpy as cp\n",
    "import networkx as nx\n",
    "import autograd.numpy as np\n",
    "from autograd import grad\n",
    "\n",
    "import pymanopt\n",
    "import pymanopt.manifolds\n",
    "import pymanopt.solvers\n",
    "\n",
    "from numpy.random import default_rng\n",
    "from complex_elliptope import ComplexElliptope"
   ]
  },
  {
   "cell_type": "code",
   "execution_count": 2,
   "outputs": [],
   "source": [
    "def decompose_psd(X):\n",
    "    n = X.shape[0]\n",
    "    eigen_values, eigen_vectors = np.linalg.eigh(X)\n",
    "    non_neg_eig_idx = [i for i in range(n) if eigen_values[i] >= 0]\n",
    "    return eigen_vectors[:, non_neg_eig_idx] @ np.diag(np.sqrt(eigen_values[non_neg_eig_idx]))"
   ],
   "metadata": {
    "collapsed": false,
    "pycharm": {
     "name": "#%%\n"
    }
   }
  },
  {
   "cell_type": "code",
   "execution_count": 3,
   "outputs": [],
   "source": [
    "def normalize_rows(X):\n",
    "    # normalize the rows of matrix X\n",
    "    return X / np.linalg.norm(X, axis=1)[:, np.newaxis]"
   ],
   "metadata": {
    "collapsed": false,
    "pycharm": {
     "name": "#%%\n"
    }
   }
  },
  {
   "cell_type": "code",
   "execution_count": 4,
   "outputs": [],
   "source": [
    "def complex_hyperplane_rounding(Y, cost, iter=100):\n",
    "    min_cost = 0\n",
    "    best_x = None\n",
    "    d = Y.shape[1]\n",
    "    rng = default_rng()\n",
    "    for i in range(iter):\n",
    "        r = rng.random((d,1)) + rng.random((d,1)) * 1j\n",
    "        r = r / np.linalg.norm(r)\n",
    "        x = Y @ r\n",
    "        x = x / np.linalg.norm(x)\n",
    "        cost_val = cost(x)\n",
    "        if cost_val < min_cost:\n",
    "            min_cost = cost_val\n",
    "            best_x = x\n",
    "    return best_x, min_cost"
   ],
   "metadata": {
    "collapsed": false,
    "pycharm": {
     "name": "#%%\n"
    }
   }
  },
  {
   "cell_type": "code",
   "execution_count": 4,
   "outputs": [],
   "source": [],
   "metadata": {
    "collapsed": false,
    "pycharm": {
     "name": "#%%\n"
    }
   }
  },
  {
   "cell_type": "code",
   "execution_count": 5,
   "outputs": [],
   "source": [
    "def get_rand_complex(m, n, max_val=5):\n",
    "    return np.round(np.random.rand(m, n) * max_val) + np.round(np.random.rand(m, n) * max_val) * 1j"
   ],
   "metadata": {
    "collapsed": false,
    "pycharm": {
     "name": "#%%\n"
    }
   }
  },
  {
   "cell_type": "markdown",
   "source": [
    "# Phase recovery"
   ],
   "metadata": {
    "collapsed": false,
    "pycharm": {
     "name": "#%% md\n"
    }
   }
  },
  {
   "cell_type": "code",
   "execution_count": 6,
   "outputs": [],
   "source": [
    "n = 50  # number of observations\n",
    "p = 20  # dimension of x\n",
    "max_val = 1e2"
   ],
   "metadata": {
    "collapsed": false,
    "pycharm": {
     "name": "#%%\n"
    }
   }
  },
  {
   "cell_type": "code",
   "execution_count": 7,
   "outputs": [],
   "source": [
    "rng = default_rng()\n",
    "A = rng.random((n,p)) * max_val + rng.random((n,p)) * max_val * 1j\n",
    "assert np.linalg.matrix_rank(A, tol=1e-6) >= p  # A must be injective; if the rows of A are linearly independent, AA+ = I\n",
    "b = rng.random(n) * max_val\n",
    "M = np.diag(b) @ (np.identity(n) - A @ np.linalg.pinv(A)) @ np.diag(b)"
   ],
   "metadata": {
    "collapsed": false,
    "pycharm": {
     "name": "#%%\n"
    }
   }
  },
  {
   "cell_type": "markdown",
   "source": [
    "\\begin{equation*}\n",
    "\\begin{aligned}\n",
    "\\min \\quad & u^{*}Mu \\\\\n",
    "\\textrm{s.t.} \\quad & |u_{i}| = 1, \\qquad i=1,...,n\n",
    "\\end{aligned}\n",
    "\\end{equation*}"
   ],
   "metadata": {
    "collapsed": false,
    "pycharm": {
     "name": "#%% md\n"
    }
   }
  },
  {
   "cell_type": "code",
   "execution_count": 8,
   "outputs": [],
   "source": [
    "# u = cp.Variable(n, complex=True)\n",
    "# qp_constraints = [ u[i].value.H * u[i] == 1 for i in range(n) ]\n",
    "# prob = cp.Problem(cp.Minimize(cp.quad_form(u, M)), qp_constraints)\n",
    "# prob.solve()"
   ],
   "metadata": {
    "collapsed": false,
    "pycharm": {
     "name": "#%%\n"
    }
   }
  },
  {
   "cell_type": "markdown",
   "source": [
    "\\begin{equation*}\n",
    "\\begin{aligned}\n",
    "\\min \\quad & M \\cdot U \\\\\n",
    "\\textrm{s.t.} \\quad & U_{ii} = 1, \\qquad i=1,...,n \\\\\n",
    "& U \\succeq 0\n",
    "\\end{aligned}\n",
    "\\end{equation*}"
   ],
   "metadata": {
    "collapsed": false,
    "pycharm": {
     "name": "#%% md\n"
    }
   }
  },
  {
   "cell_type": "markdown",
   "source": [
    "### solve SDP with cvxpy"
   ],
   "metadata": {
    "collapsed": false,
    "pycharm": {
     "name": "#%% md\n"
    }
   }
  },
  {
   "cell_type": "code",
   "execution_count": 9,
   "outputs": [],
   "source": [
    "U = cp.Variable((n,n), hermitian=True)\n",
    "# U = cp.Variable((n,n), symmetric=True)  # for testing"
   ],
   "metadata": {
    "collapsed": false,
    "pycharm": {
     "name": "#%%\n"
    }
   }
  },
  {
   "cell_type": "code",
   "execution_count": 10,
   "outputs": [],
   "source": [
    "sdp_constraints = [U >> 0]\n",
    "sdp_constraints += [U[i][i] == 1 for i in range(n)]"
   ],
   "metadata": {
    "collapsed": false,
    "pycharm": {
     "name": "#%%\n"
    }
   }
  },
  {
   "cell_type": "code",
   "execution_count": 11,
   "outputs": [
    {
     "name": "stdout",
     "output_type": "stream",
     "text": [
      "The optimal value is 133.17786652587796\n",
      "A solution U is [[ 1.        +0.j         -0.00131718+0.2186223j   0.4020449 +0.59538451j\n",
      "  ... -0.17726416+0.44345426j  0.08777712-0.13906409j\n",
      "  -0.36502408-0.09934923j]\n",
      " [-0.00131718-0.2186223j   1.        +0.j         -0.08230402+0.52451177j\n",
      "  ...  0.9088733 +0.19196539j  0.80070221-0.26189672j\n",
      "  -0.86710893-0.07977449j]\n",
      " [ 0.4020449 -0.59538451j -0.08230402-0.52451177j  1.        +0.j\n",
      "  ...  0.10451819-0.22552914j -0.3458085 -0.66616775j\n",
      "  -0.17721505+0.76617689j]\n",
      " ...\n",
      " [-0.17726416-0.44345426j  0.9088733 -0.19196539j  0.10451819+0.22552914j\n",
      "  ...  1.        +0.j          0.49794428-0.39248888j\n",
      "  -0.70752326+0.24315146j]\n",
      " [ 0.08777712+0.13906409j  0.80070221+0.26189672j -0.3458085 +0.66616775j\n",
      "  ...  0.49794428+0.39248888j  1.        +0.j\n",
      "  -0.79002608-0.51001191j]\n",
      " [-0.36502408+0.09934923j -0.86710893+0.07977449j -0.17721505-0.76617689j\n",
      "  ... -0.70752326-0.24315146j -0.79002608+0.51001191j\n",
      "   1.        +0.j        ]]\n"
     ]
    }
   ],
   "source": [
    "prob = cp.Problem(cp.Minimize(cp.real(cp.trace(M @ U))), sdp_constraints)\n",
    "prob.solve()\n",
    "\n",
    "print(\"The optimal value is\", prob.value)\n",
    "print(\"A solution U is\", U.value)"
   ],
   "metadata": {
    "collapsed": false,
    "pycharm": {
     "name": "#%%\n"
    }
   }
  },
  {
   "cell_type": "code",
   "execution_count": 12,
   "outputs": [
    {
     "name": "stdout",
     "output_type": "stream",
     "text": [
      "4\n"
     ]
    }
   ],
   "source": [
    "opt_rank = np.linalg.matrix_rank(U.value, 1e-9)\n",
    "print(opt_rank)"
   ],
   "metadata": {
    "collapsed": false,
    "pycharm": {
     "name": "#%%\n"
    }
   }
  },
  {
   "cell_type": "markdown",
   "source": [
    "### Complex elliptope gradient"
   ],
   "metadata": {
    "collapsed": false,
    "pycharm": {
     "name": "#%% md\n"
    }
   }
  },
  {
   "cell_type": "code",
   "execution_count": 13,
   "outputs": [
    {
     "name": "stdout",
     "output_type": "stream",
     "text": [
      "Optimizing...\n",
      "Iteration    Cost                       Gradient norm     \n",
      "---------    -----------------------    --------------    \n",
      "   1         +9.6775038073735224e+04    3.24166703e+04    \n",
      "Terminated - min stepsize reached after 1 iterations, 0.00 seconds.\n",
      "\n"
     ]
    }
   ],
   "source": [
    "manifold = ComplexElliptope(n, opt_rank)\n",
    "\n",
    "@pymanopt.function.Autograd(manifold)\n",
    "def manifold_cost(Y):\n",
    "    return np.real(np.trace(M @ Y @ np.conj(Y).T))\n",
    "\n",
    "problem = pymanopt.Problem(manifold=manifold, cost=manifold_cost)\n",
    "solver = pymanopt.solvers.SteepestDescent(minstepsize=1e-6)\n",
    "solution = solver.solve(problem)"
   ],
   "metadata": {
    "collapsed": false,
    "pycharm": {
     "name": "#%%\n"
    }
   }
  },
  {
   "cell_type": "markdown",
   "source": [
    "### Hyperplane rounding"
   ],
   "metadata": {
    "collapsed": false,
    "pycharm": {
     "name": "#%% md\n"
    }
   }
  },
  {
   "cell_type": "code",
   "execution_count": 15,
   "outputs": [],
   "source": [
    "qp_cost = lambda u: cp.real(cp.quad_form(u, M)).value"
   ],
   "metadata": {
    "collapsed": false,
    "pycharm": {
     "name": "#%%\n"
    }
   }
  },
  {
   "cell_type": "code",
   "execution_count": 16,
   "outputs": [
    {
     "data": {
      "text/plain": "(array([[-9.19539020e-01+0.39299872j],\n        [ 2.21702498e-01+0.97511435j],\n        [ 9.60493600e-01+0.27830207j],\n        [-3.37973525e-01-0.94115562j],\n        [-9.89122506e-01+0.14709408j],\n        [ 3.28219242e-01-0.94460157j],\n        [-5.91089430e-01-0.80660603j],\n        [ 9.99919288e-01-0.01270502j],\n        [ 9.92054973e-01-0.12580513j],\n        [ 8.83485806e-01+0.46845793j],\n        [ 5.52464231e-01+0.83353661j],\n        [-9.05950052e-01+0.42338458j],\n        [ 4.42164275e-01-0.89693409j],\n        [-8.55832330e-01-0.51725335j],\n        [-9.62069382e-01-0.27280488j],\n        [-4.64072713e-01-0.88579711j],\n        [-6.77465075e-01-0.73555494j],\n        [-7.33705805e-01-0.67946729j],\n        [-6.39236088e-01+0.76901055j],\n        [-7.70955240e-01+0.63688933j],\n        [-9.10744428e-01-0.41297044j],\n        [-9.13171459e-01+0.40757562j],\n        [-9.37212121e-01+0.34875986j],\n        [ 4.34124065e-01-0.90085309j],\n        [-7.43373148e-01+0.66887694j],\n        [-8.74930595e-01+0.48424834j],\n        [ 3.15393785e-02-0.99950251j],\n        [-9.54376417e-01+0.29860619j],\n        [ 1.34200252e-04+0.99999999j],\n        [-9.05225244e-01+0.42493206j],\n        [ 9.19355258e-01-0.39342841j],\n        [-9.79675480e-01-0.20058902j],\n        [ 8.92889717e-01-0.45027542j],\n        [ 9.96967710e-01-0.07781636j],\n        [-8.66249413e-02-0.99624099j],\n        [ 9.75863347e-01+0.21838207j],\n        [-8.79442677e-01-0.47600481j],\n        [ 2.14690121e-01+0.97668222j],\n        [-9.05488405e-01+0.424371j  ],\n        [ 6.16418999e-01-0.78741832j],\n        [ 7.54651114e-01+0.65612628j],\n        [-2.58564858e-01+0.9659939j ],\n        [ 9.79811357e-01+0.19992425j],\n        [ 2.48770166e-01-0.96856255j],\n        [ 7.36641351e-01-0.67628361j],\n        [-9.99719437e-01-0.02368645j],\n        [ 1.80132212e-01+0.98364241j],\n        [ 3.99610232e-01+0.91668515j],\n        [ 1.38657328e-01+0.99034042j],\n        [-2.16675161e-01-0.97624376j]]),\n array([[6587.66118865]]))"
     },
     "execution_count": 16,
     "metadata": {},
     "output_type": "execute_result"
    }
   ],
   "source": [
    "complex_hyperplane_rounding(decompose_psd(U.value), qp_cost)"
   ],
   "metadata": {
    "collapsed": false,
    "pycharm": {
     "name": "#%%\n"
    }
   }
  }
 ],
 "metadata": {
  "kernelspec": {
   "display_name": "Python 3",
   "language": "python",
   "name": "python3"
  },
  "language_info": {
   "codemirror_mode": {
    "name": "ipython",
    "version": 2
   },
   "file_extension": ".py",
   "mimetype": "text/x-python",
   "name": "python",
   "nbconvert_exporter": "python",
   "pygments_lexer": "ipython2",
   "version": "2.7.6"
  }
 },
 "nbformat": 4,
 "nbformat_minor": 0
}