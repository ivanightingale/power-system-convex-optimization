{
 "cells": [
  {
   "cell_type": "code",
   "execution_count": 221,
   "metadata": {
    "collapsed": true
   },
   "outputs": [],
   "source": [
    "import numpy as np\n",
    "import cvxpy as cp\n",
    "import networkx as nx\n",
    "\n",
    "from numpy.random import default_rng"
   ]
  },
  {
   "cell_type": "code",
   "execution_count": 254,
   "outputs": [],
   "source": [
    "def decompose_psd(X):\n",
    "    n = X.shape[0]\n",
    "    eigen_values, eigen_vectors = np.linalg.eigh(X)\n",
    "    non_neg_eig_idx = [i for i in range(n) if eigen_values[i] >= 0]\n",
    "    return eigen_vectors[:, non_neg_eig_idx] @ np.diag(np.sqrt(eigen_values[non_neg_eig_idx]))"
   ],
   "metadata": {
    "collapsed": false,
    "pycharm": {
     "name": "#%%\n"
    }
   }
  },
  {
   "cell_type": "code",
   "execution_count": 206,
   "outputs": [],
   "source": [
    "def normalize_rows(X):\n",
    "    # normalize the rows of matrix X\n",
    "    return X / np.linalg.norm(X, axis=1)[:, np.newaxis]"
   ],
   "metadata": {
    "collapsed": false,
    "pycharm": {
     "name": "#%%\n"
    }
   }
  },
  {
   "cell_type": "markdown",
   "source": [
    "# Phase recovery"
   ],
   "metadata": {
    "collapsed": false,
    "pycharm": {
     "name": "#%% md\n"
    }
   }
  },
  {
   "cell_type": "code",
   "execution_count": 208,
   "outputs": [],
   "source": [
    "n = 20  # number of observations\n",
    "p = 5  # dimension of x\n",
    "max_val = 1e2"
   ],
   "metadata": {
    "collapsed": false,
    "pycharm": {
     "name": "#%%\n"
    }
   }
  },
  {
   "cell_type": "code",
   "execution_count": 209,
   "outputs": [],
   "source": [
    "rng = default_rng()\n",
    "A = rng.random((n,p)) * max_val + rng.random((n,p)) * max_val * 1j\n",
    "assert np.linalg.matrix_rank(A, tol=1e-6) >= p  # A must be injective; if the rows of A are linearly independent, AA+ = I\n",
    "b = rng.random(n) * max_val\n",
    "M = np.diag(b) @ (np.identity(n) - A @ np.linalg.pinv(A)) @ np.diag(b)"
   ],
   "metadata": {
    "collapsed": false,
    "pycharm": {
     "name": "#%%\n"
    }
   }
  },
  {
   "cell_type": "markdown",
   "source": [
    "\\begin{equation*}\n",
    "\\begin{aligned}\n",
    "\\min \\quad & u^{*}Mu \\\\\n",
    "\\textrm{s.t.} \\quad & |u_{i}| = 1, \\qquad i=1,...,n\n",
    "\\end{aligned}\n",
    "\\end{equation*}"
   ],
   "metadata": {
    "collapsed": false,
    "pycharm": {
     "name": "#%% md\n"
    }
   }
  },
  {
   "cell_type": "code",
   "execution_count": 210,
   "outputs": [],
   "source": [
    "# u = cp.Variable(n, complex=True)\n",
    "# qp_constraints = [ u[i].value.H * u[i] == 1 for i in range(n) ]\n",
    "# prob = cp.Problem(cp.Minimize(cp.quad_form(u, M)), qp_constraints)\n",
    "# prob.solve()"
   ],
   "metadata": {
    "collapsed": false,
    "pycharm": {
     "name": "#%%\n"
    }
   }
  },
  {
   "cell_type": "markdown",
   "source": [
    "\\begin{equation*}\n",
    "\\begin{aligned}\n",
    "\\min \\quad & M \\cdot U \\\\\n",
    "\\textrm{s.t.} \\quad & U_{ii} = 1, \\qquad i=1,...,n \\\\\n",
    "& U \\succeq 0\n",
    "\\end{aligned}\n",
    "\\end{equation*}"
   ],
   "metadata": {
    "collapsed": false,
    "pycharm": {
     "name": "#%% md\n"
    }
   }
  },
  {
   "cell_type": "code",
   "execution_count": 211,
   "outputs": [],
   "source": [
    "U = cp.Variable((n,n), hermitian=True)"
   ],
   "metadata": {
    "collapsed": false,
    "pycharm": {
     "name": "#%%\n"
    }
   }
  },
  {
   "cell_type": "code",
   "execution_count": 212,
   "outputs": [],
   "source": [
    "sdp_constraints = [U >> 0]\n",
    "sdp_constraints += [U[i][i] == 1 for i in range(n)]"
   ],
   "metadata": {
    "collapsed": false,
    "pycharm": {
     "name": "#%%\n"
    }
   }
  },
  {
   "cell_type": "code",
   "execution_count": 213,
   "outputs": [
    {
     "name": "stdout",
     "output_type": "stream",
     "text": [
      "The optimal value is 22.459773868576804\n",
      "A solution U is [[ 1.        +0.j          0.2130896 +0.85194106j  0.76683857+0.57323576j\n",
      "   0.87212047-0.25251582j  0.091191  -0.52391815j  0.57483274+0.64089092j\n",
      "  -0.25609023-0.23442449j -0.60119617-0.33651438j -0.05755594-0.49834867j\n",
      "   0.55673235+0.54762895j]\n",
      " [ 0.2130896 -0.85194106j  1.        +0.j          0.73530137-0.64112327j\n",
      "   0.15753351-0.72412401j -0.0941659 +0.0416755j   0.89249614-0.25808351j\n",
      "  -0.06907264-0.24032299j -0.5666692 +0.75212213j -0.23597255+0.30459843j\n",
      "   0.87497152-0.28491649j]\n",
      " [ 0.76683857-0.57323576j  0.73530137+0.64112327j  1.        +0.j\n",
      "   0.55729986-0.57723327j -0.21994835-0.20974872j  0.84427244+0.30432958j\n",
      "  -0.066762  -0.09310152j -0.85917117+0.12735995j -0.43035973-0.12053347j\n",
      "   0.81170791+0.26663879j]\n",
      " [ 0.87212047+0.25251582j  0.15753351+0.72412401j  0.55729986+0.57723327j\n",
      "   1.        +0.j          0.55692439-0.3509648j   0.55260502+0.71056251j\n",
      "  -0.14268849-0.66155418j -0.46435181-0.14256717j  0.35457763-0.21756016j\n",
      "   0.60697876+0.58548279j]\n",
      " [ 0.091191  +0.52391815j -0.0941659 -0.0416755j  -0.21994835+0.20974872j\n",
      "   0.55692439+0.3509648j   1.        +0.j          0.13842938+0.27170754j\n",
      "  -0.04366312-0.93673883j  0.21526955+0.26093336j  0.91323139+0.24773556j\n",
      "   0.25872213+0.1547464j ]\n",
      " [ 0.57483274-0.64089092j  0.89249614+0.25808351j  0.84427244-0.30432958j\n",
      "   0.55260502-0.71056251j  0.13842938-0.27170754j  1.        +0.j\n",
      "  -0.28587945-0.44759242j -0.58044598+0.56009886j -0.00549005+0.02114544j\n",
      "   0.98493459-0.09125913j]\n",
      " [-0.25609023+0.23442449j -0.06907264+0.24032299j -0.066762  +0.09310152j\n",
      "  -0.14268849+0.66155418j -0.04366312+0.93673883j -0.28587945+0.44759242j\n",
      "   1.        +0.j         -0.44659569-0.07365873j -0.35181596+0.76564862j\n",
      "  -0.16616101+0.56658766j]\n",
      " [-0.60119617+0.33651438j -0.5666692 -0.75212213j -0.85917117-0.12735995j\n",
      "  -0.46435181+0.14256717j  0.21526955-0.26093336j -0.58044598-0.56009886j\n",
      "  -0.44659569+0.07365873j  1.        +0.j          0.56174481-0.23349354j\n",
      "  -0.61233426-0.58487592j]\n",
      " [-0.05755594+0.49834867j -0.23597255-0.30459843j -0.43035973+0.12053347j\n",
      "   0.35457763+0.21756016j  0.91323139-0.24773556j -0.00549005-0.02114544j\n",
      "  -0.35181596-0.76564862j  0.56174481+0.23349354j  1.        +0.j\n",
      "   0.06439552-0.14846547j]\n",
      " [ 0.55673235-0.54762895j  0.87497152+0.28491649j  0.81170791-0.26663879j\n",
      "   0.60697876-0.58548279j  0.25872213-0.1547464j   0.98493459+0.09125913j\n",
      "  -0.16616101-0.56658766j -0.61233426+0.58487592j  0.06439552+0.14846547j\n",
      "   1.        +0.j        ]]\n"
     ]
    }
   ],
   "source": [
    "prob = cp.Problem(cp.Minimize(cp.real(cp.trace(M @ U))), sdp_constraints)\n",
    "prob.solve()\n",
    "\n",
    "print(\"The optimal value is\", prob.value)\n",
    "print(\"A solution U is\", U.value)"
   ],
   "metadata": {
    "collapsed": false,
    "pycharm": {
     "name": "#%%\n"
    }
   }
  },
  {
   "cell_type": "code",
   "execution_count": 219,
   "outputs": [
    {
     "data": {
      "text/plain": "5"
     },
     "execution_count": 219,
     "metadata": {},
     "output_type": "execute_result"
    }
   ],
   "source": [
    "np.linalg.matrix_rank(U.value,1e-9)"
   ],
   "metadata": {
    "collapsed": false,
    "pycharm": {
     "name": "#%%\n"
    }
   }
  },
  {
   "cell_type": "markdown",
   "source": [
    "### Hyperplane rounding"
   ],
   "metadata": {
    "collapsed": false,
    "pycharm": {
     "name": "#%% md\n"
    }
   }
  },
  {
   "cell_type": "code",
   "execution_count": 207,
   "outputs": [],
   "source": [
    "def complex_hyperplane_rounding(Y, cost, iter=100):\n",
    "    min_cost = np.Inf\n",
    "    best_x = None\n",
    "    d = Y.shape[1]\n",
    "    rng = default_rng()\n",
    "    for i in range(iter):\n",
    "        # r = rng.random((d,1)) + rng.random((d,1)) * 1j\n",
    "        r = rng.normal(size=(d,1)) + rng.normal(size=(d,1)) * 1j\n",
    "        x = normalize_rows(Y @ r)\n",
    "        cost_val = cost(x)\n",
    "        if cost_val < min_cost:\n",
    "            min_cost = cost_val\n",
    "            best_x = x\n",
    "    return best_x, min_cost"
   ],
   "metadata": {
    "collapsed": false,
    "pycharm": {
     "name": "#%%\n"
    }
   }
  },
  {
   "cell_type": "code",
   "execution_count": 216,
   "outputs": [],
   "source": [
    "qp_cost = lambda u: cp.real(cp.quad_form(u, M)).value"
   ],
   "metadata": {
    "collapsed": false,
    "pycharm": {
     "name": "#%%\n"
    }
   }
  },
  {
   "cell_type": "code",
   "execution_count": 217,
   "outputs": [
    {
     "data": {
      "text/plain": "(array([[-0.03729563-0.99930428j],\n        [-0.85490558-0.51878362j],\n        [-0.31758806-0.94822878j],\n        [-0.52026777-0.85400319j],\n        [-0.96077373-0.27733346j],\n        [-0.87824693-0.47820741j],\n        [ 0.46508029-0.88526851j],\n        [-0.10401327+0.99457591j],\n        [-0.92673749+0.37570949j],\n        [-0.82388862-0.56675175j]]),\n array([[422.92709868]]))"
     },
     "execution_count": 217,
     "metadata": {},
     "output_type": "execute_result"
    }
   ],
   "source": [
    "complex_hyperplane_rounding(decompose_psd(U.value), qp_cost)"
   ],
   "metadata": {
    "collapsed": false,
    "pycharm": {
     "name": "#%%\n"
    }
   }
  },
  {
   "cell_type": "markdown",
   "source": [
    "# Max-cut (for reference)"
   ],
   "metadata": {
    "collapsed": false,
    "pycharm": {
     "name": "#%% md\n"
    }
   }
  },
  {
   "cell_type": "code",
   "execution_count": 290,
   "outputs": [],
   "source": [
    "data_path = \"../dat/\"\n",
    "# graph_file = \"torusg3-8.dat\"\n",
    "graph_file = \"toruspm3-8-50.dat\"\n",
    "\n",
    "with open(data_path + graph_file) as inf:\n",
    "    next(inf, '')   # skip first line\n",
    "    G = nx.read_weighted_edgelist(inf, nodetype=int, encoding=\"utf-8\")"
   ],
   "metadata": {
    "collapsed": false,
    "pycharm": {
     "name": "#%%\n"
    }
   }
  },
  {
   "cell_type": "code",
   "execution_count": 291,
   "outputs": [],
   "source": [
    "first_vertex = np.floor(default_rng().random() * (len(G) - n - 1)).astype(int)\n",
    "G = G.subgraph(range(first_vertex, first_vertex + n))\n",
    "L = nx.laplacian_matrix(G).toarray() * 1.0"
   ],
   "metadata": {
    "collapsed": false,
    "pycharm": {
     "name": "#%%\n"
    }
   }
  },
  {
   "cell_type": "code",
   "execution_count": 292,
   "outputs": [],
   "source": [
    "X = cp.Variable((n,n), PSD=True)"
   ],
   "metadata": {
    "collapsed": false,
    "pycharm": {
     "name": "#%%\n"
    }
   }
  },
  {
   "cell_type": "markdown",
   "source": [
    "\\begin{equation*}\n",
    "\\begin{aligned}\n",
    "\\max \\quad & \\frac{1}{4} L \\cdot X \\\\\n",
    "\\textrm{s.t.} \\quad & X_{ii} = 1, \\qquad i=1,...,n \\\\\n",
    "& X \\succeq 0\n",
    "\\end{aligned}\n",
    "\\end{equation*}"
   ],
   "metadata": {
    "collapsed": false,
    "pycharm": {
     "name": "#%% md\n"
    }
   }
  },
  {
   "cell_type": "code",
   "execution_count": 293,
   "outputs": [],
   "source": [
    "constraints = [ X[i][i] == 1 for i in range(n) ]"
   ],
   "metadata": {
    "collapsed": false,
    "pycharm": {
     "name": "#%%\n"
    }
   }
  },
  {
   "cell_type": "code",
   "execution_count": 294,
   "outputs": [
    {
     "data": {
      "text/plain": "38.383876279426225"
     },
     "execution_count": 294,
     "metadata": {},
     "output_type": "execute_result"
    }
   ],
   "source": [
    "prob = cp.Problem(cp.Maximize(1/4 * (cp.trace(L @ X))), constraints)\n",
    "prob.solve()"
   ],
   "metadata": {
    "collapsed": false,
    "pycharm": {
     "name": "#%%\n"
    }
   }
  },
  {
   "cell_type": "markdown",
   "source": [
    "### Hyperplane rounding"
   ],
   "metadata": {
    "collapsed": false,
    "pycharm": {
     "name": "#%% md\n"
    }
   }
  },
  {
   "cell_type": "code",
   "execution_count": 295,
   "outputs": [],
   "source": [
    "def hyperplane_rounding(Y, cost, iter=100):\n",
    "    min_cost = 0\n",
    "    best_x = None\n",
    "    d = Y.shape[1]\n",
    "    rng = default_rng()\n",
    "    for i in range(iter):\n",
    "        r = rng.random((d,1))\n",
    "        r = r / np.linalg.norm(r)\n",
    "        x = np.sign(Y @ r)\n",
    "        cost_val = cost(x)\n",
    "        if cost_val < min_cost:\n",
    "            min_cost = cost_val\n",
    "            best_x = x\n",
    "    return best_x, min_cost"
   ],
   "metadata": {
    "collapsed": false,
    "pycharm": {
     "name": "#%%\n"
    }
   }
  },
  {
   "cell_type": "code",
   "execution_count": 296,
   "outputs": [],
   "source": [
    "mc_cost = lambda x: -1/4 * (cp.quad_form(x, L)).value"
   ],
   "metadata": {
    "collapsed": false,
    "pycharm": {
     "name": "#%%\n"
    }
   }
  },
  {
   "cell_type": "code",
   "execution_count": 297,
   "outputs": [
    {
     "data": {
      "text/plain": "(array([[-1.],\n        [-1.],\n        [-1.],\n        [-1.],\n        [-1.],\n        [ 1.],\n        [-1.],\n        [-1.],\n        [-1.],\n        [ 1.],\n        [-1.],\n        [-1.],\n        [ 1.],\n        [ 1.],\n        [-1.],\n        [ 1.],\n        [ 1.],\n        [ 1.],\n        [ 1.],\n        [-1.],\n        [ 1.],\n        [ 1.],\n        [-1.],\n        [ 1.],\n        [-1.],\n        [ 1.],\n        [ 1.],\n        [-1.],\n        [-1.],\n        [-1.],\n        [ 1.],\n        [ 1.],\n        [ 1.],\n        [-1.],\n        [-1.],\n        [ 1.],\n        [ 1.],\n        [ 1.],\n        [-1.],\n        [ 1.],\n        [-1.],\n        [ 1.],\n        [ 1.],\n        [ 1.],\n        [-1.],\n        [-1.],\n        [-1.],\n        [ 1.],\n        [ 1.],\n        [-1.]]),\n array([[-36.]]))"
     },
     "execution_count": 297,
     "metadata": {},
     "output_type": "execute_result"
    }
   ],
   "source": [
    "hyperplane_rounding(decompose_psd(X.value), mc_cost)"
   ],
   "metadata": {
    "collapsed": false,
    "pycharm": {
     "name": "#%%\n"
    }
   }
  },
  {
   "cell_type": "code",
   "execution_count": null,
   "outputs": [],
   "source": [],
   "metadata": {
    "collapsed": false,
    "pycharm": {
     "name": "#%%\n"
    }
   }
  }
 ],
 "metadata": {
  "kernelspec": {
   "display_name": "Python 3",
   "language": "python",
   "name": "python3"
  },
  "language_info": {
   "codemirror_mode": {
    "name": "ipython",
    "version": 2
   },
   "file_extension": ".py",
   "mimetype": "text/x-python",
   "name": "python",
   "nbconvert_exporter": "python",
   "pygments_lexer": "ipython2",
   "version": "2.7.6"
  }
 },
 "nbformat": 4,
 "nbformat_minor": 0
}