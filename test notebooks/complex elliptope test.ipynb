{
 "cells": [
  {
   "cell_type": "code",
   "execution_count": 1,
   "metadata": {
    "collapsed": true,
    "pycharm": {
     "name": "#%%\n"
    }
   },
   "outputs": [],
   "source": [
    "# import numpy as np\n",
    "import cvxpy as cp\n",
    "import networkx as nx\n",
    "import autograd.numpy as np\n",
    "from autograd import grad\n",
    "\n",
    "import pymanopt\n",
    "import pymanopt.manifolds\n",
    "import pymanopt.optimizers\n",
    "\n",
    "from numpy.random import default_rng\n",
    "from complex_elliptope import ComplexElliptope\n",
    "\n",
    "from opt_utils import decompose_psd, normalize_rows, complex_hyperplane_rounding"
   ]
  },
  {
   "cell_type": "code",
   "execution_count": 2,
   "outputs": [],
   "source": [
    "def get_rand_complex(m, n, max_val=5):\n",
    "    return np.round(np.random.rand(m, n) * max_val) + np.round(np.random.rand(m, n) * max_val) * 1j"
   ],
   "metadata": {
    "collapsed": false,
    "pycharm": {
     "name": "#%%\n"
    }
   }
  },
  {
   "cell_type": "markdown",
   "source": [
    "# Phase recovery"
   ],
   "metadata": {
    "collapsed": false,
    "pycharm": {
     "name": "#%% md\n"
    }
   }
  },
  {
   "cell_type": "code",
   "execution_count": 3,
   "outputs": [],
   "source": [
    "n = 50  # number of observations\n",
    "p = 20  # dimension of x\n",
    "max_val = 10"
   ],
   "metadata": {
    "collapsed": false,
    "pycharm": {
     "name": "#%%\n"
    }
   }
  },
  {
   "cell_type": "code",
   "execution_count": 4,
   "outputs": [],
   "source": [
    "rng = default_rng()\n",
    "A = rng.random((n,p)) * max_val + rng.random((n,p)) * max_val * 1j\n",
    "assert np.linalg.matrix_rank(A, tol=1e-6) >= p  # A must be injective; if the rows of A are linearly independent, AA+ = I\n",
    "b = rng.random(n) * max_val\n",
    "M = np.diag(b) @ (np.identity(n) - A @ np.linalg.pinv(A)) @ np.diag(b)"
   ],
   "metadata": {
    "collapsed": false,
    "pycharm": {
     "name": "#%%\n"
    }
   }
  },
  {
   "cell_type": "markdown",
   "source": [
    "\\begin{equation*}\n",
    "\\begin{aligned}\n",
    "\\min \\quad & u^{*}Mu \\\\\n",
    "\\textrm{s.t.} \\quad & |u_{i}| = 1, \\qquad i=1,...,n\n",
    "\\end{aligned}\n",
    "\\end{equation*}"
   ],
   "metadata": {
    "collapsed": false,
    "pycharm": {
     "name": "#%% md\n"
    }
   }
  },
  {
   "cell_type": "code",
   "execution_count": 5,
   "outputs": [],
   "source": [
    "# u = cp.Variable(n, complex=True)\n",
    "# qp_constraints = [ cp.square(cp.real(u[i])) + cp.square(cp.imag(u[i])) == 1 for i in range(n) ]\n",
    "# prob = cp.Problem(cp.Minimize(cp.quad_form(u, M)), qp_constraints)\n",
    "# prob.solve()"
   ],
   "metadata": {
    "collapsed": false,
    "pycharm": {
     "name": "#%%\n"
    }
   }
  },
  {
   "cell_type": "markdown",
   "source": [
    "\\begin{equation*}\n",
    "\\begin{aligned}\n",
    "\\min \\quad & M \\cdot U \\\\\n",
    "\\textrm{s.t.} \\quad & U_{ii} = 1, \\qquad i=1,...,n \\\\\n",
    "& U \\succeq 0\n",
    "\\end{aligned}\n",
    "\\end{equation*}"
   ],
   "metadata": {
    "collapsed": false,
    "pycharm": {
     "name": "#%% md\n"
    }
   }
  },
  {
   "cell_type": "markdown",
   "source": [
    "### solve SDP with cvxpy"
   ],
   "metadata": {
    "collapsed": false,
    "pycharm": {
     "name": "#%% md\n"
    }
   }
  },
  {
   "cell_type": "code",
   "execution_count": 6,
   "outputs": [],
   "source": [
    "U = cp.Variable((n,n), hermitian=True)\n",
    "# U = cp.Variable((n,n), symmetric=True)  # for testing"
   ],
   "metadata": {
    "collapsed": false,
    "pycharm": {
     "name": "#%%\n"
    }
   }
  },
  {
   "cell_type": "code",
   "execution_count": 7,
   "outputs": [],
   "source": [
    "sdp_constraints = [U >> 0]\n",
    "sdp_constraints += [U[i][i] == 1 for i in range(n)]"
   ],
   "metadata": {
    "collapsed": false,
    "pycharm": {
     "name": "#%%\n"
    }
   }
  },
  {
   "cell_type": "code",
   "execution_count": 8,
   "outputs": [
    {
     "name": "stdout",
     "output_type": "stream",
     "text": [
      "The optimal value is 1992.4382414640925\n",
      "A solution U is [[ 1.        +0.00000000e+00j  0.00653328+3.76919323e-02j\n",
      "   0.15665386-9.59591096e-03j ... -0.04894404+3.52883932e-01j\n",
      "   0.17264479+1.52852258e-01j  0.09292542-1.51324065e-01j]\n",
      " [ 0.00653328-3.76919323e-02j  1.        +0.00000000e+00j\n",
      "  -0.05364511+4.27207367e-04j ...  0.01336725-1.99520543e-01j\n",
      "  -0.17512022-1.61800180e-01j -0.01714655+1.20581852e-01j]\n",
      " [ 0.15665386+9.59591096e-03j -0.05364511-4.27207367e-04j\n",
      "   1.        +0.00000000e+00j ... -0.02934961+5.92599005e-02j\n",
      "  -0.06872465+4.54208671e-02j  0.02211735-6.82634166e-03j]\n",
      " ...\n",
      " [-0.04894404-3.52883932e-01j  0.01336725+1.99520543e-01j\n",
      "  -0.02934961-5.92599005e-02j ...  1.        +0.00000000e+00j\n",
      "   0.18750914-3.92856892e-01j -0.20380959-2.66168528e-01j]\n",
      " [ 0.17264479-1.52852258e-01j -0.17512022+1.61800180e-01j\n",
      "  -0.06872465-4.54208671e-02j ...  0.18750914+3.92856892e-01j\n",
      "   1.        +0.00000000e+00j -0.02439734-4.98241600e-01j]\n",
      " [ 0.09292542+1.51324065e-01j -0.01714655-1.20581852e-01j\n",
      "   0.02211735+6.82634166e-03j ... -0.20380959+2.66168528e-01j\n",
      "  -0.02439734+4.98241600e-01j  1.        +0.00000000e+00j]]\n"
     ]
    }
   ],
   "source": [
    "prob = cp.Problem(cp.Maximize(cp.real(cp.trace(M @ U))), sdp_constraints)\n",
    "prob.solve()\n",
    "\n",
    "print(\"The optimal value is\", prob.value)\n",
    "print(\"A solution U is\", U.value)"
   ],
   "metadata": {
    "collapsed": false,
    "pycharm": {
     "name": "#%%\n"
    }
   }
  },
  {
   "cell_type": "code",
   "execution_count": 9,
   "outputs": [
    {
     "name": "stdout",
     "output_type": "stream",
     "text": [
      "30\n"
     ]
    }
   ],
   "source": [
    "opt_rank = np.linalg.matrix_rank(U.value, 1e-9)\n",
    "print(opt_rank)"
   ],
   "metadata": {
    "collapsed": false,
    "pycharm": {
     "name": "#%%\n"
    }
   }
  },
  {
   "cell_type": "markdown",
   "source": [
    "### Complex elliptope gradient"
   ],
   "metadata": {
    "collapsed": false,
    "pycharm": {
     "name": "#%% md\n"
    }
   }
  },
  {
   "cell_type": "code",
   "execution_count": 10,
   "outputs": [
    {
     "name": "stdout",
     "output_type": "stream",
     "text": [
      "Optimizing...\n",
      "Iteration    Cost                       Gradient norm     \n",
      "---------    -----------------------    --------------    \n",
      "   1         -1.2008224979235397e+03    4.86800252e+02    \n",
      "   2         -1.2020874647769517e+03    4.68404531e+02    \n",
      "   3         -1.2023216997141515e+03    4.67997894e+02    \n",
      "   4         -1.2023655397916875e+03    4.67922068e+02    \n",
      "   5         -1.2023737612304872e+03    4.67907857e+02    \n",
      "   6         -1.2023753035863651e+03    4.67905192e+02    \n",
      "   7         -1.2023755929549666e+03    4.67904692e+02    \n",
      "   8         -1.2023756472454684e+03    4.67904598e+02    \n",
      "   9         -1.2023756574313204e+03    4.67904580e+02    \n",
      "  10         -1.2023756593423661e+03    4.67904577e+02    \n",
      "  11         -1.2023756597009119e+03    4.67904576e+02    \n",
      "  12         -1.2023756597681815e+03    4.67904576e+02    \n",
      "Terminated - min step_size reached after 12 iterations, 0.01 seconds.\n",
      "\n"
     ]
    }
   ],
   "source": [
    "manifold = ComplexElliptope(n, opt_rank)\n",
    "\n",
    "@pymanopt.function.autograd(manifold)\n",
    "def manifold_cost(Y):\n",
    "    return -np.real(np.trace(M @ Y @ np.conj(Y).T))\n",
    "\n",
    "problem = pymanopt.Problem(manifold=manifold, cost=manifold_cost)\n",
    "solver = pymanopt.optimizers.SteepestDescent(min_step_size=1e-9)\n",
    "solution = solver.run(problem).point"
   ],
   "metadata": {
    "collapsed": false,
    "pycharm": {
     "name": "#%%\n"
    }
   }
  },
  {
   "cell_type": "code",
   "execution_count": 12,
   "outputs": [
    {
     "data": {
      "text/plain": "array([[ -80.59892507-3.42634841e-07j,   -0.52657529+3.03792956e+00j,\n         -12.62613243-7.73420143e-01j, ...,\n           3.9448364 +2.84420659e+01j,  -13.91498539+1.23197277e+01j,\n          -7.4896886 -1.21965575e+01j],\n       [  -0.79349158-4.57782817e+00j, -121.45380895+1.31559320e-08j,\n           6.51540355+5.18860128e-02j, ...,\n          -1.6235039 -2.42325300e+01j,   21.26901809-1.96512482e+01j,\n           2.08251325+1.46451255e+01j],\n       [  -2.19294149+1.34329290e-01j,    0.75095897-5.98025303e-03j,\n         -13.99864774-2.46828731e-08j, ...,\n           0.41085459+8.29558136e-01j,    0.96205215+6.35830246e-01j,\n          -0.30961248-9.55594656e-02j],\n       ...,\n       [   8.39694901-6.05415597e+01j,   -2.29331603+3.42301927e+01j,\n           5.03528528-1.01667617e+01j, ...,\n        -171.56224859+6.24245011e-09j,  -32.16948966-6.73994112e+01j,\n          34.96603038-4.56644708e+01j],\n       [ -25.11492392-2.22356711e+01j,   25.47502777+2.35373394e+01j,\n           9.99748767-6.60744857e+00j, ...,\n         -27.27726495+5.71495412e+01j, -145.4716516 +2.35281644e-07j,\n           3.5491211 -7.24800288e+01j],\n       [ -15.11796154+2.46187919e+01j,    2.78955764-1.96173654e+01j,\n          -3.5982534 +1.11057208e+00j, ...,\n          33.15761958+4.33027455e+01j,    3.9691841 +8.10585286e+01j,\n        -162.68920286+3.55583442e-07j]])"
     },
     "execution_count": 12,
     "metadata": {},
     "output_type": "execute_result"
    }
   ],
   "source": [
    "problem.euclidean_gradient(U.value)"
   ],
   "metadata": {
    "collapsed": false,
    "pycharm": {
     "name": "#%%\n"
    }
   }
  },
  {
   "cell_type": "code",
   "execution_count": null,
   "outputs": [],
   "source": [
    "problem.grad(solution)"
   ],
   "metadata": {
    "collapsed": false,
    "pycharm": {
     "name": "#%%\n"
    }
   }
  },
  {
   "cell_type": "code",
   "execution_count": null,
   "outputs": [],
   "source": [
    "np.linalg.norm(problem.grad(solution))"
   ],
   "metadata": {
    "collapsed": false,
    "pycharm": {
     "name": "#%%\n"
    }
   }
  },
  {
   "cell_type": "code",
   "execution_count": null,
   "outputs": [],
   "source": [
    "manifold.norm(np.zeros(solution.shape), problem.grad(decompose_psd(U.value)))"
   ],
   "metadata": {
    "collapsed": false,
    "pycharm": {
     "name": "#%%\n"
    }
   }
  },
  {
   "cell_type": "markdown",
   "source": [
    "### Hyperplane rounding"
   ],
   "metadata": {
    "collapsed": false,
    "pycharm": {
     "name": "#%% md\n"
    }
   }
  },
  {
   "cell_type": "code",
   "execution_count": null,
   "outputs": [],
   "source": [
    "qp_cost = lambda u: -cp.real(cp.quad_form(u, M)).value"
   ],
   "metadata": {
    "collapsed": false,
    "pycharm": {
     "name": "#%%\n"
    }
   }
  },
  {
   "cell_type": "code",
   "execution_count": null,
   "outputs": [],
   "source": [
    "complex_hyperplane_rounding(decompose_psd(U.value), qp_cost)"
   ],
   "metadata": {
    "collapsed": false,
    "pycharm": {
     "name": "#%%\n"
    }
   }
  }
 ],
 "metadata": {
  "kernelspec": {
   "display_name": "Python 3",
   "language": "python",
   "name": "python3"
  },
  "language_info": {
   "codemirror_mode": {
    "name": "ipython",
    "version": 2
   },
   "file_extension": ".py",
   "mimetype": "text/x-python",
   "name": "python",
   "nbconvert_exporter": "python",
   "pygments_lexer": "ipython2",
   "version": "2.7.6"
  }
 },
 "nbformat": 4,
 "nbformat_minor": 0
}