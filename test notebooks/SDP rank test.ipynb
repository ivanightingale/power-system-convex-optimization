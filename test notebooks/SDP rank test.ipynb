{
 "cells": [
  {
   "cell_type": "code",
   "execution_count": 1,
   "id": "fcf7f3e6",
   "metadata": {},
   "outputs": [],
   "source": [
    "import cvxpy as cp\n",
    "import numpy as np\n",
    "\n",
    "import networkx as nx"
   ]
  },
  {
   "cell_type": "markdown",
   "id": "12c240e3",
   "metadata": {},
   "source": [
    "# Max-cut"
   ]
  },
  {
   "cell_type": "code",
   "execution_count": 2,
   "id": "a00d3fdd",
   "metadata": {},
   "outputs": [],
   "source": [
    "def get_graph(graph_type):\n",
    "    if graph_type == 0:\n",
    "        G = nx.complete_graph(5)\n",
    "        pos = nx.shell_layout(G)\n",
    "        nx.draw(G, pos, with_labels = True)\n",
    "    elif graph_type == 1:\n",
    "        G = nx.turan_graph(5,3)\n",
    "        pos = nx.multipartite_layout(G)\n",
    "        nx.draw(G, pos, with_labels = True)\n",
    "    else:\n",
    "        return None\n",
    "    for u,v,d in G.edges(data=True):\n",
    "        d['weight'] = np.abs(u - v)\n",
    "    labels = nx.get_edge_attributes(G,'weight')\n",
    "    nx.draw_networkx_edge_labels(G, pos, edge_labels=labels)\n",
    "    return G"
   ]
  },
  {
   "cell_type": "code",
   "execution_count": 3,
   "id": "bdda3dc3",
   "metadata": {},
   "outputs": [
    {
     "data": {
      "text/plain": "<Figure size 432x288 with 1 Axes>",
      "image/png": "[encoded data removed]"
     },
     "metadata": {},
     "output_type": "display_data"
    }
   ],
   "source": [
    "graph_type = 0\n",
    "G = get_graph(graph_type)"
   ]
  },
  {
   "cell_type": "code",
   "execution_count": 19,
   "outputs": [
    {
     "data": {
      "text/plain": "(15, ({0, 1}, {2, 3, 4}))"
     },
     "execution_count": 19,
     "metadata": {},
     "output_type": "execute_result"
    }
   ],
   "source": [
    "from networkx.algorithms.approximation import maxcut\n",
    "maxcut.one_exchange(G, weight=\"weight\")"
   ],
   "metadata": {
    "collapsed": false,
    "pycharm": {
     "name": "#%%\n"
    }
   }
  },
  {
   "cell_type": "code",
   "execution_count": 7,
   "id": "e264c92f",
   "metadata": {},
   "outputs": [],
   "source": [
    "n = len(G)\n",
    "\n",
    "L_orig = nx.laplacian_matrix(G).toarray()\n",
    "L_val = np.copy(L_orig)\n",
    "L = cp.Parameter((n,n), value=L_val)\n",
    "\n",
    "e = cp.Parameter(n, value=np.ones(n))"
   ]
  },
  {
   "cell_type": "code",
   "execution_count": 8,
   "id": "558db3cc",
   "metadata": {},
   "outputs": [
    {
     "name": "stdout",
     "output_type": "stream",
     "text": [
      "The optimal value is 15.204303697611193\n",
      "A solution X is\n",
      "[[ 1.          0.99083727 -0.18080497 -0.97408973 -0.934619  ]\n",
      " [ 0.99083727  1.         -0.04631388 -0.99570995 -0.97408973]\n",
      " [-0.18080497 -0.04631388  1.         -0.04631388 -0.18080497]\n",
      " [-0.97408973 -0.99570995 -0.04631388  1.          0.99083727]\n",
      " [-0.934619   -0.97408973 -0.18080497  0.99083727  1.        ]]\n",
      "optimal\n",
      "rank(X) = 2\n",
      "\n",
      "eigenvalues:\n",
      "[3.93032888e+00 1.06967084e+00 1.38155576e-07 6.89518965e-08\n",
      " 8.20899181e-08]\n",
      "eigenvectors:\n",
      "[[ 4.96098914e-01  1.74817676e-01 -5.60529855e-01 -5.03870884e-01\n",
      "   3.94011502e-01]\n",
      " [ 5.03870884e-01  4.47802072e-02  4.15112668e-01  4.96098915e-01\n",
      "   5.70680474e-01]\n",
      " [-1.51072731e-15 -9.66885219e-01 -1.64242237e-01  2.93242689e-11\n",
      "   1.95339349e-01]\n",
      " [-5.03870884e-01  4.47802072e-02  4.15112666e-01 -4.96098913e-01\n",
      "   5.70680482e-01]\n",
      " [-4.96098914e-01  1.74817676e-01 -5.60529854e-01  5.03870884e-01\n",
      "   3.94011494e-01]]\n"
     ]
    }
   ],
   "source": [
    "X = cp.Variable((n,n), PSD=True)\n",
    "constraints = [ cp.diag(X) == e ]\n",
    "# constraints += [ cp.trace(J @ X) == (n - 2*s)**2 ]\n",
    "prob = cp.Problem(cp.Maximize(1/4 * cp.trace(L @ X)), constraints)\n",
    "\n",
    "prob.solve(solver=cp.CVXOPT)\n",
    "# prob.solve()\n",
    "\n",
    "# Print result.\n",
    "print(\"The optimal value is\", prob.value)\n",
    "print(\"A solution X is\")\n",
    "print(X.value)\n",
    "print(prob.status)\n",
    "\n",
    "print(\"rank(X) =\", (np.linalg.matrix_rank(X.value, tol=1e-6)))\n",
    "print()\n",
    "print(\"eigenvalues:\")\n",
    "print(np.linalg.eig(X.value)[0])\n",
    "print(\"eigenvectors:\")\n",
    "print(np.linalg.eig(X.value)[1])"
   ]
  },
  {
   "cell_type": "code",
   "execution_count": 9,
   "id": "82cc4cfe",
   "metadata": {},
   "outputs": [],
   "source": [
    "v = np.linalg.eig(X.value)[1].T[0]"
   ]
  },
  {
   "cell_type": "code",
   "execution_count": 10,
   "id": "bd141fe6",
   "metadata": {},
   "outputs": [
    {
     "name": "stdout",
     "output_type": "stream",
     "text": [
      "A new solution X is\n",
      "[[ 1.          0.98546314 -0.20529874 -0.97066365 -0.91570485]\n",
      " [ 0.98546314  1.         -0.03604381 -0.99740168 -0.97066365]\n",
      " [-0.20529874 -0.03604381  1.         -0.03604381 -0.20529874]\n",
      " [-0.97066365 -0.99740168 -0.03604381  1.          0.98546314]\n",
      " [-0.91570485 -0.97066365 -0.20529874  0.98546314  1.        ]]\n",
      "\n",
      "The objective value in the original problem is 15.201980460199497\n",
      "rank(X) = 2\n",
      "\n",
      "eigenvalues:\n",
      "[3.91310651e+00 1.08689346e+00 5.74528947e-09 1.03108748e-08\n",
      " 1.61234349e-08]\n",
      "eigenvectors:\n",
      "[[-4.94753034e-01  1.96921346e-01  4.88811326e-01  5.05192484e-01\n",
      "   4.71471590e-01]\n",
      " [-5.05192474e-01  3.45730145e-02  4.83039612e-01 -4.94753019e-01\n",
      "  -5.15245017e-01]\n",
      " [-2.67147415e-15 -9.59194131e-01  2.35525880e-01  5.24362785e-09\n",
      "   1.56442259e-01]\n",
      " [ 5.05192474e-01  3.45730145e-02  4.83039602e-01  4.94753048e-01\n",
      "  -5.15245039e-01]\n",
      " [ 4.94753034e-01  1.96921346e-01  4.88811337e-01 -5.05192464e-01\n",
      "   4.71471613e-01]]\n"
     ]
    }
   ],
   "source": [
    "L.value = L.value - v.reshape(-1,1) @ v.reshape(1,-1)\n",
    "\n",
    "prob.solve(solver=cp.CVXOPT)\n",
    "\n",
    "print(\"A new solution X is\")\n",
    "print(X.value)\n",
    "print()\n",
    "print(\"The objective value in the original problem is\", 1/4 * np.trace(L_orig @ X.value))\n",
    "\n",
    "print(\"rank(X) =\", (np.linalg.matrix_rank(X.value, tol=1e-6)))\n",
    "print()\n",
    "\n",
    "print(\"eigenvalues:\")\n",
    "print(np.linalg.eig(X.value)[0])\n",
    "print(\"eigenvectors:\")\n",
    "print(np.linalg.eig(X.value)[1])"
   ]
  },
  {
   "cell_type": "code",
   "execution_count": 10,
   "id": "8be0a2f0",
   "metadata": {},
   "outputs": [],
   "source": []
  }
 ],
 "metadata": {
  "kernelspec": {
   "display_name": "Python 3 (ipykernel)",
   "language": "python",
   "name": "python3"
  },
  "language_info": {
   "codemirror_mode": {
    "name": "ipython",
    "version": 3
   },
   "file_extension": ".py",
   "mimetype": "text/x-python",
   "name": "python",
   "nbconvert_exporter": "python",
   "pygments_lexer": "ipython3",
   "version": "3.9.6"
  }
 },
 "nbformat": 4,
 "nbformat_minor": 5
}