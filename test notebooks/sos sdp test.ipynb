{
 "cells": [
  {
   "cell_type": "code",
   "execution_count": 18,
   "id": "7bc6ef6c",
   "metadata": {},
   "outputs": [],
   "source": [
    "from ncpol2sdpa import *"
   ]
  },
  {
   "cell_type": "code",
   "execution_count": 19,
   "id": "3e64f8c6",
   "metadata": {},
   "outputs": [],
   "source": [
    "n = 2\n",
    "x = generate_variables('x', n)"
   ]
  },
  {
   "cell_type": "code",
   "execution_count": 23,
   "id": "13017ef1",
   "metadata": {},
   "outputs": [],
   "source": [
    "level = 2"
   ]
  },
  {
   "cell_type": "code",
   "execution_count": 24,
   "id": "27961ba4",
   "metadata": {},
   "outputs": [],
   "source": [
    "obj = x[0]**2 + x[1]**2\n",
    "inequalities = [-x[1]**2 + x[1] >= 0]\n",
    "equalities = [2*x[0]*x[1] - 1]\n",
    "# substitutions = {x[0]**2 : x[1]}"
   ]
  },
  {
   "cell_type": "code",
   "execution_count": 25,
   "id": "afbbf263",
   "metadata": {},
   "outputs": [],
   "source": [
    "sdp = SdpRelaxation(x)\n",
    "# implemented in python but \"SciPy yields faster execution with the default CPython interpreter.\"\n",
    "sdp.get_relaxation(level, objective=obj, inequalities=inequalities, equalities=equalities) #substitutions=substitutions"
   ]
  },
  {
   "cell_type": "code",
   "execution_count": 26,
   "id": "dc199803",
   "metadata": {},
   "outputs": [],
   "source": [
    "sdp.solve(solver='mosek')"
   ]
  },
  {
   "cell_type": "code",
   "execution_count": 27,
   "id": "4626e615",
   "metadata": {},
   "outputs": [
    {
     "name": "stdout",
     "output_type": "stream",
     "text": [
      "0.9999999912805884 1.000000005966084\n"
     ]
    }
   ],
   "source": [
    "print(sdp.primal, sdp.dual)"
   ]
  },
  {
   "cell_type": "code",
   "execution_count": 33,
   "id": "30571015",
   "metadata": {},
   "outputs": [
    {
     "data": {
      "text/plain": [
       "0.7070635492600084"
      ]
     },
     "execution_count": 33,
     "metadata": {},
     "output_type": "execute_result"
    }
   ],
   "source": [
    "sdp[x[1]]"
   ]
  },
  {
   "cell_type": "code",
   "execution_count": 29,
   "id": "b5c68257",
   "metadata": {},
   "outputs": [
    {
     "ename": "Exception",
     "evalue": "Cannot automatically match constraints with blocks in the dual solution.",
     "output_type": "error",
     "traceback": [
      "\u001b[0;31m---------------------------------------------------------------------------\u001b[0m",
      "\u001b[0;31mException\u001b[0m                                 Traceback (most recent call last)",
      "\u001b[0;32m/tmp/ipykernel_309446/1521313180.py\u001b[0m in \u001b[0;36m<module>\u001b[0;34m\u001b[0m\n\u001b[0;32m----> 1\u001b[0;31m \u001b[0msdp\u001b[0m\u001b[0;34m.\u001b[0m\u001b[0mget_sos_decomposition\u001b[0m\u001b[0;34m(\u001b[0m\u001b[0;34m)\u001b[0m\u001b[0;34m\u001b[0m\u001b[0;34m\u001b[0m\u001b[0m\n\u001b[0m",
      "\u001b[0;32m~/anaconda3/envs/power/lib/python3.9/site-packages/ncpol2sdpa/sdp_relaxation.py\u001b[0m in \u001b[0;36mget_sos_decomposition\u001b[0;34m(self, threshold)\u001b[0m\n\u001b[1;32m   1143\u001b[0m         \u001b[0;34m:\u001b[0m\u001b[0mrtype\u001b[0m\u001b[0;34m:\u001b[0m \u001b[0mlist\u001b[0m \u001b[0mof\u001b[0m \u001b[0;34m:\u001b[0m\u001b[0;32mclass\u001b[0m\u001b[0;34m:\u001b[0m\u001b[0;31m`\u001b[0m\u001b[0msympy\u001b[0m\u001b[0;34m.\u001b[0m\u001b[0mcore\u001b[0m\u001b[0;34m.\u001b[0m\u001b[0mexp\u001b[0m\u001b[0;34m.\u001b[0m\u001b[0mExpr\u001b[0m\u001b[0;31m`\u001b[0m\u001b[0;34m.\u001b[0m\u001b[0;34m\u001b[0m\u001b[0;34m\u001b[0m\u001b[0m\n\u001b[1;32m   1144\u001b[0m         \"\"\"\n\u001b[0;32m-> 1145\u001b[0;31m         \u001b[0;32mreturn\u001b[0m \u001b[0mget_sos_decomposition\u001b[0m\u001b[0;34m(\u001b[0m\u001b[0mself\u001b[0m\u001b[0;34m,\u001b[0m \u001b[0mthreshold\u001b[0m\u001b[0;34m=\u001b[0m\u001b[0mthreshold\u001b[0m\u001b[0;34m)\u001b[0m\u001b[0;34m\u001b[0m\u001b[0;34m\u001b[0m\u001b[0m\n\u001b[0m\u001b[1;32m   1146\u001b[0m \u001b[0;34m\u001b[0m\u001b[0m\n\u001b[1;32m   1147\u001b[0m     \u001b[0;32mdef\u001b[0m \u001b[0mextract_dual_value\u001b[0m\u001b[0;34m(\u001b[0m\u001b[0mself\u001b[0m\u001b[0;34m,\u001b[0m \u001b[0mmonomial\u001b[0m\u001b[0;34m,\u001b[0m \u001b[0mblocks\u001b[0m\u001b[0;34m=\u001b[0m\u001b[0;32mNone\u001b[0m\u001b[0;34m)\u001b[0m\u001b[0;34m:\u001b[0m\u001b[0;34m\u001b[0m\u001b[0;34m\u001b[0m\u001b[0m\n",
      "\u001b[0;32m~/anaconda3/envs/power/lib/python3.9/site-packages/ncpol2sdpa/solver_common.py\u001b[0m in \u001b[0;36mget_sos_decomposition\u001b[0;34m(sdp, y_mat, threshold)\u001b[0m\n\u001b[1;32m    203\u001b[0m                         \"variables.\")\n\u001b[1;32m    204\u001b[0m     \u001b[0;32melif\u001b[0m \u001b[0mlen\u001b[0m\u001b[0;34m(\u001b[0m\u001b[0msdp\u001b[0m\u001b[0;34m.\u001b[0m\u001b[0my_mat\u001b[0m\u001b[0;34m[\u001b[0m\u001b[0;36m1\u001b[0m\u001b[0;34m:\u001b[0m\u001b[0;34m]\u001b[0m\u001b[0;34m)\u001b[0m \u001b[0;34m!=\u001b[0m \u001b[0mlen\u001b[0m\u001b[0;34m(\u001b[0m\u001b[0msdp\u001b[0m\u001b[0;34m.\u001b[0m\u001b[0mconstraints\u001b[0m\u001b[0;34m)\u001b[0m\u001b[0;34m:\u001b[0m\u001b[0;34m\u001b[0m\u001b[0;34m\u001b[0m\u001b[0m\n\u001b[0;32m--> 205\u001b[0;31m         raise Exception(\"Cannot automatically match constraints with blocks \" +\n\u001b[0m\u001b[1;32m    206\u001b[0m                         \"in the dual solution.\")\n\u001b[1;32m    207\u001b[0m     \u001b[0;32melif\u001b[0m \u001b[0msdp\u001b[0m\u001b[0;34m.\u001b[0m\u001b[0mstatus\u001b[0m \u001b[0;34m==\u001b[0m \u001b[0;34m\"unsolved\"\u001b[0m \u001b[0;32mand\u001b[0m \u001b[0my_mat\u001b[0m \u001b[0;32mis\u001b[0m \u001b[0;32mNone\u001b[0m\u001b[0;34m:\u001b[0m\u001b[0;34m\u001b[0m\u001b[0;34m\u001b[0m\u001b[0m\n",
      "\u001b[0;31mException\u001b[0m: Cannot automatically match constraints with blocks in the dual solution."
     ]
    }
   ],
   "source": [
    "sdp.get_sos_decomposition()"
   ]
  },
  {
   "cell_type": "code",
   "execution_count": null,
   "id": "abf1770f",
   "metadata": {},
   "outputs": [],
   "source": []
  }
 ],
 "metadata": {
  "kernelspec": {
   "display_name": "Python 3 (ipykernel)",
   "language": "python",
   "name": "python3"
  },
  "language_info": {
   "codemirror_mode": {
    "name": "ipython",
    "version": 3
   },
   "file_extension": ".py",
   "mimetype": "text/x-python",
   "name": "python",
   "nbconvert_exporter": "python",
   "pygments_lexer": "ipython3",
   "version": "3.9.6"
  }
 },
 "nbformat": 4,
 "nbformat_minor": 5
}
