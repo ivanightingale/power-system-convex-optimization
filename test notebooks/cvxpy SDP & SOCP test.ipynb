{
 "cells": [
  {
   "cell_type": "code",
   "execution_count": 1,
   "id": "ebe99993",
   "metadata": {},
   "outputs": [],
   "source": [
    "import cvxpy as cp\n",
    "import numpy as np"
   ]
  },
  {
   "cell_type": "code",
   "execution_count": 2,
   "id": "9097b2fb",
   "metadata": {},
   "outputs": [],
   "source": [
    "# n = 3\n",
    "# p = 3\n",
    "# np.random.seed(1)\n",
    "# C = np.random.randn(n, n)\n",
    "# A = []\n",
    "# b = []\n",
    "# for i in range(p):\n",
    "#     A.append(cp.Parameter((n,n), value=np.random.randn(n, n)))\n",
    "# #     A.append(np.random.randn(n, n))\n",
    "#     b.append(np.random.randn())\n",
    "\n",
    "# # Define and solve the CVXPY problem.\n",
    "# # Create a symmetric matrix variable.\n",
    "# X = cp.Variable((n,n), PSD=True)\n",
    "# # The operator >> denotes matrix inequality.\n",
    "# # constraints = [X >> 0]\n",
    "# constraints = []\n",
    "# constraints += [\n",
    "#     cp.trace(A[i] @ X) == b[i] for i in range(p)\n",
    "# ]\n",
    "# prob = cp.Problem(cp.Minimize(cp.trace(C @ X)),\n",
    "#                   constraints)\n",
    "# prob.solve()\n",
    "\n",
    "# # Print result.\n",
    "# print(\"The optimal value is\", prob.value)\n",
    "# print(\"A solution X is\")\n",
    "# print(X.value)"
   ]
  },
  {
   "cell_type": "code",
   "execution_count": 141,
   "id": "7cba2ce1",
   "metadata": {},
   "outputs": [
    {
     "name": "stdout",
     "output_type": "stream",
     "text": [
      "The optimal value is 0.05107045673607016\n",
      "A solution X is\n",
      "[[ 0.99999999+0.j         -0.32148496+0.50057086j -0.34312057-0.24426422j]\n",
      " [-0.32148496-0.50057086j  0.35392377+0.j         -0.01196345+0.25028344j]\n",
      " [-0.34312057+0.24426422j -0.01196345-0.25028344j  0.17739675+0.j        ]]\n"
     ]
    }
   ],
   "source": [
    "n = 3\n",
    "# C = np.random.randn(n, n)\n",
    "c = cp.Parameter((n,1), value=np.array([1,1,1]).reshape((-1,1)), nonneg=True)\n",
    "\n",
    "A = cp.Parameter((n,n), value=np.array([[-0.99639688, -0.2216588 ,  1.06555159],\n",
    "       [ 2.00884919,  0.01563207, -0.36271868],\n",
    "       [-0.9113235 , -0.12149785, -0.24807337]]))\n",
    "B = cp.Parameter((n,n), value=np.array([[-1.42367144, -0.62673584, -0.45906866],\n",
    "       [ 0.6591621 ,  0.96948298,  1.1490893 ],\n",
    "       [ 0.70077944, -1.33992307, -0.17423502]]))\n",
    "b = cp.Parameter((n,1), value=np.array([[ 1.72769017],\n",
    "       [-0.97577213],\n",
    "       [ 1.02798925]]))\n",
    "\n",
    "# Define and solve the CVXPY problem.\n",
    "# Create a symmetric matrix variable.\n",
    "X = cp.Variable((n,n), hermitian=True)\n",
    "# The operator >> denotes matrix inequality.\n",
    "constraints = [X >> 0]\n",
    "constraints += [\n",
    "    A[i][0] * cp.real(X[i][0]) + B[i][0] * cp.imag(X[i][0]) <= b[i] for i in range(n)\n",
    "]\n",
    "constraints += [cp.real(X) <= np.ones((n,n))]\n",
    "# prob = cp.Problem(cp.Minimize(cp.trace(C @ cp.real(X))), constraints)\n",
    "prob = cp.Problem(cp.Minimize(cp.sum(\n",
    "    [c[i]*cp.square(cp.real(X[i][1])) + c[i]*cp.real(X[i][2]) for i in range(n)]\n",
    ")), constraints)\n",
    "# prob.is_dcp()\n",
    "\n",
    "prob.solve()\n",
    "\n",
    "# Print result.\n",
    "print(\"The optimal value is\", prob.value)\n",
    "print(\"A solution X is\")\n",
    "print(X.value)"
   ]
  },
  {
   "cell_type": "code",
   "execution_count": 140,
   "id": "07b34f93",
   "metadata": {},
   "outputs": [
    {
     "name": "stdout",
     "output_type": "stream",
     "text": [
      "True\n",
      "The optimal value is -0.2507304200506858\n",
      "A solution X is\n",
      "[[ 0.99999999+0.00000000e+00j -0.35074946+4.11384939e-01j\n",
      "  -0.59609004-5.16125480e-06j]\n",
      " [-0.35074946-4.11384939e-01j  0.29226277+0.00000000e+00j\n",
      "  -0.3222542 +0.00000000e+00j]\n",
      " [-0.59609004+5.16125480e-06j -0.3222542 +0.00000000e+00j\n",
      "   0.35532334+0.00000000e+00j]]\n"
     ]
    }
   ],
   "source": [
    "n = 3\n",
    "c = cp.Parameter((n,1), value=np.array([1,1,1]).reshape((-1,1)), nonneg=True)\n",
    "\n",
    "A = cp.Parameter((n,n), value=np.array([[-0.99639688, -0.2216588 ,  1.06555159],\n",
    "       [ 2.00884919,  0.01563207, -0.36271868],\n",
    "       [-0.9113235 , -0.12149785, -0.24807337]]))\n",
    "B = cp.Parameter((n,n), value=np.array([[-1.42367144, -0.62673584, -0.45906866],\n",
    "       [ 0.6591621 ,  0.96948298,  1.1490893 ],\n",
    "       [ 0.70077944, -1.33992307, -0.17423502]]))\n",
    "b = cp.Parameter((n,1), value=np.array([[ 1.72769017],\n",
    "       [-0.97577213],\n",
    "       [ 1.02798925]]))\n",
    "\n",
    "# Create a symmetric matrix variable.\n",
    "X = cp.Variable((n,n), hermitian=True)\n",
    "\n",
    "constraints = [ cp.quad_over_lin(cp.norm(X[i][j]), cp.real(X[i][i])) <= cp.real(X[j][j]) for i,j in [(0,1), (0,2), (1,2)]]\n",
    "constraints += [\n",
    "    A[i][0] * cp.real(X[i][0]) + B[i][0] * cp.imag(X[i][0]) <= b[i] for i in range(n)\n",
    "]\n",
    "constraints += [cp.real(X) <= np.ones((n,n))]\n",
    "\n",
    "prob = cp.Problem(cp.Minimize(cp.sum(\n",
    "    [c[i]*cp.square(cp.real(X[i][1])) + c[i]*cp.real(X[i][2]) for i in range(n)]\n",
    ")), constraints)\n",
    "\n",
    "print(prob.is_dcp())\n",
    "\n",
    "prob.solve()\n",
    "\n",
    "# Print result.\n",
    "print(\"The optimal value is\", prob.value)\n",
    "print(\"A solution X is\")\n",
    "print(X.value)"
   ]
  },
  {
   "cell_type": "code",
   "execution_count": 119,
   "id": "6730ee22",
   "metadata": {},
   "outputs": [
    {
     "name": "stdout",
     "output_type": "stream",
     "text": [
      "True\n",
      "True\n"
     ]
    },
    {
     "data": {
      "text/plain": [
       "0.5000000046832747"
      ]
     },
     "execution_count": 119,
     "metadata": {},
     "output_type": "execute_result"
    }
   ],
   "source": [
    "X = cp.Variable((2,2), hermitian=True)\n",
    "# z^2/y <= x\n",
    "constraints = [cp.quad_over_lin(cp.norm(X[0][1]), cp.real(X[1][1])) <= cp.real(X[0][0]), cp.real(X[1][1]) <= 2, cp.real(X[0][1]) >= 1 ]\n",
    "prob = cp.Problem(cp.Minimize(cp.real(X[0][0])), constraints)\n",
    "\n",
    "print(prob.is_dcp())\n",
    "print(prob.is_dpp())\n",
    "\n",
    "prob.solve()\n",
    "prob.value"
   ]
  },
  {
   "cell_type": "code",
   "execution_count": 53,
   "id": "bcc481b3",
   "metadata": {},
   "outputs": [
    {
     "name": "stdout",
     "output_type": "stream",
     "text": [
      "True\n",
      "True\n"
     ]
    },
    {
     "data": {
      "text/plain": [
       "0.5000000136111296"
      ]
     },
     "execution_count": 53,
     "metadata": {},
     "output_type": "execute_result"
    }
   ],
   "source": [
    "x = cp.Variable()\n",
    "y = cp.Variable()\n",
    "z = cp.Variable()\n",
    "# z^2/y <= x\n",
    "constraints = [cp.quad_over_lin(z, y) <= x, y <= 2, z >= 1 ]\n",
    "\n",
    "prob = cp.Problem(cp.Minimize(x), constraints)\n",
    "\n",
    "print(prob.is_dcp())\n",
    "print(prob.is_dpp())\n",
    "\n",
    "prob.solve()\n",
    "prob.value"
   ]
  },
  {
   "cell_type": "code",
   "execution_count": 81,
   "id": "708ae419",
   "metadata": {},
   "outputs": [
    {
     "name": "stdout",
     "output_type": "stream",
     "text": [
      "True\n",
      "True\n"
     ]
    },
    {
     "data": {
      "text/plain": [
       "0.49999999981725113"
      ]
     },
     "execution_count": 81,
     "metadata": {},
     "output_type": "execute_result"
    }
   ],
   "source": [
    "xyz = cp.Variable(shape=(3,))  # first two coordinates are \"x\" and \"y\"\n",
    "# xy >= z^2\n",
    "t = cp.Variable()\n",
    "aux_constraint = t >= cp.norm(xyz[2])\n",
    "lmi_constraint = cp.bmat([[xyz[0], t],[t, xyz[1]]]) >> 0\n",
    "constraints = [aux_constraint, lmi_constraint, xyz[1] <=2, xyz[2] >= 1]\n",
    "\n",
    "prob = cp.Problem(cp.Minimize(xyz[0]), constraints)\n",
    "\n",
    "print(prob.is_dcp())\n",
    "print(prob.is_dpp())\n",
    "\n",
    "prob.solve()\n",
    "prob.value"
   ]
  },
  {
   "cell_type": "code",
   "execution_count": null,
   "id": "3e3549a1",
   "metadata": {},
   "outputs": [],
   "source": []
  }
 ],
 "metadata": {
  "kernelspec": {
   "display_name": "Python 3 (ipykernel)",
   "language": "python",
   "name": "python3"
  },
  "language_info": {
   "codemirror_mode": {
    "name": "ipython",
    "version": 3
   },
   "file_extension": ".py",
   "mimetype": "text/x-python",
   "name": "python",
   "nbconvert_exporter": "python",
   "pygments_lexer": "ipython3",
   "version": "3.9.6"
  }
 },
 "nbformat": 4,
 "nbformat_minor": 5
}
