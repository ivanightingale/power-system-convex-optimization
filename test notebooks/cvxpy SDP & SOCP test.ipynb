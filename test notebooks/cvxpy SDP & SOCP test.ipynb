{
 "cells": [
  {
   "cell_type": "code",
   "execution_count": 1,
   "id": "ebe99993",
   "metadata": {},
   "outputs": [],
   "source": [
    "import cvxpy as cp\n",
    "import numpy as np"
   ]
  },
  {
   "cell_type": "code",
   "execution_count": 3,
   "id": "7cba2ce1",
   "metadata": {},
   "outputs": [
    {
     "name": "stdout",
     "output_type": "stream",
     "text": [
      "===============================================================================\n",
      "                                     CVXPY                                     \n",
      "                                    v1.1.17                                    \n",
      "===============================================================================\n",
      "(CVXPY) Dec 12 01:20:33 AM: Your problem has 9 variables, 5 constraints, and 24 parameters.\n",
      "(CVXPY) Dec 12 01:20:33 AM: It is compliant with the following grammars: DCP, DQCP\n",
      "(CVXPY) Dec 12 01:20:33 AM: CVXPY will first compile your problem; then, it will invoke a numerical solver to obtain a solution.\n",
      "-------------------------------------------------------------------------------\n",
      "                                  Compilation                                  \n",
      "-------------------------------------------------------------------------------\n",
      "(CVXPY) Dec 12 01:20:33 AM: Compiling problem (target solver=MOSEK).\n",
      "(CVXPY) Dec 12 01:20:33 AM: Reduction chain: Complex2Real -> Dcp2Cone -> CvxAttr2Constr -> ConeMatrixStuffing -> MOSEK\n",
      "(CVXPY) Dec 12 01:20:33 AM: Applying reduction Complex2Real\n",
      "(CVXPY) Dec 12 01:20:33 AM: Applying reduction Dcp2Cone\n",
      "(CVXPY) Dec 12 01:20:33 AM: Applying reduction CvxAttr2Constr\n",
      "(CVXPY) Dec 12 01:20:33 AM: Applying reduction ConeMatrixStuffing\n",
      "(CVXPY) Dec 12 01:20:33 AM: Applying reduction MOSEK\n",
      "(CVXPY) Dec 12 01:20:33 AM: Finished problem compilation (took 3.101e-02 seconds).\n",
      "(CVXPY) Dec 12 01:20:33 AM: (Subsequent compilations of this problem, using the same arguments, should take less time.)\n",
      "-------------------------------------------------------------------------------\n",
      "                                Numerical solver                               \n",
      "-------------------------------------------------------------------------------\n",
      "(CVXPY) Dec 12 01:20:33 AM: Invoking solver MOSEK  to obtain a solution.\n",
      "\n",
      "\n",
      "Problem\n",
      "  Name                   :                 \n",
      "  Objective sense        : max             \n",
      "  Type                   : CONIC (conic optimization problem)\n",
      "  Constraints            : 18              \n",
      "  Cones                  : 3               \n",
      "  Scalar variables       : 21              \n",
      "  Matrix variables       : 1               \n",
      "  Integer variables      : 0               \n",
      "\n",
      "Optimizer started.\n",
      "Problem\n",
      "  Name                   :                 \n",
      "  Objective sense        : max             \n",
      "  Type                   : CONIC (conic optimization problem)\n",
      "  Constraints            : 18              \n",
      "  Cones                  : 3               \n",
      "  Scalar variables       : 21              \n",
      "  Matrix variables       : 1               \n",
      "  Integer variables      : 0               \n",
      "\n",
      "Optimizer  - threads                : 8               \n",
      "Optimizer  - solved problem         : the primal      \n",
      "Optimizer  - Constraints            : 15\n",
      "Optimizer  - Cones                  : 3\n",
      "Optimizer  - Scalar variables       : 18                conic                  : 9               \n",
      "Optimizer  - Semi-definite variables: 1                 scalarized             : 21              \n",
      "Factor     - setup time             : 0.00              dense det. time        : 0.00            \n",
      "Factor     - ML order time          : 0.00              GP order time          : 0.00            \n",
      "Factor     - nonzeros before factor : 84                after factor           : 84              \n",
      "Factor     - dense dim.             : 0                 flops                  : 2.16e+03        \n",
      "ITE PFEAS    DFEAS    GFEAS    PRSTATUS   POBJ              DOBJ              MU       TIME  \n",
      "0   2.0e+00  4.0e+00  4.0e+00  0.00e+00   -3.000000000e+00  0.000000000e+00   1.0e+00  0.00  \n",
      "1   6.0e-01  1.2e+00  1.1e+00  -1.22e-01  -3.169890248e-01  8.254352571e-01   3.0e-01  0.00  \n",
      "2   1.1e-01  2.2e-01  6.5e-02  8.15e-01   3.400964028e-01   6.000518422e-01   5.5e-02  0.00  \n",
      "3   2.3e-02  4.6e-02  6.4e-03  1.03e+00   1.433088434e-01   1.969959070e-01   1.2e-02  0.00  \n",
      "4   2.2e-03  4.3e-03  1.9e-04  1.01e+00   5.800979158e-02   6.280701266e-02   1.1e-03  0.00  \n",
      "5   7.7e-05  1.5e-04  1.3e-06  1.00e+00   5.128690192e-02   5.145780470e-02   3.9e-05  0.00  \n",
      "6   2.8e-06  5.7e-06  9.0e-09  1.00e+00   5.107727364e-02   5.108353440e-02   1.4e-06  0.00  \n",
      "7   7.5e-08  1.5e-07  3.9e-11  1.00e+00   5.107061586e-02   5.107078155e-02   3.7e-08  0.00  \n",
      "8   2.5e-09  5.1e-09  2.4e-13  1.00e+00   5.107045029e-02   5.107045591e-02   1.3e-09  0.00  \n",
      "Optimizer terminated. Time: 0.02    \n",
      "\n",
      "\n",
      "Interior-point solution summary\n",
      "  Problem status  : PRIMAL_AND_DUAL_FEASIBLE\n",
      "  Solution status : OPTIMAL\n",
      "  Primal.  obj: 5.1070450288e-02    nrm: 1e+00    Viol.  con: 4e-09    var: 4e-09    barvar: 0e+00    cones: 0e+00  \n",
      "  Dual.    obj: 5.1070455914e-02    nrm: 3e+00    Viol.  con: 0e+00    var: 2e-09    barvar: 2e-09    cones: 0e+00  \n",
      "-------------------------------------------------------------------------------\n",
      "                                    Summary                                    \n",
      "-------------------------------------------------------------------------------\n",
      "(CVXPY) Dec 12 01:20:33 AM: Problem status: optimal\n",
      "(CVXPY) Dec 12 01:20:33 AM: Optimal value: 5.107e-02\n",
      "(CVXPY) Dec 12 01:20:33 AM: Compilation took 3.101e-02 seconds\n",
      "(CVXPY) Dec 12 01:20:33 AM: Solver (including time spent in interface) took 2.501e-02 seconds\n",
      "The optimal value is 0.05107045673606611\n",
      "A solution X is\n",
      "[[ 0.99999999+0.j         -0.32148496+0.50057086j -0.34312057-0.24426422j]\n",
      " [-0.32148496-0.50057086j  0.35392377+0.j         -0.01196345+0.25028344j]\n",
      " [-0.34312057+0.24426422j -0.01196345-0.25028344j  0.17739675+0.j        ]]\n"
     ]
    }
   ],
   "source": [
    "n = 3\n",
    "C = cp.Parameter((n,n), value=np.array([[ 0.78453811, -1.32050747,  0.57919997],\n",
    "       [ 0.44379913,  0.58134071,  1.03254784],\n",
    "       [ 0.7311226 ,  0.66465688, -0.2464693 ]]))\n",
    "c = cp.Parameter((n,1), value=np.array([1,1,1]).reshape((-1,1)), nonneg=True)\n",
    "\n",
    "A = cp.Parameter((n,n), value=np.array([[-0.99639688, -0.2216588 ,  1.06555159],\n",
    "       [ 2.00884919,  0.01563207, -0.36271868],\n",
    "       [-0.9113235 , -0.12149785, -0.24807337]]))\n",
    "B = cp.Parameter((n,n), value=np.array([[-1.42367144, -0.62673584, -0.45906866],\n",
    "       [ 0.6591621 ,  0.96948298,  1.1490893 ],\n",
    "       [ 0.70077944, -1.33992307, -0.17423502]]))\n",
    "b = cp.Parameter((n,1), value=np.array([[ 1.72769017],\n",
    "       [-0.97577213],\n",
    "       [ 1.02798925]]))\n",
    "\n",
    "# Define and solve the CVXPY problem.\n",
    "# Create a symmetric matrix variable.\n",
    "X = cp.Variable((n,n), hermitian=True)\n",
    "# The operator >> denotes matrix inequality.\n",
    "constraints = [X >> 0]\n",
    "constraints += [\n",
    "    A[i][0] * cp.real(X[i][0]) + B[i][0] * cp.imag(X[i][0]) <= b[i] for i in range(n)\n",
    "]\n",
    "constraints += [cp.real(X) <= np.ones((n,n))]\n",
    "# prob = cp.Problem(cp.Minimize(cp.trace(C @ cp.real(X))), constraints)\n",
    "prob = cp.Problem(cp.Minimize(cp.sum(\n",
    "    [c[i]*cp.square(cp.real(X[i][1])) + c[i]*cp.real(X[i][2]) for i in range(n)]\n",
    ")), constraints)\n",
    "\n",
    "# prob.is_dcp()\n",
    "\n",
    "prob.solve(solver=cp.MOSEK, verbose=True)\n",
    "\n",
    "# Print result.\n",
    "print(\"The optimal value is\", prob.value)\n",
    "print(\"A solution X is\")\n",
    "print(X.value)"
   ]
  },
  {
   "cell_type": "markdown",
   "id": "6a116a9b",
   "metadata": {},
   "source": [
    "# Rank reduction"
   ]
  },
  {
   "cell_type": "code",
   "execution_count": 4,
   "id": "d5038805",
   "metadata": {
    "scrolled": false
   },
   "outputs": [
    {
     "name": "stdout",
     "output_type": "stream",
     "text": [
      "The optimal value is 1.4999999977064045\n",
      "A solution X is\n",
      "[[ 0.375 -0.125 -0.125 -0.125]\n",
      " [-0.125  0.375 -0.125 -0.125]\n",
      " [-0.125 -0.125  0.375 -0.125]\n",
      " [-0.125 -0.125 -0.125  0.375]]\n",
      "\n",
      "rank(X) = 3\n",
      "\n",
      "eigenvalues:\n",
      "[ 4.99999999e-01 -3.05537734e-10  4.99999999e-01  4.99999999e-01]\n",
      "eigenvectors:\n",
      "[[ 0.8660254  -0.5        -0.15075567 -0.11114513]\n",
      " [-0.28867513 -0.5         0.05025189 -0.77269603]\n",
      " [-0.28867513 -0.5        -0.64605873  0.44192058]\n",
      " [-0.28867513 -0.5         0.74656251  0.44192058]]\n"
     ]
    }
   ],
   "source": [
    "n = 4\n",
    "\n",
    "C_orig = np.eye(n)\n",
    "C = cp.Parameter((n,n), value=np.copy(C_orig))\n",
    "\n",
    "X = cp.Variable((n,n), PSD=True)\n",
    "\n",
    "constraints = []\n",
    "for i in range(n):\n",
    "    for j in range(i+1, n):\n",
    "        e_i = np.eye(1,n,i)\n",
    "        e_j = np.eye(1,n,j)\n",
    "        e_ij = (e_i - e_j).reshape(-1,1)\n",
    "        A = e_ij @ e_ij.reshape(1,-1)\n",
    "        constraints += [ cp.trace(A @ X) >= 1 ]\n",
    "\n",
    "prob = cp.Problem(cp.Minimize(cp.trace(C @ X)), constraints)\n",
    "\n",
    "# prob.is_dcp()\n",
    "\n",
    "prob.solve(solver=cp.MOSEK, verbose=False)\n",
    "\n",
    "# Print result.\n",
    "print(\"The optimal value is\", prob.value)\n",
    "print(\"A solution X is\")\n",
    "print(X.value)\n",
    "print()\n",
    "\n",
    "print(\"rank(X) =\", (np.linalg.matrix_rank(X.value, tol=1e-6)))\n",
    "print()\n",
    "\n",
    "print(\"eigenvalues:\")\n",
    "print(np.linalg.eig(X.value)[0])\n",
    "print(\"eigenvectors:\")\n",
    "print(np.linalg.eig(X.value)[1])"
   ]
  },
  {
   "cell_type": "code",
   "execution_count": 58,
   "id": "4b54b1a2",
   "metadata": {},
   "outputs": [],
   "source": [
    "v = np.linalg.eig(X.value)[1].T[0]  # 0, 3, 1"
   ]
  },
  {
   "cell_type": "code",
   "execution_count": 59,
   "id": "a7a2d8e9",
   "metadata": {},
   "outputs": [
    {
     "name": "stdout",
     "output_type": "stream",
     "text": [
      "A new solution X is\n",
      "[[ 1.19056282e-12 -2.68674979e-13 -2.84581912e-13 -2.78050588e-13]\n",
      " [-2.68674979e-13  1.00000000e+00 -5.00000000e-01 -5.00000000e-01]\n",
      " [-2.84581912e-13 -5.00000000e-01  1.00000000e+00 -5.00000000e-01]\n",
      " [-2.78050588e-13 -5.00000000e-01 -5.00000000e-01  1.00000000e+00]]\n",
      "\n",
      "The objective value in the original problem is 2.99999999999606\n",
      "rank(A) = 2\n",
      "\n",
      "eigenvalues:\n",
      "[1.46766623e-12 3.59258069e-13 1.50000000e+00 1.50000000e+00]\n",
      "eigenvectors:\n",
      "[[-8.66024694e-01  5.00001229e-01 -6.07290360e-15  4.45700915e-15]\n",
      " [ 2.88675844e-01  4.99999590e-01 -7.97976114e-01  1.71694151e-01]\n",
      " [ 2.88675844e-01  4.99999590e-01  2.49236292e-01 -7.77143567e-01]\n",
      " [ 2.88675844e-01  4.99999590e-01  5.48739822e-01  6.05449416e-01]]\n"
     ]
    }
   ],
   "source": [
    "# v = np.linalg.eig(X.value)[1].T[0]  # 0, 3, 1\n",
    "C.value += 3.5*v.reshape(-1,1) @ v.reshape(1,-1)\n",
    "# print(\"The new cost matrix is\")\n",
    "# print(C.value)\n",
    "\n",
    "prob.solve(solver=cp.MOSEK, verbose=False)\n",
    "\n",
    "# Print result.\n",
    "print(\"A new solution X is\")\n",
    "print(X.value)\n",
    "print()\n",
    "print(\"The objective value in the original problem is\", np.trace(C_orig @ X.value))\n",
    "\n",
    "print(\"rank(X) =\", (np.linalg.matrix_rank(X.value, tol=1e-6)))\n",
    "print()\n",
    "\n",
    "print(\"eigenvalues:\")\n",
    "print(np.linalg.eig(X.value)[0])\n",
    "print(\"eigenvectors:\")\n",
    "print(np.linalg.eig(X.value)[1])"
   ]
  },
  {
   "cell_type": "code",
   "execution_count": null,
   "id": "16810d61",
   "metadata": {},
   "outputs": [],
   "source": []
  },
  {
   "cell_type": "code",
   "execution_count": 22,
   "id": "07b34f93",
   "metadata": {},
   "outputs": [
    {
     "name": "stdout",
     "output_type": "stream",
     "text": [
      "The optimal value is -0.2507304200506858\n",
      "A solution X is\n",
      "[[ 0.99999999+0.00000000e+00j -0.35074946+4.11384939e-01j\n",
      "  -0.59609004-5.16125480e-06j]\n",
      " [-0.35074946-4.11384939e-01j  0.29226277+0.00000000e+00j\n",
      "  -0.3222542 +0.00000000e+00j]\n",
      " [-0.59609004+5.16125480e-06j -0.3222542 +0.00000000e+00j\n",
      "   0.35532334+0.00000000e+00j]]\n"
     ]
    }
   ],
   "source": [
    "n = 3\n",
    "C = cp.Parameter((n,n), value=np.array([[ 0.78453811, -1.32050747,  0.57919997],\n",
    "       [ 0.44379913,  0.58134071,  1.03254784],\n",
    "       [ 0.7311226 ,  0.66465688, -0.2464693 ]]))\n",
    "c = cp.Parameter((n,1), value=np.array([1,1,1]).reshape((-1,1)), nonneg=True)\n",
    "\n",
    "A = cp.Parameter((n,n), value=np.array([[-0.99639688, -0.2216588 ,  1.06555159],\n",
    "       [ 2.00884919,  0.01563207, -0.36271868],\n",
    "       [-0.9113235 , -0.12149785, -0.24807337]]))\n",
    "B = cp.Parameter((n,n), value=np.array([[-1.42367144, -0.62673584, -0.45906866],\n",
    "       [ 0.6591621 ,  0.96948298,  1.1490893 ],\n",
    "       [ 0.70077944, -1.33992307, -0.17423502]]))\n",
    "b = cp.Parameter((n,1), value=np.array([[ 1.72769017],\n",
    "       [-0.97577213],\n",
    "       [ 1.02798925]]))\n",
    "\n",
    "# Create a symmetric matrix variable.\n",
    "X = cp.Variable((n,n), hermitian=True)\n",
    "\n",
    "constraints = [ cp.quad_over_lin(cp.norm(X[i][j]), cp.real(X[i][i])) <= cp.real(X[j][j]) for i,j in [(0,1), (0,2), (1,2)]]\n",
    "constraints += [\n",
    "    A[i][0] * cp.real(X[i][0]) + B[i][0] * cp.imag(X[i][0]) <= b[i] for i in range(n)\n",
    "]\n",
    "constraints += [cp.real(X) <= np.ones((n,n))]\n",
    "\n",
    "prob = cp.Problem(cp.Minimize(cp.sum(\n",
    "    [c[i]*cp.square(cp.real(X[i][1])) + c[i]*cp.real(X[i][2]) for i in range(n)]\n",
    ")), constraints)\n",
    "\n",
    "# print(prob.is_dcp())\n",
    "\n",
    "prob.solve()\n",
    "\n",
    "# Print result.\n",
    "print(\"The optimal value is\", prob.value)\n",
    "print(\"A solution X is\")\n",
    "print(X.value)"
   ]
  },
  {
   "cell_type": "code",
   "execution_count": 17,
   "id": "6730ee22",
   "metadata": {},
   "outputs": [
    {
     "name": "stdout",
     "output_type": "stream",
     "text": [
      "True\n",
      "True\n"
     ]
    },
    {
     "data": {
      "text/plain": [
       "0.5000000046832747"
      ]
     },
     "execution_count": 17,
     "metadata": {},
     "output_type": "execute_result"
    }
   ],
   "source": [
    "X = cp.Variable((2,2), hermitian=True)\n",
    "# z^2/y <= x\n",
    "constraints = [cp.quad_over_lin(cp.norm(X[0][1]), cp.real(X[1][1])) <= cp.real(X[0][0]), cp.real(X[1][1]) <= 2, cp.real(X[0][1]) >= 1 ]\n",
    "prob = cp.Problem(cp.Minimize(cp.real(X[0][0])), constraints)\n",
    "\n",
    "print(prob.is_dcp())\n",
    "print(prob.is_dpp())\n",
    "\n",
    "prob.solve()\n",
    "prob.value"
   ]
  },
  {
   "cell_type": "code",
   "execution_count": 6,
   "id": "bcc481b3",
   "metadata": {},
   "outputs": [
    {
     "name": "stdout",
     "output_type": "stream",
     "text": [
      "True\n",
      "True\n"
     ]
    },
    {
     "data": {
      "text/plain": [
       "0.5000000136111296"
      ]
     },
     "execution_count": 6,
     "metadata": {},
     "output_type": "execute_result"
    }
   ],
   "source": [
    "x = cp.Variable()\n",
    "y = cp.Variable()\n",
    "z = cp.Variable()\n",
    "# z^2/y <= x\n",
    "constraints = [cp.quad_over_lin(z, y) <= x, y <= 2, z >= 1 ]\n",
    "\n",
    "prob = cp.Problem(cp.Minimize(x), constraints)\n",
    "\n",
    "print(prob.is_dcp())\n",
    "print(prob.is_dpp())\n",
    "\n",
    "prob.solve()\n",
    "prob.value"
   ]
  },
  {
   "cell_type": "code",
   "execution_count": 7,
   "id": "708ae419",
   "metadata": {},
   "outputs": [
    {
     "name": "stdout",
     "output_type": "stream",
     "text": [
      "True\n",
      "True\n"
     ]
    },
    {
     "data": {
      "text/plain": [
       "0.49999999981725113"
      ]
     },
     "execution_count": 7,
     "metadata": {},
     "output_type": "execute_result"
    }
   ],
   "source": [
    "xyz = cp.Variable(shape=(3,))  # first two coordinates are \"x\" and \"y\"\n",
    "# xy >= z^2\n",
    "t = cp.Variable()\n",
    "aux_constraint = t >= cp.norm(xyz[2])\n",
    "lmi_constraint = cp.bmat([[xyz[0], t],[t, xyz[1]]]) >> 0\n",
    "constraints = [aux_constraint, lmi_constraint, xyz[1] <=2, xyz[2] >= 1]\n",
    "\n",
    "prob = cp.Problem(cp.Minimize(xyz[0]), constraints)\n",
    "\n",
    "print(prob.is_dcp())\n",
    "print(prob.is_dpp())\n",
    "\n",
    "prob.solve()\n",
    "prob.value"
   ]
  },
  {
   "cell_type": "code",
   "execution_count": null,
   "id": "3e3549a1",
   "metadata": {},
   "outputs": [],
   "source": []
  }
 ],
 "metadata": {
  "kernelspec": {
   "display_name": "Python 3 (ipykernel)",
   "language": "python",
   "name": "python3"
  },
  "language_info": {
   "codemirror_mode": {
    "name": "ipython",
    "version": 3
   },
   "file_extension": ".py",
   "mimetype": "text/x-python",
   "name": "python",
   "nbconvert_exporter": "python",
   "pygments_lexer": "ipython3",
   "version": "3.9.6"
  }
 },
 "nbformat": 4,
 "nbformat_minor": 5
}