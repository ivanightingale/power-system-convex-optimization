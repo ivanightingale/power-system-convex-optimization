{
 "cells": [
  {
   "cell_type": "code",
   "execution_count": 1,
   "id": "ebe99993",
   "metadata": {},
   "outputs": [],
   "source": [
    "import cvxpy as cp\n",
    "import numpy as np"
   ]
  },
  {
   "cell_type": "code",
   "execution_count": null,
   "id": "7cba2ce1",
   "metadata": {},
   "outputs": [],
   "source": [
    "n = 3\n",
    "C = cp.Parameter((n,n), value=np.array([[ 0.78453811, -1.32050747,  0.57919997],\n",
    "       [ 0.44379913,  0.58134071,  1.03254784],\n",
    "       [ 0.7311226 ,  0.66465688, -0.2464693 ]]))\n",
    "c = cp.Parameter((n,1), value=np.array([1,1,1]).reshape((-1,1)), nonneg=True)\n",
    "\n",
    "A = cp.Parameter((n,n), value=np.array([[-0.99639688, -0.2216588 ,  1.06555159],\n",
    "       [ 2.00884919,  0.01563207, -0.36271868],\n",
    "       [-0.9113235 , -0.12149785, -0.24807337]]))\n",
    "B = cp.Parameter((n,n), value=np.array([[-1.42367144, -0.62673584, -0.45906866],\n",
    "       [ 0.6591621 ,  0.96948298,  1.1490893 ],\n",
    "       [ 0.70077944, -1.33992307, -0.17423502]]))\n",
    "b = cp.Parameter((n,1), value=np.array([[ 1.72769017],\n",
    "       [-0.97577213],\n",
    "       [ 1.02798925]]))\n",
    "\n",
    "# Define and solve the CVXPY problem.\n",
    "# Create a symmetric matrix variable.\n",
    "X = cp.Variable((n,n), hermitian=True)\n",
    "# The operator >> denotes matrix inequality.\n",
    "constraints = [X >> 0]\n",
    "constraints += [\n",
    "    A[i][0] * cp.real(X[i][0]) + B[i][0] * cp.imag(X[i][0]) <= b[i] for i in range(n)\n",
    "]\n",
    "constraints += [cp.real(X) <= np.ones((n,n))]\n",
    "# prob = cp.Problem(cp.Minimize(cp.trace(C @ cp.real(X))), constraints)\n",
    "prob = cp.Problem(cp.Minimize(cp.sum(\n",
    "    [c[i]*cp.square(cp.real(X[i][1])) + c[i]*cp.real(X[i][2]) for i in range(n)]\n",
    ")), constraints)\n",
    "\n",
    "# prob.is_dcp()\n",
    "\n",
    "prob.solve(solver=cp.CVXOPT, verbose=True)\n",
    "\n",
    "# Print result.\n",
    "print(\"The optimal value is\", prob.value)\n",
    "print(\"A solution X is\")\n",
    "print(X.value)"
   ]
  },
  {
   "cell_type": "markdown",
   "id": "6a116a9b",
   "metadata": {},
   "source": [
    "# Rank reduction"
   ]
  },
  {
   "cell_type": "code",
   "execution_count": 57,
   "id": "d5038805",
   "metadata": {
    "scrolled": false
   },
   "outputs": [
    {
     "name": "stdout",
     "output_type": "stream",
     "text": [
      "The optimal value is 1.499999997706409\n",
      "A solution X is\n",
      "[[ 0.375 -0.125 -0.125 -0.125]\n",
      " [-0.125  0.375 -0.125 -0.125]\n",
      " [-0.125 -0.125  0.375 -0.125]\n",
      " [-0.125 -0.125 -0.125  0.375]]\n",
      "\n",
      "rank(A) = 3\n",
      "\n",
      "eigenvalues:\n",
      "[ 4.99999999e-01 -3.05537621e-10  4.99999999e-01  4.99999999e-01]\n",
      "eigenvectors:\n",
      "[[ 0.8660254  -0.5         0.02551494  0.14574682]\n",
      " [-0.28867513 -0.5         0.53738335 -0.22022986]\n",
      " [-0.28867513 -0.5        -0.8068732  -0.64374409]\n",
      " [-0.28867513 -0.5         0.24397491  0.71822714]]\n"
     ]
    }
   ],
   "source": [
    "n = 4\n",
    "\n",
    "C_orig = np.eye(n)\n",
    "C = cp.Parameter((n,n), value=np.copy(C_orig))\n",
    "\n",
    "X = cp.Variable((n,n), PSD=True)\n",
    "\n",
    "constraints = []\n",
    "for i in range(n):\n",
    "    for j in range(i+1, n):\n",
    "        e_i = np.eye(1,n,i)\n",
    "        e_j = np.eye(1,n,j)\n",
    "        e_ij = (e_i - e_j).reshape(-1,1)\n",
    "        A = e_ij @ e_ij.reshape(1,-1)\n",
    "        constraints += [ cp.trace(A @ X) >= 1 ]\n",
    "\n",
    "prob = cp.Problem(cp.Minimize(cp.trace(C @ X)), constraints)\n",
    "\n",
    "# prob.is_dcp()\n",
    "\n",
    "prob.solve(solver=cp.MOSEK, verbose=False)\n",
    "\n",
    "# Print result.\n",
    "print(\"The optimal value is\", prob.value)\n",
    "print(\"A solution X is\")\n",
    "print(X.value)\n",
    "print()\n",
    "\n",
    "print(\"rank(X) =\", (np.linalg.matrix_rank(X.value, tol=1e-6)))\n",
    "print()\n",
    "\n",
    "print(\"eigenvalues:\")\n",
    "print(np.linalg.eig(X.value)[0])\n",
    "print(\"eigenvectors:\")\n",
    "print(np.linalg.eig(X.value)[1])"
   ]
  },
  {
   "cell_type": "code",
   "execution_count": 58,
   "id": "4b54b1a2",
   "metadata": {},
   "outputs": [],
   "source": [
    "v = np.linalg.eig(X.value)[1].T[0]  # 0, 3, 1"
   ]
  },
  {
   "cell_type": "code",
   "execution_count": 59,
   "id": "a7a2d8e9",
   "metadata": {},
   "outputs": [
    {
     "name": "stdout",
     "output_type": "stream",
     "text": [
      "A new solution X is\n",
      "[[ 1.19056282e-12 -2.68674979e-13 -2.84581912e-13 -2.78050588e-13]\n",
      " [-2.68674979e-13  1.00000000e+00 -5.00000000e-01 -5.00000000e-01]\n",
      " [-2.84581912e-13 -5.00000000e-01  1.00000000e+00 -5.00000000e-01]\n",
      " [-2.78050588e-13 -5.00000000e-01 -5.00000000e-01  1.00000000e+00]]\n",
      "\n",
      "The objective value in the original problem is 2.99999999999606\n",
      "rank(A) = 2\n",
      "\n",
      "eigenvalues:\n",
      "[1.46766623e-12 3.59258069e-13 1.50000000e+00 1.50000000e+00]\n",
      "eigenvectors:\n",
      "[[-8.66024694e-01  5.00001229e-01 -6.07290360e-15  4.45700915e-15]\n",
      " [ 2.88675844e-01  4.99999590e-01 -7.97976114e-01  1.71694151e-01]\n",
      " [ 2.88675844e-01  4.99999590e-01  2.49236292e-01 -7.77143567e-01]\n",
      " [ 2.88675844e-01  4.99999590e-01  5.48739822e-01  6.05449416e-01]]\n"
     ]
    }
   ],
   "source": [
    "# v = np.linalg.eig(X.value)[1].T[0]  # 0, 3, 1\n",
    "C.value += 3.5*v.reshape(-1,1) @ v.reshape(1,-1)\n",
    "# print(\"The new cost matrix is\")\n",
    "# print(C.value)\n",
    "\n",
    "prob.solve(solver=cp.MOSEK, verbose=False)\n",
    "\n",
    "# Print result.\n",
    "print(\"A new solution X is\")\n",
    "print(X.value)\n",
    "print()\n",
    "print(\"The objective value in the original problem is\", np.trace(C_orig @ X.value))\n",
    "\n",
    "print(\"rank(X) =\", (np.linalg.matrix_rank(X.value, tol=1e-6)))\n",
    "print()\n",
    "\n",
    "print(\"eigenvalues:\")\n",
    "print(np.linalg.eig(X.value)[0])\n",
    "print(\"eigenvectors:\")\n",
    "print(np.linalg.eig(X.value)[1])"
   ]
  },
  {
   "cell_type": "code",
   "execution_count": null,
   "id": "16810d61",
   "metadata": {},
   "outputs": [],
   "source": []
  },
  {
   "cell_type": "code",
   "execution_count": 22,
   "id": "07b34f93",
   "metadata": {},
   "outputs": [
    {
     "name": "stdout",
     "output_type": "stream",
     "text": [
      "The optimal value is -0.2507304200506858\n",
      "A solution X is\n",
      "[[ 0.99999999+0.00000000e+00j -0.35074946+4.11384939e-01j\n",
      "  -0.59609004-5.16125480e-06j]\n",
      " [-0.35074946-4.11384939e-01j  0.29226277+0.00000000e+00j\n",
      "  -0.3222542 +0.00000000e+00j]\n",
      " [-0.59609004+5.16125480e-06j -0.3222542 +0.00000000e+00j\n",
      "   0.35532334+0.00000000e+00j]]\n"
     ]
    }
   ],
   "source": [
    "n = 3\n",
    "C = cp.Parameter((n,n), value=np.array([[ 0.78453811, -1.32050747,  0.57919997],\n",
    "       [ 0.44379913,  0.58134071,  1.03254784],\n",
    "       [ 0.7311226 ,  0.66465688, -0.2464693 ]]))\n",
    "c = cp.Parameter((n,1), value=np.array([1,1,1]).reshape((-1,1)), nonneg=True)\n",
    "\n",
    "A = cp.Parameter((n,n), value=np.array([[-0.99639688, -0.2216588 ,  1.06555159],\n",
    "       [ 2.00884919,  0.01563207, -0.36271868],\n",
    "       [-0.9113235 , -0.12149785, -0.24807337]]))\n",
    "B = cp.Parameter((n,n), value=np.array([[-1.42367144, -0.62673584, -0.45906866],\n",
    "       [ 0.6591621 ,  0.96948298,  1.1490893 ],\n",
    "       [ 0.70077944, -1.33992307, -0.17423502]]))\n",
    "b = cp.Parameter((n,1), value=np.array([[ 1.72769017],\n",
    "       [-0.97577213],\n",
    "       [ 1.02798925]]))\n",
    "\n",
    "# Create a symmetric matrix variable.\n",
    "X = cp.Variable((n,n), hermitian=True)\n",
    "\n",
    "constraints = [ cp.quad_over_lin(cp.norm(X[i][j]), cp.real(X[i][i])) <= cp.real(X[j][j]) for i,j in [(0,1), (0,2), (1,2)]]\n",
    "constraints += [\n",
    "    A[i][0] * cp.real(X[i][0]) + B[i][0] * cp.imag(X[i][0]) <= b[i] for i in range(n)\n",
    "]\n",
    "constraints += [cp.real(X) <= np.ones((n,n))]\n",
    "\n",
    "prob = cp.Problem(cp.Minimize(cp.sum(\n",
    "    [c[i]*cp.square(cp.real(X[i][1])) + c[i]*cp.real(X[i][2]) for i in range(n)]\n",
    ")), constraints)\n",
    "\n",
    "# print(prob.is_dcp())\n",
    "\n",
    "prob.solve()\n",
    "\n",
    "# Print result.\n",
    "print(\"The optimal value is\", prob.value)\n",
    "print(\"A solution X is\")\n",
    "print(X.value)"
   ]
  },
  {
   "cell_type": "code",
   "execution_count": 17,
   "id": "6730ee22",
   "metadata": {},
   "outputs": [
    {
     "name": "stdout",
     "output_type": "stream",
     "text": [
      "True\n",
      "True\n"
     ]
    },
    {
     "data": {
      "text/plain": [
       "0.5000000046832747"
      ]
     },
     "execution_count": 17,
     "metadata": {},
     "output_type": "execute_result"
    }
   ],
   "source": [
    "X = cp.Variable((2,2), hermitian=True)\n",
    "# z^2/y <= x\n",
    "constraints = [cp.quad_over_lin(cp.norm(X[0][1]), cp.real(X[1][1])) <= cp.real(X[0][0]), cp.real(X[1][1]) <= 2, cp.real(X[0][1]) >= 1 ]\n",
    "prob = cp.Problem(cp.Minimize(cp.real(X[0][0])), constraints)\n",
    "\n",
    "print(prob.is_dcp())\n",
    "print(prob.is_dpp())\n",
    "\n",
    "prob.solve()\n",
    "prob.value"
   ]
  },
  {
   "cell_type": "code",
   "execution_count": 6,
   "id": "bcc481b3",
   "metadata": {},
   "outputs": [
    {
     "name": "stdout",
     "output_type": "stream",
     "text": [
      "True\n",
      "True\n"
     ]
    },
    {
     "data": {
      "text/plain": [
       "0.5000000136111296"
      ]
     },
     "execution_count": 6,
     "metadata": {},
     "output_type": "execute_result"
    }
   ],
   "source": [
    "x = cp.Variable()\n",
    "y = cp.Variable()\n",
    "z = cp.Variable()\n",
    "# z^2/y <= x\n",
    "constraints = [cp.quad_over_lin(z, y) <= x, y <= 2, z >= 1 ]\n",
    "\n",
    "prob = cp.Problem(cp.Minimize(x), constraints)\n",
    "\n",
    "print(prob.is_dcp())\n",
    "print(prob.is_dpp())\n",
    "\n",
    "prob.solve()\n",
    "prob.value"
   ]
  },
  {
   "cell_type": "code",
   "execution_count": 7,
   "id": "708ae419",
   "metadata": {},
   "outputs": [
    {
     "name": "stdout",
     "output_type": "stream",
     "text": [
      "True\n",
      "True\n"
     ]
    },
    {
     "data": {
      "text/plain": [
       "0.49999999981725113"
      ]
     },
     "execution_count": 7,
     "metadata": {},
     "output_type": "execute_result"
    }
   ],
   "source": [
    "xyz = cp.Variable(shape=(3,))  # first two coordinates are \"x\" and \"y\"\n",
    "# xy >= z^2\n",
    "t = cp.Variable()\n",
    "aux_constraint = t >= cp.norm(xyz[2])\n",
    "lmi_constraint = cp.bmat([[xyz[0], t],[t, xyz[1]]]) >> 0\n",
    "constraints = [aux_constraint, lmi_constraint, xyz[1] <=2, xyz[2] >= 1]\n",
    "\n",
    "prob = cp.Problem(cp.Minimize(xyz[0]), constraints)\n",
    "\n",
    "print(prob.is_dcp())\n",
    "print(prob.is_dpp())\n",
    "\n",
    "prob.solve()\n",
    "prob.value"
   ]
  },
  {
   "cell_type": "code",
   "execution_count": null,
   "id": "3e3549a1",
   "metadata": {},
   "outputs": [],
   "source": []
  }
 ],
 "metadata": {
  "kernelspec": {
   "display_name": "Python 3 (ipykernel)",
   "language": "python",
   "name": "python3"
  },
  "language_info": {
   "codemirror_mode": {
    "name": "ipython",
    "version": 3
   },
   "file_extension": ".py",
   "mimetype": "text/x-python",
   "name": "python",
   "nbconvert_exporter": "python",
   "pygments_lexer": "ipython3",
   "version": "3.9.6"
  }
 },
 "nbformat": 4,
 "nbformat_minor": 5
}
