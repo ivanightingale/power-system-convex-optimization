{
 "cells": [
  {
   "cell_type": "code",
   "execution_count": 1,
   "id": "fcf7f3e6",
   "metadata": {
    "pycharm": {
     "name": "#%%\n"
    }
   },
   "outputs": [],
   "source": [
    "import cvxpy as cp\n",
    "import numpy as np\n",
    "\n",
    "import networkx as nx"
   ]
  },
  {
   "cell_type": "markdown",
   "id": "12c240e3",
   "metadata": {
    "pycharm": {
     "name": "#%% md\n"
    }
   },
   "source": [
    "# Max-cut"
   ]
  },
  {
   "cell_type": "code",
   "execution_count": 2,
   "id": "a00d3fdd",
   "metadata": {
    "pycharm": {
     "name": "#%%\n"
    }
   },
   "outputs": [],
   "source": [
    "def get_graph(graph_type):\n",
    "    if graph_type == 0:\n",
    "        G = nx.complete_graph(5)\n",
    "        pos = nx.shell_layout(G)\n",
    "        nx.draw(G, pos, with_labels = True)\n",
    "    elif graph_type == 1:\n",
    "        G = nx.turan_graph(5,3)\n",
    "        pos = nx.multipartite_layout(G)\n",
    "        nx.draw(G, pos, with_labels = True)\n",
    "    else:\n",
    "        return None\n",
    "    for u,v,d in G.edges(data=True):\n",
    "        d['weight'] = np.abs(u - v)\n",
    "    labels = nx.get_edge_attributes(G,'weight')\n",
    "    nx.draw_networkx_edge_labels(G, pos, edge_labels=labels)\n",
    "    return G"
   ]
  },
  {
   "cell_type": "code",
   "execution_count": 3,
   "id": "bdda3dc3",
   "metadata": {
    "pycharm": {
     "name": "#%%\n"
    }
   },
   "outputs": [
    {
     "data": {
      "text/plain": "<Figure size 432x288 with 1 Axes>",
      "image/png": "[encoded data removed]"
     },
     "metadata": {},
     "output_type": "display_data"
    }
   ],
   "source": [
    "graph_type = 0\n",
    "G = get_graph(graph_type)"
   ]
  },
  {
   "cell_type": "code",
   "execution_count": 5,
   "outputs": [],
   "source": [
    "from networkx.algorithms.approximation import maxcut\n",
    "maxcut.one_exchange(G, weight=\"weight\")"
   ],
   "metadata": {
    "collapsed": false,
    "pycharm": {
     "name": "#%%\n"
    }
   }
  },
  {
   "cell_type": "code",
   "execution_count": 6,
   "id": "e264c92f",
   "metadata": {
    "pycharm": {
     "name": "#%%\n"
    }
   },
   "outputs": [],
   "source": [
    "n = len(G)\n",
    "\n",
    "L_orig = nx.laplacian_matrix(G).toarray()\n",
    "L_val = np.copy(L_orig)\n",
    "L = cp.Parameter((n,n), value=L_val)\n",
    "\n",
    "e = cp.Parameter(n, value=np.ones(n))"
   ]
  },
  {
   "cell_type": "code",
   "execution_count": 8,
   "id": "558db3cc",
   "metadata": {
    "pycharm": {
     "name": "#%%\n"
    }
   },
   "outputs": [
    {
     "name": "stdout",
     "output_type": "stream",
     "text": [
      "The optimal value is 15.20425904647879\n",
      "A solution X is\n",
      "[[ 1.          0.99080132 -0.1809183  -0.97405626 -0.93452941]\n",
      " [ 0.99080132  0.99999999 -0.04629733 -0.99569884 -0.97405626]\n",
      " [-0.1809183  -0.04629733  1.00000001 -0.04629733 -0.1809183 ]\n",
      " [-0.97405626 -0.99569884 -0.04629733  0.99999999  0.99080132]\n",
      " [-0.93452941 -0.97405626 -0.1809183   0.99080132  1.        ]]\n",
      "optimal\n",
      "rank(X) = 5\n",
      "\n",
      "eigenvalues:\n",
      "[3.93020973e+00 1.06975007e+00 3.07040997e-06 1.86101482e-05\n",
      " 1.85251368e-05]\n",
      "eigenvectors:\n",
      "[[ 4.96093745e-01  1.74921695e-01 -5.79911725e-01  3.64835298e-01\n",
      "  -5.03875969e-01]\n",
      " [ 5.03875973e-01  4.47619924e-02 -3.66060660e-01 -6.03320779e-01\n",
      "   4.96093740e-01]\n",
      " [ 4.16937809e-15 -9.66849279e-01 -2.43729295e-01  7.61478941e-02\n",
      "   7.66610894e-10]\n",
      " [-5.03875973e-01  4.47619924e-02 -3.66060660e-01 -6.03320771e-01\n",
      "  -4.96093751e-01]\n",
      " [-4.96093745e-01  1.74921695e-01 -5.79911725e-01  3.64835290e-01\n",
      "   5.03875976e-01]]\n"
     ]
    }
   ],
   "source": [
    "X = cp.Variable((n,n), PSD=True)\n",
    "constraints = [ cp.diag(X) == e ]\n",
    "# constraints += [ cp.trace(J @ X) == (n - 2*s)**2 ]\n",
    "prob = cp.Problem(cp.Maximize(1/4 * cp.trace(L @ X)), constraints)\n",
    "\n",
    "# prob.solve(solver=cp.CVXOPT)\n",
    "prob.solve()\n",
    "\n",
    "# Print result.\n",
    "print(\"The optimal value is\", prob.value)\n",
    "print(\"A solution X is\")\n",
    "print(X.value)\n",
    "print(prob.status)\n",
    "\n",
    "print(\"rank(X) =\", (np.linalg.matrix_rank(X.value, tol=1e-6)))\n",
    "print()\n",
    "print(\"eigenvalues:\")\n",
    "print(np.linalg.eig(X.value)[0])\n",
    "print(\"eigenvectors:\")\n",
    "print(np.linalg.eig(X.value)[1])"
   ]
  },
  {
   "cell_type": "code",
   "execution_count": null,
   "id": "82cc4cfe",
   "metadata": {
    "pycharm": {
     "name": "#%%\n"
    }
   },
   "outputs": [],
   "source": [
    "v = np.linalg.eig(X.value)[1].T[0]"
   ]
  },
  {
   "cell_type": "code",
   "execution_count": null,
   "id": "bd141fe6",
   "metadata": {
    "pycharm": {
     "name": "#%%\n"
    }
   },
   "outputs": [],
   "source": [
    "L.value = L.value - v.reshape(-1,1) @ v.reshape(1,-1)\n",
    "\n",
    "prob.solve(solver=cp.CVXOPT)\n",
    "\n",
    "print(\"A new solution X is\")\n",
    "print(X.value)\n",
    "print()\n",
    "print(\"The objective value in the original problem is\", 1/4 * np.trace(L_orig @ X.value))\n",
    "\n",
    "print(\"rank(X) =\", (np.linalg.matrix_rank(X.value, tol=1e-6)))\n",
    "print()\n",
    "\n",
    "print(\"eigenvalues:\")\n",
    "print(np.linalg.eig(X.value)[0])\n",
    "print(\"eigenvectors:\")\n",
    "print(np.linalg.eig(X.value)[1])"
   ]
  },
  {
   "cell_type": "code",
   "execution_count": null,
   "id": "8be0a2f0",
   "metadata": {
    "pycharm": {
     "name": "#%%\n"
    }
   },
   "outputs": [],
   "source": []
  }
 ],
 "metadata": {
  "kernelspec": {
   "display_name": "Python 3 (ipykernel)",
   "language": "python",
   "name": "python3"
  },
  "language_info": {
   "codemirror_mode": {
    "name": "ipython",
    "version": 3
   },
   "file_extension": ".py",
   "mimetype": "text/x-python",
   "name": "python",
   "nbconvert_exporter": "python",
   "pygments_lexer": "ipython3",
   "version": "3.9.6"
  }
 },
 "nbformat": 4,
 "nbformat_minor": 5
}